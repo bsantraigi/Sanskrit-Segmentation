{
 "cells": [
  {
   "cell_type": "code",
   "execution_count": 24,
   "metadata": {
    "collapsed": false
   },
   "outputs": [],
   "source": [
    "import pandas as pd\n",
    "import numpy as np\n",
    "import os"
   ]
  },
  {
   "cell_type": "code",
   "execution_count": 22,
   "metadata": {
    "collapsed": false
   },
   "outputs": [],
   "source": [
    "df_10to20 = np.array(pd.read_csv('extras/error free corrected_10to20.csv')['1'])\n",
    "df_pf = np.array(pd.read_csv('extras/error free pickle files.csv')['1'])\n",
    "df_up = np.array(pd.read_csv('extras/error free updated pickles.csv', header=None)[0])"
   ]
  },
  {
   "cell_type": "code",
   "execution_count": 25,
   "metadata": {
    "collapsed": false
   },
   "outputs": [],
   "source": [
    "pf_list = os.listdir('../TextSegmentation/Pickle_Files/')\n",
    "up_list = os.listdir('../TextSegmentation/Updated Pickles/')\n",
    "tento20_list = os.listdir('../TextSegmentation/corrected_10to20/')"
   ]
  },
  {
   "cell_type": "code",
   "execution_count": 32,
   "metadata": {
    "collapsed": false
   },
   "outputs": [
    {
     "name": "stdout",
     "output_type": "stream",
     "text": [
      "62916\n",
      "57026\n",
      "32726\n",
      "../TextSegmentation/Updated Pickles/150000.p\n"
     ]
    }
   ],
   "source": [
    "goodDict_v4 = {}\n",
    "print(len(df_10to20))\n",
    "print(len(df_pf))\n",
    "print(len(df_up))\n",
    "\n",
    "p = '../TextSegmentation/corrected_10to20/'\n",
    "for fi in df_10to20:\n",
    "    fN = '%d.p' % fi\n",
    "    if not os.path.isfile(p + fN):\n",
    "        print(p + fN)\n",
    "        break\n",
    "    else:\n",
    "        goodDict_v4[fN] = p + fN\n",
    "        \n",
    "p = '../TextSegmentation/Pickle_Files/'\n",
    "for fi in df_pf:\n",
    "    fN = '%d.p' % fi\n",
    "    if not os.path.isfile(p + fN):\n",
    "        print(p + fN)\n",
    "        break\n",
    "    else:\n",
    "        goodDict_v4[fN] = p + fN\n",
    "        \n",
    "p = '../TextSegmentation/Updated Pickles/'\n",
    "for fi in df_10to20:\n",
    "    fN = '%d.p' % fi\n",
    "    if not os.path.isfile(p + fN):\n",
    "        print(p + fN)\n",
    "        break\n",
    "    else:\n",
    "        goodDict_v4[fN] = p + fN"
   ]
  },
  {
   "cell_type": "code",
   "execution_count": 35,
   "metadata": {
    "collapsed": false
   },
   "outputs": [],
   "source": [
    "import pickle\n",
    "pickle.dump(goodDict_v4, open('mergedGood_v4.p', 'wb'))"
   ]
  },
  {
   "cell_type": "code",
   "execution_count": 38,
   "metadata": {
    "collapsed": false
   },
   "outputs": [],
   "source": []
  },
  {
   "cell_type": "code",
   "execution_count": 40,
   "metadata": {
    "collapsed": false
   },
   "outputs": [],
   "source": []
  },
  {
   "cell_type": "code",
   "execution_count": null,
   "metadata": {
    "collapsed": true
   },
   "outputs": [],
   "source": []
  }
 ],
 "metadata": {
  "kernelspec": {
   "display_name": "Python 3",
   "language": "python",
   "name": "python3"
  },
  "language_info": {
   "codemirror_mode": {
    "name": "ipython",
    "version": 3
   },
   "file_extension": ".py",
   "mimetype": "text/x-python",
   "name": "python",
   "nbconvert_exporter": "python",
   "pygments_lexer": "ipython3",
   "version": "3.5.1+"
  }
 },
 "nbformat": 4,
 "nbformat_minor": 0
}
