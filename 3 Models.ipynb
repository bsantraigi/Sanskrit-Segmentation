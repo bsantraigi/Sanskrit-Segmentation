{
 "cells": [
  {
   "cell_type": "code",
   "execution_count": 2,
   "metadata": {
    "collapsed": true
   },
   "outputs": [],
   "source": [
    "%load_ext autoreload\n",
    "%autoreload 2"
   ]
  },
  {
   "cell_type": "code",
   "execution_count": 44,
   "metadata": {
    "collapsed": false
   },
   "outputs": [],
   "source": [
    "from SktWsegRWR_utf8 import *\n",
    "from AlgoTestFactory import *\n",
    "np.set_printoptions(precision=2, suppress= True)"
   ]
  },
  {
   "cell_type": "code",
   "execution_count": 84,
   "metadata": {
    "collapsed": false,
    "scrolled": false
   },
   "outputs": [
    {
     "name": "stdout",
     "output_type": "stream",
     "text": [
      "37.5\n",
      "42.857142857142854\n",
      "75.0\n",
      "40.0\n",
      "20.0\n",
      "14.285714285714286\n",
      "33.333333333333336\n",
      "50.0\n",
      "20.0\n",
      "50.0\n",
      "20.0\n",
      "27.659574468085108\n",
      "62.5\n"
     ]
    },
    {
     "name": "stderr",
     "output_type": "stream",
     "text": [
      "Process AlgoTestFactory-67:\n",
      "Traceback (most recent call last):\n",
      "  File \"/usr/lib/python3.5/multiprocessing/process.py\", line 249, in _bootstrap\n",
      "    self.run()\n",
      "  File \"/home/bishal/Documents/summer project/TxSeg_Summer/AlgoTestFactory.py\", line 67, in run\n",
      "    result = self.algo.predict(sentenceObj, dcsObj)\n",
      "  File \"/home/bishal/Documents/summer project/TxSeg_Summer/SktWsegRWR_utf8.py\", line 148, in predict\n",
      "    (chunkDict, wordList, revMap2Chunk, qu, cngList) = SentencePreprocess(sentenceObj)\n",
      "  File \"/home/bishal/Documents/summer project/TxSeg_Summer/sentences.py\", line 72, in SentencePreprocess\n",
      "    for form, config in word_sense.forms[0].items():\n",
      "IndexError: list index out of range\n"
     ]
    }
   ],
   "source": [
    "k = 2800\n",
    "m = 20\n",
    "th = AlgoTestFactory(\n",
    "    [k, k + m], \n",
    "    processID = 0, method = Method.type2type)\n",
    "th.start()\n",
    "th.join()"
   ]
  },
  {
   "cell_type": "code",
   "execution_count": 83,
   "metadata": {
    "collapsed": false
   },
   "outputs": [
    {
     "name": "stdout",
     "output_type": "stream",
     "text": [
      "Using word2vec\n",
      "25.0\n",
      "42.857142857142854\n",
      "75.0\n",
      "40.0\n",
      "20.0\n",
      "42.857142857142854\n",
      "33.333333333333336\n",
      "50.0\n",
      "20.0\n",
      "50.0\n",
      "20.0\n",
      "29.78723404255319\n",
      "50.0\n",
      "Process Finished (accuracies not saved to disk)\n"
     ]
    }
   ],
   "source": [
    "th = AlgoTestFactory(\n",
    "    [k, k + m], \n",
    "    processID = 0, method = Method.word2vec)\n",
    "th.start()\n",
    "th.join()"
   ]
  },
  {
   "cell_type": "code",
   "execution_count": 77,
   "metadata": {
    "collapsed": false
   },
   "outputs": [
    {
     "name": "stdout",
     "output_type": "stream",
     "text": [
      "Using word2word\n",
      "File:  11225.p\n",
      "['vyutTÄ\\x81na', 'Ä\\x81tman', 'tatas', 'yogin', 'sa', 'avaDÄ\\x81na', 'sadÄ\\x81', 'BÅ«']\n",
      "sadÄ Ätman \n",
      "25.0\n",
      "File:  25565.p\n",
      "['pitá¹\\x9b', 'há¹\\x9b', 'aputra', 'rikTa', 'BrÄ\\x81tá¹\\x9b', 'eva', 'ca']\n",
      "BrÄtá¹ eva ca \n",
      "42.857142857142854\n",
      "Process Finished (accuracies not saved to disk)\n"
     ]
    }
   ],
   "source": [
    "th = AlgoTestFactory(\n",
    "    [k, k + m], \n",
    "    processID = 0, method = Method.word2word)\n",
    "th.start()\n",
    "th.join()"
   ]
  },
  {
   "cell_type": "code",
   "execution_count": 18,
   "metadata": {
    "collapsed": false
   },
   "outputs": [],
   "source": [
    "a = []\n",
    "b = 'bishal'\n"
   ]
  },
  {
   "cell_type": "code",
   "execution_count": 22,
   "metadata": {
    "collapsed": false
   },
   "outputs": [
    {
     "data": {
      "text/plain": [
       "True"
      ]
     },
     "execution_count": 22,
     "metadata": {},
     "output_type": "execute_result"
    }
   ],
   "source": [
    "type(a) == list"
   ]
  },
  {
   "cell_type": "code",
   "execution_count": 45,
   "metadata": {
    "collapsed": false
   },
   "outputs": [
    {
     "data": {
      "text/plain": [
       "0.3333333333333333"
      ]
     },
     "execution_count": 45,
     "metadata": {},
     "output_type": "execute_result"
    }
   ],
   "source": [
    "1/3"
   ]
  },
  {
   "cell_type": "code",
   "execution_count": null,
   "metadata": {
    "collapsed": true
   },
   "outputs": [],
   "source": []
  }
 ],
 "metadata": {
  "kernelspec": {
   "display_name": "Python 3",
   "language": "python",
   "name": "python3"
  },
  "language_info": {
   "codemirror_mode": {
    "name": "ipython",
    "version": 3
   },
   "file_extension": ".py",
   "mimetype": "text/x-python",
   "name": "python",
   "nbconvert_exporter": "python",
   "pygments_lexer": "ipython3",
   "version": "3.5.1+"
  }
 },
 "nbformat": 4,
 "nbformat_minor": 0
}
