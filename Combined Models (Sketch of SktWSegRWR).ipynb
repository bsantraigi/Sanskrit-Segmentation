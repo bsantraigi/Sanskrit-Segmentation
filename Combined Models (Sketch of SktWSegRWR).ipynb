{
 "cells": [
  {
   "cell_type": "code",
   "execution_count": 1,
   "metadata": {
    "collapsed": false
   },
   "outputs": [],
   "source": [
    "%load_ext autoreload\n",
    "%autoreload 2"
   ]
  },
  {
   "cell_type": "code",
   "execution_count": 2,
   "metadata": {
    "collapsed": false
   },
   "outputs": [
    {
     "name": "stdout",
     "output_type": "stream",
     "text": [
      "Dataloader Started[Prob]...\n",
      "Dataloader Finished[Prob]...\n"
     ]
    }
   ],
   "source": [
    "from SktWsegRWR_utf8 import *\n",
    "from utilities import *\n",
    "import numpy as np\n",
    "np.set_printoptions(precision=2, suppress= True)\n",
    "from sentences import *\n",
    "from DCS import *\n",
    "np.set_printoptions(precision=5)\n",
    "from AlgoTestFactory import *"
   ]
  },
  {
   "cell_type": "code",
   "execution_count": 3,
   "metadata": {
    "collapsed": true
   },
   "outputs": [],
   "source": [
    "import ProbData\n",
    "from ProbModels import *"
   ]
  },
  {
   "cell_type": "code",
   "execution_count": 4,
   "metadata": {
    "collapsed": false,
    "scrolled": true
   },
   "outputs": [
    {
     "data": {
      "text/plain": [
       "['149531.p',\n",
       " '339164.p',\n",
       " '417907.p',\n",
       " '246890.p',\n",
       " '225223.p',\n",
       " '178903.p',\n",
       " '103794.p',\n",
       " '387247.p',\n",
       " '389386.p',\n",
       " '138739.p']"
      ]
     },
     "execution_count": 4,
     "metadata": {},
     "output_type": "execute_result"
    }
   ],
   "source": [
    "goodDict = pickle.load(open('mergedGood_v2.p', 'rb'))\n",
    "list(goodDict.keys())[0:10]"
   ]
  },
  {
   "cell_type": "code",
   "execution_count": 197,
   "metadata": {
    "collapsed": false,
    "scrolled": true
   },
   "outputs": [
    {
     "name": "stdout",
     "output_type": "stream",
     "text": [
      "188914.p 5\n",
      "416810.p 3\n",
      "418091.p 4\n",
      "441958.p 5\n",
      "187416.p 6\n",
      "177513.p 3\n",
      "209977.p 6\n",
      "401397.p 6\n",
      "293503.p 3\n",
      "23348.p 2\n",
      "24173.p 2\n",
      "421950.p 3\n",
      "419962.p 1\n",
      "274646.p 3\n",
      "18333.p 1\n",
      "294274.p 1\n",
      "10965.p 6\n",
      "435469.p 3\n",
      "296141.p 6\n",
      "425717.p 1\n"
     ]
    }
   ],
   "source": [
    "i = 1022\n",
    "for i in range(500):\n",
    "    if(goodDict[list(goodDict.keys())[i]] == 'C1020'):\n",
    "        dcsObj = pickleFixLoad('../Text Segmentation/DCS_pick/' + list(goodDict.keys())[i])\n",
    "        sentenceObj = pickleFixLoad('../TextSegmentation/corrected_10to20/' + list(goodDict.keys())[i])\n",
    "#         SeeSentence(sentenceObj)\n",
    "        (chunkDict, wordList, revMap2Chunk, qu, cngList, verbs) = SentencePreprocess(sentenceObj)\n",
    "        if(len(wordList) < 7):\n",
    "            print(list(goodDict.keys())[i], len(wordList))"
   ]
  },
  {
   "cell_type": "code",
   "execution_count": 200,
   "metadata": {
    "collapsed": false
   },
   "outputs": [
    {
     "name": "stdout",
     "output_type": "stream",
     "text": [
      "vikrIRAnaSca sarveByaH  pARqaveByaH  prayacCati   \n",
      "Analyzing  vikrIRAnaSca\n",
      "0 :  vi ['v'] []\n",
      "2 :  krIRAnas ['krI'] [{'noun': ['nom. sg. m.'], 'verbform': ['\"SKTMW71.html#H_krii\"'], 'verb': [['ppr. [9] md.']]}]\n",
      "10 :  ca ['ca'] [{'indeclinable': ['conj.']}]\n",
      "Analyzing  sarveByaḥ\n",
      "0 :  sarveByas ['sarva'] [{'noun': ['abl. pl. m.', 'dat. pl. m.', 'abl. pl. n.', 'dat. pl. n.']}]\n",
      "Analyzing  pARqaveByaḥ\n",
      "0 :  pARqaveByas ['pARqava'] [{'noun': ['abl. pl. m.', 'dat. pl. m.']}]\n",
      "Analyzing  prayacCati\n",
      "0 :  pra ['pra'] []\n",
      "0 :  pra ['pra'] []\n",
      "3 :  yacCati ['yam'] [{'verb': ['pr. [1] ac. sg. 3']}]\n",
      "3 :  yacCati ['yam'] [{'noun': ['loc. sg. n.', 'loc. sg. m.'], 'verbform': ['\"SKTMW211.html#H_yam\"'], 'verb': [['ppr. [1] ac.']]}]\n"
     ]
    }
   ],
   "source": [
    "f = '296141.p'\n",
    "dcsObj = pickleFixLoad('../Text Segmentation/DCS_pick/' + f)\n",
    "sentenceObj = pickleFixLoad('../TextSegmentation/corrected_10to20/' + f)\n",
    "SeeSentence(sentenceObj)\n",
    "(chunkDict, wordList, revMap2Chunk, qu, cngList, verbs) = SentencePreprocess(sentenceObj)\n"
   ]
  },
  {
   "cell_type": "code",
   "execution_count": 201,
   "metadata": {
    "collapsed": false,
    "scrolled": true
   },
   "outputs": [
    {
     "name": "stdout",
     "output_type": "stream",
     "text": [
      "['krI', 'ca', 'sarva', 'pARqava', 'yam', 'yam']\n",
      "[0, 4, 5]\n"
     ]
    }
   ],
   "source": [
    "print(wordList)\n",
    "print(verbs)"
   ]
  },
  {
   "cell_type": "code",
   "execution_count": 5,
   "metadata": {
    "collapsed": false
   },
   "outputs": [],
   "source": [
    "pb = ProbModels(fullCo_oc_mat = ProbData.fullCo_oc_mat, unigram_counts = ProbData.unigram_counts,\n",
    "               cng2cngFullMat = ProbData.cng2cngFullMat, cng2index_dict = ProbData.cng2index_dict,\n",
    "               w2w_samecng_fullmat=ProbData.w2w_samecng_fullmat, samecng_unigram_counts=ProbData.samecng_unigram_counts,\n",
    "               v2c_fullMat = ProbData.v2c_fullMat)"
   ]
  },
  {
   "cell_type": "code",
   "execution_count": 234,
   "metadata": {
    "collapsed": false
   },
   "outputs": [
    {
     "name": "stdout",
     "output_type": "stream",
     "text": [
      "[[ 0.       0.87024  0.00268  0.00268  0.12441  0.     ]\n",
      " [ 0.26454  0.       0.01306  0.01306  0.44481  0.26454]\n",
      " [ 0.04805  0.77063  0.       0.       0.13327  0.04805]\n",
      " [ 0.04805  0.77063  0.       0.       0.13327  0.04805]\n",
      " [ 0.07204  0.84732  0.0043   0.0043   0.       0.07204]\n",
      " [ 0.       0.87024  0.00268  0.00268  0.12441  0.     ]]\n",
      "[[ 0.       0.87018  0.00268  0.00268  0.12441  0.00005]\n",
      " [ 0.26454  0.       0.01306  0.01306  0.4448   0.26454]\n",
      " [ 0.04807  0.77035  0.       0.00029  0.13322  0.04807]\n",
      " [ 0.04807  0.77035  0.00029  0.       0.13322  0.04807]\n",
      " [ 0.07205  0.8473   0.0043   0.0043   0.       0.07205]\n",
      " [ 0.00005  0.87018  0.00268  0.00268  0.12441  0.     ]]\n"
     ]
    }
   ],
   "source": [
    "\n",
    "\n",
    "# print(pb.get_w2w_mat(wordList, False))\n",
    "# print()\n",
    "# print(pb.get_w2w_mat(wordList))\n",
    "\n",
    "# print(pb.get_w2w_samecng_mat(wordList, False))\n",
    "# print()\n",
    "# print(pb.get_w2w_samecng_mat(wordList))\n",
    "\n",
    "# pb.get_v2c_ranking(wordList, cngList, verbs)\n",
    "print(pb.get_cng2cng_mat(cngList, False))\n",
    "print(pb.get_cng2cng_mat(cngList))"
   ]
  },
  {
   "cell_type": "code",
   "execution_count": 17,
   "metadata": {
    "collapsed": false
   },
   "outputs": [],
   "source": [
    "algo = SktWsegRWR(\n",
    "    w2w_modelFunc=pb.get_w2w_mat, \n",
    "    t2t_modelFunc=pb.get_cng2cng_mat,\n",
    "    v2c_modelFunc=pb.get_v2c_ranking,\n",
    "    sameCng_modelFunc = pb.get_w2w_samecng_mat,\n",
    "    partition=[0.2, 0.3, 0.1, 0.4]\n",
    ")\n"
   ]
  },
  {
   "cell_type": "code",
   "execution_count": 270,
   "metadata": {
    "collapsed": false,
    "scrolled": false
   },
   "outputs": [
    {
     "name": "stdout",
     "output_type": "stream",
     "text": [
      "144415.p\n",
      "Accuracy: 42.857142857142854\n",
      "ERROR: Zero or one word in sentence...\n",
      "354565.p\n",
      "Accuracy: 60.0\n",
      "Accuracy: 27.272727272727273\n",
      "Accuracy: 75.0\n",
      "191125.p\n",
      "Accuracy: 54.54545454545455\n",
      "188914.p\n",
      "Accuracy: 35.714285714285715\n",
      "Accuracy: 44.44444444444444\n",
      "Accuracy: 44.44444444444444\n",
      "129757.p\n",
      "Accuracy: 33.333333333333336\n",
      "Accuracy: 40.0\n",
      "Accuracy: 20.0\n",
      "Accuracy: 22.22222222222222\n",
      "112621.p\n",
      "162485.p\n",
      "345062.p\n",
      "Accuracy: 60.0\n",
      "Accuracy: 33.333333333333336\n",
      "Accuracy: 28.571428571428573\n",
      "Accuracy: 12.5\n",
      "60936.p\n",
      "153791.p\n",
      "Accuracy: 72.72727272727273\n",
      "355013.p\n",
      "Accuracy: 40.0\n",
      "Accuracy: 44.44444444444444\n",
      "Accuracy: 75.0\n",
      "429184.p\n",
      "Accuracy: 75.0\n",
      "Accuracy: 11.11111111111111\n",
      "78623.p\n",
      "Accuracy: 77.77777777777777\n",
      "Accuracy: 75.0\n",
      "114389.p\n",
      "Accuracy: 71.42857142857143\n",
      "Accuracy: 100.0\n",
      "Accuracy: 66.66666666666667\n",
      "176325.p\n",
      "298447.p\n",
      "Accuracy: 33.333333333333336\n",
      "Accuracy: 77.77777777777777\n",
      "Accuracy: 11.11111111111111\n",
      "Accuracy: 33.333333333333336\n",
      "Accuracy: 62.5\n",
      "Accuracy: 50.0\n",
      "328842.p\n",
      "Accuracy: 8.333333333333334\n",
      "Accuracy: 25.0\n",
      "Accuracy: 27.272727272727273\n",
      "Accuracy: 100.0\n",
      "Accuracy: 38.46153846153846\n",
      "Accuracy: 55.55555555555556\n",
      "Accuracy: 33.333333333333336\n",
      "Accuracy: 100.0\n",
      "Accuracy: 25.0\n",
      "Accuracy: 60.0\n",
      "403321.p\n",
      "Accuracy: 50.0\n",
      "Accuracy: 57.142857142857146\n",
      "Accuracy: 33.333333333333336\n",
      "Accuracy: 54.54545454545455\n",
      "Accuracy: 66.66666666666667\n",
      "68139.p\n",
      "Accuracy: 50.0\n",
      "Accuracy: 40.0\n",
      "Accuracy: 62.5\n",
      "Accuracy: 25.0\n",
      "Accuracy: 100.0\n",
      "201255.p\n",
      "191282.p\n",
      "56219.p\n",
      "Accuracy: 40.0\n",
      "Accuracy: 30.0\n",
      "Accuracy: 44.44444444444444\n",
      "Accuracy: 15.384615384615385\n",
      "Accuracy: 30.76923076923077\n",
      "Accuracy: 20.0\n",
      "157745.p\n",
      "390776.p\n",
      "Accuracy: 53.84615384615385\n",
      "Accuracy: 25.0\n",
      "Accuracy: 11.11111111111111\n",
      "Accuracy: 40.0\n",
      "Accuracy: 55.55555555555556\n",
      "Accuracy: 48.0\n",
      "Accuracy: 22.22222222222222\n",
      "Accuracy: 8.333333333333334\n",
      "Accuracy: 40.0\n",
      "365739.p\n",
      "159371.p\n",
      "Accuracy: 21.428571428571427\n",
      "50456.p\n",
      "Accuracy: 50.0\n",
      "Accuracy: 75.0\n",
      "Accuracy: 75.0\n",
      "Accuracy: 4.545454545454546\n"
     ]
    }
   ],
   "source": [
    "           \n",
    "for fName in list(goodDict.keys())[0:100]:\n",
    "    folderTag = goodDict[fName]\n",
    "    #     print(fName)\n",
    "    dcsObj = pickleFixLoad('../Text Segmentation/DCS_pick/' + fName)\n",
    "    if folderTag == \"C1020\" :\n",
    "        sentenceObj = pickleFixLoad('../TextSegmentation/corrected_10to20/' + fName)\n",
    "    else:\n",
    "        sentenceObj = pickleFixLoad('../TextSegmentation/Pickle_Files/' + fName)\n",
    "    prediction = algo.predict(sentenceObj, dcsObj)\n",
    "    #     print(prediction)\n",
    "    if prediction != None:\n",
    "        print(\"Accuracy:\", Accuracy(prediction, dcsObj))\n",
    "    else:\n",
    "        print(fName)"
   ]
  },
  {
   "cell_type": "code",
   "execution_count": 61,
   "metadata": {
    "collapsed": false
   },
   "outputs": [],
   "source": [
    "algo = SktWsegRWR(\n",
    "    w2w_modelFunc=pb.get_w2w_mat, \n",
    "    t2t_modelFunc=pb.get_cng2cng_mat,\n",
    "    v2c_modelFunc=pb.get_v2c_ranking,\n",
    "    sameCng_modelFunc = pb.get_w2w_samecng_mat,\n",
    "    partition=[0.2, 0.3, 0.1, 0.05]\n",
    ")\n"
   ]
  },
  {
   "cell_type": "code",
   "execution_count": 64,
   "metadata": {
    "collapsed": false
   },
   "outputs": [
    {
     "name": "stdout",
     "output_type": "stream",
     "text": [
      "['sarva', 'pARqava', 'krI', 'yam', 'ca']\n",
      "Accuracy: 60.0\n"
     ]
    }
   ],
   "source": [
    "fName = '296141.p'\n",
    "folderTag = goodDict[fName]\n",
    "#     print(fName)\n",
    "dcsObj = pickleFixLoad('../Text Segmentation/DCS_pick/' + fName)\n",
    "if folderTag == \"C1020\" :\n",
    "    sentenceObj = pickleFixLoad('../TextSegmentation/corrected_10to20/' + fName)\n",
    "else:\n",
    "    sentenceObj = pickleFixLoad('../TextSegmentation/Pickle_Files/' + fName)\n",
    "# SeeSentence(sentenceObj)\n",
    "prediction = algo.predict(sentenceObj, dcsObj)\n",
    "print(prediction)\n",
    "if prediction != None:\n",
    "    print(\"Accuracy:\", Accuracy(prediction, dcsObj))\n",
    "else:\n",
    "    print(fName)"
   ]
  },
  {
   "cell_type": "code",
   "execution_count": 9,
   "metadata": {
    "collapsed": true
   },
   "outputs": [],
   "source": [
    "c=pickle.load(open('extras/list_of_uniq_cngs.p','rb'))"
   ]
  },
  {
   "cell_type": "code",
   "execution_count": 11,
   "metadata": {
    "collapsed": false
   },
   "outputs": [
    {
     "data": {
      "text/plain": [
       "False"
      ]
     },
     "execution_count": 11,
     "metadata": {},
     "output_type": "execute_result"
    }
   ],
   "source": [
    "'62' in c"
   ]
  },
  {
   "cell_type": "code",
   "execution_count": 25,
   "metadata": {
    "collapsed": false
   },
   "outputs": [
    {
     "data": {
      "text/plain": [
       "array([4, 3, 1, 2, 0])"
      ]
     },
     "execution_count": 25,
     "metadata": {},
     "output_type": "execute_result"
    }
   ],
   "source": [
    "a = np.array([1, 5, 3, 6, 8])\n",
    "a.argsort()[::-1]"
   ]
  },
  {
   "cell_type": "code",
   "execution_count": null,
   "metadata": {
    "collapsed": true
   },
   "outputs": [],
   "source": []
  }
 ],
 "metadata": {
  "kernelspec": {
   "display_name": "Python 3",
   "language": "python",
   "name": "python3"
  },
  "language_info": {
   "codemirror_mode": {
    "name": "ipython",
    "version": 3
   },
   "file_extension": ".py",
   "mimetype": "text/x-python",
   "name": "python",
   "nbconvert_exporter": "python",
   "pygments_lexer": "ipython3",
   "version": "3.5.1+"
  }
 },
 "nbformat": 4,
 "nbformat_minor": 0
}
