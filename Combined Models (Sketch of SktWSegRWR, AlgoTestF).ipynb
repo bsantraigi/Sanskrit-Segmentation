{
 "cells": [
  {
   "cell_type": "code",
   "execution_count": 85,
   "metadata": {
    "collapsed": false
   },
   "outputs": [
    {
     "name": "stdout",
     "output_type": "stream",
     "text": [
      "The autoreload extension is already loaded. To reload it, use:\n",
      "  %reload_ext autoreload\n"
     ]
    }
   ],
   "source": [
    "%load_ext autoreload\n",
    "%autoreload 2"
   ]
  },
  {
   "cell_type": "code",
   "execution_count": 152,
   "metadata": {
    "collapsed": true
   },
   "outputs": [],
   "source": [
    "from SktWsegRWR_utf8 import *\n",
    "from utilities import *\n",
    "import numpy as np\n",
    "np.set_printoptions(precision=2, suppress= True)\n",
    "from sentences import *\n",
    "from DCS import *\n",
    "np.set_printoptions(precision=5)"
   ]
  },
  {
   "cell_type": "code",
   "execution_count": 223,
   "metadata": {
    "collapsed": true
   },
   "outputs": [],
   "source": [
    "import ProbData\n",
    "from ProbModels import *"
   ]
  },
  {
   "cell_type": "code",
   "execution_count": 5,
   "metadata": {
    "collapsed": false,
    "scrolled": true
   },
   "outputs": [
    {
     "data": {
      "text/plain": [
       "['144415.p',\n",
       " '172618.p',\n",
       " '354565.p',\n",
       " '216268.p',\n",
       " '389803.p',\n",
       " '390332.p',\n",
       " '191125.p',\n",
       " '401327.p',\n",
       " '188914.p',\n",
       " '179292.p']"
      ]
     },
     "execution_count": 5,
     "metadata": {},
     "output_type": "execute_result"
    }
   ],
   "source": [
    "goodDict = pickle.load(open('mergedGood_v2.p', 'rb'))\n",
    "list(goodDict.keys())[0:10]"
   ]
  },
  {
   "cell_type": "code",
   "execution_count": 197,
   "metadata": {
    "collapsed": false,
    "scrolled": true
   },
   "outputs": [
    {
     "name": "stdout",
     "output_type": "stream",
     "text": [
      "188914.p 5\n",
      "416810.p 3\n",
      "418091.p 4\n",
      "441958.p 5\n",
      "187416.p 6\n",
      "177513.p 3\n",
      "209977.p 6\n",
      "401397.p 6\n",
      "293503.p 3\n",
      "23348.p 2\n",
      "24173.p 2\n",
      "421950.p 3\n",
      "419962.p 1\n",
      "274646.p 3\n",
      "18333.p 1\n",
      "294274.p 1\n",
      "10965.p 6\n",
      "435469.p 3\n",
      "296141.p 6\n",
      "425717.p 1\n"
     ]
    }
   ],
   "source": [
    "i = 1022\n",
    "for i in range(500):\n",
    "    if(goodDict[list(goodDict.keys())[i]] == 'C1020'):\n",
    "        dcsObj = pickleFixLoad('../Text Segmentation/DCS_pick/' + list(goodDict.keys())[i])\n",
    "        sentenceObj = pickleFixLoad('../TextSegmentation/corrected_10to20/' + list(goodDict.keys())[i])\n",
    "#         SeeSentence(sentenceObj)\n",
    "        (chunkDict, wordList, revMap2Chunk, qu, cngList, verbs) = SentencePreprocess(sentenceObj)\n",
    "        if(len(wordList) < 7):\n",
    "            print(list(goodDict.keys())[i], len(wordList))"
   ]
  },
  {
   "cell_type": "code",
   "execution_count": 200,
   "metadata": {
    "collapsed": false
   },
   "outputs": [
    {
     "name": "stdout",
     "output_type": "stream",
     "text": [
      "vikrIRAnaSca sarveByaH  pARqaveByaH  prayacCati   \n",
      "Analyzing  vikrIRAnaSca\n",
      "0 :  vi ['v'] []\n",
      "2 :  krIRAnas ['krI'] [{'noun': ['nom. sg. m.'], 'verbform': ['\"SKTMW71.html#H_krii\"'], 'verb': [['ppr. [9] md.']]}]\n",
      "10 :  ca ['ca'] [{'indeclinable': ['conj.']}]\n",
      "Analyzing  sarveByaḥ\n",
      "0 :  sarveByas ['sarva'] [{'noun': ['abl. pl. m.', 'dat. pl. m.', 'abl. pl. n.', 'dat. pl. n.']}]\n",
      "Analyzing  pARqaveByaḥ\n",
      "0 :  pARqaveByas ['pARqava'] [{'noun': ['abl. pl. m.', 'dat. pl. m.']}]\n",
      "Analyzing  prayacCati\n",
      "0 :  pra ['pra'] []\n",
      "0 :  pra ['pra'] []\n",
      "3 :  yacCati ['yam'] [{'verb': ['pr. [1] ac. sg. 3']}]\n",
      "3 :  yacCati ['yam'] [{'noun': ['loc. sg. n.', 'loc. sg. m.'], 'verbform': ['\"SKTMW211.html#H_yam\"'], 'verb': [['ppr. [1] ac.']]}]\n"
     ]
    }
   ],
   "source": [
    "f = '296141.p'\n",
    "dcsObj = pickleFixLoad('../Text Segmentation/DCS_pick/' + f)\n",
    "sentenceObj = pickleFixLoad('../TextSegmentation/corrected_10to20/' + f)\n",
    "SeeSentence(sentenceObj)\n",
    "(chunkDict, wordList, revMap2Chunk, qu, cngList, verbs) = SentencePreprocess(sentenceObj)\n"
   ]
  },
  {
   "cell_type": "code",
   "execution_count": 201,
   "metadata": {
    "collapsed": false,
    "scrolled": true
   },
   "outputs": [
    {
     "name": "stdout",
     "output_type": "stream",
     "text": [
      "['krI', 'ca', 'sarva', 'pARqava', 'yam', 'yam']\n",
      "[0, 4, 5]\n"
     ]
    }
   ],
   "source": [
    "print(wordList)\n",
    "print(verbs)"
   ]
  },
  {
   "cell_type": "code",
   "execution_count": 224,
   "metadata": {
    "collapsed": false
   },
   "outputs": [],
   "source": [
    "pb = ProbModels(fullCo_oc_mat = ProbData.fullCo_oc_mat, unigram_counts = ProbData.unigram_counts,\n",
    "               cng2cngFullMat = ProbData.cng2cngFullMat, cng2index_dict = ProbData.cng2index_dict,\n",
    "               w2w_samecng_fullmat=ProbData.w2w_samecng_fullmat, samecng_unigram_counts=ProbData.samecng_unigram_counts,\n",
    "               v2c_fullMat = ProbData.v2c_fullMat)"
   ]
  },
  {
   "cell_type": "code",
   "execution_count": 216,
   "metadata": {
    "collapsed": false
   },
   "outputs": [
    {
     "ename": "TypeError",
     "evalue": "__init__() missing 2 required positional arguments: 'v2t_modelFunc' and 'sameCng_modelFunc'",
     "output_type": "error",
     "traceback": [
      "\u001b[1;31m---------------------------------------------------------------------------\u001b[0m",
      "\u001b[1;31mTypeError\u001b[0m                                 Traceback (most recent call last)",
      "\u001b[1;32m<ipython-input-216-80790f79b87e>\u001b[0m in \u001b[0;36m<module>\u001b[1;34m()\u001b[0m\n\u001b[1;32m----> 1\u001b[1;33m \u001b[0malgo\u001b[0m \u001b[1;33m=\u001b[0m \u001b[0mSktWsegRWR\u001b[0m\u001b[1;33m(\u001b[0m\u001b[0mw2w_modelFunc\u001b[0m\u001b[1;33m=\u001b[0m\u001b[0mpb\u001b[0m\u001b[1;33m.\u001b[0m\u001b[0mget_w2w_mat\u001b[0m\u001b[1;33m,\u001b[0m \u001b[0mt2t_modelFunc\u001b[0m\u001b[1;33m=\u001b[0m\u001b[0mpb\u001b[0m\u001b[1;33m.\u001b[0m\u001b[0mget_cng2cng_mat\u001b[0m\u001b[1;33m,\u001b[0m \u001b[1;33m)\u001b[0m\u001b[1;33m\u001b[0m\u001b[0m\n\u001b[0m",
      "\u001b[1;31mTypeError\u001b[0m: __init__() missing 2 required positional arguments: 'v2t_modelFunc' and 'sameCng_modelFunc'"
     ]
    }
   ],
   "source": [
    "algo = SktWsegRWR(w2w_modelFunc=pb.get_w2w_mat, t2t_modelFunc=pb.get_cng2cng_mat, )\n"
   ]
  },
  {
   "cell_type": "code",
   "execution_count": 231,
   "metadata": {
    "collapsed": false
   },
   "outputs": [
    {
     "ename": "NameError",
     "evalue": "name 'cng2cngFullMat' is not defined",
     "output_type": "error",
     "traceback": [
      "\u001b[1;31m---------------------------------------------------------------------------\u001b[0m",
      "\u001b[1;31mNameError\u001b[0m                                 Traceback (most recent call last)",
      "\u001b[1;32m<ipython-input-231-7e1288bb848d>\u001b[0m in \u001b[0;36m<module>\u001b[1;34m()\u001b[0m\n\u001b[0;32m      8\u001b[0m \u001b[1;33m\u001b[0m\u001b[0m\n\u001b[0;32m      9\u001b[0m \u001b[1;31m# pb.get_v2c_ranking(wordList, cngList, verbs)\u001b[0m\u001b[1;33m\u001b[0m\u001b[1;33m\u001b[0m\u001b[0m\n\u001b[1;32m---> 10\u001b[1;33m \u001b[0mprint\u001b[0m\u001b[1;33m(\u001b[0m\u001b[0mpb\u001b[0m\u001b[1;33m.\u001b[0m\u001b[0mget_cng2cng_mat\u001b[0m\u001b[1;33m(\u001b[0m\u001b[0mcngList\u001b[0m\u001b[1;33m,\u001b[0m \u001b[1;32mFalse\u001b[0m\u001b[1;33m)\u001b[0m\u001b[1;33m)\u001b[0m\u001b[1;33m\u001b[0m\u001b[0m\n\u001b[0m",
      "\u001b[1;32m/home/bishal/Documents/summer project/TxSeg_Summer/ProbModels.py\u001b[0m in \u001b[0;36mget_cng2cng_mat\u001b[1;34m(self, cngList, kn_smooth)\u001b[0m\n\u001b[0;32m    109\u001b[0m                         \u001b[1;32mtry\u001b[0m\u001b[1;33m:\u001b[0m\u001b[1;33m\u001b[0m\u001b[0m\n\u001b[0;32m    110\u001b[0m                             \u001b[1;31m# print(cngIndexList[row])\u001b[0m\u001b[1;33m\u001b[0m\u001b[1;33m\u001b[0m\u001b[0m\n\u001b[1;32m--> 111\u001b[1;33m                             \u001b[0mTransitionMat\u001b[0m\u001b[1;33m[\u001b[0m\u001b[0mrow\u001b[0m\u001b[1;33m]\u001b[0m\u001b[1;33m[\u001b[0m\u001b[0mcol\u001b[0m\u001b[1;33m]\u001b[0m \u001b[1;33m=\u001b[0m \u001b[0mcng2cngFullMat\u001b[0m\u001b[1;33m[\u001b[0m\u001b[0mcngIndexList\u001b[0m\u001b[1;33m[\u001b[0m\u001b[0mrow\u001b[0m\u001b[1;33m]\u001b[0m\u001b[1;33m,\u001b[0m\u001b[0mcngIndexList\u001b[0m\u001b[1;33m[\u001b[0m\u001b[0mcol\u001b[0m\u001b[1;33m]\u001b[0m\u001b[1;33m]\u001b[0m\u001b[1;33m\u001b[0m\u001b[0m\n\u001b[0m\u001b[0;32m    112\u001b[0m                         \u001b[1;32mexcept\u001b[0m \u001b[0mKeyError\u001b[0m\u001b[1;33m:\u001b[0m\u001b[1;33m\u001b[0m\u001b[0m\n\u001b[0;32m    113\u001b[0m                             \u001b[0mTransitionMat\u001b[0m\u001b[1;33m[\u001b[0m\u001b[0mrow\u001b[0m\u001b[1;33m]\u001b[0m\u001b[1;33m[\u001b[0m\u001b[0mcol\u001b[0m\u001b[1;33m]\u001b[0m \u001b[1;33m=\u001b[0m \u001b[1;36m0\u001b[0m \u001b[1;31m#WHAT TO DO HERE??\u001b[0m\u001b[1;33m\u001b[0m\u001b[0m\n",
      "\u001b[1;31mNameError\u001b[0m: name 'cng2cngFullMat' is not defined"
     ]
    }
   ],
   "source": [
    "# print(pb.get_w2w_mat(wordList, False))\n",
    "# print()\n",
    "# print(pb.get_w2w_mat(wordList))\n",
    "\n",
    "# print(pb.get_w2w_samecng_mat(wordList, False))\n",
    "# print()\n",
    "# print(pb.get_w2w_samecng_mat(wordList))\n",
    "\n",
    "# pb.get_v2c_ranking(wordList, cngList, verbs)\n",
    "print(pb.get_cng2cng_mat(cngList, False))"
   ]
  },
  {
   "cell_type": "code",
   "execution_count": null,
   "metadata": {
    "collapsed": false
   },
   "outputs": [],
   "source": []
  },
  {
   "cell_type": "code",
   "execution_count": null,
   "metadata": {
    "collapsed": false
   },
   "outputs": [],
   "source": []
  },
  {
   "cell_type": "code",
   "execution_count": null,
   "metadata": {
    "collapsed": true
   },
   "outputs": [],
   "source": []
  }
 ],
 "metadata": {
  "kernelspec": {
   "display_name": "Python 3",
   "language": "python",
   "name": "python3"
  },
  "language_info": {
   "codemirror_mode": {
    "name": "ipython",
    "version": 3
   },
   "file_extension": ".py",
   "mimetype": "text/x-python",
   "name": "python",
   "nbconvert_exporter": "python",
   "pygments_lexer": "ipython3",
   "version": "3.5.1+"
  }
 },
 "nbformat": 4,
 "nbformat_minor": 0
}
