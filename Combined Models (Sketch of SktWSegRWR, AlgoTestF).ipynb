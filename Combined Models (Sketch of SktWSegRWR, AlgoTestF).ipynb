{
 "cells": [
  {
   "cell_type": "code",
   "execution_count": 85,
   "metadata": {
    "collapsed": false
   },
   "outputs": [
    {
     "name": "stdout",
     "output_type": "stream",
     "text": [
      "The autoreload extension is already loaded. To reload it, use:\n",
      "  %reload_ext autoreload\n"
     ]
    }
   ],
   "source": [
    "%load_ext autoreload\n",
    "%autoreload 2"
   ]
  },
  {
   "cell_type": "code",
   "execution_count": 152,
   "metadata": {
    "collapsed": true
   },
   "outputs": [],
   "source": [
    "from SktWsegRWR_utf8 import *\n",
    "from utilities import *\n",
    "import numpy as np\n",
    "np.set_printoptions(precision=2, suppress= True)\n",
    "from sentences import *\n",
    "from DCS import *\n",
    "np.set_printoptions(precision=5)"
   ]
  },
  {
   "cell_type": "code",
   "execution_count": 137,
   "metadata": {
    "collapsed": true
   },
   "outputs": [],
   "source": [
    "import ProbData\n",
    "from ProbModels import *"
   ]
  },
  {
   "cell_type": "code",
   "execution_count": 5,
   "metadata": {
    "collapsed": false,
    "scrolled": true
   },
   "outputs": [
    {
     "data": {
      "text/plain": [
       "['144415.p',\n",
       " '172618.p',\n",
       " '354565.p',\n",
       " '216268.p',\n",
       " '389803.p',\n",
       " '390332.p',\n",
       " '191125.p',\n",
       " '401327.p',\n",
       " '188914.p',\n",
       " '179292.p']"
      ]
     },
     "execution_count": 5,
     "metadata": {},
     "output_type": "execute_result"
    }
   ],
   "source": [
    "goodDict = pickle.load(open('mergedGood_v2.p', 'rb'))\n",
    "list(goodDict.keys())[0:10]"
   ]
  },
  {
   "cell_type": "code",
   "execution_count": 147,
   "metadata": {
    "collapsed": false,
    "scrolled": true
   },
   "outputs": [
    {
     "name": "stdout",
     "output_type": "stream",
     "text": [
      "188914.p 5\n",
      "416810.p 3\n",
      "418091.p 4\n",
      "441958.p 5\n"
     ]
    }
   ],
   "source": [
    "i = 1022\n",
    "for i in range(200):\n",
    "    if(goodDict[list(goodDict.keys())[i]] == 'C1020'):\n",
    "        dcsObj = pickleFixLoad('../Text Segmentation/DCS_pick/' + list(goodDict.keys())[i])\n",
    "        sentenceObj = pickleFixLoad('../TextSegmentation/corrected_10to20/' + list(goodDict.keys())[i])\n",
    "#         SeeSentence(sentenceObj)\n",
    "        (chunkDict, wordList, revMap2Chunk, qu, cngList, verbs) = SentencePreprocess(sentenceObj)\n",
    "        if(len(wordList) < 7):\n",
    "            print(list(goodDict.keys())[i], len(wordList))"
   ]
  },
  {
   "cell_type": "code",
   "execution_count": 149,
   "metadata": {
    "collapsed": false
   },
   "outputs": [
    {
     "name": "stdout",
     "output_type": "stream",
     "text": [
      "kzudrajantavaH    \n",
      "Analyzing  kzudrajantavaḥ\n",
      "0 :  kzudra ['kzudra'] [{'compound': ['iic.']}]\n",
      "9 :  tavas ['tavas'] [{'noun': ['voc. sg. f.']}]\n",
      "6 :  jantavas ['jantu'] [{'noun': ['nom. pl. m.']}]\n",
      "6 :  jantavas ['jantu'] [{'noun': ['voc. pl. m.']}]\n",
      "6 :  jam ['ja'] [{'noun': ['acc. sg. m.', 'acc. sg. n.', 'nom. sg. n.']}]\n"
     ]
    }
   ],
   "source": [
    "f = '441958.p'\n",
    "dcsObj = pickleFixLoad('../Text Segmentation/DCS_pick/' + f)\n",
    "sentenceObj = pickleFixLoad('../TextSegmentation/corrected_10to20/' + f)\n",
    "SeeSentence(sentenceObj)\n",
    "(chunkDict, wordList, revMap2Chunk, qu, cngList, verbs) = SentencePreprocess(sentenceObj)\n"
   ]
  },
  {
   "cell_type": "code",
   "execution_count": 150,
   "metadata": {
    "collapsed": false,
    "scrolled": true
   },
   "outputs": [
    {
     "data": {
      "text/plain": [
       "['kzudra', 'tavas', 'jantu', 'jantu', 'ja']"
      ]
     },
     "execution_count": 150,
     "metadata": {},
     "output_type": "execute_result"
    }
   ],
   "source": [
    "wordList"
   ]
  },
  {
   "cell_type": "code",
   "execution_count": 138,
   "metadata": {
    "collapsed": false
   },
   "outputs": [],
   "source": [
    "\n",
    "\n",
    "pb = ProbModels(fullCo_oc_mat = ProbData.fullCo_oc_mat, unigram_counts = ProbData.unigram_counts,\n",
    "               cng2cngFullMat = ProbData.cng2cngFullMat, cng2index_dict = ProbData.cng2index_dict,\n",
    "               w2w_samecng_fullmat=ProbData.w2w_samecng_fullmat, samecng_unigram_counts=ProbData.samecng_unigram_counts)"
   ]
  },
  {
   "cell_type": "code",
   "execution_count": 22,
   "metadata": {
    "collapsed": false
   },
   "outputs": [
    {
     "ename": "TypeError",
     "evalue": "__init__() missing 2 required positional arguments: 'v2t_modelFunc' and 'sameCng_modelFunc'",
     "output_type": "error",
     "traceback": [
      "\u001b[1;31m---------------------------------------------------------------------------\u001b[0m",
      "\u001b[1;31mTypeError\u001b[0m                                 Traceback (most recent call last)",
      "\u001b[1;32m<ipython-input-22-20b42b1516ec>\u001b[0m in \u001b[0;36m<module>\u001b[1;34m()\u001b[0m\n\u001b[1;32m----> 1\u001b[1;33m \u001b[0malgo\u001b[0m \u001b[1;33m=\u001b[0m \u001b[0mSktWsegRWR\u001b[0m\u001b[1;33m(\u001b[0m\u001b[0mw2w_modelFunc\u001b[0m\u001b[1;33m=\u001b[0m\u001b[0mpb\u001b[0m\u001b[1;33m.\u001b[0m\u001b[0mget_w2w_mat\u001b[0m\u001b[1;33m,\u001b[0m \u001b[0mt2t_modelFunc\u001b[0m\u001b[1;33m=\u001b[0m\u001b[0mpb\u001b[0m\u001b[1;33m.\u001b[0m\u001b[0mget_cng2cng_mat\u001b[0m\u001b[1;33m)\u001b[0m\u001b[1;33m\u001b[0m\u001b[0m\n\u001b[0m",
      "\u001b[1;31mTypeError\u001b[0m: __init__() missing 2 required positional arguments: 'v2t_modelFunc' and 'sameCng_modelFunc'"
     ]
    }
   ],
   "source": [
    "algo = SktWsegRWR(w2w_modelFunc=pb.get_w2w_mat, t2t_modelFunc=pb.get_cng2cng_mat, )\n"
   ]
  },
  {
   "cell_type": "code",
   "execution_count": 153,
   "metadata": {
    "collapsed": false
   },
   "outputs": [
    {
     "name": "stdout",
     "output_type": "stream",
     "text": [
      "[[ 0.       0.       0.33333  0.33333  0.33333]\n",
      " [ 0.25     0.       0.25     0.25     0.25   ]\n",
      " [ 0.30769  0.       0.       0.       0.69231]\n",
      " [ 0.30769  0.       0.       0.       0.69231]\n",
      " [ 0.18182  0.       0.40909  0.40909  0.     ]]\n",
      "\n",
      "[[ 0.       0.00004  0.31792  0.31792  0.36413]\n",
      " [ 0.11676  0.       0.16536  0.16536  0.55253]\n",
      " [ 0.27325  0.00004  0.       0.02402  0.70268]\n",
      " [ 0.27325  0.00004  0.02402  0.       0.70268]\n",
      " [ 0.18212  0.00008  0.4089   0.4089   0.     ]]\n"
     ]
    }
   ],
   "source": [
    "print(pb.get_w2w_mat(wordList, False))\n",
    "print()\n",
    "print(pb.get_w2w_mat(wordList))"
   ]
  },
  {
   "cell_type": "code",
   "execution_count": 155,
   "metadata": {
    "collapsed": false
   },
   "outputs": [
    {
     "name": "stdout",
     "output_type": "stream",
     "text": [
      "[[ 0.       0.       0.25     0.25     0.5    ]\n",
      " [ 0.       0.       0.       0.       0.     ]\n",
      " [ 0.16667  0.       0.       0.       0.83333]\n",
      " [ 0.16667  0.       0.       0.       0.83333]\n",
      " [ 0.16667  0.       0.41667  0.41667  0.     ]]\n",
      "\n",
      "[[ 0.       0.00012  0.19006  0.19006  0.61976]\n",
      " [ 0.12075  0.       0.1239   0.1239   0.63145]\n",
      " [ 0.10353  0.00007  0.       0.01322  0.88319]\n",
      " [ 0.10353  0.00007  0.01322  0.       0.88319]\n",
      " [ 0.16043  0.00016  0.4197   0.4197   0.     ]]\n"
     ]
    }
   ],
   "source": [
    "print(pb.get_w2w_samecng_mat(wordList, False))\n",
    "print()\n",
    "print(pb.get_w2w_samecng_mat(wordList))"
   ]
  },
  {
   "cell_type": "code",
   "execution_count": null,
   "metadata": {
    "collapsed": false
   },
   "outputs": [],
   "source": [
    "v2c_fullMat = pickle.load(open('extras/verbs_vs_cngs_matrix_countonly.p', 'rb'), encoding=u'utf8')\n",
    "def func(wordList, cngList, verb):\n",
    "    "
   ]
  },
  {
   "cell_type": "code",
   "execution_count": null,
   "metadata": {
    "collapsed": false
   },
   "outputs": [],
   "source": []
  },
  {
   "cell_type": "code",
   "execution_count": null,
   "metadata": {
    "collapsed": false
   },
   "outputs": [],
   "source": []
  },
  {
   "cell_type": "code",
   "execution_count": null,
   "metadata": {
    "collapsed": true
   },
   "outputs": [],
   "source": []
  }
 ],
 "metadata": {
  "kernelspec": {
   "display_name": "Python 3",
   "language": "python",
   "name": "python3"
  },
  "language_info": {
   "codemirror_mode": {
    "name": "ipython",
    "version": 3
   },
   "file_extension": ".py",
   "mimetype": "text/x-python",
   "name": "python",
   "nbconvert_exporter": "python",
   "pygments_lexer": "ipython3",
   "version": "3.5.1+"
  }
 },
 "nbformat": 4,
 "nbformat_minor": 0
}
