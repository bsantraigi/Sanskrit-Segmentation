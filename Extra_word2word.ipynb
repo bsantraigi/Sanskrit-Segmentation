{
 "cells": [
  {
   "cell_type": "code",
   "execution_count": 7,
   "metadata": {
    "collapsed": true
   },
   "outputs": [],
   "source": [
    "import pickle\n",
    "from collections import defaultdict\n",
    "from utilities import *\n",
    "import re"
   ]
  },
  {
   "cell_type": "code",
   "execution_count": 49,
   "metadata": {
    "collapsed": true
   },
   "outputs": [],
   "source": [
    "fullCo_oc_mat = pickleFixLoad('extras/all_dcs_lemmas_matrix_countonly_Original.p')\n",
    "unigram_counts = pickleFixLoad('extras/counts_of_uniq_lemmas_Original.p')"
   ]
  },
  {
   "cell_type": "code",
   "execution_count": 50,
   "metadata": {
    "collapsed": false
   },
   "outputs": [],
   "source": [
    "with open('../baseline_files/sandhiTrainSLP.txt') as stslp_fh:\n",
    "    data = stslp_fh.read()\n",
    "    data = data.split('\\n')\n",
    "    for s in data:\n",
    "        s = s.split('=>')[0]\n",
    "        s = s.strip()\n",
    "        s = re.sub('[\\t]+', '', s) # remove tabs    \n",
    "        s = re.split('[ ]+', s)\n",
    "        for w in s:\n",
    "            if w in unigram_counts:\n",
    "                unigram_counts[w] += 1\n",
    "            else:\n",
    "                unigram_counts[w] = 1\n",
    "        if(len(s) > 1):\n",
    "            for i in range(len(s)):\n",
    "                for j in range(len(s)):\n",
    "                    if i == j:\n",
    "                        continue\n",
    "                    if s[j] in fullCo_oc_mat[s[i]]:\n",
    "                        fullCo_oc_mat[s[i]][s[j]] += 1\n",
    "                    else:\n",
    "                        fullCo_oc_mat[s[i]][s[j]] = 1"
   ]
  },
  {
   "cell_type": "code",
   "execution_count": 51,
   "metadata": {
    "collapsed": false
   },
   "outputs": [],
   "source": [
    "pickle.dump(fullCo_oc_mat, open('extras/all_dcs_lemmas_matrix_countonly.p', 'wb'))\n",
    "pickle.dump(unigram_counts, open('extras/counts_of_uniq_lemmas.p', 'wb'))"
   ]
  },
  {
   "cell_type": "code",
   "execution_count": 53,
   "metadata": {
    "collapsed": false
   },
   "outputs": [
    {
     "name": "stdout",
     "output_type": "stream",
     "text": [
      "81920\n",
      "90432\n"
     ]
    }
   ],
   "source": [
    "print(len(fullCo_oc_mat))\n",
    "print(len(unigram_counts))"
   ]
  },
  {
   "cell_type": "code",
   "execution_count": 48,
   "metadata": {
    "collapsed": false
   },
   "outputs": [
    {
     "name": "stdout",
     "output_type": "stream",
     "text": [
      "66816\n",
      "66914\n",
      "Once deleted, variables cannot be recovered. Proceed (y/[n])?  y\n",
      "Once deleted, variables cannot be recovered. Proceed (y/[n])?  y\n"
     ]
    }
   ],
   "source": [
    "fullCo_oc_mat = pickleFixLoad('extras/all_dcs_lemmas_matrix_countonly_Original.p')\n",
    "unigram_counts = pickleFixLoad('extras/counts_of_uniq_lemmas_Original.p')\n",
    "print(len(fullCo_oc_mat))\n",
    "print(len(unigram_counts))\n",
    "%reset_selective fullCo_oc_mat\n",
    "%reset_selective unigram_counts"
   ]
  },
  {
   "cell_type": "code",
   "execution_count": null,
   "metadata": {
    "collapsed": true
   },
   "outputs": [],
   "source": []
  }
 ],
 "metadata": {
  "kernelspec": {
   "display_name": "Python 3",
   "language": "python",
   "name": "python3"
  },
  "language_info": {
   "codemirror_mode": {
    "name": "ipython",
    "version": 3
   },
   "file_extension": ".py",
   "mimetype": "text/x-python",
   "name": "python",
   "nbconvert_exporter": "python",
   "pygments_lexer": "ipython3",
   "version": "3.5.1+"
  }
 },
 "nbformat": 4,
 "nbformat_minor": 0
}
