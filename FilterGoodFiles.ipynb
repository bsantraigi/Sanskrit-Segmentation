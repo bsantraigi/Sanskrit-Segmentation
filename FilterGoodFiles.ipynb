{
 "cells": [
  {
   "cell_type": "code",
   "execution_count": 1,
   "metadata": {
    "collapsed": true
   },
   "outputs": [],
   "source": [
    "from DCS import *\n",
    "from sentences import *\n",
    "import os\n",
    "from utilities import *\n",
    "import re\n",
    "from romtoslp import rom_slp\n",
    "import pickle"
   ]
  },
  {
   "cell_type": "code",
   "execution_count": 2,
   "metadata": {
    "collapsed": true
   },
   "outputs": [],
   "source": [
    "dcsPath = '../Text Segmentation/DCS_pick/'\n",
    "dcsList = os.listdir(dcsPath)"
   ]
  },
  {
   "cell_type": "code",
   "execution_count": 3,
   "metadata": {
    "collapsed": true
   },
   "outputs": [],
   "source": [
    "sktPath_1 = '../TextSegmentation/corrected_10to20/'\n",
    "sktList_1 = os.listdir(sktPath_1)"
   ]
  },
  {
   "cell_type": "code",
   "execution_count": 4,
   "metadata": {
    "collapsed": false
   },
   "outputs": [],
   "source": [
    "def pickleFixLoad(filename):\n",
    "    return pickle.load(open(filename, 'rb'), encoding=u'utf8')"
   ]
  },
  {
   "cell_type": "code",
   "execution_count": 7,
   "metadata": {
    "collapsed": false,
    "scrolled": false
   },
   "outputs": [
    {
     "name": "stdout",
     "output_type": "stream",
     "text": [
      "41\n",
      "41\n"
     ]
    }
   ],
   "source": [
    "\n",
    "\n",
    "\n",
    "def CanIUseIt(sntcObj, dcsObj):\n",
    "#     print('-'*15)\n",
    "#     CHECK 1 -> NUMBER OF CHUNKS/LEMMAS\n",
    "    s = re.findall(\"[^ ]+\", dcsObj.sentence)\n",
    "    if((len(s) != len(dcsObj.lemmas)) or (len(s) != len(sntcObj.chunk))):\n",
    "        return 1\n",
    "    \n",
    "#     CHECK 2 -> ALL LEMMAS PRESENT IN CORRESPONDING CHUNK\n",
    "    sntc_lemma_packs = []\n",
    "    for chunk in sntcObj.chunk:\n",
    "        allwords = []\n",
    "        for pos, word_senses in chunk.chunk_words.items():\n",
    "            for sense in word_senses:\n",
    "                for lemma in sense.lemmas:\n",
    "                    allwords.append(rom_slp(lemma.split('_')[0]))\n",
    "        sntc_lemma_packs.append(allwords)\n",
    "        \n",
    "    i = -1\n",
    "    for chunk in dcsObj.lemmas:\n",
    "        chunk = list(map(rom_slp, chunk))\n",
    "        i += 1\n",
    "#         print(\" | \".join(chunk))\n",
    "#         print(\"vs\")\n",
    "#         print(\" | \".join(sntc_lemma_packs[i]))\n",
    "#         print()\n",
    "        for lemma in chunk:\n",
    "            if(lemma not in sntc_lemma_packs[i]):\n",
    "#                 print(dcsObj.sentence)\n",
    "                return 2\n",
    "    \n",
    "#     CHECK 3 -> NO CNG ERRORS ('VERBFORMS')\n",
    "\n",
    "\n",
    "common = []\n",
    "bads = []\n",
    "for dcsFile in dcsList[0:100]:\n",
    "    if(validatePickleName(dcsFile) != \"\"):\n",
    "        if dcsFile in sktList_1:\n",
    "            common.append(dcsFile)            \n",
    "            dcsObj = pickleFixLoad(dcsPath + dcsFile)\n",
    "            sntcObj = pickleFixLoad(sktPath_1 + dcsFile)\n",
    "            e = CanIUseIt(sntcObj, dcsObj)\n",
    "            # IF zero returned then all test passed\n",
    "            if e != 0:\n",
    "                bads.append(dcsFile)\n",
    "            if e == 2:\n",
    "#                 print(dcsFile)\n",
    "                pass\n",
    "#                 print(\"FAIL 2\")\n",
    "\n",
    "print(len(common))\n",
    "print(len(bads))"
   ]
  },
  {
   "cell_type": "code",
   "execution_count": 25,
   "metadata": {
    "collapsed": false
   },
   "outputs": [
    {
     "data": {
      "text/plain": [
       "41"
      ]
     },
     "execution_count": 25,
     "metadata": {},
     "output_type": "execute_result"
    }
   ],
   "source": [
    "len(common)"
   ]
  },
  {
   "cell_type": "code",
   "execution_count": 26,
   "metadata": {
    "collapsed": false
   },
   "outputs": [
    {
     "data": {
      "text/plain": [
       "41"
      ]
     },
     "execution_count": 26,
     "metadata": {},
     "output_type": "execute_result"
    }
   ],
   "source": [
    "len(bads)"
   ]
  },
  {
   "cell_type": "code",
   "execution_count": null,
   "metadata": {
    "collapsed": true
   },
   "outputs": [],
   "source": []
  }
 ],
 "metadata": {
  "kernelspec": {
   "display_name": "Python 3",
   "language": "python",
   "name": "python3"
  },
  "language_info": {
   "codemirror_mode": {
    "name": "ipython",
    "version": 3
   },
   "file_extension": ".py",
   "mimetype": "text/x-python",
   "name": "python",
   "nbconvert_exporter": "python",
   "pygments_lexer": "ipython3",
   "version": "3.5.1+"
  }
 },
 "nbformat": 4,
 "nbformat_minor": 0
}
