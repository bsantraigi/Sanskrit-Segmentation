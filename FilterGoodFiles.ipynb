{
 "cells": [
  {
   "cell_type": "code",
   "execution_count": 1,
   "metadata": {
    "collapsed": true
   },
   "outputs": [],
   "source": [
    "%load_ext autoreload\n",
    "%autoreload 2"
   ]
  },
  {
   "cell_type": "code",
   "execution_count": 2,
   "metadata": {
    "collapsed": true
   },
   "outputs": [],
   "source": [
    "    from DCS import *\n",
    "    from sentences import *\n",
    "    import os\n",
    "    from utilities import *\n",
    "    import re\n",
    "    from romtoslp import rom_slp\n",
    "    import pickle"
   ]
  },
  {
   "cell_type": "code",
   "execution_count": 2,
   "metadata": {
    "collapsed": false
   },
   "outputs": [],
   "source": [
    "dcsPath = '../Text Segmentation/DCS_pick/'\n",
    "dcsList = os.listdir(dcsPath)"
   ]
  },
  {
   "cell_type": "code",
   "execution_count": 4,
   "metadata": {
    "collapsed": true
   },
   "outputs": [],
   "source": [
    "sktPath_1 = '../TextSegmentation/Pickle_Files//'\n",
    "sktList_1 = os.listdir(sktPath_1)\n",
    "\n",
    "sktPath_2 = '../TextSegmentation/corrected_10to20/'\n",
    "sktList_2 = os.listdir(sktPath_2)"
   ]
  },
  {
   "cell_type": "code",
   "execution_count": 70,
   "metadata": {
    "collapsed": false
   },
   "outputs": [],
   "source": [
    "preList = pickle.load(open('pvb.p', 'rb'))\n",
    "def removePrefix(preList, lemma):\n",
    "    for pre in preList:\n",
    "        m = re.match(pre, lemma)\n",
    "        if(m != None):\n",
    "            return m.span()[1]\n",
    "def pickleFixLoad(filename):\n",
    "    return pickle.load(open(filename, 'rb'), encoding=u'utf8')"
   ]
  },
  {
   "cell_type": "code",
   "execution_count": 113,
   "metadata": {
    "collapsed": false,
    "scrolled": false
   },
   "outputs": [
    {
     "name": "stdout",
     "output_type": "stream",
     "text": [
      "Checkpoint:  99 90\n",
      "Checkpoint:  199 182\n",
      "Checkpoint:  299 272\n",
      "Checkpoint:  399 361\n",
      "Checkpoint:  499 456\n",
      "Checkpoint:  599 547\n",
      "Checkpoint:  699 640\n",
      "Checkpoint:  799 730\n",
      "Checkpoint:  899 827\n",
      "Checkpoint:  999 915\n",
      "Checkpoint:  1099 1009\n",
      "Checkpoint:  1199 1099\n",
      "Checkpoint:  1299 1194\n",
      "Checkpoint:  1399 1288\n",
      "Checkpoint:  1499 1380\n",
      "Checkpoint:  1599 1476\n",
      "Checkpoint:  1699 1569\n"
     ]
    },
    {
     "ename": "KeyboardInterrupt",
     "evalue": "",
     "output_type": "error",
     "traceback": [
      "\u001b[1;31m---------------------------------------------------------------------------\u001b[0m",
      "\u001b[1;31mKeyboardInterrupt\u001b[0m                         Traceback (most recent call last)",
      "\u001b[1;32m<ipython-input-113-ad4506ea5399>\u001b[0m in \u001b[0;36m<module>\u001b[1;34m()\u001b[0m\n\u001b[0;32m     45\u001b[0m \u001b[1;32mfor\u001b[0m \u001b[0mdcsFile\u001b[0m \u001b[1;32min\u001b[0m \u001b[0mdcsList\u001b[0m\u001b[1;33m[\u001b[0m\u001b[1;36m0\u001b[0m\u001b[1;33m:\u001b[0m\u001b[1;36m10000\u001b[0m\u001b[1;33m]\u001b[0m\u001b[1;33m:\u001b[0m\u001b[1;33m\u001b[0m\u001b[0m\n\u001b[0;32m     46\u001b[0m     \u001b[1;32mif\u001b[0m\u001b[1;33m(\u001b[0m\u001b[0mvalidatePickleName\u001b[0m\u001b[1;33m(\u001b[0m\u001b[0mdcsFile\u001b[0m\u001b[1;33m)\u001b[0m \u001b[1;33m!=\u001b[0m \u001b[1;34m\"\"\u001b[0m\u001b[1;33m)\u001b[0m\u001b[1;33m:\u001b[0m\u001b[1;33m\u001b[0m\u001b[0m\n\u001b[1;32m---> 47\u001b[1;33m         \u001b[1;32mif\u001b[0m \u001b[0mdcsFile\u001b[0m \u001b[1;32min\u001b[0m \u001b[0msktList_1\u001b[0m\u001b[1;33m:\u001b[0m\u001b[1;33m\u001b[0m\u001b[0m\n\u001b[0m\u001b[0;32m     48\u001b[0m             \u001b[0mcount\u001b[0m \u001b[1;33m+=\u001b[0m \u001b[1;36m1\u001b[0m\u001b[1;33m\u001b[0m\u001b[0m\n\u001b[0;32m     49\u001b[0m             \u001b[1;32mif\u001b[0m\u001b[1;33m(\u001b[0m\u001b[0mcount\u001b[0m \u001b[1;33m%\u001b[0m \u001b[1;36m100\u001b[0m \u001b[1;33m==\u001b[0m \u001b[1;36m0\u001b[0m\u001b[1;33m)\u001b[0m\u001b[1;33m:\u001b[0m\u001b[1;33m\u001b[0m\u001b[0m\n",
      "\u001b[1;31mKeyboardInterrupt\u001b[0m: "
     ]
    }
   ],
   "source": [
    "def CanIUseIt(sntcObj, dcsObj):\n",
    "#     print('-'*15)\n",
    "#     CHECK 1 -> NUMBER OF CHUNKS/LEMMAS\n",
    "    s = re.findall(\"[^ ]+\", dcsObj.sentence)\n",
    "    if((len(s) != len(dcsObj.lemmas)) or (len(s) != len(sntcObj.chunk))):\n",
    "        return 1\n",
    "    \n",
    "#     CHECK 2 -> ALL LEMMAS PRESENT IN CORRESPONDING CHUNK\n",
    "    sntc_lemma_packs = []\n",
    "    for chunk in sntcObj.chunk:\n",
    "        allwords = set()\n",
    "        for pos, word_senses in chunk.chunk_words.items():\n",
    "            for sense in word_senses:\n",
    "                for lemma in sense.lemmas:\n",
    "                    term = rom_slp(lemma.split('_')[0])\n",
    "                    allwords.add(term)\n",
    "#                     allwords.update([term, removePrefix(preList, term)])\n",
    "                    \n",
    "        sntc_lemma_packs.append(allwords)\n",
    "        \n",
    "    i = -1\n",
    "    for chunk in dcsObj.lemmas:\n",
    "        chunk = list(map(rom_slp, chunk))\n",
    "        i += 1\n",
    "#         print(\" | \".join(chunk))\n",
    "#         print(\"vs\")\n",
    "#         print(sntc_lemma_packs[i])\n",
    "#         print()\n",
    "        for lemma in chunk:\n",
    "            if(lemma not in sntc_lemma_packs[i]):\n",
    "                if lemma[removePrefix(preList, lemma)::] not in sntc_lemma_packs[i]:\n",
    "#                     print(dcsObj.sentence)\n",
    "                    return 2\n",
    "                else:\n",
    "                    return 0\n",
    "#                     print('HUH')\n",
    "    return 0\n",
    "    \n",
    "#     CHECK 3 -> NO CNG ERRORS ('VERBFORMS')\n",
    "\n",
    "\n",
    "common = []\n",
    "bads = []\n",
    "count = 0\n",
    "for dcsFile in dcsList[0:10000]:\n",
    "    if(validatePickleName(dcsFile) != \"\"):\n",
    "        if dcsFile in sktList_1:\n",
    "            count += 1\n",
    "            if(count % 100 == 0):\n",
    "                print('Checkpoint: ', len(common), len(bads))                \n",
    "                pass\n",
    "            common.append(dcsFile)\n",
    "            try:\n",
    "                dcsObj = pickleFixLoad(dcsPath + dcsFile)\n",
    "                sntcObj = pickleFixLoad(sktPath_1 + dcsFile)\n",
    "            except EOFError:\n",
    "                continue\n",
    "            e = CanIUseIt(sntcObj, dcsObj)\n",
    "            # IF zero returned then all test passed\n",
    "            if e != 0:\n",
    "                bads.append(dcsFile)\n",
    "            else:\n",
    "#                 print(dcsFile)\n",
    "                pass\n",
    "            if e == 2:\n",
    "#                 print(dcsFile)\n",
    "#                 print(\"FAIL 2\")\n",
    "                pass\n",
    "                \n",
    "\n",
    "good = set(common) - set(bads)\n",
    "print(len(good))"
   ]
  },
  {
   "cell_type": "code",
   "execution_count": 101,
   "metadata": {
    "collapsed": false
   },
   "outputs": [
    {
     "data": {
      "text/plain": [
       "6"
      ]
     },
     "execution_count": 101,
     "metadata": {},
     "output_type": "execute_result"
    }
   ],
   "source": [
    "len(good)"
   ]
  },
  {
   "cell_type": "code",
   "execution_count": 98,
   "metadata": {
    "collapsed": false
   },
   "outputs": [
    {
     "data": {
      "text/plain": [
       "186"
      ]
     },
     "execution_count": 98,
     "metadata": {},
     "output_type": "execute_result"
    }
   ],
   "source": [
    "len(bads)"
   ]
  },
  {
   "cell_type": "code",
   "execution_count": 87,
   "metadata": {
    "collapsed": false
   },
   "outputs": [
    {
     "name": "stdout",
     "output_type": "stream",
     "text": [
      "uttama\n",
      "vs\n",
      "{'uttama'}\n",
      "\n",
      "sarva | sattva\n",
      "vs\n",
      "{'tu', 'sattva', 'sad', 'sat', 'yuzmad', 'sarva', 'Ana', '-tva', 'as'}\n",
      "\n",
      "yaTA\n",
      "vs\n",
      "{'yaTA'}\n",
      "\n",
      "Sakra\n",
      "vs\n",
      "{'Sakra'}\n",
      "\n",
      "taTA | eva\n",
      "vs\n",
      "{'', 'taTA', 'eva', 'taTava'}\n",
      "\n",
      "tad\n",
      "vs\n",
      "{'tad'}\n",
      "\n"
     ]
    }
   ],
   "source": [
    "dcsFile = '14.p'\n",
    "dcsObj = pickleFixLoad(dcsPath + dcsFile)\n",
    "sntcObj = pickleFixLoad(sktPath_1 + dcsFile)\n",
    "e = CanIUseIt(sntcObj, dcsObj)"
   ]
  },
  {
   "cell_type": "code",
   "execution_count": 88,
   "metadata": {
    "collapsed": false
   },
   "outputs": [
    {
     "name": "stdout",
     "output_type": "stream",
     "text": [
      "uttama\n",
      "vs\n",
      "{'uttama'}\n",
      "\n",
      "sarva | sattva\n",
      "vs\n",
      "{'tu', 'sattva', 'sad', 'sat', 'yuzmad', 'sarva', 'Ana', '-tva', 'as'}\n",
      "\n",
      "yaTA\n",
      "vs\n",
      "{'yaTA'}\n",
      "\n",
      "Sakra\n",
      "vs\n",
      "{'Sakra'}\n",
      "\n",
      "taTA | eva\n",
      "vs\n",
      "{'', 'taTA', 'eva', 'taTava'}\n",
      "\n",
      "tad\n",
      "vs\n",
      "{'tad'}\n",
      "\n"
     ]
    }
   ],
   "source": [
    "\n",
    "dcsFile = '14.p'\n",
    "dcsObj = pickleFixLoad(dcsPath + dcsFile)\n",
    "sntcObj = pickleFixLoad(sktPath_1 + dcsFile)\n",
    "e = CanIUseIt(sntcObj, dcsObj)"
   ]
  },
  {
   "cell_type": "code",
   "execution_count": 99,
   "metadata": {
    "collapsed": false
   },
   "outputs": [],
   "source": [
    "\n"
   ]
  },
  {
   "cell_type": "code",
   "execution_count": 107,
   "metadata": {
    "collapsed": false
   },
   "outputs": [],
   "source": [
    "pickle.dump(good, open('goodSet_1.p', 'wb'))"
   ]
  },
  {
   "cell_type": "code",
   "execution_count": 127,
   "metadata": {
    "collapsed": false
   },
   "outputs": [
    {
     "data": {
      "text/plain": [
       "'231017'"
      ]
     },
     "execution_count": 127,
     "metadata": {},
     "output_type": "execute_result"
    }
   ],
   "source": []
  },
  {
   "cell_type": "code",
   "execution_count": 18,
   "metadata": {
    "collapsed": false
   },
   "outputs": [],
   "source": [
    "mainset = set()\n",
    "for file in os.listdir('good'):\n",
    "    if '.p' in file:\n",
    "        mainset = mainset.union(pickle.load(open('good/' + file, 'rb')))"
   ]
  },
  {
   "cell_type": "code",
   "execution_count": 19,
   "metadata": {
    "collapsed": false
   },
   "outputs": [
    {
     "data": {
      "text/plain": [
       "27825"
      ]
     },
     "execution_count": 19,
     "metadata": {},
     "output_type": "execute_result"
    }
   ],
   "source": [
    "len(mainset)"
   ]
  },
  {
   "cell_type": "code",
   "execution_count": 11,
   "metadata": {
    "collapsed": false
   },
   "outputs": [],
   "source": [
    "# pickle.dump(goodDict, open('mergedGood.p', 'wb'))\n",
    "\n",
    "\n",
    "\n",
    "# goodDict = {}\n",
    "# for f in goodFiles:\n",
    "#     if(f in sktList_1):\n",
    "#         goodDict[f] = 'PF'\n",
    "#     elif f in sktList_2:\n",
    "#         goodDict[f] = 'C1020'"
   ]
  },
  {
   "cell_type": "code",
   "execution_count": 4,
   "metadata": {
    "collapsed": false
   },
   "outputs": [],
   "source": [
    "goodDict = pickle.load(open('mergedGood.p', 'rb'))"
   ]
  },
  {
   "cell_type": "code",
   "execution_count": 6,
   "metadata": {
    "collapsed": false
   },
   "outputs": [
    {
     "name": "stdout",
     "output_type": "stream",
     "text": [
      "4\n"
     ]
    }
   ],
   "source": []
  },
  {
   "cell_type": "code",
   "execution_count": null,
   "metadata": {
    "collapsed": true
   },
   "outputs": [],
   "source": []
  }
 ],
 "metadata": {
  "kernelspec": {
   "display_name": "Python 3",
   "language": "python",
   "name": "python3"
  },
  "language_info": {
   "codemirror_mode": {
    "name": "ipython",
    "version": 3
   },
   "file_extension": ".py",
   "mimetype": "text/x-python",
   "name": "python",
   "nbconvert_exporter": "python",
   "pygments_lexer": "ipython3",
   "version": "3.5.1+"
  }
 },
 "nbformat": 4,
 "nbformat_minor": 0
}
