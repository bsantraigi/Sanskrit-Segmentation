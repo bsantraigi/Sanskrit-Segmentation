{
 "cells": [
  {
   "cell_type": "code",
   "execution_count": 1,
   "metadata": {
    "collapsed": true
   },
   "outputs": [],
   "source": [
    "%load_ext autoreload\n",
    "%autoreload 2"
   ]
  },
  {
   "cell_type": "code",
   "execution_count": 2,
   "metadata": {
    "collapsed": true
   },
   "outputs": [],
   "source": [
    "    from DCS import *\n",
    "    from sentences import *\n",
    "    import os\n",
    "    from utilities import *\n",
    "    import re\n",
    "    from romtoslp import rom_slp\n",
    "    import pickle"
   ]
  },
  {
   "cell_type": "code",
   "execution_count": 5,
   "metadata": {
    "collapsed": false
   },
   "outputs": [],
   "source": [
    "dcsPath = '../Text Segmentation/DCS_pick/'\n",
    "dcsList = os.listdir(dcsPath)"
   ]
  },
  {
   "cell_type": "code",
   "execution_count": 6,
   "metadata": {
    "collapsed": true
   },
   "outputs": [],
   "source": [
    "sktPath_1 = '../TextSegmentation/Pickle_Files//'\n",
    "sktList_1 = os.listdir(sktPath_1)\n",
    "\n",
    "sktPath_2 = '../TextSegmentation/corrected_10to20/'\n",
    "sktList_2 = os.listdir(sktPath_2)"
   ]
  },
  {
   "cell_type": "code",
   "execution_count": 5,
   "metadata": {
    "collapsed": false
   },
   "outputs": [],
   "source": [
    "preList = pickle.load(open('pvb.p', 'rb'))\n",
    "def removePrefix(preList, lemma):\n",
    "    for pre in preList:\n",
    "        m = re.match(pre, lemma)\n",
    "        if(m != None):\n",
    "            return m.span()[1]\n",
    "def pickleFixLoad(filename):\n",
    "    return pickle.load(open(filename, 'rb'), encoding=u'utf8')"
   ]
  },
  {
   "cell_type": "code",
   "execution_count": 17,
   "metadata": {
    "collapsed": false,
    "scrolled": false
   },
   "outputs": [],
   "source": [
    "def CanIUseIt(sntcObj, dcsObj):\n",
    "#     print('-'*15)\n",
    "#     CHECK 1 -> NUMBER OF CHUNKS/LEMMAS\n",
    "    s = re.findall(\"[^ ]+\", dcsObj.sentence)\n",
    "    if((len(s) != len(dcsObj.lemmas)) or (len(s) != len(sntcObj.chunk))):\n",
    "        return 1\n",
    "    \n",
    "#     CHECK 2 -> ALL LEMMAS PRESENT IN CORRESPONDING CHUNK\n",
    "    sntc_lemma_packs = []\n",
    "    for chunk in sntcObj.chunk:\n",
    "        allwords = set()\n",
    "        for pos, word_senses in chunk.chunk_words.items():\n",
    "            for sense in word_senses:\n",
    "                for lemma in sense.lemmas:\n",
    "                    term = rom_slp(lemma.split('_')[0])\n",
    "                    allwords.add(term)\n",
    "#                     allwords.update([term, removePrefix(preList, term)])\n",
    "                    \n",
    "        sntc_lemma_packs.append(allwords)\n",
    "        \n",
    "    i = -1\n",
    "    for chunk in dcsObj.lemmas:\n",
    "        chunk = list(map(rom_slp, chunk))\n",
    "        i += 1\n",
    "        print(\" | \".join(chunk))\n",
    "        print(\"vs\")\n",
    "        print(sntc_lemma_packs[i])\n",
    "        print()\n",
    "        for lemma in chunk:\n",
    "            if(lemma not in sntc_lemma_packs[i]):\n",
    "                if lemma[removePrefix(preList, lemma)::] not in sntc_lemma_packs[i]:\n",
    "#                     print(dcsObj.sentence)\n",
    "                    return 2\n",
    "#                     print('HUH')\n",
    "    return 0\n",
    "    \n",
    "#     CHECK 3 -> NO CNG ERRORS ('VERBFORMS')\n",
    "\n",
    "\n",
    "# common = []\n",
    "# bads = []\n",
    "# count = 0\n",
    "# for dcsFile in dcsList[0:10000]:\n",
    "#     if(validatePickleName(dcsFile) != \"\"):\n",
    "#         if dcsFile in sktList_1:\n",
    "#             count += 1\n",
    "#             if(count % 100 == 0):\n",
    "#                 print('Checkpoint: ', len(common), len(bads))                \n",
    "#                 pass\n",
    "#             common.append(dcsFile)\n",
    "#             try:\n",
    "#                 dcsObj = pickleFixLoad(dcsPath + dcsFile)\n",
    "#                 sntcObj = pickleFixLoad(sktPath_1 + dcsFile)\n",
    "#             except EOFError:\n",
    "#                 continue\n",
    "#             e = CanIUseIt(sntcObj, dcsObj)\n",
    "#             # IF zero returned then all test passed\n",
    "#             if e != 0:\n",
    "#                 bads.append(dcsFile)\n",
    "#             else:\n",
    "# #                 print(dcsFile)\n",
    "#                 pass\n",
    "#             if e == 2:\n",
    "# #                 print(dcsFile)\n",
    "# #                 print(\"FAIL 2\")\n",
    "#                 pass\n",
    "                \n",
    "\n",
    "# good = set(common) - set(bads)\n",
    "# print(len(good))"
   ]
  },
  {
   "cell_type": "code",
   "execution_count": 18,
   "metadata": {
    "collapsed": false
   },
   "outputs": [
    {
     "ename": "NameError",
     "evalue": "name 'good' is not defined",
     "output_type": "error",
     "traceback": [
      "\u001b[1;31m---------------------------------------------------------------------------\u001b[0m",
      "\u001b[1;31mNameError\u001b[0m                                 Traceback (most recent call last)",
      "\u001b[1;32m<ipython-input-18-d13bcae5dbcd>\u001b[0m in \u001b[0;36m<module>\u001b[1;34m()\u001b[0m\n\u001b[1;32m----> 1\u001b[1;33m \u001b[0mlen\u001b[0m\u001b[1;33m(\u001b[0m\u001b[0mgood\u001b[0m\u001b[1;33m)\u001b[0m\u001b[1;33m\u001b[0m\u001b[0m\n\u001b[0m",
      "\u001b[1;31mNameError\u001b[0m: name 'good' is not defined"
     ]
    }
   ],
   "source": [
    "len(good)"
   ]
  },
  {
   "cell_type": "code",
   "execution_count": 19,
   "metadata": {
    "collapsed": false
   },
   "outputs": [
    {
     "ename": "NameError",
     "evalue": "name 'bads' is not defined",
     "output_type": "error",
     "traceback": [
      "\u001b[1;31m---------------------------------------------------------------------------\u001b[0m",
      "\u001b[1;31mNameError\u001b[0m                                 Traceback (most recent call last)",
      "\u001b[1;32m<ipython-input-19-2f986562f2e3>\u001b[0m in \u001b[0;36m<module>\u001b[1;34m()\u001b[0m\n\u001b[1;32m----> 1\u001b[1;33m \u001b[0mlen\u001b[0m\u001b[1;33m(\u001b[0m\u001b[0mbads\u001b[0m\u001b[1;33m)\u001b[0m\u001b[1;33m\u001b[0m\u001b[0m\n\u001b[0m",
      "\u001b[1;31mNameError\u001b[0m: name 'bads' is not defined"
     ]
    }
   ],
   "source": [
    "len(bads)"
   ]
  },
  {
   "cell_type": "code",
   "execution_count": 20,
   "metadata": {
    "collapsed": false
   },
   "outputs": [
    {
     "name": "stdout",
     "output_type": "stream",
     "text": [
      "utpad\n",
      "vs\n",
      "{'ut', 'tad', 'yuzmad', 'pad'}\n",
      "\n",
      "mahA | rAja\n",
      "vs\n",
      "{'f', 'a', 'mahas', 'mahat', 'rAj', 'ara', 'rAjan', 'Ara', 'mah', 'aja', 'rA', 'Aja', 'aj', 'A'}\n",
      "\n"
     ]
    },
    {
     "data": {
      "text/plain": [
       "2"
      ]
     },
     "execution_count": 20,
     "metadata": {},
     "output_type": "execute_result"
    }
   ],
   "source": [
    "dcsFile = '212470.p'\n",
    "dcsObj = pickleFixLoad(dcsPath + dcsFile)\n",
    "sntcObj = pickleFixLoad(sktPath_2 + dcsFile)\n",
    "e = CanIUseIt(sntcObj, dcsObj)\n",
    "e"
   ]
  },
  {
   "cell_type": "code",
   "execution_count": 3,
   "metadata": {
    "collapsed": false
   },
   "outputs": [
    {
     "data": {
      "text/plain": [
       "11739"
      ]
     },
     "execution_count": 3,
     "metadata": {},
     "output_type": "execute_result"
    }
   ],
   "source": [
    "# pickle.dump(good, open('goodSet_1.p', 'wb'))\n",
    "\n",
    "\n",
    "\n",
    "mainset = set()\n",
    "for file in os.listdir('good'):\n",
    "    if '.p' in file:\n",
    "        mainset = mainset.union(pickle.load(open('good/' + file, 'rb')))\n",
    "\n",
    "len(mainset)"
   ]
  },
  {
   "cell_type": "code",
   "execution_count": 7,
   "metadata": {
    "collapsed": false
   },
   "outputs": [],
   "source": [
    "goodDict = {}\n",
    "for f in mainset:\n",
    "    if(f in sktList_1):\n",
    "        goodDict[f] = 'PF'\n",
    "    elif f in sktList_2:\n",
    "        goodDict[f] = 'C1020'\n",
    "\n",
    "pickle.dump(goodDict, open('mergedGood_v3.p', 'wb'))\n",
    "# goodDict = pickle.load(open('mergedGood_v3.p', 'rb'))"
   ]
  },
  {
   "cell_type": "code",
   "execution_count": null,
   "metadata": {
    "collapsed": true
   },
   "outputs": [],
   "source": []
  }
 ],
 "metadata": {
  "kernelspec": {
   "display_name": "Python 3",
   "language": "python",
   "name": "python3"
  },
  "language_info": {
   "codemirror_mode": {
    "name": "ipython",
    "version": 3
   },
   "file_extension": ".py",
   "mimetype": "text/x-python",
   "name": "python",
   "nbconvert_exporter": "python",
   "pygments_lexer": "ipython3",
   "version": "3.5.1+"
  }
 },
 "nbformat": 4,
 "nbformat_minor": 0
}
