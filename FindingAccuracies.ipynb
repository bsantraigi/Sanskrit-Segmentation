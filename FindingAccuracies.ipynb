{
 "cells": [
  {
   "cell_type": "code",
   "execution_count": 3,
   "metadata": {
    "collapsed": true
   },
   "outputs": [],
   "source": [
    "# Stats for using only word2vec Transition matrix\n",
    "import numpy as np\n",
    "from utilities import validatePickleName\n",
    "import pickle"
   ]
  },
  {
   "cell_type": "code",
   "execution_count": 2,
   "metadata": {
    "collapsed": false
   },
   "outputs": [
    {
     "name": "stdout",
     "output_type": "stream",
     "text": [
      "20\n",
      "3779\n",
      "Results: \n",
      "Mean:  37.3574007612\n",
      "Percentiles:  [   0.           20.83333333   34.61538462   50.          137.5       ]\n"
     ]
    }
   ],
   "source": [
    "path = '.temp/May_29_5000_transmat/'\n",
    "fNames = [validatePickleName(f) for f in os.listdir(path)]\n",
    "\n",
    "accuracies = []\n",
    "for fName in fNames:\n",
    "    accuracies.append(pickle.load(open(path + fName, 'rb')))\n",
    "print(len(accuracies))\n",
    "accuracies = [ac for acList in accuracies for ac in acList]\n",
    "print(len(accuracies))\n",
    "accuracies = np.array(accuracies)\n",
    "print(\"Results: \")\n",
    "print(\"Mean: \", accuracies.mean())\n",
    "print(\"Percentiles: \", np.percentile(accuracies, [0, 25, 50, 75, 100]))"
   ]
  },
  {
   "cell_type": "code",
   "execution_count": 6,
   "metadata": {
    "collapsed": false
   },
   "outputs": [],
   "source": [
    "import os\n",
    "def printAccuracies(path):    \n",
    "    fNames = [validatePickleName(f) for f in os.listdir(path)]\n",
    "    fNames = list(filter(len, fNames))\n",
    "    accuracies = []\n",
    "    for fName in fNames:\n",
    "        accuracies.append(pickle.load(open(path + fName, 'rb')))\n",
    "    print(len(accuracies))\n",
    "    accuracies = [ac for acList in accuracies for ac in acList]\n",
    "    print(len(accuracies))\n",
    "    accuracies = np.array(accuracies)\n",
    "    print(\"Results: \")\n",
    "    print(\"Mean: \", accuracies.mean())\n",
    "    print(\"Percentiles: \", np.percentile(accuracies, [0, 25, 50, 75, 100]))"
   ]
  },
  {
   "cell_type": "code",
   "execution_count": 19,
   "metadata": {
    "collapsed": false
   },
   "outputs": [
    {
     "name": "stdout",
     "output_type": "stream",
     "text": [
      "10\n",
      "11515\n",
      "Results: \n",
      "Mean:  38.4969999545\n",
      "Percentiles:  [   0.    25.    37.5   50.   137.5]\n"
     ]
    }
   ],
   "source": [
    "printAccuracies('.temp/w2v_1_june/')"
   ]
  },
  {
   "cell_type": "code",
   "execution_count": 20,
   "metadata": {
    "collapsed": false
   },
   "outputs": [
    {
     "name": "stdout",
     "output_type": "stream",
     "text": [
      "10\n",
      "11515\n",
      "Results: \n",
      "Mean:  39.2768907357\n",
      "Percentiles:  [   0.    25.    37.5   50.   150. ]\n"
     ]
    }
   ],
   "source": [
    "printAccuracies('.temp/w2w_1_june/')"
   ]
  },
  {
   "cell_type": "code",
   "execution_count": 21,
   "metadata": {
    "collapsed": false
   },
   "outputs": [
    {
     "name": "stdout",
     "output_type": "stream",
     "text": [
      "10\n",
      "7728\n",
      "Results: \n",
      "Mean:  38.5599655827\n",
      "Percentiles:  [   0.    25.    37.5   50.   137.5]\n"
     ]
    }
   ],
   "source": [
    "printAccuracies('.temp/t2t_1_june/')"
   ]
  },
  {
   "cell_type": "code",
   "execution_count": 32,
   "metadata": {
    "collapsed": true
   },
   "outputs": [],
   "source": [
    "accuracies_word = accuracies"
   ]
  },
  {
   "cell_type": "code",
   "execution_count": 33,
   "metadata": {
    "collapsed": false
   },
   "outputs": [
    {
     "name": "stdout",
     "output_type": "stream",
     "text": [
      "Results: \n",
      "Mean:  38.2908887244\n",
      "Percentiles:  [   0.           24.23112768   37.5          50.          150.        ]\n"
     ]
    }
   ],
   "source": [
    "accuracies = np.array(accuracies)\n",
    "print(\"Results: \")\n",
    "print(\"Mean: \", accuracies_word.mean())\n",
    "print(\"Percentiles: \", np.percentile(accuracies_word, [0, 25, 50, 75, 100]))"
   ]
  },
  {
   "cell_type": "code",
   "execution_count": 20,
   "metadata": {
    "collapsed": false
   },
   "outputs": [
    {
     "name": "stdout",
     "output_type": "stream",
     "text": [
      "26491.6101572\n",
      "27474.5331227\n"
     ]
    }
   ],
   "source": [
    "print(np.sum(accuracies_vec))\n",
    "print(np.sum(accuracies_word))"
   ]
  },
  {
   "cell_type": "code",
   "execution_count": 34,
   "metadata": {
    "collapsed": false
   },
   "outputs": [
    {
     "name": "stdout",
     "output_type": "stream",
     "text": [
      "660 out of 3779\n"
     ]
    }
   ],
   "source": [
    "count = 0\n",
    "for i in range(accuracies_vec.shape[0]):\n",
    "    if(accuracies_vec[i] != accuracies_word[i]):\n",
    "        count += 1\n",
    "print(count, \"out of\", accuracies_vec.shape[0])"
   ]
  },
  {
   "cell_type": "code",
   "execution_count": null,
   "metadata": {
    "collapsed": true
   },
   "outputs": [],
   "source": []
  }
 ],
 "metadata": {
  "kernelspec": {
   "display_name": "Python 3",
   "language": "python",
   "name": "python3"
  },
  "language_info": {
   "codemirror_mode": {
    "name": "ipython",
    "version": 3
   },
   "file_extension": ".py",
   "mimetype": "text/x-python",
   "name": "python",
   "nbconvert_exporter": "python",
   "pygments_lexer": "ipython3",
   "version": "3.5.1+"
  }
 },
 "nbformat": 4,
 "nbformat_minor": 0
}
