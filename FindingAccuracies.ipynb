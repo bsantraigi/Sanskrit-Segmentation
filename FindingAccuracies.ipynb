{
 "cells": [
  {
   "cell_type": "code",
   "execution_count": 4,
   "metadata": {
    "collapsed": true
   },
   "outputs": [],
   "source": [
    "# Stats for using only word2vec Transition matrix\n",
    "import numpy as np\n",
    "from utilities import validatePickleName\n",
    "import pickle\n",
    "import pandas as pd\n",
    "from utilities import *\n",
    "import os"
   ]
  },
  {
   "cell_type": "code",
   "execution_count": 25,
   "metadata": {
    "collapsed": true
   },
   "outputs": [],
   "source": [
    "def printAccuracies(paths):\n",
    "    accuracies = {}\n",
    "    for path in paths:\n",
    "        fNames = [validatePickleName(f) for f in os.listdir(path)]\n",
    "        fNames = list(filter(len, fNames))\n",
    "\n",
    "        for fName in fNames:\n",
    "    #         print(fName)\n",
    "            act = pickle.load(open(path + fName, 'rb'))\n",
    "            for f, pair in act.items():\n",
    "                accuracies[f] = pair[0]*100/pair[1]\n",
    "            \n",
    "    print(len(accuracies), 'files processed')\n",
    "    accuracies = np.array(list(accuracies.values()))\n",
    "    print(\"Results: \")\n",
    "    print(\"Mean: \", accuracies.mean())\n",
    "    print(\"Percentiles: \", np.percentile(accuracies, [0, 25, 50, 75, 100]))\n",
    "    print('Macro Accuracy %:', 100*np.sum(accuracies >= 95)/accuracies.shape[0])"
   ]
  },
  {
   "cell_type": "code",
   "execution_count": 26,
   "metadata": {
    "collapsed": false
   },
   "outputs": [],
   "source": [
    "def CheckFor(path):\n",
    "    try:\n",
    "        fNames = [validatePickleName(f) for f in os.listdir(path)]\n",
    "        print(len(fNames), 'files collected')\n",
    "    except FileNotFoundError:\n",
    "        print('NO files collected')\n",
    "    with open('nohup.out', 'r') as f:\n",
    "        for line in f:\n",
    "            if path in line and 'Process Finished' in line:\n",
    "                print(line)"
   ]
  },
  {
   "cell_type": "code",
   "execution_count": 91,
   "metadata": {
    "collapsed": false
   },
   "outputs": [
    {
     "name": "stdout",
     "output_type": "stream",
     "text": [
      "98875 files processed\n",
      "Results: \n",
      "Mean:  71.9483755081\n",
      "Percentiles:  [   0.           57.14285714   71.42857143   85.71428571  100.        ]\n",
      "Macro Accuracy %: 14.6063211125\n"
     ]
    }
   ],
   "source": [
    "printAccuracies(['.temp/25Path_13K_qless/', '.temp/25Path_1L/'])"
   ]
  },
  {
   "cell_type": "code",
   "execution_count": 130,
   "metadata": {
    "collapsed": false
   },
   "outputs": [
    {
     "name": "stdout",
     "output_type": "stream",
     "text": [
      "67848 files processed\n",
      "Results: \n",
      "Mean:  77.7751989639\n",
      "Percentiles:  [   0.           66.66666667   83.33333333   88.88888889  100.        ]\n",
      "Macro Accuracy %: 24.0228157057\n"
     ]
    }
   ],
   "source": [
    "# CheckFor('.temp/25Path_Smoothed_QNEW_ALL_101/')\n",
    "printAccuracies(['.temp/25Path_Smoothed_QNEW_ALL_101/', '.temp/25Path_Smoothed_QNEW_ALL_102/',\n",
    "                '.temp/25Path_Smoothed_QNEW_ALL_104/', '.temp/25Path_Smoothed_QNEW_ALL_66/',\n",
    "                '.temp/25Path_Smoothed_QNEW_ALL_67/'])"
   ]
  },
  {
   "cell_type": "code",
   "execution_count": 132,
   "metadata": {
    "collapsed": false
   },
   "outputs": [
    {
     "name": "stdout",
     "output_type": "stream",
     "text": [
      "73562 files processed\n",
      "Results: \n",
      "Mean:  84.1160337503\n",
      "Percentiles:  [   0.           75.           85.71428571  100.          100.        ]\n",
      "Macro Accuracy %: 36.0512220984\n"
     ]
    }
   ],
   "source": [
    "# CheckFor('.temp/25Path_Smoothed_QNEW_ALL_101/')\n",
    "printAccuracies(['.temp/3RWR_Unsup_QNEW_66/', '.temp/3RWR_Unsup_QNEW_68/'])"
   ]
  },
  {
   "cell_type": "code",
   "execution_count": 95,
   "metadata": {
    "collapsed": false
   },
   "outputs": [
    {
     "name": "stdout",
     "output_type": "stream",
     "text": [
      "98867 files processed\n",
      "Results: \n",
      "Mean:  84.9208813778\n",
      "Percentiles:  [   0.           75.           85.71428571  100.          100.        ]\n",
      "Macro Accuracy %: 38.6418117269\n"
     ]
    }
   ],
   "source": [
    "printAccuracies(['.temp/3RWR_20Kgoodf_qless1L/'])"
   ]
  },
  {
   "cell_type": "code",
   "execution_count": 115,
   "metadata": {
    "collapsed": false
   },
   "outputs": [
    {
     "name": "stdout",
     "output_type": "stream",
     "text": [
      "2368 files processed\n",
      "Results: \n",
      "Mean:  84.5216811634\n",
      "Percentiles:  [   0.           75.           85.71428571  100.          100.        ]\n",
      "Macro Accuracy %: 37.6689189189\n"
     ]
    }
   ],
   "source": [
    "printAccuracies(['.temp/3RWR_NewW_Test/'])"
   ]
  },
  {
   "cell_type": "code",
   "execution_count": 131,
   "metadata": {
    "collapsed": false
   },
   "outputs": [
    {
     "name": "stdout",
     "output_type": "stream",
     "text": [
      "98945 files processed\n",
      "Results: \n",
      "Mean:  76.7627712037\n",
      "Percentiles:  [   0.           66.66666667   80.           87.5         100.        ]\n",
      "Macro Accuracy %: 19.5674364546\n"
     ]
    }
   ],
   "source": [
    "printAccuracies(['.temp/3RWR_Unsup_full/'])"
   ]
  },
  {
   "cell_type": "code",
   "execution_count": 101,
   "metadata": {
    "collapsed": false
   },
   "outputs": [
    {
     "name": "stdout",
     "output_type": "stream",
     "text": [
      "0f1_out.p  10f1_out.p  3f1_out.p\r\n"
     ]
    }
   ],
   "source": [
    "ls .temp/3RWR_Unsup_QNEW_68/"
   ]
  },
  {
   "cell_type": "code",
   "execution_count": null,
   "metadata": {
    "collapsed": true
   },
   "outputs": [],
   "source": []
  }
 ],
 "metadata": {
  "kernelspec": {
   "display_name": "Python 3",
   "language": "python",
   "name": "python3"
  },
  "language_info": {
   "codemirror_mode": {
    "name": "ipython",
    "version": 3
   },
   "file_extension": ".py",
   "mimetype": "text/x-python",
   "name": "python",
   "nbconvert_exporter": "python",
   "pygments_lexer": "ipython3",
   "version": "3.5.1"
  }
 },
 "nbformat": 4,
 "nbformat_minor": 0
}
