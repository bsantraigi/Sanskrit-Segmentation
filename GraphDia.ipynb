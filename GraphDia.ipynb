{
 "cells": [
  {
   "cell_type": "code",
   "execution_count": 1,
   "metadata": {
    "collapsed": true
   },
   "outputs": [],
   "source": [
    "import numpy as np"
   ]
  },
  {
   "cell_type": "code",
   "execution_count": 39,
   "metadata": {
    "collapsed": false
   },
   "outputs": [
    {
     "name": "stdout",
     "output_type": "stream",
     "text": [
      "[[ 0.   0.3  0.7  0.   0. ]\n",
      " [ 0.5  0.   0.2  0.3  0. ]\n",
      " [ 0.2  0.3  0.   0.2  0.2]\n",
      " [ 0.   0.5  0.1  0.   0.4]\n",
      " [ 0.   0.   0.7  0.3  0. ]]\n"
     ]
    }
   ],
   "source": [
    "transMat = np.mat([\n",
    "        [0,0.3,0.7,0,0],\n",
    "        [0.5,0,0.2,0.3,0],\n",
    "        [0.2,0.3,0,0.2,0.2],\n",
    "        [0,0.5,0.1,0,0.4],\n",
    "        [0,0,0.7,0.3,0]\n",
    "    ])\n",
    "print(transMat)\n",
    "nodes = [0,1,3,4]"
   ]
  },
  {
   "cell_type": "code",
   "execution_count": 52,
   "metadata": {
    "collapsed": false
   },
   "outputs": [],
   "source": [
    "def Floyd_Warshall(nodes, transMat):\n",
    "    D = np.copy(1/(transMat + 0.00001))\n",
    "#     D[D > 0] = 1\n",
    "#     D[D == 0] = np.Inf\n",
    "    for i in nodes:\n",
    "        D[i, i] = 0\n",
    "    print(D)\n",
    "    for k in nodes:\n",
    "        D_new = np.zeros(D.shape)\n",
    "        for i in nodes:\n",
    "            for j in nodes:\n",
    "                D_new[i, j] = np.min([D[i,j], D[i, k] + D[k, j]])\n",
    "        D = D_new\n",
    "\n",
    "    return(D)"
   ]
  },
  {
   "cell_type": "code",
   "execution_count": 53,
   "metadata": {
    "collapsed": false
   },
   "outputs": [
    {
     "name": "stdout",
     "output_type": "stream",
     "text": [
      "[[  0.00000000e+00   3.33322223e+00   1.42855102e+00   1.00000000e+05\n",
      "    1.00000000e+05]\n",
      " [  1.99996000e+00   0.00000000e+00   4.99975001e+00   3.33322223e+00\n",
      "    1.00000000e+05]\n",
      " [  4.99975001e+00   3.33322223e+00   1.00000000e+05   4.99975001e+00\n",
      "    4.99975001e+00]\n",
      " [  1.00000000e+05   1.99996000e+00   9.99900010e+00   0.00000000e+00\n",
      "    2.49993750e+00]\n",
      " [  1.00000000e+05   1.00000000e+05   1.42855102e+00   3.33322223e+00\n",
      "    0.00000000e+00]]\n",
      "[[ 0.          3.33322223  0.          6.66644445  9.16638195]\n",
      " [ 1.99996     0.          0.          3.33322223  5.83315973]\n",
      " [ 0.          0.          0.          0.          0.        ]\n",
      " [ 3.99992     1.99996     0.          0.          2.4999375 ]\n",
      " [ 7.33314223  5.33318223  0.          3.33322223  0.        ]]\n"
     ]
    },
    {
     "data": {
      "text/plain": [
       "9.1663819534140654"
      ]
     },
     "execution_count": 53,
     "metadata": {},
     "output_type": "execute_result"
    }
   ],
   "source": [
    "sp = Floyd_Warshall(nodes, transMat)\n",
    "print(sp)\n",
    "np.max(sp)\n",
    "# np.max(shortPath)"
   ]
  },
  {
   "cell_type": "code",
   "execution_count": 60,
   "metadata": {
    "collapsed": false
   },
   "outputs": [
    {
     "name": "stdout",
     "output_type": "stream",
     "text": [
      "[[ 0.   0.3  0.7  0.   0. ]\n",
      " [ 0.5  0.   0.2  0.3  0. ]\n",
      " [ 0.2  0.3  0.   0.2  0.2]\n",
      " [ 0.   0.5  0.1  0.   0.4]\n",
      " [ 0.   0.   0.7  0.3  0. ]]\n",
      "[[ 0.5  0.   0.2]\n",
      " [ 0.2  0.3  0. ]\n",
      " [ 0.   0.5  0.1]]\n"
     ]
    }
   ],
   "source": [
    "print(transMat)\n",
    "t = transMat[[1,2,3], :]\n",
    "print(t[:, [0, 1, 2]])"
   ]
  },
  {
   "cell_type": "code",
   "execution_count": null,
   "metadata": {
    "collapsed": true
   },
   "outputs": [],
   "source": []
  }
 ],
 "metadata": {
  "kernelspec": {
   "display_name": "Python 3",
   "language": "python",
   "name": "python3"
  },
  "language_info": {
   "codemirror_mode": {
    "name": "ipython",
    "version": 3
   },
   "file_extension": ".py",
   "mimetype": "text/x-python",
   "name": "python",
   "nbconvert_exporter": "python",
   "pygments_lexer": "ipython3",
   "version": "3.5.1+"
  }
 },
 "nbformat": 4,
 "nbformat_minor": 0
}
