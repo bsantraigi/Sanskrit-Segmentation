{
 "cells": [
  {
   "cell_type": "code",
   "execution_count": 1,
   "metadata": {
    "collapsed": true
   },
   "outputs": [],
   "source": [
    "%load_ext autoreload\n",
    "%autoreload 2"
   ]
  },
  {
   "cell_type": "code",
   "execution_count": 2,
   "metadata": {
    "collapsed": true
   },
   "outputs": [],
   "source": [
    "import pickle\n",
    "import numpy as np\n",
    "from utilities import pickleFixLoad\n",
    "from DCS import *\n",
    "from sentences import *\n",
    "from romtoslp import rom_slp\n",
    "from collections import defaultdict\n",
    "np.set_printoptions(precision=6, suppress=True)"
   ]
  },
  {
   "cell_type": "code",
   "execution_count": null,
   "metadata": {
    "collapsed": false
   },
   "outputs": [],
   "source": []
  },
  {
   "cell_type": "code",
   "execution_count": 119,
   "metadata": {
    "collapsed": false
   },
   "outputs": [
    {
     "name": "stdout",
     "output_type": "stream",
     "text": [
      "4306327\n",
      "66817\n"
     ]
    }
   ],
   "source": [
    "context_count = defaultdict(int)\n",
    "for word in fullCo_ocMat.keys():\n",
    "    context_count[word] = len(fullCo_ocMat[word])\n",
    "\n",
    "# Each bigram is repeated as a-b is same as b-a\n",
    "total_context = int(sum(context_count.values())/2)\n",
    "print(total_context)\n",
    "print(len(context_count.keys()))"
   ]
  },
  {
   "cell_type": "code",
   "execution_count": 93,
   "metadata": {
    "collapsed": false
   },
   "outputs": [
    {
     "name": "stdout",
     "output_type": "stream",
     "text": [
      "25029550\n"
     ]
    }
   ],
   "source": [
    "total_sentences = 441735\n",
    "total_co_oc = sum([sum(fullCo_ocMat[word].values()) for word in fullCo_ocMat.keys()])\n",
    "print(total_co_oc)"
   ]
  },
  {
   "cell_type": "code",
   "execution_count": 52,
   "metadata": {
    "collapsed": false
   },
   "outputs": [],
   "source": [
    "overlapping_cooc_count = {}\n",
    "for word in fullCo_ocMat.keys():\n",
    "    overlapping_cooc_count[word] = sum(fullCo_ocMat[word].values())"
   ]
  },
  {
   "cell_type": "code",
   "execution_count": 1,
   "metadata": {
    "collapsed": false
   },
   "outputs": [],
   "source": [
    "def kn_word2word(word_a, word_b):\n",
    "    delta = 0.5\n",
    "    if word_a in fullCo_ocMat[word_b]:\n",
    "        c_ab = (fullCo_ocMat[word_a][word_b] - delta)/total_co_oc\n",
    "        normalization = delta*total_context/total_co_oc\n",
    "        p_a = context_count[word_a]/total_context\n",
    "        p_b = context_count[word_b]/total_context\n",
    "        return c_ab + normalization*p_a*p_b\n",
    "    else:\n",
    "        normalization = delta*total_context/total_co_oc\n",
    "        p_a = context_count[word_a]/total_context\n",
    "        p_b = context_count[word_b]/total_context\n",
    "        return normalization*p_a*p_b\n",
    "    \n",
    "# def kn(word_a, word_b):\n",
    "#     delta = 0.5\n",
    "#     if word_a in fullCo_ocMat[word_b]:\n",
    "#         c_ab = (fullCo_ocMat[word_a][word_b] - delta)/(unigram_counts[word_b] + unigram_counts[word_b])\n",
    "#         lam_ab = delta*(context_count[word_a] + context_count[word_b])/(unigram_counts[word_b] + unigram_counts[word_b])\n",
    "#         kn_ab = (context_count[word_a] + context_count[word_b])/total_context\n",
    "#         return c_ab + lam_ab*kn_ab\n",
    "#     else:\n",
    "#         lam_ab = delta*(context_count[word_a] + context_count[word_b])/(unigram_counts[word_b] + unigram_counts[word_b])\n",
    "#         kn_ab = (context_count[word_a] + context_count[word_b])/total_context\n",
    "#         return lam_ab*kn_ab\n",
    "    "
   ]
  },
  {
   "cell_type": "code",
   "execution_count": 121,
   "metadata": {
    "collapsed": false,
    "scrolled": true
   },
   "outputs": [
    {
     "name": "stdout",
     "output_type": "stream",
     "text": [
      "1.132659613085527e-08\n"
     ]
    }
   ],
   "source": [
    "print(kn('Akfz','sura'))"
   ]
  },
  {
   "cell_type": "code",
   "execution_count": 122,
   "metadata": {
    "collapsed": false
   },
   "outputs": [
    {
     "name": "stdout",
     "output_type": "stream",
     "text": [
      "0.08602485861711458\n"
     ]
    }
   ],
   "source": [
    "print(0.5*total_context/total_co_oc)"
   ]
  },
  {
   "cell_type": "code",
   "execution_count": 123,
   "metadata": {
    "collapsed": false,
    "scrolled": true
   },
   "outputs": [
    {
     "ename": "KeyboardInterrupt",
     "evalue": "",
     "output_type": "error",
     "traceback": [
      "\u001b[1;31m---------------------------------------------------------------------------\u001b[0m",
      "\u001b[1;31mKeyboardInterrupt\u001b[0m                         Traceback (most recent call last)",
      "\u001b[1;32m<ipython-input-123-9ece637fab34>\u001b[0m in \u001b[0;36m<module>\u001b[1;34m()\u001b[0m\n\u001b[0;32m      2\u001b[0m \u001b[1;32mfor\u001b[0m \u001b[0mfirst\u001b[0m \u001b[1;32min\u001b[0m \u001b[0mlist\u001b[0m\u001b[1;33m(\u001b[0m\u001b[0mfullCo_ocMat\u001b[0m\u001b[1;33m.\u001b[0m\u001b[0mkeys\u001b[0m\u001b[1;33m(\u001b[0m\u001b[1;33m)\u001b[0m\u001b[1;33m)\u001b[0m\u001b[1;33m:\u001b[0m\u001b[1;33m\u001b[0m\u001b[0m\n\u001b[0;32m      3\u001b[0m     \u001b[1;32mfor\u001b[0m \u001b[0msecond\u001b[0m \u001b[1;32min\u001b[0m \u001b[0mlist\u001b[0m\u001b[1;33m(\u001b[0m\u001b[0mfullCo_ocMat\u001b[0m\u001b[1;33m.\u001b[0m\u001b[0mkeys\u001b[0m\u001b[1;33m(\u001b[0m\u001b[1;33m)\u001b[0m\u001b[1;33m)\u001b[0m\u001b[1;33m:\u001b[0m\u001b[1;33m\u001b[0m\u001b[0m\n\u001b[1;32m----> 4\u001b[1;33m         \u001b[0mps\u001b[0m \u001b[1;33m+=\u001b[0m \u001b[0mkn\u001b[0m\u001b[1;33m(\u001b[0m\u001b[0mfirst\u001b[0m\u001b[1;33m,\u001b[0m \u001b[0msecond\u001b[0m\u001b[1;33m)\u001b[0m\u001b[1;33m\u001b[0m\u001b[0m\n\u001b[0m\u001b[0;32m      5\u001b[0m \u001b[0mprint\u001b[0m\u001b[1;33m(\u001b[0m\u001b[0mps\u001b[0m\u001b[1;33m)\u001b[0m\u001b[1;33m\u001b[0m\u001b[0m\n",
      "\u001b[1;32m<ipython-input-120-0aa96e570e4e>\u001b[0m in \u001b[0;36mkn\u001b[1;34m(word_a, word_b)\u001b[0m\n\u001b[0;32m     11\u001b[0m         \u001b[0mp_a\u001b[0m \u001b[1;33m=\u001b[0m \u001b[0mcontext_count\u001b[0m\u001b[1;33m[\u001b[0m\u001b[0mword_a\u001b[0m\u001b[1;33m]\u001b[0m\u001b[1;33m/\u001b[0m\u001b[0mtotal_context\u001b[0m\u001b[1;33m\u001b[0m\u001b[0m\n\u001b[0;32m     12\u001b[0m         \u001b[0mp_b\u001b[0m \u001b[1;33m=\u001b[0m \u001b[0mcontext_count\u001b[0m\u001b[1;33m[\u001b[0m\u001b[0mword_b\u001b[0m\u001b[1;33m]\u001b[0m\u001b[1;33m/\u001b[0m\u001b[0mtotal_context\u001b[0m\u001b[1;33m\u001b[0m\u001b[0m\n\u001b[1;32m---> 13\u001b[1;33m         \u001b[1;32mreturn\u001b[0m \u001b[0mnormalization\u001b[0m\u001b[1;33m*\u001b[0m\u001b[0mp_a\u001b[0m\u001b[1;33m*\u001b[0m\u001b[0mp_b\u001b[0m\u001b[1;33m\u001b[0m\u001b[0m\n\u001b[0m\u001b[0;32m     14\u001b[0m \u001b[1;33m\u001b[0m\u001b[0m\n\u001b[0;32m     15\u001b[0m \u001b[1;31m# def kn(word_a, word_b):\u001b[0m\u001b[1;33m\u001b[0m\u001b[1;33m\u001b[0m\u001b[0m\n",
      "\u001b[1;31mKeyboardInterrupt\u001b[0m: "
     ]
    }
   ],
   "source": [
    "ps = 0\n",
    "for first in list(fullCo_ocMat.keys()):    \n",
    "    for second in list(fullCo_ocMat.keys()):\n",
    "        ps += kn(first, second)\n",
    "print(ps)"
   ]
  },
  {
   "cell_type": "code",
   "execution_count": 117,
   "metadata": {
    "collapsed": false
   },
   "outputs": [
    {
     "data": {
      "text/plain": [
       "{}"
      ]
     },
     "execution_count": 117,
     "metadata": {},
     "output_type": "execute_result"
    }
   ],
   "source": [
    "fullCo_ocMat['citraSiKaRqaDara']"
   ]
  },
  {
   "cell_type": "code",
   "execution_count": 89,
   "metadata": {
    "collapsed": true
   },
   "outputs": [],
   "source": [
    "dcsList = pickleFixLoad('dcsArray.p')"
   ]
  },
  {
   "cell_type": "code",
   "execution_count": 90,
   "metadata": {
    "collapsed": false
   },
   "outputs": [
    {
     "data": {
      "text/plain": [
       "441735"
      ]
     },
     "execution_count": 90,
     "metadata": {},
     "output_type": "execute_result"
    }
   ],
   "source": [
    "len(dcsList)"
   ]
  },
  {
   "cell_type": "code",
   "execution_count": 180,
   "metadata": {
    "collapsed": false
   },
   "outputs": [
    {
     "name": "stdout",
     "output_type": "stream",
     "text": [
      "Dataloader Started[Prob]...\n",
      "Dataloader Finished[Prob]...\n"
     ]
    }
   ],
   "source": [
    "import ProbData\n",
    "import Word2VecData"
   ]
  },
  {
   "cell_type": "code",
   "execution_count": 181,
   "metadata": {
    "collapsed": false
   },
   "outputs": [],
   "source": [
    "from ProbModels import *"
   ]
  },
  {
   "cell_type": "code",
   "execution_count": 187,
   "metadata": {
    "collapsed": false
   },
   "outputs": [],
   "source": [
    "pb = ProbModels(fullCo_oc_mat = ProbData.fullCo_oc_mat, unigram_counts = ProbData.unigram_counts,\n",
    "               cng2cngFullMat = ProbData.cng2cngFullMat, cng2index_dict = ProbData.cng2index_dict)"
   ]
  },
  {
   "cell_type": "code",
   "execution_count": 188,
   "metadata": {
    "collapsed": false
   },
   "outputs": [
    {
     "data": {
      "text/plain": [
       "array([[ 0.      ,  0.999187,  0.000287,  0.000526],\n",
       "       [ 0.781993,  0.      ,  0.059845,  0.158163],\n",
       "       [ 0.003732,  0.994444,  0.      ,  0.001824],\n",
       "       [ 0.002595,  0.996714,  0.000692,  0.      ]])"
      ]
     },
     "execution_count": 188,
     "metadata": {},
     "output_type": "execute_result"
    }
   ],
   "source": [
    "pb.get_w2w_mat(['tad', 'ram', 'sad'])\n",
    "pb.get_w2w_no_KN(['tad', 'ram', 'sad'])\n",
    "pb.get_cng2cng_no_KN([1,2,-101, -112])\n",
    "pb.get_cng2cng_mat([1,2,-101, -112])"
   ]
  },
  {
   "cell_type": "code",
   "execution_count": 189,
   "metadata": {
    "collapsed": false
   },
   "outputs": [],
   "source": [
    "v2c_fullCount_mat = pickleFixLoad('extras/verbs_vs_cngs_matrix_countonly.p')"
   ]
  },
  {
   "cell_type": "code",
   "execution_count": 190,
   "metadata": {
    "collapsed": false
   },
   "outputs": [
    {
     "name": "stdout",
     "output_type": "stream",
     "text": [
      "2583\n",
      "dict_keys(['154', '99', '81', '-23', '1', '-230', '89', '101', '49', '181', '171', '158', '40', '80', '170', '160', '2', '-190', '129', '152', '169', '71', '39', '79', '76', '94', '96', '100', '32', '149', '36', '3', '132', '31', '179', '69', '74', '150', '30', '90', '131', '70', '91', '110', '161', '92', '50', '151', '109', '29', '159'])\n",
      "dict_keys(['-11', '30', '90', '29', '71', '109', '70', '69', '101', '49', '110', '3', '79', '50', '181', '31', '171', '2'])\n",
      "samuccAray & -11 :  1\n",
      "samuccAray & 30 :  1\n",
      "samuccAray & 90 :  1\n",
      "samuccAray & 29 :  4\n",
      "samuccAray & 71 :  15\n",
      "samuccAray & 109 :  1\n",
      "samuccAray & 70 :  5\n",
      "samuccAray & 69 :  9\n",
      "samuccAray & 101 :  1\n",
      "samuccAray & 49 :  1\n",
      "samuccAray & 110 :  1\n",
      "samuccAray & 3 :  14\n",
      "samuccAray & 79 :  3\n",
      "samuccAray & 50 :  3\n",
      "samuccAray & 181 :  1\n",
      "samuccAray & 31 :  4\n",
      "samuccAray & 171 :  1\n",
      "samuccAray & 2 :  17\n"
     ]
    }
   ],
   "source": [
    "print(len(v2c_fullCount_mat.keys()))\n",
    "print(v2c_fullCount_mat['prakalpay'].keys())\n",
    "print(v2c_fullCount_mat['samuccAray'].keys())\n",
    "for key, value in v2c_fullCount_mat['samuccAray'].items():\n",
    "    print('samuccAray &', key, \": \", value)"
   ]
  },
  {
   "cell_type": "code",
   "execution_count": 182,
   "metadata": {
    "collapsed": true
   },
   "outputs": [],
   "source": [
    "same_cng_fullCo_oc_mat = pickleFixLoad('extras/lemmas_with_same_cngs_matrix_countonly.p')\n",
    "same_cng_unigram_counts = pickleFixLoad('extras/counts_of_uniq_lemmas_with_same_cngs.p')"
   ]
  },
  {
   "cell_type": "code",
   "execution_count": 198,
   "metadata": {
    "collapsed": false
   },
   "outputs": [
    {
     "data": {
      "text/plain": [
       "56250"
      ]
     },
     "execution_count": 198,
     "metadata": {},
     "output_type": "execute_result"
    }
   ],
   "source": [
    "len(same_cng_fullCo_oc_mat.keys()) # lemmas_with_same_cngs_matrix_countonly.p"
   ]
  },
  {
   "cell_type": "code",
   "execution_count": 199,
   "metadata": {
    "collapsed": false
   },
   "outputs": [
    {
     "data": {
      "text/plain": [
       "56283"
      ]
     },
     "execution_count": 199,
     "metadata": {},
     "output_type": "execute_result"
    }
   ],
   "source": [
    "len(same_cng_unigram_counts) # counts_of_uniq_lemmas_with_same_cngs.p"
   ]
  },
  {
   "cell_type": "code",
   "execution_count": 200,
   "metadata": {
    "collapsed": false
   },
   "outputs": [
    {
     "data": {
      "text/plain": [
       "66914"
      ]
     },
     "execution_count": 200,
     "metadata": {},
     "output_type": "execute_result"
    }
   ],
   "source": [
    "len(pb.unigram_counts.keys()) # from counts_of_uniq_lemmas.p"
   ]
  },
  {
   "cell_type": "code",
   "execution_count": 203,
   "metadata": {
    "collapsed": false
   },
   "outputs": [
    {
     "data": {
      "text/plain": [
       "{'indirA': 1, 'lokamAtf': 1, 'ramA': 1}"
      ]
     },
     "execution_count": 203,
     "metadata": {},
     "output_type": "execute_result"
    }
   ],
   "source": [
    "same_cng_fullCo_oc_mat['kzIrodatanayA']"
   ]
  },
  {
   "cell_type": "code",
   "execution_count": 3,
   "metadata": {
    "collapsed": false
   },
   "outputs": [],
   "source": [
    "same_cng_unigram_counts = pickleFixLoad('extras/counts_of_uniq_lemmas_with_same_cngs.p')\n",
    "same_cng_dict = pickleFixLoad('extras/dictionary_for_lemmas_with_same_cng.p')"
   ]
  },
  {
   "cell_type": "code",
   "execution_count": 5,
   "metadata": {
    "collapsed": false
   },
   "outputs": [
    {
     "data": {
      "text/plain": [
       "['SUlakesarin',\n",
       " 'yaTABUtam',\n",
       " 'aprakASa',\n",
       " 'BARwAkI',\n",
       " 'svarveSyA',\n",
       " 'mOYja',\n",
       " 'sahadevA',\n",
       " 'kaRwakaBuj',\n",
       " 'savasa']"
      ]
     },
     "execution_count": 5,
     "metadata": {},
     "output_type": "execute_result"
    }
   ],
   "source": [
    "list(same_cng_dict.keys())[1:10]"
   ]
  },
  {
   "cell_type": "code",
   "execution_count": 11,
   "metadata": {
    "collapsed": false
   },
   "outputs": [
    {
     "data": {
      "text/plain": [
       "218"
      ]
     },
     "execution_count": 11,
     "metadata": {},
     "output_type": "execute_result"
    }
   ],
   "source": [
    "same_cng_dict['ram']"
   ]
  },
  {
   "cell_type": "code",
   "execution_count": null,
   "metadata": {
    "collapsed": true
   },
   "outputs": [],
   "source": []
  }
 ],
 "metadata": {
  "kernelspec": {
   "display_name": "Python 3",
   "language": "python",
   "name": "python3"
  },
  "language_info": {
   "codemirror_mode": {
    "name": "ipython",
    "version": 3
   },
   "file_extension": ".py",
   "mimetype": "text/x-python",
   "name": "python",
   "nbconvert_exporter": "python",
   "pygments_lexer": "ipython3",
   "version": "3.5.1+"
  }
 },
 "nbformat": 4,
 "nbformat_minor": 0
}
