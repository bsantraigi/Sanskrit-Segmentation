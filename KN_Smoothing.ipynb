{
 "cells": [
  {
   "cell_type": "code",
   "execution_count": 1,
   "metadata": {
    "collapsed": true
   },
   "outputs": [],
   "source": [
    "%load_ext autoreload\n",
    "%autoreload 2"
   ]
  },
  {
   "cell_type": "code",
   "execution_count": 118,
   "metadata": {
    "collapsed": true
   },
   "outputs": [],
   "source": [
    "import pickle\n",
    "import numpy as np\n",
    "from utilities import pickleFixLoad\n",
    "from DCS import *\n",
    "from sentences import *\n",
    "from romtoslp import rom_slp\n",
    "from collections import defaultdict"
   ]
  },
  {
   "cell_type": "code",
   "execution_count": 3,
   "metadata": {
    "collapsed": true
   },
   "outputs": [],
   "source": [
    "fullCo_ocMat = pickleFixLoad('extras/all_dcs_lemmas_matrix_countonly.p')\n",
    "unigram_counts = pickle.load(open('extras/counts_of_uniq_lemmas.p', 'rb'))"
   ]
  },
  {
   "cell_type": "code",
   "execution_count": 6,
   "metadata": {
    "collapsed": true
   },
   "outputs": [],
   "source": [
    "all_word_list = list(unigram_counts.keys())"
   ]
  },
  {
   "cell_type": "code",
   "execution_count": 119,
   "metadata": {
    "collapsed": false
   },
   "outputs": [
    {
     "name": "stdout",
     "output_type": "stream",
     "text": [
      "4306327\n",
      "66817\n"
     ]
    }
   ],
   "source": [
    "context_count = defaultdict(int)\n",
    "for word in fullCo_ocMat.keys():\n",
    "    context_count[word] = len(fullCo_ocMat[word])\n",
    "\n",
    "# Each bigram is repeated as a-b is same as b-a\n",
    "total_context = int(sum(context_count.values())/2)\n",
    "print(total_context)\n",
    "print(len(context_count.keys()))"
   ]
  },
  {
   "cell_type": "code",
   "execution_count": 93,
   "metadata": {
    "collapsed": false
   },
   "outputs": [
    {
     "name": "stdout",
     "output_type": "stream",
     "text": [
      "25029550\n"
     ]
    }
   ],
   "source": [
    "total_sentences = 441735\n",
    "total_co_oc = sum([sum(fullCo_ocMat[word].values()) for word in fullCo_ocMat.keys()])\n",
    "print(total_co_oc)"
   ]
  },
  {
   "cell_type": "code",
   "execution_count": 52,
   "metadata": {
    "collapsed": false
   },
   "outputs": [],
   "source": [
    "overlapping_cooc_count = {}\n",
    "for word in fullCo_ocMat.keys():\n",
    "    overlapping_cooc_count[word] = sum(fullCo_ocMat[word].values())"
   ]
  },
  {
   "cell_type": "code",
   "execution_count": 120,
   "metadata": {
    "collapsed": false
   },
   "outputs": [],
   "source": [
    "def kn(word_a, word_b):\n",
    "    delta = 0.5\n",
    "    if word_a in fullCo_ocMat[word_b]:\n",
    "        c_ab = (fullCo_ocMat[word_a][word_b] - delta)/total_co_oc\n",
    "        normalization = delta*total_context/total_co_oc\n",
    "        p_a = context_count[word_a]/total_context\n",
    "        p_b = context_count[word_b]/total_context\n",
    "        return c_ab + normalization*p_a*p_b\n",
    "    else:\n",
    "        normalization = delta*total_context/total_co_oc\n",
    "        p_a = context_count[word_a]/total_context\n",
    "        p_b = context_count[word_b]/total_context\n",
    "        return normalization*p_a*p_b\n",
    "    \n",
    "# def kn(word_a, word_b):\n",
    "#     delta = 0.5\n",
    "#     if word_a in fullCo_ocMat[word_b]:\n",
    "#         c_ab = (fullCo_ocMat[word_a][word_b] - delta)/(unigram_counts[word_b] + unigram_counts[word_b])\n",
    "#         lam_ab = delta*(context_count[word_a] + context_count[word_b])/(unigram_counts[word_b] + unigram_counts[word_b])\n",
    "#         kn_ab = (context_count[word_a] + context_count[word_b])/total_context\n",
    "#         return c_ab + lam_ab*kn_ab\n",
    "#     else:\n",
    "#         lam_ab = delta*(context_count[word_a] + context_count[word_b])/(unigram_counts[word_b] + unigram_counts[word_b])\n",
    "#         kn_ab = (context_count[word_a] + context_count[word_b])/total_context\n",
    "#         return lam_ab*kn_ab\n",
    "    "
   ]
  },
  {
   "cell_type": "code",
   "execution_count": 121,
   "metadata": {
    "collapsed": false,
    "scrolled": true
   },
   "outputs": [
    {
     "name": "stdout",
     "output_type": "stream",
     "text": [
      "1.132659613085527e-08\n"
     ]
    }
   ],
   "source": [
    "print(kn('Akfz','sura'))"
   ]
  },
  {
   "cell_type": "code",
   "execution_count": 122,
   "metadata": {
    "collapsed": false
   },
   "outputs": [
    {
     "name": "stdout",
     "output_type": "stream",
     "text": [
      "0.08602485861711458\n"
     ]
    }
   ],
   "source": [
    "print(0.5*total_context/total_co_oc)"
   ]
  },
  {
   "cell_type": "code",
   "execution_count": 123,
   "metadata": {
    "collapsed": false,
    "scrolled": true
   },
   "outputs": [
    {
     "ename": "KeyboardInterrupt",
     "evalue": "",
     "output_type": "error",
     "traceback": [
      "\u001b[1;31m---------------------------------------------------------------------------\u001b[0m",
      "\u001b[1;31mKeyboardInterrupt\u001b[0m                         Traceback (most recent call last)",
      "\u001b[1;32m<ipython-input-123-9ece637fab34>\u001b[0m in \u001b[0;36m<module>\u001b[1;34m()\u001b[0m\n\u001b[0;32m      2\u001b[0m \u001b[1;32mfor\u001b[0m \u001b[0mfirst\u001b[0m \u001b[1;32min\u001b[0m \u001b[0mlist\u001b[0m\u001b[1;33m(\u001b[0m\u001b[0mfullCo_ocMat\u001b[0m\u001b[1;33m.\u001b[0m\u001b[0mkeys\u001b[0m\u001b[1;33m(\u001b[0m\u001b[1;33m)\u001b[0m\u001b[1;33m)\u001b[0m\u001b[1;33m:\u001b[0m\u001b[1;33m\u001b[0m\u001b[0m\n\u001b[0;32m      3\u001b[0m     \u001b[1;32mfor\u001b[0m \u001b[0msecond\u001b[0m \u001b[1;32min\u001b[0m \u001b[0mlist\u001b[0m\u001b[1;33m(\u001b[0m\u001b[0mfullCo_ocMat\u001b[0m\u001b[1;33m.\u001b[0m\u001b[0mkeys\u001b[0m\u001b[1;33m(\u001b[0m\u001b[1;33m)\u001b[0m\u001b[1;33m)\u001b[0m\u001b[1;33m:\u001b[0m\u001b[1;33m\u001b[0m\u001b[0m\n\u001b[1;32m----> 4\u001b[1;33m         \u001b[0mps\u001b[0m \u001b[1;33m+=\u001b[0m \u001b[0mkn\u001b[0m\u001b[1;33m(\u001b[0m\u001b[0mfirst\u001b[0m\u001b[1;33m,\u001b[0m \u001b[0msecond\u001b[0m\u001b[1;33m)\u001b[0m\u001b[1;33m\u001b[0m\u001b[0m\n\u001b[0m\u001b[0;32m      5\u001b[0m \u001b[0mprint\u001b[0m\u001b[1;33m(\u001b[0m\u001b[0mps\u001b[0m\u001b[1;33m)\u001b[0m\u001b[1;33m\u001b[0m\u001b[0m\n",
      "\u001b[1;32m<ipython-input-120-0aa96e570e4e>\u001b[0m in \u001b[0;36mkn\u001b[1;34m(word_a, word_b)\u001b[0m\n\u001b[0;32m     11\u001b[0m         \u001b[0mp_a\u001b[0m \u001b[1;33m=\u001b[0m \u001b[0mcontext_count\u001b[0m\u001b[1;33m[\u001b[0m\u001b[0mword_a\u001b[0m\u001b[1;33m]\u001b[0m\u001b[1;33m/\u001b[0m\u001b[0mtotal_context\u001b[0m\u001b[1;33m\u001b[0m\u001b[0m\n\u001b[0;32m     12\u001b[0m         \u001b[0mp_b\u001b[0m \u001b[1;33m=\u001b[0m \u001b[0mcontext_count\u001b[0m\u001b[1;33m[\u001b[0m\u001b[0mword_b\u001b[0m\u001b[1;33m]\u001b[0m\u001b[1;33m/\u001b[0m\u001b[0mtotal_context\u001b[0m\u001b[1;33m\u001b[0m\u001b[0m\n\u001b[1;32m---> 13\u001b[1;33m         \u001b[1;32mreturn\u001b[0m \u001b[0mnormalization\u001b[0m\u001b[1;33m*\u001b[0m\u001b[0mp_a\u001b[0m\u001b[1;33m*\u001b[0m\u001b[0mp_b\u001b[0m\u001b[1;33m\u001b[0m\u001b[0m\n\u001b[0m\u001b[0;32m     14\u001b[0m \u001b[1;33m\u001b[0m\u001b[0m\n\u001b[0;32m     15\u001b[0m \u001b[1;31m# def kn(word_a, word_b):\u001b[0m\u001b[1;33m\u001b[0m\u001b[1;33m\u001b[0m\u001b[0m\n",
      "\u001b[1;31mKeyboardInterrupt\u001b[0m: "
     ]
    }
   ],
   "source": [
    "ps = 0\n",
    "for first in list(fullCo_ocMat.keys()):    \n",
    "    for second in list(fullCo_ocMat.keys()):\n",
    "        ps += kn(first, second)\n",
    "print(ps)"
   ]
  },
  {
   "cell_type": "code",
   "execution_count": 117,
   "metadata": {
    "collapsed": false
   },
   "outputs": [
    {
     "data": {
      "text/plain": [
       "{}"
      ]
     },
     "execution_count": 117,
     "metadata": {},
     "output_type": "execute_result"
    }
   ],
   "source": [
    "fullCo_ocMat['citraSiKaRqaDara']"
   ]
  },
  {
   "cell_type": "code",
   "execution_count": 89,
   "metadata": {
    "collapsed": true
   },
   "outputs": [],
   "source": [
    "dcsList = pickleFixLoad('dcsArray.p')"
   ]
  },
  {
   "cell_type": "code",
   "execution_count": 90,
   "metadata": {
    "collapsed": false
   },
   "outputs": [
    {
     "data": {
      "text/plain": [
       "441735"
      ]
     },
     "execution_count": 90,
     "metadata": {},
     "output_type": "execute_result"
    }
   ],
   "source": [
    "len(dcsList)"
   ]
  },
  {
   "cell_type": "code",
   "execution_count": null,
   "metadata": {
    "collapsed": true
   },
   "outputs": [],
   "source": []
  }
 ],
 "metadata": {
  "kernelspec": {
   "display_name": "Python 3",
   "language": "python",
   "name": "python3"
  },
  "language_info": {
   "codemirror_mode": {
    "name": "ipython",
    "version": 3
   },
   "file_extension": ".py",
   "mimetype": "text/x-python",
   "name": "python",
   "nbconvert_exporter": "python",
   "pygments_lexer": "ipython3",
   "version": "3.5.1+"
  }
 },
 "nbformat": 4,
 "nbformat_minor": 0
}
