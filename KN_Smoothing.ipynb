{
 "cells": [
  {
   "cell_type": "code",
   "execution_count": 30,
   "metadata": {
    "collapsed": true
   },
   "outputs": [],
   "source": [
    "import nltk\n",
    "from nltk.corpus import PlaintextCorpusReader\n",
    "from DCS import DCS\n",
    "import pickle\n",
    "from utilities import pickleFixLoad\n",
    "from collections import defaultdict"
   ]
  },
  {
   "cell_type": "code",
   "execution_count": 49,
   "metadata": {
    "collapsed": false
   },
   "outputs": [
    {
     "data": {
      "text/plain": [
       "0"
      ]
     },
     "execution_count": 49,
     "metadata": {},
     "output_type": "execute_result"
    }
   ],
   "source": [
    "from nltk.tokenize import SpaceTokenizer, RegexpTokenizer\n",
    "rwt = RegexpTokenizer('[?\\.,\\s]+', gaps=True)\n",
    "        \n",
    "engCorpus = PlaintextCorpusReader('corpus_eng/', '.*\\.txt', word_tokenizer=rwt)\n",
    "\n",
    "# engCorpus = PlaintextCorpusReader('corpus_eng/', '.*')\n",
    "# nltk.FreqDist(engCorpus.words())\n",
    "engDist = nltk.FreqDist(engCorpus.words())\n",
    "engDist['The1']"
   ]
  },
  {
   "cell_type": "code",
   "execution_count": 56,
   "metadata": {
    "collapsed": false
   },
   "outputs": [
    {
     "data": {
      "text/plain": [
       "33.0"
      ]
     },
     "execution_count": 56,
     "metadata": {},
     "output_type": "execute_result"
    }
   ],
   "source": [
    "co_occurance = defaultdict(int)\n",
    "word_pairs = defaultdict(set)\n",
    "engCorpus.sents()\n",
    "for s in engCorpus.sents():\n",
    "    l = len(s)\n",
    "    for i in range(l):\n",
    "        for j in range(i + 1, l - i):\n",
    "            word_pairs[s[i]].add(s[j])\n",
    "            word_pairs[s[j]].add(s[i])\n",
    "            co_occurance[(s[i], s[j])] += 1\n",
    "            co_occurance[(s[j], s[i])] += 1\n",
    "len(co_occurance.keys())/2"
   ]
  },
  {
   "cell_type": "code",
   "execution_count": 57,
   "metadata": {
    "collapsed": false
   },
   "outputs": [
    {
     "data": {
      "text/plain": [
       "defaultdict(set,\n",
       "            {'I': {'What', 'can', 'do'},\n",
       "             'The': {'here', 'is', 'not', 'simple', 'text', 'that'},\n",
       "             'This': {'a', 'is', 'simple', 'text', 'very'},\n",
       "             'What': {'I', 'are', 'can', 'do', 'for', 'saying', 'you'},\n",
       "             'a': {'This', 'is', 'very'},\n",
       "             'are': {'What', 'you'},\n",
       "             'can': {'I', 'What', 'do', 'for'},\n",
       "             'do': {'I', 'What', 'can'},\n",
       "             'for': {'What', 'can'},\n",
       "             'here': {'The', 'is', 'not', 'text'},\n",
       "             'is': {'The', 'This', 'a', 'here', 'simple', 'text', 'very'},\n",
       "             'not': {'The', 'here', 'text'},\n",
       "             'saying': {'What'},\n",
       "             'simple': {'The', 'This', 'is'},\n",
       "             'text': {'The', 'This', 'here', 'is', 'not', 'that'},\n",
       "             'that': {'The', 'text'},\n",
       "             'very': {'This', 'a', 'is'},\n",
       "             'you': {'What', 'are'}})"
      ]
     },
     "execution_count": 57,
     "metadata": {},
     "output_type": "execute_result"
    }
   ],
   "source": [
    "word_pairs"
   ]
  },
  {
   "cell_type": "code",
   "execution_count": 47,
   "metadata": {
    "collapsed": false
   },
   "outputs": [
    {
     "data": {
      "text/plain": [
       "defaultdict(int,\n",
       "            {('I', 'What'): 1,\n",
       "             ('I', 'can'): 1,\n",
       "             ('I', 'do'): 1,\n",
       "             ('The', 'here'): 1,\n",
       "             ('The', 'is'): 1,\n",
       "             ('The', 'not'): 1,\n",
       "             ('The', 'simple'): 1,\n",
       "             ('The', 'text'): 1,\n",
       "             ('The', 'that'): 1,\n",
       "             ('This', 'a'): 1,\n",
       "             ('This', 'is'): 1,\n",
       "             ('This', 'simple'): 1,\n",
       "             ('This', 'text'): 1,\n",
       "             ('This', 'very'): 1,\n",
       "             ('What', 'I'): 1,\n",
       "             ('What', 'are'): 1,\n",
       "             ('What', 'can'): 1,\n",
       "             ('What', 'do'): 1,\n",
       "             ('What', 'for'): 1,\n",
       "             ('What', 'saying'): 1,\n",
       "             ('What', 'you'): 2,\n",
       "             ('a', 'This'): 1,\n",
       "             ('a', 'is'): 1,\n",
       "             ('a', 'very'): 1,\n",
       "             ('are', 'What'): 1,\n",
       "             ('are', 'you'): 1,\n",
       "             ('can', 'I'): 1,\n",
       "             ('can', 'What'): 1,\n",
       "             ('can', 'do'): 1,\n",
       "             ('can', 'for'): 1,\n",
       "             ('do', 'I'): 1,\n",
       "             ('do', 'What'): 1,\n",
       "             ('do', 'can'): 1,\n",
       "             ('for', 'What'): 1,\n",
       "             ('for', 'can'): 1,\n",
       "             ('here', 'The'): 1,\n",
       "             ('here', 'is'): 1,\n",
       "             ('here', 'not'): 1,\n",
       "             ('here', 'text'): 1,\n",
       "             ('is', 'The'): 1,\n",
       "             ('is', 'This'): 1,\n",
       "             ('is', 'a'): 1,\n",
       "             ('is', 'here'): 1,\n",
       "             ('is', 'simple'): 1,\n",
       "             ('is', 'text'): 1,\n",
       "             ('is', 'very'): 1,\n",
       "             ('not', 'The'): 1,\n",
       "             ('not', 'here'): 1,\n",
       "             ('not', 'text'): 1,\n",
       "             ('saying', 'What'): 1,\n",
       "             ('simple', 'The'): 1,\n",
       "             ('simple', 'This'): 1,\n",
       "             ('simple', 'is'): 1,\n",
       "             ('text', 'The'): 1,\n",
       "             ('text', 'This'): 1,\n",
       "             ('text', 'here'): 1,\n",
       "             ('text', 'is'): 1,\n",
       "             ('text', 'not'): 1,\n",
       "             ('text', 'that'): 1,\n",
       "             ('that', 'The'): 1,\n",
       "             ('that', 'text'): 1,\n",
       "             ('very', 'This'): 1,\n",
       "             ('very', 'a'): 1,\n",
       "             ('very', 'is'): 1,\n",
       "             ('you', 'What'): 2,\n",
       "             ('you', 'are'): 1})"
      ]
     },
     "execution_count": 47,
     "metadata": {},
     "output_type": "execute_result"
    }
   ],
   "source": [
    "def kn_coocurrance(wa, wb, freqDist, co_occurance, delta = 0.75):\n",
    "    pkn_b = ()/(len(co_occurance.keys())/2)"
   ]
  },
  {
   "cell_type": "markdown",
   "metadata": {
    "collapsed": false
   },
   "source": [
    "Convert DCS results to text for creating a nltk corpus"
   ]
  },
  {
   "cell_type": "code",
   "execution_count": 14,
   "metadata": {
    "collapsed": false
   },
   "outputs": [],
   "source": [
    "\"\"\"\n",
    "Uncommet to refresh fileLists\n",
    "\"\"\"\n",
    "\n",
    "# import os\n",
    "# from utilities import validatePickleName\n",
    "\n",
    "# dcsFiles=set(sorted(os.listdir('../Text Segmentation/DCS_pick/')))\n",
    "# dcsArray = []\n",
    "\n",
    "# for dcsPickle in dcsFiles:\n",
    "#     dcsPickle = validatePickleName(dcsPickle)\n",
    "#     if dcsPickle != \"\":                \n",
    "#         dcsArray.append(dcsPickle)\n",
    "\n",
    "# dcsArray = list(set(dcsArray))\n",
    "# pickle.dump(dcsArray, open('dcsArray.p', 'wb'))\n",
    "\n",
    "dcsArray =  pickleFixLoad('dcsArray.p')"
   ]
  },
  {
   "cell_type": "code",
   "execution_count": 80,
   "metadata": {
    "collapsed": false
   },
   "outputs": [
    {
     "name": "stdout",
     "output_type": "stream",
     "text": [
      "Buggy:  321.p\n",
      "Checkpoint:  5000\n",
      "Checkpoint:  10000\n",
      "Checkpoint:  15000\n",
      "Checkpoint:  20000\n"
     ]
    },
    {
     "ename": "KeyboardInterrupt",
     "evalue": "",
     "output_type": "error",
     "traceback": [
      "\u001b[1;31m---------------------------------------------------------------------------\u001b[0m",
      "\u001b[1;31mKeyboardInterrupt\u001b[0m                         Traceback (most recent call last)",
      "\u001b[1;32m<ipython-input-80-d73b6c05b5ed>\u001b[0m in \u001b[0;36m<module>\u001b[1;34m()\u001b[0m\n\u001b[0;32m     14\u001b[0m         \u001b[0mprint\u001b[0m\u001b[1;33m(\u001b[0m\u001b[1;34m'Checkpoint: '\u001b[0m\u001b[1;33m,\u001b[0m \u001b[0mcount\u001b[0m\u001b[1;33m)\u001b[0m\u001b[1;33m\u001b[0m\u001b[0m\n\u001b[0;32m     15\u001b[0m     \u001b[1;32mtry\u001b[0m\u001b[1;33m:\u001b[0m\u001b[1;33m\u001b[0m\u001b[0m\n\u001b[1;32m---> 16\u001b[1;33m         \u001b[0mDCS2Text\u001b[0m\u001b[1;33m(\u001b[0m\u001b[0mdf\u001b[0m\u001b[1;33m)\u001b[0m\u001b[1;33m\u001b[0m\u001b[0m\n\u001b[0m\u001b[0;32m     17\u001b[0m     \u001b[1;32mexcept\u001b[0m \u001b[1;33m(\u001b[0m\u001b[0mKeyError\u001b[0m\u001b[1;33m,\u001b[0m \u001b[0mEOFError\u001b[0m\u001b[1;33m)\u001b[0m \u001b[1;32mas\u001b[0m \u001b[0me\u001b[0m\u001b[1;33m:\u001b[0m\u001b[1;33m\u001b[0m\u001b[0m\n\u001b[0;32m     18\u001b[0m         \u001b[0mprint\u001b[0m\u001b[1;33m(\u001b[0m\u001b[1;34m'Buggy: '\u001b[0m\u001b[1;33m,\u001b[0m \u001b[0mdf\u001b[0m\u001b[1;33m)\u001b[0m\u001b[1;33m\u001b[0m\u001b[0m\n",
      "\u001b[1;32m<ipython-input-80-d73b6c05b5ed>\u001b[0m in \u001b[0;36mDCS2Text\u001b[1;34m(fName, dcsPath, destDir)\u001b[0m\n\u001b[0;32m      3\u001b[0m \u001b[1;31m# With rom2slp support\u001b[0m\u001b[1;33m\u001b[0m\u001b[1;33m\u001b[0m\u001b[0m\n\u001b[0;32m      4\u001b[0m \u001b[1;32mdef\u001b[0m \u001b[0mDCS2Text\u001b[0m\u001b[1;33m(\u001b[0m\u001b[0mfName\u001b[0m\u001b[1;33m,\u001b[0m \u001b[0mdcsPath\u001b[0m \u001b[1;33m=\u001b[0m \u001b[1;34m'../Text Segmentation/DCS_pick/'\u001b[0m\u001b[1;33m,\u001b[0m \u001b[0mdestDir\u001b[0m\u001b[1;33m=\u001b[0m\u001b[1;34m'corpus_skt/'\u001b[0m\u001b[1;33m)\u001b[0m\u001b[1;33m:\u001b[0m\u001b[1;33m\u001b[0m\u001b[0m\n\u001b[1;32m----> 5\u001b[1;33m     \u001b[0mdcsObj\u001b[0m \u001b[1;33m=\u001b[0m \u001b[0mpickleFixLoad\u001b[0m\u001b[1;33m(\u001b[0m\u001b[0mdcsPath\u001b[0m \u001b[1;33m+\u001b[0m \u001b[0mfName\u001b[0m\u001b[1;33m)\u001b[0m\u001b[1;33m\u001b[0m\u001b[0m\n\u001b[0m\u001b[0;32m      6\u001b[0m     \u001b[1;32mwith\u001b[0m \u001b[0mopen\u001b[0m\u001b[1;33m(\u001b[0m\u001b[0mdestDir\u001b[0m \u001b[1;33m+\u001b[0m \u001b[0mfName\u001b[0m\u001b[1;33m.\u001b[0m\u001b[0msplit\u001b[0m\u001b[1;33m(\u001b[0m\u001b[1;34m'.'\u001b[0m\u001b[1;33m)\u001b[0m\u001b[1;33m[\u001b[0m\u001b[1;36m0\u001b[0m\u001b[1;33m]\u001b[0m \u001b[1;33m+\u001b[0m \u001b[1;34m'.txt'\u001b[0m\u001b[1;33m,\u001b[0m \u001b[1;34m'w'\u001b[0m\u001b[1;33m,\u001b[0m \u001b[0mencoding\u001b[0m\u001b[1;33m=\u001b[0m\u001b[1;34m'utf-8'\u001b[0m\u001b[1;33m)\u001b[0m \u001b[1;32mas\u001b[0m \u001b[0mtxtF\u001b[0m\u001b[1;33m:\u001b[0m\u001b[1;33m\u001b[0m\u001b[0m\n\u001b[0;32m      7\u001b[0m         \u001b[0mtxtF\u001b[0m\u001b[1;33m.\u001b[0m\u001b[0mwrite\u001b[0m\u001b[1;33m(\u001b[0m\u001b[1;34m' '\u001b[0m\u001b[1;33m.\u001b[0m\u001b[0mjoin\u001b[0m\u001b[1;33m(\u001b[0m\u001b[0mlist\u001b[0m\u001b[1;33m(\u001b[0m\u001b[0mmap\u001b[0m\u001b[1;33m(\u001b[0m\u001b[0mrom_slp\u001b[0m\u001b[1;33m,\u001b[0m \u001b[0mdcsObj\u001b[0m\u001b[1;33m.\u001b[0m\u001b[0mdcs_chunks\u001b[0m\u001b[1;33m)\u001b[0m\u001b[1;33m)\u001b[0m\u001b[1;33m)\u001b[0m\u001b[1;33m)\u001b[0m\u001b[1;33m\u001b[0m\u001b[0m\n",
      "\u001b[1;32m/home/bishal/Documents/summer project/TxSeg_Summer/utilities.py\u001b[0m in \u001b[0;36mpickleFixLoad\u001b[1;34m(filename)\u001b[0m\n\u001b[0;32m     24\u001b[0m         \u001b[0mu\u001b[0m \u001b[1;33m=\u001b[0m \u001b[0mpickle\u001b[0m\u001b[1;33m.\u001b[0m\u001b[0m_Unpickler\u001b[0m\u001b[1;33m(\u001b[0m\u001b[0mf\u001b[0m\u001b[1;33m)\u001b[0m\u001b[1;33m\u001b[0m\u001b[0m\n\u001b[0;32m     25\u001b[0m         \u001b[0mu\u001b[0m\u001b[1;33m.\u001b[0m\u001b[0mencoding\u001b[0m \u001b[1;33m=\u001b[0m \u001b[1;34m'latin1'\u001b[0m\u001b[1;33m\u001b[0m\u001b[0m\n\u001b[1;32m---> 26\u001b[1;33m         \u001b[1;32mreturn\u001b[0m\u001b[1;33m(\u001b[0m\u001b[0mu\u001b[0m\u001b[1;33m.\u001b[0m\u001b[0mload\u001b[0m\u001b[1;33m(\u001b[0m\u001b[1;33m)\u001b[0m\u001b[1;33m)\u001b[0m\u001b[1;33m\u001b[0m\u001b[0m\n\u001b[0m\u001b[0;32m     27\u001b[0m     \u001b[1;32mreturn\u001b[0m \u001b[1;32mNone\u001b[0m\u001b[1;33m\u001b[0m\u001b[0m\n\u001b[0;32m     28\u001b[0m \u001b[1;33m\u001b[0m\u001b[0m\n",
      "\u001b[1;32m/usr/lib/python3.5/pickle.py\u001b[0m in \u001b[0;36mload\u001b[1;34m(self)\u001b[0m\n\u001b[0;32m   1033\u001b[0m         \u001b[1;32mtry\u001b[0m\u001b[1;33m:\u001b[0m\u001b[1;33m\u001b[0m\u001b[0m\n\u001b[0;32m   1034\u001b[0m             \u001b[1;32mwhile\u001b[0m \u001b[1;32mTrue\u001b[0m\u001b[1;33m:\u001b[0m\u001b[1;33m\u001b[0m\u001b[0m\n\u001b[1;32m-> 1035\u001b[1;33m                 \u001b[0mkey\u001b[0m \u001b[1;33m=\u001b[0m \u001b[0mread\u001b[0m\u001b[1;33m(\u001b[0m\u001b[1;36m1\u001b[0m\u001b[1;33m)\u001b[0m\u001b[1;33m\u001b[0m\u001b[0m\n\u001b[0m\u001b[0;32m   1036\u001b[0m                 \u001b[1;32mif\u001b[0m \u001b[1;32mnot\u001b[0m \u001b[0mkey\u001b[0m\u001b[1;33m:\u001b[0m\u001b[1;33m\u001b[0m\u001b[0m\n\u001b[0;32m   1037\u001b[0m                     \u001b[1;32mraise\u001b[0m \u001b[0mEOFError\u001b[0m\u001b[1;33m\u001b[0m\u001b[0m\n",
      "\u001b[1;32m/usr/lib/python3.5/pickle.py\u001b[0m in \u001b[0;36mread\u001b[1;34m(self, n)\u001b[0m\n\u001b[0;32m    235\u001b[0m             \u001b[1;32mreturn\u001b[0m \u001b[0mdata\u001b[0m\u001b[1;33m\u001b[0m\u001b[0m\n\u001b[0;32m    236\u001b[0m         \u001b[1;32melse\u001b[0m\u001b[1;33m:\u001b[0m\u001b[1;33m\u001b[0m\u001b[0m\n\u001b[1;32m--> 237\u001b[1;33m             \u001b[1;32mreturn\u001b[0m \u001b[0mself\u001b[0m\u001b[1;33m.\u001b[0m\u001b[0mfile_read\u001b[0m\u001b[1;33m(\u001b[0m\u001b[0mn\u001b[0m\u001b[1;33m)\u001b[0m\u001b[1;33m\u001b[0m\u001b[0m\n\u001b[0m\u001b[0;32m    238\u001b[0m \u001b[1;33m\u001b[0m\u001b[0m\n\u001b[0;32m    239\u001b[0m     \u001b[1;32mdef\u001b[0m \u001b[0mreadline\u001b[0m\u001b[1;33m(\u001b[0m\u001b[0mself\u001b[0m\u001b[1;33m)\u001b[0m\u001b[1;33m:\u001b[0m\u001b[1;33m\u001b[0m\u001b[0m\n",
      "\u001b[1;31mKeyboardInterrupt\u001b[0m: "
     ]
    }
   ],
   "source": [
    "from DCS import DCS\n",
    "from romtoslp import rom_slp\n",
    "# With rom2slp support\n",
    "def DCS2Text(fName, dcsPath = '../Text Segmentation/DCS_pick/', destDir='corpus_skt/'):\n",
    "    dcsObj = pickleFixLoad(dcsPath + fName)    \n",
    "    with open(destDir + fName.split('.')[0] + '.txt', 'w', encoding='utf-8') as txtF:\n",
    "        txtF.write(' '.join(list(map(rom_slp, dcsObj.dcs_chunks))))\n",
    "    \n",
    "\n",
    "count = 0\n",
    "for df in dcsArray:\n",
    "    count += 1\n",
    "    if count % 5000 == 0:\n",
    "        print('Checkpoint: ', count)\n",
    "    try:\n",
    "        DCS2Text(df)\n",
    "    except (KeyError, EOFError) as e:\n",
    "        print('Buggy: ', df)\n"
   ]
  },
  {
   "cell_type": "code",
   "execution_count": 15,
   "metadata": {
    "collapsed": false
   },
   "outputs": [
    {
     "name": "stdout",
     "output_type": "stream",
     "text": [
      "183562\n"
     ]
    }
   ],
   "source": [
    "from nltk.tokenize import SpaceTokenizer, RegexpTokenizer\n",
    "rwt = RegexpTokenizer('\\s+', gaps=True)\n",
    "\n",
    "def printFile(f):\n",
    "    with open(f) as fr:\n",
    "        a = fr.readline()\n",
    "        print(a)\n",
    "        \n",
    "# printFile('corpus_skt/342333.txt')\n",
    "# printFile('corpus_skt/308013.txt')\n",
    "sktCorpus = PlaintextCorpusReader('corpus_skt/', '.*\\.txt', word_tokenizer=rwt)\n",
    "\n",
    "# for i in sktCorpus.words()[1:10]:\n",
    "#     print(i)"
   ]
  },
  {
   "cell_type": "code",
   "execution_count": 16,
   "metadata": {
    "collapsed": false
   },
   "outputs": [
    {
     "name": "stdout",
     "output_type": "stream",
     "text": [
      "17467\n"
     ]
    }
   ],
   "source": [
    "print(len(nltk.FreqDist(sktCorpus.words())))\n",
    "\n"
   ]
  },
  {
   "cell_type": "code",
   "execution_count": 55,
   "metadata": {
    "collapsed": false
   },
   "outputs": [
    {
     "data": {
      "text/plain": [
       "{2, 4, 6, 8, 9}"
      ]
     },
     "execution_count": 55,
     "metadata": {},
     "output_type": "execute_result"
    }
   ],
   "source": [
    "s = set()\n",
    "s.add(8)\n",
    "s.add(2)\n",
    "s.add(4)\n",
    "s.add(6)\n",
    "s.add(8)\n",
    "s.add(9)\n",
    "s.add(2)\n",
    "s"
   ]
  },
  {
   "cell_type": "code",
   "execution_count": null,
   "metadata": {
    "collapsed": false
   },
   "outputs": [],
   "source": []
  },
  {
   "cell_type": "code",
   "execution_count": null,
   "metadata": {
    "collapsed": false
   },
   "outputs": [],
   "source": []
  },
  {
   "cell_type": "code",
   "execution_count": null,
   "metadata": {
    "collapsed": true
   },
   "outputs": [],
   "source": []
  },
  {
   "cell_type": "code",
   "execution_count": null,
   "metadata": {
    "collapsed": true
   },
   "outputs": [],
   "source": []
  }
 ],
 "metadata": {
  "kernelspec": {
   "display_name": "Python 3",
   "language": "python",
   "name": "python3"
  },
  "language_info": {
   "codemirror_mode": {
    "name": "ipython",
    "version": 3
   },
   "file_extension": ".py",
   "mimetype": "text/x-python",
   "name": "python",
   "nbconvert_exporter": "python",
   "pygments_lexer": "ipython3",
   "version": "3.5.1+"
  }
 },
 "nbformat": 4,
 "nbformat_minor": 0
}
