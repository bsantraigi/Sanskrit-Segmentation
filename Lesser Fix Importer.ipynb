{
 "cells": [
  {
   "cell_type": "code",
   "execution_count": 1,
   "metadata": {
    "collapsed": true
   },
   "outputs": [],
   "source": [
    "%load_ext autoreload\n",
    "%autoreload 2"
   ]
  },
  {
   "cell_type": "code",
   "execution_count": 2,
   "metadata": {
    "collapsed": true
   },
   "outputs": [],
   "source": [
    "import pandas as pd\n",
    "import numpy as np\n",
    "import os\n",
    "import pickle\n",
    "from sentences import *\n",
    "from DCS import *\n",
    "from utilities import *\n",
    "from IPython.display import display"
   ]
  },
  {
   "cell_type": "code",
   "execution_count": 3,
   "metadata": {
    "collapsed": true
   },
   "outputs": [],
   "source": [
    "goodFileDict = pickle.load(open('mergedGood_v5.p', 'rb'))"
   ]
  },
  {
   "cell_type": "code",
   "execution_count": 13,
   "metadata": {
    "collapsed": false,
    "scrolled": false
   },
   "outputs": [
    {
     "name": "stdout",
     "output_type": "stream",
     "text": [
      "Chekpoint 397 of 400\n",
      "Chekpoint 796 of 800\n",
      "Chekpoint 1196 of 1200\n",
      "Chekpoint 1594 of 1600\n",
      "Chekpoint 1993 of 2000\n",
      "Chekpoint 2390 of 2400\n",
      "Chekpoint 2787 of 2800\n",
      "Chekpoint 3183 of 3200\n",
      "Chekpoint 3582 of 3600\n",
      "Chekpoint 3980 of 4000\n",
      "Chekpoint 4378 of 4400\n",
      "Chekpoint 4775 of 4800\n",
      "Chekpoint 5173 of 5200\n",
      "Chekpoint 5570 of 5600\n",
      "Chekpoint 5969 of 6000\n",
      "Chekpoint 6366 of 6400\n",
      "Chekpoint 6765 of 6800\n",
      "Chekpoint 7164 of 7200\n",
      "Chekpoint 7561 of 7600\n",
      "Chekpoint 7959 of 8000\n",
      "Chekpoint 8359 of 8400\n",
      "Chekpoint 8758 of 8800\n",
      "Chekpoint 9157 of 9200\n",
      "Chekpoint 9553 of 9600\n",
      "Chekpoint 9949 of 10000\n",
      "Chekpoint 10347 of 10400\n",
      "Chekpoint 10747 of 10800\n",
      "Chekpoint 11144 of 11200\n",
      "Chekpoint 11542 of 11600\n",
      "Chekpoint 11941 of 12000\n",
      "Chekpoint 12339 of 12400\n",
      "Chekpoint 12738 of 12800\n",
      "Chekpoint 13137 of 13200\n",
      "Chekpoint 13533 of 13600\n",
      "Chekpoint 13930 of 14000\n",
      "Chekpoint 14327 of 14400\n",
      "Chekpoint 14727 of 14800\n",
      "Chekpoint 15126 of 15200\n",
      "Chekpoint 15520 of 15600\n",
      "Chekpoint 15917 of 16000\n",
      "Chekpoint 16316 of 16400\n",
      "Chekpoint 16715 of 16800\n",
      "Chekpoint 17113 of 17200\n",
      "Chekpoint 17513 of 17600\n",
      "Chekpoint 17912 of 18000\n",
      "Chekpoint 18309 of 18400\n",
      "Chekpoint 18708 of 18800\n",
      "Chekpoint 19107 of 19200\n",
      "Chekpoint 19506 of 19600\n",
      "Chekpoint 19905 of 20000\n",
      "Chekpoint 20303 of 20400\n",
      "Chekpoint 20703 of 20800\n",
      "Chekpoint 21098 of 21200\n",
      "Chekpoint 21495 of 21600\n",
      "Chekpoint 21892 of 22000\n",
      "Chekpoint 22291 of 22400\n",
      "Chekpoint 22691 of 22800\n",
      "Chekpoint 23091 of 23200\n",
      "Chekpoint 23491 of 23600\n",
      "Chekpoint 23891 of 24000\n",
      "Chekpoint 24290 of 24400\n",
      "Chekpoint 24689 of 24800\n",
      "Chekpoint 25089 of 25200\n",
      "Chekpoint 25486 of 25600\n",
      "Chekpoint 25883 of 26000\n",
      "Chekpoint 26279 of 26400\n",
      "Chekpoint 26678 of 26800\n",
      "Chekpoint 27075 of 27200\n",
      "Chekpoint 27473 of 27600\n",
      "Chekpoint 27872 of 28000\n",
      "Chekpoint 28267 of 28400\n",
      "Chekpoint 28664 of 28800\n",
      "Chekpoint 29063 of 29200\n",
      "Chekpoint 29462 of 29600\n",
      "Chekpoint 29860 of 30000\n",
      "Chekpoint 30258 of 30400\n",
      "Chekpoint 30658 of 30800\n",
      "Chekpoint 31057 of 31200\n",
      "Chekpoint 31455 of 31600\n",
      "Chekpoint 31852 of 32000\n",
      "Chekpoint 32250 of 32400\n",
      "Chekpoint 32647 of 32800\n",
      "Chekpoint 33045 of 33200\n",
      "Chekpoint 33444 of 33600\n",
      "Chekpoint 33842 of 34000\n",
      "Chekpoint 34240 of 34400\n",
      "Chekpoint 34637 of 34800\n",
      "Chekpoint 35034 of 35200\n",
      "Chekpoint 35432 of 35600\n",
      "Chekpoint 35831 of 36000\n",
      "Chekpoint 36227 of 36400\n",
      "Chekpoint 36624 of 36800\n",
      "Chekpoint 37020 of 37200\n",
      "Chekpoint 37418 of 37600\n",
      "Chekpoint 37816 of 38000\n",
      "Chekpoint 38216 of 38400\n",
      "Chekpoint 38614 of 38800\n",
      "Chekpoint 39013 of 39200\n",
      "Chekpoint 39409 of 39600\n",
      "Chekpoint 39809 of 40000\n",
      "Chekpoint 40206 of 40400\n",
      "Chekpoint 40606 of 40800\n",
      "Chekpoint 40999 of 41200\n",
      "Chekpoint 41399 of 41600\n",
      "Chekpoint 41798 of 42000\n",
      "Chekpoint 42194 of 42400\n",
      "Chekpoint 42591 of 42800\n",
      "Chekpoint 42990 of 43200\n",
      "Chekpoint 43390 of 43600\n",
      "Chekpoint 43790 of 44000\n",
      "Chekpoint 44189 of 44400\n",
      "Chekpoint 44588 of 44800\n",
      "Chekpoint 44987 of 45200\n",
      "Chekpoint 45387 of 45600\n",
      "Chekpoint 45786 of 46000\n",
      "Chekpoint 46185 of 46400\n",
      "Chekpoint 46585 of 46800\n"
     ]
    }
   ],
   "source": [
    "counter = 0\n",
    "tCounter = 0\n",
    "\n",
    "for fn in goodFileDict.keys():\n",
    "    fn_new = fn + '2'\n",
    "    if os.path.isfile('../TextSegmentation/CompatSKT_1/' + fn_new) or os.path.isfile('../TextSegmentation/CompatSKT_1/' + fn_new) or os.path.isfile('../TextSegmentation/CompatSKT_2/' + fn_new):\n",
    "#         print(fn_new, 'already there')\n",
    "        continue\n",
    "    try:\n",
    "        skt, dcs = loadSentence(fn, goodFileDict[fn])\n",
    "    except IndexError:\n",
    "        continue\n",
    "\n",
    "    if(len(skt.chunk) != len(dcs.lemmas)):\n",
    "        continue\n",
    "#     SeeDCS(dcs)\n",
    "#     SeeSentence(skt)\n",
    "    # NOW CHECK FULL COVERAGE\n",
    "    goodFlag = FullCoverage(skt, dcs)\n",
    "    if goodFlag:\n",
    "#         df_m1.loc[df_occur.index, 'status'] = 'accepted'\n",
    "        counter += 1\n",
    "        pickle.dump(skt, open('../TextSegmentation/CompatSKT/' + fn_new, 'wb'))\n",
    "    tCounter += 1\n",
    "    if(tCounter % 400 == 0):\n",
    "        print('Chekpoint', counter, 'of', tCounter)"
   ]
  },
  {
   "cell_type": "code",
   "execution_count": 14,
   "metadata": {
    "collapsed": false
   },
   "outputs": [
    {
     "name": "stdout",
     "output_type": "stream",
     "text": [
      "Done\n"
     ]
    }
   ],
   "source": [
    "print('Done')"
   ]
  },
  {
   "cell_type": "code",
   "execution_count": 15,
   "metadata": {
    "collapsed": true
   },
   "outputs": [],
   "source": [
    "s1 = set(os.listdir('../TextSegmentation/CompatSKT_1/'))\n",
    "s2 = set(os.listdir('../TextSegmentation/CompatSKT_2/'))\n",
    "s3 = set(os.listdir('../TextSegmentation/CompatSKT_3/'))"
   ]
  },
  {
   "cell_type": "code",
   "execution_count": 16,
   "metadata": {
    "collapsed": true
   },
   "outputs": [],
   "source": [
    "s4 = s3.union(s1.union(s2))"
   ]
  },
  {
   "cell_type": "code",
   "execution_count": 17,
   "metadata": {
    "collapsed": false
   },
   "outputs": [
    {
     "data": {
      "text/plain": [
       "100078"
      ]
     },
     "execution_count": 17,
     "metadata": {},
     "output_type": "execute_result"
    }
   ],
   "source": [
    "len(s4)"
   ]
  },
  {
   "cell_type": "code",
   "execution_count": 21,
   "metadata": {
    "collapsed": false,
    "scrolled": true
   },
   "outputs": [
    {
     "name": "stdout",
     "output_type": "stream",
     "text": [
      "New Replace i: 21139\n",
      "New Place 1 missing lemma into SKT: 32127\n",
      "Already Correct Files/Fix missing cng/other fixes: 46812\n"
     ]
    }
   ],
   "source": [
    "print('New Replace i:', len(s1))\n",
    "print('New Place 1 missing lemma into SKT:', len(s2))\n",
    "print('Already Correct Files/Fix missing cng/other fixes:', len(s3))"
   ]
  },
  {
   "cell_type": "code",
   "execution_count": null,
   "metadata": {
    "collapsed": true
   },
   "outputs": [],
   "source": []
  },
  {
   "cell_type": "code",
   "execution_count": null,
   "metadata": {
    "collapsed": true
   },
   "outputs": [],
   "source": []
  },
  {
   "cell_type": "code",
   "execution_count": null,
   "metadata": {
    "collapsed": true
   },
   "outputs": [],
   "source": []
  },
  {
   "cell_type": "code",
   "execution_count": null,
   "metadata": {
    "collapsed": true
   },
   "outputs": [],
   "source": []
  },
  {
   "cell_type": "code",
   "execution_count": null,
   "metadata": {
    "collapsed": true
   },
   "outputs": [],
   "source": []
  },
  {
   "cell_type": "code",
   "execution_count": null,
   "metadata": {
    "collapsed": true
   },
   "outputs": [],
   "source": []
  },
  {
   "cell_type": "code",
   "execution_count": null,
   "metadata": {
    "collapsed": true
   },
   "outputs": [],
   "source": []
  }
 ],
 "metadata": {
  "kernelspec": {
   "display_name": "Python 3",
   "language": "python",
   "name": "python3"
  },
  "language_info": {
   "codemirror_mode": {
    "name": "ipython",
    "version": 3
   },
   "file_extension": ".py",
   "mimetype": "text/x-python",
   "name": "python",
   "nbconvert_exporter": "python",
   "pygments_lexer": "ipython3",
   "version": "3.5.1"
  }
 },
 "nbformat": 4,
 "nbformat_minor": 0
}
