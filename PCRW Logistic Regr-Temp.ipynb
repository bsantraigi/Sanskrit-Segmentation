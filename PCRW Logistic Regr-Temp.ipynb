{
 "cells": [
  {
   "cell_type": "code",
   "execution_count": 5,
   "metadata": {
    "collapsed": false
   },
   "outputs": [
    {
     "name": "stdout",
     "output_type": "stream",
     "text": [
      "The autoreload extension is already loaded. To reload it, use:\n",
      "  %reload_ext autoreload\n"
     ]
    }
   ],
   "source": [
    "%load_ext autoreload\n",
    "%autoreload 2"
   ]
  },
  {
   "cell_type": "code",
   "execution_count": 6,
   "metadata": {
    "collapsed": false
   },
   "outputs": [],
   "source": [
    "import pandas\n",
    "import pandas as pd\n",
    "import numpy as np\n",
    "import gensim\n",
    "import csv\n",
    "import ProbData\n",
    "from ProbModels import *\n",
    "import pickle\n",
    "from utilities import *\n",
    "from sentences import *\n",
    "from DCS import *\n",
    "import os\n",
    "from sklearn.linear_model import LogisticRegression\n",
    "from sklearn.cross_validation import KFold"
   ]
  },
  {
   "cell_type": "code",
   "execution_count": 10,
   "metadata": {
    "collapsed": false
   },
   "outputs": [],
   "source": [
    "df = pd.read_csv('pcrw_24.csv', usecols=['f', 'ln_lemma', 'rn_lemma', 'ln_cng', 'rn_cng', '111',\n",
    "       '112', '113', '121', '122', '123', '131', '132', '133', '211', '212',\n",
    "       '213', '221', '222', '223', '231', '232', '233', '311', '312', '313',\n",
    "       '321', '322', '323', '331', '332', '333', '400', '500', '600', '700',\n",
    "       '800', '900', 'flag', '011', '022', '033'])\n",
    "\n",
    "df = df.drop(df[np.isnan(df.ln_cng) | np.isnan(df.rn_cng)].index) # Add\n",
    "\n",
    "df.ln_cng = df.ln_cng.astype(int) # Add\n",
    "df.rn_cng = df.rn_cng.astype(int) # Add"
   ]
  },
  {
   "cell_type": "code",
   "execution_count": 12,
   "metadata": {
    "collapsed": false
   },
   "outputs": [
    {
     "data": {
      "text/plain": [
       "Index(['f', 'ln_lemma', 'rn_lemma', 'ln_cng', 'rn_cng', '111', '112', '113',\n",
       "       '121', '122', '123', '131', '132', '133', '211', '212', '213', '221',\n",
       "       '222', '223', '231', '232', '233', '311', '312', '313', '321', '322',\n",
       "       '323', '331', '332', '333', '400', '500', '600', '700', '800', '900',\n",
       "       'flag', '011', '022', '033'],\n",
       "      dtype='object')"
      ]
     },
     "execution_count": 12,
     "metadata": {},
     "output_type": "execute_result"
    }
   ],
   "source": [
    "df.columns"
   ]
  },
  {
   "cell_type": "code",
   "execution_count": 13,
   "metadata": {
    "collapsed": false
   },
   "outputs": [
    {
     "data": {
      "text/html": [
       "<div>\n",
       "<table border=\"1\" class=\"dataframe\">\n",
       "  <thead>\n",
       "    <tr style=\"text-align: right;\">\n",
       "      <th></th>\n",
       "      <th>f</th>\n",
       "      <th>ln_lemma</th>\n",
       "      <th>rn_lemma</th>\n",
       "      <th>ln_cng</th>\n",
       "      <th>rn_cng</th>\n",
       "      <th>111</th>\n",
       "      <th>112</th>\n",
       "      <th>113</th>\n",
       "      <th>121</th>\n",
       "      <th>122</th>\n",
       "      <th>...</th>\n",
       "      <th>400</th>\n",
       "      <th>500</th>\n",
       "      <th>600</th>\n",
       "      <th>700</th>\n",
       "      <th>800</th>\n",
       "      <th>900</th>\n",
       "      <th>flag</th>\n",
       "      <th>011</th>\n",
       "      <th>022</th>\n",
       "      <th>033</th>\n",
       "    </tr>\n",
       "  </thead>\n",
       "  <tbody>\n",
       "    <tr>\n",
       "      <th>0</th>\n",
       "      <td>123274.p2</td>\n",
       "      <td>arjuna</td>\n",
       "      <td>vaDa</td>\n",
       "      <td>149</td>\n",
       "      <td>35</td>\n",
       "      <td>0.000223</td>\n",
       "      <td>0.000053</td>\n",
       "      <td>0.0</td>\n",
       "      <td>0</td>\n",
       "      <td>0.000047</td>\n",
       "      <td>...</td>\n",
       "      <td>0.0</td>\n",
       "      <td>0.0</td>\n",
       "      <td>0.0</td>\n",
       "      <td>0.0</td>\n",
       "      <td>0.0</td>\n",
       "      <td>0</td>\n",
       "      <td>1</td>\n",
       "      <td>0.00647</td>\n",
       "      <td>0</td>\n",
       "      <td>0.0</td>\n",
       "    </tr>\n",
       "    <tr>\n",
       "      <th>1</th>\n",
       "      <td>123274.p2</td>\n",
       "      <td>arjuna</td>\n",
       "      <td>vaDa</td>\n",
       "      <td>151</td>\n",
       "      <td>35</td>\n",
       "      <td>0.000223</td>\n",
       "      <td>0.000053</td>\n",
       "      <td>0.0</td>\n",
       "      <td>0</td>\n",
       "      <td>0.000047</td>\n",
       "      <td>...</td>\n",
       "      <td>0.0</td>\n",
       "      <td>0.0</td>\n",
       "      <td>0.0</td>\n",
       "      <td>0.0</td>\n",
       "      <td>0.0</td>\n",
       "      <td>0</td>\n",
       "      <td>1</td>\n",
       "      <td>0.00647</td>\n",
       "      <td>0</td>\n",
       "      <td>0.0</td>\n",
       "    </tr>\n",
       "    <tr>\n",
       "      <th>2</th>\n",
       "      <td>123274.p2</td>\n",
       "      <td>arjuna</td>\n",
       "      <td>vaDa</td>\n",
       "      <td>149</td>\n",
       "      <td>36</td>\n",
       "      <td>0.000223</td>\n",
       "      <td>0.000055</td>\n",
       "      <td>0.0</td>\n",
       "      <td>0</td>\n",
       "      <td>0.000020</td>\n",
       "      <td>...</td>\n",
       "      <td>0.0</td>\n",
       "      <td>0.0</td>\n",
       "      <td>0.0</td>\n",
       "      <td>0.0</td>\n",
       "      <td>0.0</td>\n",
       "      <td>0</td>\n",
       "      <td>1</td>\n",
       "      <td>0.00647</td>\n",
       "      <td>0</td>\n",
       "      <td>0.0</td>\n",
       "    </tr>\n",
       "    <tr>\n",
       "      <th>3</th>\n",
       "      <td>123274.p2</td>\n",
       "      <td>arjuna</td>\n",
       "      <td>vaDa</td>\n",
       "      <td>151</td>\n",
       "      <td>36</td>\n",
       "      <td>0.000223</td>\n",
       "      <td>0.000055</td>\n",
       "      <td>0.0</td>\n",
       "      <td>0</td>\n",
       "      <td>0.000020</td>\n",
       "      <td>...</td>\n",
       "      <td>0.0</td>\n",
       "      <td>0.0</td>\n",
       "      <td>0.0</td>\n",
       "      <td>0.0</td>\n",
       "      <td>0.0</td>\n",
       "      <td>0</td>\n",
       "      <td>1</td>\n",
       "      <td>0.00647</td>\n",
       "      <td>0</td>\n",
       "      <td>0.0</td>\n",
       "    </tr>\n",
       "    <tr>\n",
       "      <th>4</th>\n",
       "      <td>123274.p2</td>\n",
       "      <td>arjuna</td>\n",
       "      <td>vaDa</td>\n",
       "      <td>149</td>\n",
       "      <td>75</td>\n",
       "      <td>0.000223</td>\n",
       "      <td>0.000034</td>\n",
       "      <td>0.0</td>\n",
       "      <td>0</td>\n",
       "      <td>0.000128</td>\n",
       "      <td>...</td>\n",
       "      <td>0.0</td>\n",
       "      <td>0.0</td>\n",
       "      <td>0.0</td>\n",
       "      <td>0.0</td>\n",
       "      <td>0.0</td>\n",
       "      <td>0</td>\n",
       "      <td>1</td>\n",
       "      <td>0.00647</td>\n",
       "      <td>0</td>\n",
       "      <td>0.0</td>\n",
       "    </tr>\n",
       "    <tr>\n",
       "      <th>5</th>\n",
       "      <td>123274.p2</td>\n",
       "      <td>arjuna</td>\n",
       "      <td>vaDa</td>\n",
       "      <td>151</td>\n",
       "      <td>75</td>\n",
       "      <td>0.000223</td>\n",
       "      <td>0.000034</td>\n",
       "      <td>0.0</td>\n",
       "      <td>0</td>\n",
       "      <td>0.000128</td>\n",
       "      <td>...</td>\n",
       "      <td>0.0</td>\n",
       "      <td>0.0</td>\n",
       "      <td>0.0</td>\n",
       "      <td>0.0</td>\n",
       "      <td>0.0</td>\n",
       "      <td>0</td>\n",
       "      <td>1</td>\n",
       "      <td>0.00647</td>\n",
       "      <td>0</td>\n",
       "      <td>0.0</td>\n",
       "    </tr>\n",
       "  </tbody>\n",
       "</table>\n",
       "<p>6 rows × 42 columns</p>\n",
       "</div>"
      ],
      "text/plain": [
       "           f ln_lemma rn_lemma  ln_cng  rn_cng       111       112  113  121  \\\n",
       "0  123274.p2   arjuna     vaDa     149      35  0.000223  0.000053  0.0    0   \n",
       "1  123274.p2   arjuna     vaDa     151      35  0.000223  0.000053  0.0    0   \n",
       "2  123274.p2   arjuna     vaDa     149      36  0.000223  0.000055  0.0    0   \n",
       "3  123274.p2   arjuna     vaDa     151      36  0.000223  0.000055  0.0    0   \n",
       "4  123274.p2   arjuna     vaDa     149      75  0.000223  0.000034  0.0    0   \n",
       "5  123274.p2   arjuna     vaDa     151      75  0.000223  0.000034  0.0    0   \n",
       "\n",
       "        122 ...   400  500  600  700  800  900  flag      011  022  033  \n",
       "0  0.000047 ...   0.0  0.0  0.0  0.0  0.0    0     1  0.00647    0  0.0  \n",
       "1  0.000047 ...   0.0  0.0  0.0  0.0  0.0    0     1  0.00647    0  0.0  \n",
       "2  0.000020 ...   0.0  0.0  0.0  0.0  0.0    0     1  0.00647    0  0.0  \n",
       "3  0.000020 ...   0.0  0.0  0.0  0.0  0.0    0     1  0.00647    0  0.0  \n",
       "4  0.000128 ...   0.0  0.0  0.0  0.0  0.0    0     1  0.00647    0  0.0  \n",
       "5  0.000128 ...   0.0  0.0  0.0  0.0  0.0    0     1  0.00647    0  0.0  \n",
       "\n",
       "[6 rows x 42 columns]"
      ]
     },
     "execution_count": 13,
     "metadata": {},
     "output_type": "execute_result"
    }
   ],
   "source": [
    "df.head(6)"
   ]
  },
  {
   "cell_type": "code",
   "execution_count": 14,
   "metadata": {
    "collapsed": true
   },
   "outputs": [],
   "source": [
    "pb = ProbModels(fullCo_oc_mat = ProbData.fullCo_oc_mat, unigram_counts = ProbData.unigram_counts,\n",
    "               cng2cngFullMat = ProbData.cng2cngFullMat, cng2index_dict = ProbData.cng2index_dict,\n",
    "               w2w_samecng_fullmat=ProbData.w2w_samecng_fullmat, samecng_unigram_counts=ProbData.samecng_unigram_counts,\n",
    "               v2c_fullMat = ProbData.v2c_fullMat)"
   ]
  },
  {
   "cell_type": "code",
   "execution_count": 21,
   "metadata": {
    "collapsed": false
   },
   "outputs": [],
   "source": [
    "df['011'] = row_11\n",
    "df['022'] = row_22\n",
    "df['033'] = row_33"
   ]
  },
  {
   "cell_type": "code",
   "execution_count": 16,
   "metadata": {
    "collapsed": false
   },
   "outputs": [
    {
     "name": "stdout",
     "output_type": "stream",
     "text": [
      "['111', '112', '113', '122', '123', '131', '132', '211', '212', '213', '222', '223', '231', '232', '311', '312', '322', '400', '500', '600', '700', '800', '011', '033']\n"
     ]
    }
   ],
   "source": [
    "# hList = ['f', 'ln_lemma', 'rn_lemma', 'ln_cng', 'rn_cng']\n",
    "hList = []\n",
    "for u in range(1,10):\n",
    "    if u < 4:\n",
    "        for v in [1,2,3]:\n",
    "            for w in [1,2,3]:\n",
    "                hList.append(u*100 + 10*v + w)\n",
    "    else:\n",
    "        hList.append(u*100)\n",
    "hList.extend(['011','022','033'])\n",
    "\n",
    "# hList.append('flag')\n",
    "\n",
    "goodCols = []\n",
    "for h in hList:\n",
    "    if np.min(df[str(h)]) == 0 and np.max(df[str(h)]) == 0:\n",
    "#         print(h)\n",
    "        pass\n",
    "    else:\n",
    "        goodCols.append(str(h))\n",
    "        \n",
    "print(goodCols)"
   ]
  },
  {
   "cell_type": "code",
   "execution_count": 17,
   "metadata": {
    "collapsed": false
   },
   "outputs": [
    {
     "data": {
      "text/plain": [
       "0    4283777\n",
       "1     801548\n",
       "Name: flag, dtype: int64"
      ]
     },
     "execution_count": 17,
     "metadata": {},
     "output_type": "execute_result"
    }
   ],
   "source": [
    "df.flag.value_counts()"
   ]
  },
  {
   "cell_type": "code",
   "execution_count": 8,
   "metadata": {
    "collapsed": false
   },
   "outputs": [
    {
     "name": "stdout",
     "output_type": "stream",
     "text": [
      "800802 4004005\n"
     ]
    }
   ],
   "source": [
    "n_indices = list(range(4300000))\n",
    "n_indices = n_indices[0:4004008:5]\n",
    "print(len(n_indices), max(n_indices))"
   ]
  },
  {
   "cell_type": "code",
   "execution_count": 18,
   "metadata": {
    "collapsed": false
   },
   "outputs": [
    {
     "name": "stdout",
     "output_type": "stream",
     "text": [
      "(801548, 42) (801548, 42)\n"
     ]
    }
   ],
   "source": [
    "df_n = df[df['flag'] == 0]\n",
    "df_p = df[df['flag'] == 1]\n",
    "\n",
    "df_n = df_n.sample(df_p.shape[0])\n",
    "print(df_n.shape, df_p.shape)"
   ]
  },
  {
   "cell_type": "code",
   "execution_count": 19,
   "metadata": {
    "collapsed": false
   },
   "outputs": [],
   "source": [
    "frames = [df_n, df_p]\n",
    "df_2 = pd.concat(frames)\n",
    "df_2 = df_2.sample(df_2.shape[0])"
   ]
  },
  {
   "cell_type": "code",
   "execution_count": 21,
   "metadata": {
    "collapsed": false
   },
   "outputs": [
    {
     "name": "stdout",
     "output_type": "stream",
     "text": [
      "(801548, 42)\n",
      "(801548, 42)\n"
     ]
    }
   ],
   "source": [
    "print(df_2[df_2['flag'] == 0].shape)\n",
    "print(df_2[df_2['flag'] == 1].shape)"
   ]
  },
  {
   "cell_type": "code",
   "execution_count": 22,
   "metadata": {
    "collapsed": false
   },
   "outputs": [],
   "source": [
    "df_2 = df_2.reset_index(drop=True)"
   ]
  },
  {
   "cell_type": "code",
   "execution_count": 23,
   "metadata": {
    "collapsed": false
   },
   "outputs": [
    {
     "data": {
      "text/html": [
       "<div>\n",
       "<table border=\"1\" class=\"dataframe\">\n",
       "  <thead>\n",
       "    <tr style=\"text-align: right;\">\n",
       "      <th></th>\n",
       "      <th>f</th>\n",
       "      <th>ln_lemma</th>\n",
       "      <th>rn_lemma</th>\n",
       "      <th>ln_cng</th>\n",
       "      <th>rn_cng</th>\n",
       "      <th>111</th>\n",
       "      <th>112</th>\n",
       "      <th>113</th>\n",
       "      <th>121</th>\n",
       "      <th>122</th>\n",
       "      <th>...</th>\n",
       "      <th>400</th>\n",
       "      <th>500</th>\n",
       "      <th>600</th>\n",
       "      <th>700</th>\n",
       "      <th>800</th>\n",
       "      <th>900</th>\n",
       "      <th>flag</th>\n",
       "      <th>011</th>\n",
       "      <th>022</th>\n",
       "      <th>033</th>\n",
       "    </tr>\n",
       "  </thead>\n",
       "  <tbody>\n",
       "    <tr>\n",
       "      <th>0</th>\n",
       "      <td>143026.p2</td>\n",
       "      <td>SAlva</td>\n",
       "      <td>nagara</td>\n",
       "      <td>29</td>\n",
       "      <td>69</td>\n",
       "      <td>0.000265</td>\n",
       "      <td>0.014413</td>\n",
       "      <td>0.000000</td>\n",
       "      <td>0</td>\n",
       "      <td>0.116123</td>\n",
       "      <td>...</td>\n",
       "      <td>0.25</td>\n",
       "      <td>0.0</td>\n",
       "      <td>0.0</td>\n",
       "      <td>0.0</td>\n",
       "      <td>0.0</td>\n",
       "      <td>0</td>\n",
       "      <td>1</td>\n",
       "      <td>0.027211</td>\n",
       "      <td>0</td>\n",
       "      <td>0.0</td>\n",
       "    </tr>\n",
       "    <tr>\n",
       "      <th>1</th>\n",
       "      <td>14307.p2</td>\n",
       "      <td>kzatra</td>\n",
       "      <td>taqAga</td>\n",
       "      <td>56</td>\n",
       "      <td>3</td>\n",
       "      <td>0.000013</td>\n",
       "      <td>0.041058</td>\n",
       "      <td>0.000013</td>\n",
       "      <td>0</td>\n",
       "      <td>0.236454</td>\n",
       "      <td>...</td>\n",
       "      <td>0.00</td>\n",
       "      <td>0.0</td>\n",
       "      <td>0.0</td>\n",
       "      <td>0.0</td>\n",
       "      <td>0.0</td>\n",
       "      <td>0</td>\n",
       "      <td>0</td>\n",
       "      <td>0.000000</td>\n",
       "      <td>0</td>\n",
       "      <td>0.0</td>\n",
       "    </tr>\n",
       "    <tr>\n",
       "      <th>2</th>\n",
       "      <td>2846.p2</td>\n",
       "      <td>eva</td>\n",
       "      <td>prARa</td>\n",
       "      <td>2</td>\n",
       "      <td>29</td>\n",
       "      <td>0.000653</td>\n",
       "      <td>0.050239</td>\n",
       "      <td>0.000069</td>\n",
       "      <td>0</td>\n",
       "      <td>0.511285</td>\n",
       "      <td>...</td>\n",
       "      <td>0.00</td>\n",
       "      <td>0.0</td>\n",
       "      <td>0.0</td>\n",
       "      <td>0.0</td>\n",
       "      <td>0.0</td>\n",
       "      <td>0</td>\n",
       "      <td>1</td>\n",
       "      <td>0.005674</td>\n",
       "      <td>0</td>\n",
       "      <td>0.0</td>\n",
       "    </tr>\n",
       "    <tr>\n",
       "      <th>3</th>\n",
       "      <td>53544.p2</td>\n",
       "      <td>tad</td>\n",
       "      <td>tad</td>\n",
       "      <td>71</td>\n",
       "      <td>36</td>\n",
       "      <td>0.017795</td>\n",
       "      <td>0.000091</td>\n",
       "      <td>0.000008</td>\n",
       "      <td>0</td>\n",
       "      <td>0.000831</td>\n",
       "      <td>...</td>\n",
       "      <td>0.00</td>\n",
       "      <td>0.0</td>\n",
       "      <td>0.0</td>\n",
       "      <td>0.0</td>\n",
       "      <td>0.0</td>\n",
       "      <td>0</td>\n",
       "      <td>1</td>\n",
       "      <td>0.000000</td>\n",
       "      <td>0</td>\n",
       "      <td>0.0</td>\n",
       "    </tr>\n",
       "    <tr>\n",
       "      <th>4</th>\n",
       "      <td>136470.p2</td>\n",
       "      <td>ala</td>\n",
       "      <td>DAraRa</td>\n",
       "      <td>56</td>\n",
       "      <td>36</td>\n",
       "      <td>0.000000</td>\n",
       "      <td>0.000000</td>\n",
       "      <td>0.000000</td>\n",
       "      <td>0</td>\n",
       "      <td>0.000000</td>\n",
       "      <td>...</td>\n",
       "      <td>0.00</td>\n",
       "      <td>0.0</td>\n",
       "      <td>0.0</td>\n",
       "      <td>0.0</td>\n",
       "      <td>0.0</td>\n",
       "      <td>0</td>\n",
       "      <td>0</td>\n",
       "      <td>0.000000</td>\n",
       "      <td>0</td>\n",
       "      <td>0.0</td>\n",
       "    </tr>\n",
       "  </tbody>\n",
       "</table>\n",
       "<p>5 rows × 42 columns</p>\n",
       "</div>"
      ],
      "text/plain": [
       "           f ln_lemma rn_lemma  ln_cng  rn_cng       111       112       113  \\\n",
       "0  143026.p2    SAlva   nagara      29      69  0.000265  0.014413  0.000000   \n",
       "1   14307.p2   kzatra   taqAga      56       3  0.000013  0.041058  0.000013   \n",
       "2    2846.p2      eva    prARa       2      29  0.000653  0.050239  0.000069   \n",
       "3   53544.p2      tad      tad      71      36  0.017795  0.000091  0.000008   \n",
       "4  136470.p2      ala   DAraRa      56      36  0.000000  0.000000  0.000000   \n",
       "\n",
       "   121       122 ...    400  500  600  700  800  900  flag       011  022  033  \n",
       "0    0  0.116123 ...   0.25  0.0  0.0  0.0  0.0    0     1  0.027211    0  0.0  \n",
       "1    0  0.236454 ...   0.00  0.0  0.0  0.0  0.0    0     0  0.000000    0  0.0  \n",
       "2    0  0.511285 ...   0.00  0.0  0.0  0.0  0.0    0     1  0.005674    0  0.0  \n",
       "3    0  0.000831 ...   0.00  0.0  0.0  0.0  0.0    0     1  0.000000    0  0.0  \n",
       "4    0  0.000000 ...   0.00  0.0  0.0  0.0  0.0    0     0  0.000000    0  0.0  \n",
       "\n",
       "[5 rows x 42 columns]"
      ]
     },
     "execution_count": 23,
     "metadata": {},
     "output_type": "execute_result"
    }
   ],
   "source": [
    "df_2.head()"
   ]
  },
  {
   "cell_type": "code",
   "execution_count": 24,
   "metadata": {
    "collapsed": false
   },
   "outputs": [],
   "source": [
    "lr = LogisticRegression(solver='lbfgs', fit_intercept=False) # lbfgs, No Bias\n",
    "# lr.fit()\n",
    "kf = KFold(df_2.shape[0],4)"
   ]
  },
  {
   "cell_type": "code",
   "execution_count": null,
   "metadata": {
    "collapsed": false
   },
   "outputs": [],
   "source": [
    "coeffs = []\n",
    "for train, test in kf:\n",
    "    lr.fit(df_2.loc[train, goodCols], df_2.loc[train, 'flag'])\n",
    "    print(np.sum(df_2.loc[test, 'flag'] == lr.predict(df_2.loc[test, goodCols]))/len(test))\n",
    "    coeffs.append(lr.coef_)"
   ]
  },
  {
   "cell_type": "code",
   "execution_count": 15,
   "metadata": {
    "collapsed": false
   },
   "outputs": [],
   "source": [
    "df_results = pd.DataFrame(columns=['Path', 'CV_1', 'CV_2' ,'CV_3', 'CV_4'])\n",
    "for i in range(len(goodCols)):\n",
    "    df_results.loc[i] = [goodCols[i], coeffs[0][0][i], coeffs[1][0][i], coeffs[2][0][i], coeffs[3][0][i]]"
   ]
  },
  {
   "cell_type": "code",
   "execution_count": 16,
   "metadata": {
    "collapsed": true
   },
   "outputs": [],
   "source": [
    "df_results['avg'] = np.sum(df_results[['CV_1', 'CV_2', 'CV_3', 'CV_4']], axis = 1)/4\n",
    "df_results['min'] = np.min(df_results[['CV_1', 'CV_2', 'CV_3', 'CV_4']], axis = 1)"
   ]
  },
  {
   "cell_type": "code",
   "execution_count": 17,
   "metadata": {
    "collapsed": false,
    "scrolled": false
   },
   "outputs": [
    {
     "data": {
      "text/plain": [
       "array([  1.80602478,   0.25526765,  11.02924932,   2.14424648,\n",
       "         5.49015577,  36.3877483 ,   9.94486031,   8.52550359,\n",
       "         4.27411239,  13.04355219,   9.85612646,   0.25621379,\n",
       "         1.26833802,   3.23112315,   0.31753472,   0.36231652,\n",
       "         1.80477853,   0.39601337])"
      ]
     },
     "execution_count": 17,
     "metadata": {},
     "output_type": "execute_result"
    }
   ],
   "source": [
    "np.asarray(df_results.loc[df_results['min'] > 0, 'avg'])"
   ]
  },
  {
   "cell_type": "code",
   "execution_count": 19,
   "metadata": {
    "collapsed": false
   },
   "outputs": [
    {
     "data": {
      "text/html": [
       "<div>\n",
       "<table border=\"1\" class=\"dataframe\">\n",
       "  <thead>\n",
       "    <tr style=\"text-align: right;\">\n",
       "      <th></th>\n",
       "      <th>Path</th>\n",
       "      <th>CV_1</th>\n",
       "      <th>CV_2</th>\n",
       "      <th>CV_3</th>\n",
       "      <th>CV_4</th>\n",
       "      <th>avg</th>\n",
       "      <th>min</th>\n",
       "    </tr>\n",
       "  </thead>\n",
       "  <tbody>\n",
       "    <tr>\n",
       "      <th>0</th>\n",
       "      <td>111</td>\n",
       "      <td>1.732029</td>\n",
       "      <td>1.710357</td>\n",
       "      <td>1.793793</td>\n",
       "      <td>1.987920</td>\n",
       "      <td>1.806025</td>\n",
       "      <td>1.710357</td>\n",
       "    </tr>\n",
       "    <tr>\n",
       "      <th>1</th>\n",
       "      <td>112</td>\n",
       "      <td>0.254697</td>\n",
       "      <td>0.137528</td>\n",
       "      <td>0.339358</td>\n",
       "      <td>0.289486</td>\n",
       "      <td>0.255268</td>\n",
       "      <td>0.137528</td>\n",
       "    </tr>\n",
       "    <tr>\n",
       "      <th>2</th>\n",
       "      <td>113</td>\n",
       "      <td>10.730331</td>\n",
       "      <td>11.317838</td>\n",
       "      <td>10.519727</td>\n",
       "      <td>11.549102</td>\n",
       "      <td>11.029249</td>\n",
       "      <td>10.519727</td>\n",
       "    </tr>\n",
       "    <tr>\n",
       "      <th>3</th>\n",
       "      <td>122</td>\n",
       "      <td>2.117218</td>\n",
       "      <td>2.160538</td>\n",
       "      <td>2.155403</td>\n",
       "      <td>2.143828</td>\n",
       "      <td>2.144246</td>\n",
       "      <td>2.117218</td>\n",
       "    </tr>\n",
       "    <tr>\n",
       "      <th>4</th>\n",
       "      <td>123</td>\n",
       "      <td>5.350218</td>\n",
       "      <td>5.256214</td>\n",
       "      <td>5.826620</td>\n",
       "      <td>5.527571</td>\n",
       "      <td>5.490156</td>\n",
       "      <td>5.256214</td>\n",
       "    </tr>\n",
       "    <tr>\n",
       "      <th>5</th>\n",
       "      <td>131</td>\n",
       "      <td>36.446636</td>\n",
       "      <td>37.445279</td>\n",
       "      <td>36.089858</td>\n",
       "      <td>35.569219</td>\n",
       "      <td>36.387748</td>\n",
       "      <td>35.569219</td>\n",
       "    </tr>\n",
       "    <tr>\n",
       "      <th>6</th>\n",
       "      <td>132</td>\n",
       "      <td>-1.500415</td>\n",
       "      <td>-1.569429</td>\n",
       "      <td>-1.679975</td>\n",
       "      <td>-1.094609</td>\n",
       "      <td>-1.461107</td>\n",
       "      <td>-1.679975</td>\n",
       "    </tr>\n",
       "    <tr>\n",
       "      <th>7</th>\n",
       "      <td>211</td>\n",
       "      <td>-10.699556</td>\n",
       "      <td>-10.872726</td>\n",
       "      <td>-10.035713</td>\n",
       "      <td>-11.220252</td>\n",
       "      <td>-10.707062</td>\n",
       "      <td>-11.220252</td>\n",
       "    </tr>\n",
       "    <tr>\n",
       "      <th>8</th>\n",
       "      <td>212</td>\n",
       "      <td>-4.423943</td>\n",
       "      <td>-4.416033</td>\n",
       "      <td>-4.591167</td>\n",
       "      <td>-4.324654</td>\n",
       "      <td>-4.438949</td>\n",
       "      <td>-4.591167</td>\n",
       "    </tr>\n",
       "    <tr>\n",
       "      <th>9</th>\n",
       "      <td>213</td>\n",
       "      <td>9.585790</td>\n",
       "      <td>10.347819</td>\n",
       "      <td>10.148123</td>\n",
       "      <td>9.697709</td>\n",
       "      <td>9.944860</td>\n",
       "      <td>9.585790</td>\n",
       "    </tr>\n",
       "    <tr>\n",
       "      <th>10</th>\n",
       "      <td>222</td>\n",
       "      <td>-3.671961</td>\n",
       "      <td>-3.725197</td>\n",
       "      <td>-3.712283</td>\n",
       "      <td>-3.705808</td>\n",
       "      <td>-3.703812</td>\n",
       "      <td>-3.725197</td>\n",
       "    </tr>\n",
       "    <tr>\n",
       "      <th>11</th>\n",
       "      <td>223</td>\n",
       "      <td>8.679806</td>\n",
       "      <td>8.595434</td>\n",
       "      <td>8.380131</td>\n",
       "      <td>8.446643</td>\n",
       "      <td>8.525504</td>\n",
       "      <td>8.380131</td>\n",
       "    </tr>\n",
       "    <tr>\n",
       "      <th>12</th>\n",
       "      <td>231</td>\n",
       "      <td>4.353270</td>\n",
       "      <td>4.050703</td>\n",
       "      <td>4.463457</td>\n",
       "      <td>4.229020</td>\n",
       "      <td>4.274112</td>\n",
       "      <td>4.050703</td>\n",
       "    </tr>\n",
       "    <tr>\n",
       "      <th>13</th>\n",
       "      <td>232</td>\n",
       "      <td>12.612406</td>\n",
       "      <td>13.350320</td>\n",
       "      <td>13.029617</td>\n",
       "      <td>13.181866</td>\n",
       "      <td>13.043552</td>\n",
       "      <td>12.612406</td>\n",
       "    </tr>\n",
       "    <tr>\n",
       "      <th>14</th>\n",
       "      <td>311</td>\n",
       "      <td>10.181443</td>\n",
       "      <td>9.550882</td>\n",
       "      <td>9.538807</td>\n",
       "      <td>10.153373</td>\n",
       "      <td>9.856126</td>\n",
       "      <td>9.538807</td>\n",
       "    </tr>\n",
       "    <tr>\n",
       "      <th>15</th>\n",
       "      <td>312</td>\n",
       "      <td>0.192681</td>\n",
       "      <td>0.313275</td>\n",
       "      <td>0.293730</td>\n",
       "      <td>0.225169</td>\n",
       "      <td>0.256214</td>\n",
       "      <td>0.192681</td>\n",
       "    </tr>\n",
       "    <tr>\n",
       "      <th>16</th>\n",
       "      <td>322</td>\n",
       "      <td>1.278609</td>\n",
       "      <td>1.270547</td>\n",
       "      <td>1.266525</td>\n",
       "      <td>1.257672</td>\n",
       "      <td>1.268338</td>\n",
       "      <td>1.257672</td>\n",
       "    </tr>\n",
       "    <tr>\n",
       "      <th>17</th>\n",
       "      <td>400</td>\n",
       "      <td>3.223821</td>\n",
       "      <td>3.231394</td>\n",
       "      <td>3.236208</td>\n",
       "      <td>3.233069</td>\n",
       "      <td>3.231123</td>\n",
       "      <td>3.223821</td>\n",
       "    </tr>\n",
       "    <tr>\n",
       "      <th>18</th>\n",
       "      <td>500</td>\n",
       "      <td>0.342025</td>\n",
       "      <td>0.335464</td>\n",
       "      <td>0.220177</td>\n",
       "      <td>0.372472</td>\n",
       "      <td>0.317535</td>\n",
       "      <td>0.220177</td>\n",
       "    </tr>\n",
       "    <tr>\n",
       "      <th>19</th>\n",
       "      <td>600</td>\n",
       "      <td>0.321898</td>\n",
       "      <td>0.472014</td>\n",
       "      <td>0.270217</td>\n",
       "      <td>0.385137</td>\n",
       "      <td>0.362317</td>\n",
       "      <td>0.270217</td>\n",
       "    </tr>\n",
       "    <tr>\n",
       "      <th>20</th>\n",
       "      <td>700</td>\n",
       "      <td>1.607160</td>\n",
       "      <td>1.951715</td>\n",
       "      <td>1.940995</td>\n",
       "      <td>1.719245</td>\n",
       "      <td>1.804779</td>\n",
       "      <td>1.607160</td>\n",
       "    </tr>\n",
       "    <tr>\n",
       "      <th>21</th>\n",
       "      <td>800</td>\n",
       "      <td>0.428023</td>\n",
       "      <td>0.446151</td>\n",
       "      <td>0.316521</td>\n",
       "      <td>0.393359</td>\n",
       "      <td>0.396013</td>\n",
       "      <td>0.316521</td>\n",
       "    </tr>\n",
       "  </tbody>\n",
       "</table>\n",
       "</div>"
      ],
      "text/plain": [
       "   Path       CV_1       CV_2       CV_3       CV_4        avg        min\n",
       "0   111   1.732029   1.710357   1.793793   1.987920   1.806025   1.710357\n",
       "1   112   0.254697   0.137528   0.339358   0.289486   0.255268   0.137528\n",
       "2   113  10.730331  11.317838  10.519727  11.549102  11.029249  10.519727\n",
       "3   122   2.117218   2.160538   2.155403   2.143828   2.144246   2.117218\n",
       "4   123   5.350218   5.256214   5.826620   5.527571   5.490156   5.256214\n",
       "5   131  36.446636  37.445279  36.089858  35.569219  36.387748  35.569219\n",
       "6   132  -1.500415  -1.569429  -1.679975  -1.094609  -1.461107  -1.679975\n",
       "7   211 -10.699556 -10.872726 -10.035713 -11.220252 -10.707062 -11.220252\n",
       "8   212  -4.423943  -4.416033  -4.591167  -4.324654  -4.438949  -4.591167\n",
       "9   213   9.585790  10.347819  10.148123   9.697709   9.944860   9.585790\n",
       "10  222  -3.671961  -3.725197  -3.712283  -3.705808  -3.703812  -3.725197\n",
       "11  223   8.679806   8.595434   8.380131   8.446643   8.525504   8.380131\n",
       "12  231   4.353270   4.050703   4.463457   4.229020   4.274112   4.050703\n",
       "13  232  12.612406  13.350320  13.029617  13.181866  13.043552  12.612406\n",
       "14  311  10.181443   9.550882   9.538807  10.153373   9.856126   9.538807\n",
       "15  312   0.192681   0.313275   0.293730   0.225169   0.256214   0.192681\n",
       "16  322   1.278609   1.270547   1.266525   1.257672   1.268338   1.257672\n",
       "17  400   3.223821   3.231394   3.236208   3.233069   3.231123   3.223821\n",
       "18  500   0.342025   0.335464   0.220177   0.372472   0.317535   0.220177\n",
       "19  600   0.321898   0.472014   0.270217   0.385137   0.362317   0.270217\n",
       "20  700   1.607160   1.951715   1.940995   1.719245   1.804779   1.607160\n",
       "21  800   0.428023   0.446151   0.316521   0.393359   0.396013   0.316521"
      ]
     },
     "execution_count": 19,
     "metadata": {},
     "output_type": "execute_result"
    }
   ],
   "source": [
    "df_results"
   ]
  },
  {
   "cell_type": "code",
   "execution_count": 18,
   "metadata": {
    "collapsed": true
   },
   "outputs": [],
   "source": [
    "def getname(c):\n",
    "    if c == '1':\n",
    "        return 'simple lemma'\n",
    "    if c == '2':\n",
    "        return 'simple cng'\n",
    "    if c == '3':\n",
    "        return 'simple word'\n",
    "    if c == '4':\n",
    "        return 'noun-noun'\n",
    "    if c == '5':\n",
    "        return 'verb-gerund'\n",
    "    if c == '6':\n",
    "        return 'verb-absol'\n",
    "    if c == '7':\n",
    "        return 'verb-ppp'\n",
    "    if c == '8':\n",
    "        return 'verb-inf'\n",
    "    if c == '9':\n",
    "        return 'verb-ppa'\n",
    "df_path = pd.DataFrame(columns=['Path Code', 'Element 1', 'Element 2', 'Element 3'])\n",
    "for i in range(len(goodCols)):\n",
    "    path = goodCols[i]\n",
    "    df_path.loc[i] = [path, getname(path[0]), getname(path[1]), getname(path[2])]"
   ]
  },
  {
   "cell_type": "code",
   "execution_count": 19,
   "metadata": {
    "collapsed": false,
    "scrolled": false
   },
   "outputs": [
    {
     "data": {
      "text/html": [
       "<div>\n",
       "<table border=\"1\" class=\"dataframe\">\n",
       "  <thead>\n",
       "    <tr style=\"text-align: right;\">\n",
       "      <th></th>\n",
       "      <th>Path Code</th>\n",
       "      <th>Element 1</th>\n",
       "      <th>Element 2</th>\n",
       "      <th>Element 3</th>\n",
       "    </tr>\n",
       "  </thead>\n",
       "  <tbody>\n",
       "    <tr>\n",
       "      <th>0</th>\n",
       "      <td>111</td>\n",
       "      <td>simple lemma</td>\n",
       "      <td>simple lemma</td>\n",
       "      <td>simple lemma</td>\n",
       "    </tr>\n",
       "    <tr>\n",
       "      <th>1</th>\n",
       "      <td>112</td>\n",
       "      <td>simple lemma</td>\n",
       "      <td>simple lemma</td>\n",
       "      <td>simple cng</td>\n",
       "    </tr>\n",
       "    <tr>\n",
       "      <th>2</th>\n",
       "      <td>113</td>\n",
       "      <td>simple lemma</td>\n",
       "      <td>simple lemma</td>\n",
       "      <td>simple word</td>\n",
       "    </tr>\n",
       "    <tr>\n",
       "      <th>3</th>\n",
       "      <td>122</td>\n",
       "      <td>simple lemma</td>\n",
       "      <td>simple cng</td>\n",
       "      <td>simple cng</td>\n",
       "    </tr>\n",
       "    <tr>\n",
       "      <th>4</th>\n",
       "      <td>123</td>\n",
       "      <td>simple lemma</td>\n",
       "      <td>simple cng</td>\n",
       "      <td>simple word</td>\n",
       "    </tr>\n",
       "    <tr>\n",
       "      <th>5</th>\n",
       "      <td>131</td>\n",
       "      <td>simple lemma</td>\n",
       "      <td>simple word</td>\n",
       "      <td>simple lemma</td>\n",
       "    </tr>\n",
       "    <tr>\n",
       "      <th>6</th>\n",
       "      <td>132</td>\n",
       "      <td>simple lemma</td>\n",
       "      <td>simple word</td>\n",
       "      <td>simple cng</td>\n",
       "    </tr>\n",
       "    <tr>\n",
       "      <th>7</th>\n",
       "      <td>211</td>\n",
       "      <td>simple cng</td>\n",
       "      <td>simple lemma</td>\n",
       "      <td>simple lemma</td>\n",
       "    </tr>\n",
       "    <tr>\n",
       "      <th>8</th>\n",
       "      <td>212</td>\n",
       "      <td>simple cng</td>\n",
       "      <td>simple lemma</td>\n",
       "      <td>simple cng</td>\n",
       "    </tr>\n",
       "    <tr>\n",
       "      <th>9</th>\n",
       "      <td>213</td>\n",
       "      <td>simple cng</td>\n",
       "      <td>simple lemma</td>\n",
       "      <td>simple word</td>\n",
       "    </tr>\n",
       "    <tr>\n",
       "      <th>10</th>\n",
       "      <td>222</td>\n",
       "      <td>simple cng</td>\n",
       "      <td>simple cng</td>\n",
       "      <td>simple cng</td>\n",
       "    </tr>\n",
       "    <tr>\n",
       "      <th>11</th>\n",
       "      <td>223</td>\n",
       "      <td>simple cng</td>\n",
       "      <td>simple cng</td>\n",
       "      <td>simple word</td>\n",
       "    </tr>\n",
       "    <tr>\n",
       "      <th>12</th>\n",
       "      <td>231</td>\n",
       "      <td>simple cng</td>\n",
       "      <td>simple word</td>\n",
       "      <td>simple lemma</td>\n",
       "    </tr>\n",
       "    <tr>\n",
       "      <th>13</th>\n",
       "      <td>232</td>\n",
       "      <td>simple cng</td>\n",
       "      <td>simple word</td>\n",
       "      <td>simple cng</td>\n",
       "    </tr>\n",
       "    <tr>\n",
       "      <th>14</th>\n",
       "      <td>311</td>\n",
       "      <td>simple word</td>\n",
       "      <td>simple lemma</td>\n",
       "      <td>simple lemma</td>\n",
       "    </tr>\n",
       "    <tr>\n",
       "      <th>15</th>\n",
       "      <td>312</td>\n",
       "      <td>simple word</td>\n",
       "      <td>simple lemma</td>\n",
       "      <td>simple cng</td>\n",
       "    </tr>\n",
       "    <tr>\n",
       "      <th>16</th>\n",
       "      <td>322</td>\n",
       "      <td>simple word</td>\n",
       "      <td>simple cng</td>\n",
       "      <td>simple cng</td>\n",
       "    </tr>\n",
       "    <tr>\n",
       "      <th>17</th>\n",
       "      <td>400</td>\n",
       "      <td>noun-noun</td>\n",
       "      <td>None</td>\n",
       "      <td>None</td>\n",
       "    </tr>\n",
       "    <tr>\n",
       "      <th>18</th>\n",
       "      <td>500</td>\n",
       "      <td>verb-gerund</td>\n",
       "      <td>None</td>\n",
       "      <td>None</td>\n",
       "    </tr>\n",
       "    <tr>\n",
       "      <th>19</th>\n",
       "      <td>600</td>\n",
       "      <td>verb-absol</td>\n",
       "      <td>None</td>\n",
       "      <td>None</td>\n",
       "    </tr>\n",
       "    <tr>\n",
       "      <th>20</th>\n",
       "      <td>700</td>\n",
       "      <td>verb-ppp</td>\n",
       "      <td>None</td>\n",
       "      <td>None</td>\n",
       "    </tr>\n",
       "    <tr>\n",
       "      <th>21</th>\n",
       "      <td>800</td>\n",
       "      <td>verb-inf</td>\n",
       "      <td>None</td>\n",
       "      <td>None</td>\n",
       "    </tr>\n",
       "  </tbody>\n",
       "</table>\n",
       "</div>"
      ],
      "text/plain": [
       "   Path Code     Element 1     Element 2     Element 3\n",
       "0        111  simple lemma  simple lemma  simple lemma\n",
       "1        112  simple lemma  simple lemma    simple cng\n",
       "2        113  simple lemma  simple lemma   simple word\n",
       "3        122  simple lemma    simple cng    simple cng\n",
       "4        123  simple lemma    simple cng   simple word\n",
       "5        131  simple lemma   simple word  simple lemma\n",
       "6        132  simple lemma   simple word    simple cng\n",
       "7        211    simple cng  simple lemma  simple lemma\n",
       "8        212    simple cng  simple lemma    simple cng\n",
       "9        213    simple cng  simple lemma   simple word\n",
       "10       222    simple cng    simple cng    simple cng\n",
       "11       223    simple cng    simple cng   simple word\n",
       "12       231    simple cng   simple word  simple lemma\n",
       "13       232    simple cng   simple word    simple cng\n",
       "14       311   simple word  simple lemma  simple lemma\n",
       "15       312   simple word  simple lemma    simple cng\n",
       "16       322   simple word    simple cng    simple cng\n",
       "17       400     noun-noun          None          None\n",
       "18       500   verb-gerund          None          None\n",
       "19       600    verb-absol          None          None\n",
       "20       700      verb-ppp          None          None\n",
       "21       800      verb-inf          None          None"
      ]
     },
     "execution_count": 19,
     "metadata": {},
     "output_type": "execute_result"
    }
   ],
   "source": [
    "df_path"
   ]
  },
  {
   "cell_type": "code",
   "execution_count": 35,
   "metadata": {
    "collapsed": true
   },
   "outputs": [],
   "source": [
    "goodWeights = np.array([0.30758324,  12.0556656 ,   2.17109444,   5.78959942, 33.49313423,  10.32264846,   7.94864612,   4.31576204, 13.58834529,   9.17713191,   0.24156488,   1.22543121, 3.23680681,   0.33608101,   0.39159008,   1.72731087,   0.36444531])\n"
   ]
  },
  {
   "cell_type": "code",
   "execution_count": 36,
   "metadata": {
    "collapsed": false
   },
   "outputs": [],
   "source": [
    "goodWeights = goodWeights/np.sum(goodWeights)"
   ]
  },
  {
   "cell_type": "code",
   "execution_count": 37,
   "metadata": {
    "collapsed": false
   },
   "outputs": [
    {
     "data": {
      "text/plain": [
       "array([ 0.00288289,  0.11299414,  0.02034902,  0.05426418,  0.3139211 ,\n",
       "        0.09675109,  0.07450028,  0.04045034,  0.12735949,  0.08601451,\n",
       "        0.00226412,  0.0114856 ,  0.03033762,  0.00314999,  0.00367026,\n",
       "        0.01618957,  0.00341584])"
      ]
     },
     "execution_count": 37,
     "metadata": {},
     "output_type": "execute_result"
    }
   ],
   "source": [
    "goodWeights"
   ]
  },
  {
   "cell_type": "code",
   "execution_count": 3,
   "metadata": {
    "collapsed": false
   },
   "outputs": [],
   "source": [
    "w3 = np.array([0.3, 0.1, 0.55])\n",
    "w3 *= 0.4"
   ]
  },
  {
   "cell_type": "code",
   "execution_count": 4,
   "metadata": {
    "collapsed": false
   },
   "outputs": [
    {
     "data": {
      "text/plain": [
       "array([ 0.12,  0.04,  0.22])"
      ]
     },
     "execution_count": 4,
     "metadata": {},
     "output_type": "execute_result"
    }
   ],
   "source": [
    "w3"
   ]
  },
  {
   "cell_type": "code",
   "execution_count": 40,
   "metadata": {
    "collapsed": false
   },
   "outputs": [
    {
     "data": {
      "text/plain": [
       "0.97999999999999998"
      ]
     },
     "execution_count": 40,
     "metadata": {},
     "output_type": "execute_result"
    }
   ],
   "source": [
    "np.sum(goodWeights*0.6) + np.sum(w3)"
   ]
  },
  {
   "cell_type": "code",
   "execution_count": 41,
   "metadata": {
    "collapsed": false
   },
   "outputs": [
    {
     "data": {
      "text/plain": [
       "0.38"
      ]
     },
     "execution_count": 41,
     "metadata": {},
     "output_type": "execute_result"
    }
   ],
   "source": [
    "np.sum(w3)"
   ]
  },
  {
   "cell_type": "code",
   "execution_count": 3,
   "metadata": {
    "collapsed": true
   },
   "outputs": [],
   "source": [
    "goodCols = ['111', '112', '113', '122', '123', '131', '132', '211', '212', '213', '222', '223', '231', '232', '311', '312', '322', '400', '500', '600', '700', '800']"
   ]
  },
  {
   "cell_type": "code",
   "execution_count": 23,
   "metadata": {
    "collapsed": false
   },
   "outputs": [],
   "source": [
    "x = np.asarray(df_results['avg'])"
   ]
  },
  {
   "cell_type": "code",
   "execution_count": 29,
   "metadata": {
    "collapsed": true
   },
   "outputs": [],
   "source": [
    "z = x/(np.max(x) - np.min(x))"
   ]
  },
  {
   "cell_type": "code",
   "execution_count": 30,
   "metadata": {
    "collapsed": false
   },
   "outputs": [
    {
     "data": {
      "text/plain": [
       "array([ 0.0383487 ,  0.00542029,  0.23419246,  0.04553042,  0.11657666,\n",
       "        0.7726488 , -0.0310248 , -0.2273512 , -0.0942556 ,  0.2111668 ,\n",
       "       -0.07864587,  0.18102852,  0.09075549,  0.27696369,  0.20928265,\n",
       "        0.00544038,  0.02693159,  0.0686089 ,  0.00674246,  0.00769334,\n",
       "        0.03832224,  0.00840885])"
      ]
     },
     "execution_count": 30,
     "metadata": {},
     "output_type": "execute_result"
    }
   ],
   "source": [
    "z"
   ]
  },
  {
   "cell_type": "code",
   "execution_count": 31,
   "metadata": {
    "collapsed": false
   },
   "outputs": [
    {
     "data": {
      "text/plain": [
       "1.9127847672015557"
      ]
     },
     "execution_count": 31,
     "metadata": {},
     "output_type": "execute_result"
    }
   ],
   "source": [
    "np.sum(z)"
   ]
  },
  {
   "cell_type": "code",
   "execution_count": null,
   "metadata": {
    "collapsed": true
   },
   "outputs": [],
   "source": []
  }
 ],
 "metadata": {
  "kernelspec": {
   "display_name": "Python 3",
   "language": "python",
   "name": "python3"
  },
  "language_info": {
   "codemirror_mode": {
    "name": "ipython",
    "version": 3
   },
   "file_extension": ".py",
   "mimetype": "text/x-python",
   "name": "python",
   "nbconvert_exporter": "python",
   "pygments_lexer": "ipython3",
   "version": "3.5.1"
  }
 },
 "nbformat": 4,
 "nbformat_minor": 0
}
