{
 "cells": [
  {
   "cell_type": "code",
   "execution_count": 1,
   "metadata": {
    "collapsed": false
   },
   "outputs": [],
   "source": [
    "%load_ext autoreload\n",
    "%autoreload 2"
   ]
  },
  {
   "cell_type": "code",
   "execution_count": 45,
   "metadata": {
    "collapsed": false
   },
   "outputs": [],
   "source": [
    "import pandas\n",
    "import pandas as pd\n",
    "import numpy as np\n",
    "import gensim\n",
    "import csv\n",
    "import ProbData\n",
    "from ProbModels import *\n",
    "import pickle\n",
    "from utilities import *\n",
    "from sentences import *\n",
    "from DCS import *\n",
    "import os\n",
    "from sklearn.linear_model import LogisticRegression\n",
    "from sklearn.cross_validation import KFold\n",
    "from IPython.display import display"
   ]
  },
  {
   "cell_type": "code",
   "execution_count": 5,
   "metadata": {
    "collapsed": false
   },
   "outputs": [],
   "source": [
    "df = pd.read_csv('pcrw_25.csv', usecols=['f', 'ln_lemma', 'rn_lemma', 'ln_cng', 'rn_cng', '111',\n",
    "       '112', '113', '121', '122', '123', '131', '132', '133', '211', '212',\n",
    "       '213', '221', '222', '223', '231', '232', '233', '311', '312', '313',\n",
    "       '321', '322', '323', '331', '332', '333', '400', '500', '600', '700',\n",
    "       '800', '900', 'flag', '011', '022', '033'])\n",
    "\n",
    "df = df.drop(df[np.isnan(df.ln_cng) | np.isnan(df.rn_cng)].index) # Add\n",
    "\n",
    "df.ln_cng = df.ln_cng.astype(int) # Add\n",
    "df.rn_cng = df.rn_cng.astype(int) # Add"
   ]
  },
  {
   "cell_type": "code",
   "execution_count": 6,
   "metadata": {
    "collapsed": false
   },
   "outputs": [
    {
     "data": {
      "text/plain": [
       "Index(['f', 'ln_lemma', 'rn_lemma', 'ln_cng', 'rn_cng', '111', '112', '113',\n",
       "       '121', '122', '123', '131', '132', '133', '211', '212', '213', '221',\n",
       "       '222', '223', '231', '232', '233', '311', '312', '313', '321', '322',\n",
       "       '323', '331', '332', '333', '400', '500', '600', '700', '800', '900',\n",
       "       'flag', '011', '022', '033'],\n",
       "      dtype='object')"
      ]
     },
     "execution_count": 6,
     "metadata": {},
     "output_type": "execute_result"
    }
   ],
   "source": [
    "df.columns"
   ]
  },
  {
   "cell_type": "code",
   "execution_count": 8,
   "metadata": {
    "collapsed": false
   },
   "outputs": [
    {
     "data": {
      "text/html": [
       "<div>\n",
       "<table border=\"1\" class=\"dataframe\">\n",
       "  <thead>\n",
       "    <tr style=\"text-align: right;\">\n",
       "      <th></th>\n",
       "      <th>f</th>\n",
       "      <th>ln_lemma</th>\n",
       "      <th>rn_lemma</th>\n",
       "      <th>ln_cng</th>\n",
       "      <th>rn_cng</th>\n",
       "      <th>111</th>\n",
       "      <th>112</th>\n",
       "      <th>113</th>\n",
       "      <th>121</th>\n",
       "      <th>122</th>\n",
       "      <th>...</th>\n",
       "      <th>400</th>\n",
       "      <th>500</th>\n",
       "      <th>600</th>\n",
       "      <th>700</th>\n",
       "      <th>800</th>\n",
       "      <th>900</th>\n",
       "      <th>flag</th>\n",
       "      <th>011</th>\n",
       "      <th>022</th>\n",
       "      <th>033</th>\n",
       "    </tr>\n",
       "  </thead>\n",
       "  <tbody>\n",
       "    <tr>\n",
       "      <th>0</th>\n",
       "      <td>123274.p2</td>\n",
       "      <td>arjuna</td>\n",
       "      <td>vaDa</td>\n",
       "      <td>149</td>\n",
       "      <td>35</td>\n",
       "      <td>0.000223</td>\n",
       "      <td>0.000053</td>\n",
       "      <td>0.0</td>\n",
       "      <td>0</td>\n",
       "      <td>0.000047</td>\n",
       "      <td>...</td>\n",
       "      <td>0.0</td>\n",
       "      <td>0.0</td>\n",
       "      <td>0.0</td>\n",
       "      <td>0.0</td>\n",
       "      <td>0.0</td>\n",
       "      <td>0</td>\n",
       "      <td>1</td>\n",
       "      <td>0.00647</td>\n",
       "      <td>0.000518</td>\n",
       "      <td>0.0</td>\n",
       "    </tr>\n",
       "    <tr>\n",
       "      <th>1</th>\n",
       "      <td>123274.p2</td>\n",
       "      <td>arjuna</td>\n",
       "      <td>vaDa</td>\n",
       "      <td>151</td>\n",
       "      <td>35</td>\n",
       "      <td>0.000223</td>\n",
       "      <td>0.000053</td>\n",
       "      <td>0.0</td>\n",
       "      <td>0</td>\n",
       "      <td>0.000047</td>\n",
       "      <td>...</td>\n",
       "      <td>0.0</td>\n",
       "      <td>0.0</td>\n",
       "      <td>0.0</td>\n",
       "      <td>0.0</td>\n",
       "      <td>0.0</td>\n",
       "      <td>0</td>\n",
       "      <td>1</td>\n",
       "      <td>0.00647</td>\n",
       "      <td>0.000411</td>\n",
       "      <td>0.0</td>\n",
       "    </tr>\n",
       "    <tr>\n",
       "      <th>2</th>\n",
       "      <td>123274.p2</td>\n",
       "      <td>arjuna</td>\n",
       "      <td>vaDa</td>\n",
       "      <td>149</td>\n",
       "      <td>36</td>\n",
       "      <td>0.000223</td>\n",
       "      <td>0.000055</td>\n",
       "      <td>0.0</td>\n",
       "      <td>0</td>\n",
       "      <td>0.000020</td>\n",
       "      <td>...</td>\n",
       "      <td>0.0</td>\n",
       "      <td>0.0</td>\n",
       "      <td>0.0</td>\n",
       "      <td>0.0</td>\n",
       "      <td>0.0</td>\n",
       "      <td>0</td>\n",
       "      <td>1</td>\n",
       "      <td>0.00647</td>\n",
       "      <td>0.000628</td>\n",
       "      <td>0.0</td>\n",
       "    </tr>\n",
       "    <tr>\n",
       "      <th>3</th>\n",
       "      <td>123274.p2</td>\n",
       "      <td>arjuna</td>\n",
       "      <td>vaDa</td>\n",
       "      <td>151</td>\n",
       "      <td>36</td>\n",
       "      <td>0.000223</td>\n",
       "      <td>0.000055</td>\n",
       "      <td>0.0</td>\n",
       "      <td>0</td>\n",
       "      <td>0.000020</td>\n",
       "      <td>...</td>\n",
       "      <td>0.0</td>\n",
       "      <td>0.0</td>\n",
       "      <td>0.0</td>\n",
       "      <td>0.0</td>\n",
       "      <td>0.0</td>\n",
       "      <td>0</td>\n",
       "      <td>1</td>\n",
       "      <td>0.00647</td>\n",
       "      <td>0.000992</td>\n",
       "      <td>0.0</td>\n",
       "    </tr>\n",
       "    <tr>\n",
       "      <th>4</th>\n",
       "      <td>123274.p2</td>\n",
       "      <td>arjuna</td>\n",
       "      <td>vaDa</td>\n",
       "      <td>149</td>\n",
       "      <td>75</td>\n",
       "      <td>0.000223</td>\n",
       "      <td>0.000034</td>\n",
       "      <td>0.0</td>\n",
       "      <td>0</td>\n",
       "      <td>0.000128</td>\n",
       "      <td>...</td>\n",
       "      <td>0.0</td>\n",
       "      <td>0.0</td>\n",
       "      <td>0.0</td>\n",
       "      <td>0.0</td>\n",
       "      <td>0.0</td>\n",
       "      <td>0</td>\n",
       "      <td>1</td>\n",
       "      <td>0.00647</td>\n",
       "      <td>0.000131</td>\n",
       "      <td>0.0</td>\n",
       "    </tr>\n",
       "    <tr>\n",
       "      <th>5</th>\n",
       "      <td>123274.p2</td>\n",
       "      <td>arjuna</td>\n",
       "      <td>vaDa</td>\n",
       "      <td>151</td>\n",
       "      <td>75</td>\n",
       "      <td>0.000223</td>\n",
       "      <td>0.000034</td>\n",
       "      <td>0.0</td>\n",
       "      <td>0</td>\n",
       "      <td>0.000128</td>\n",
       "      <td>...</td>\n",
       "      <td>0.0</td>\n",
       "      <td>0.0</td>\n",
       "      <td>0.0</td>\n",
       "      <td>0.0</td>\n",
       "      <td>0.0</td>\n",
       "      <td>0</td>\n",
       "      <td>1</td>\n",
       "      <td>0.00647</td>\n",
       "      <td>0.000048</td>\n",
       "      <td>0.0</td>\n",
       "    </tr>\n",
       "  </tbody>\n",
       "</table>\n",
       "<p>6 rows × 42 columns</p>\n",
       "</div>"
      ],
      "text/plain": [
       "           f ln_lemma rn_lemma  ln_cng  rn_cng       111       112  113  121  \\\n",
       "0  123274.p2   arjuna     vaDa     149      35  0.000223  0.000053  0.0    0   \n",
       "1  123274.p2   arjuna     vaDa     151      35  0.000223  0.000053  0.0    0   \n",
       "2  123274.p2   arjuna     vaDa     149      36  0.000223  0.000055  0.0    0   \n",
       "3  123274.p2   arjuna     vaDa     151      36  0.000223  0.000055  0.0    0   \n",
       "4  123274.p2   arjuna     vaDa     149      75  0.000223  0.000034  0.0    0   \n",
       "5  123274.p2   arjuna     vaDa     151      75  0.000223  0.000034  0.0    0   \n",
       "\n",
       "        122 ...   400  500  600  700  800  900  flag      011       022  033  \n",
       "0  0.000047 ...   0.0  0.0  0.0  0.0  0.0    0     1  0.00647  0.000518  0.0  \n",
       "1  0.000047 ...   0.0  0.0  0.0  0.0  0.0    0     1  0.00647  0.000411  0.0  \n",
       "2  0.000020 ...   0.0  0.0  0.0  0.0  0.0    0     1  0.00647  0.000628  0.0  \n",
       "3  0.000020 ...   0.0  0.0  0.0  0.0  0.0    0     1  0.00647  0.000992  0.0  \n",
       "4  0.000128 ...   0.0  0.0  0.0  0.0  0.0    0     1  0.00647  0.000131  0.0  \n",
       "5  0.000128 ...   0.0  0.0  0.0  0.0  0.0    0     1  0.00647  0.000048  0.0  \n",
       "\n",
       "[6 rows x 42 columns]"
      ]
     },
     "execution_count": 8,
     "metadata": {},
     "output_type": "execute_result"
    }
   ],
   "source": [
    "df.head(6)"
   ]
  },
  {
   "cell_type": "code",
   "execution_count": 71,
   "metadata": {
    "collapsed": true
   },
   "outputs": [],
   "source": [
    "# pb = ProbModels(fullCo_oc_mat = ProbData.fullCo_oc_mat, unigram_counts = ProbData.unigram_counts,\n",
    "#                cng2cngFullMat = ProbData.cng2cngFullMat, cng2index_dict = ProbData.cng2index_dict,\n",
    "#                w2w_samecng_fullmat=ProbData.w2w_samecng_fullmat, samecng_unigram_counts=ProbData.samecng_unigram_counts,\n",
    "#                v2c_fullMat = ProbData.v2c_fullMat)"
   ]
  },
  {
   "cell_type": "code",
   "execution_count": 72,
   "metadata": {
    "collapsed": true
   },
   "outputs": [],
   "source": [
    "# 11 - lemma2lemma\n",
    "# 22 - cng2cng\n",
    "# 33 - samecng\n",
    "# def lemlem(row):\n",
    "#     try:\n",
    "#         return ProbData.fullCo_oc_mat[row['ln_lemma']][row['rn_lemma']] / ProbData.unigram_counts[row['ln_lemma']]\n",
    "#     except KeyError:\n",
    "#         return 0\n",
    "    \n",
    "# def lemlem_sc(row):\n",
    "#     if row['ln_cng'] == row['rn_cng']:\n",
    "#         try:\n",
    "#             return ProbData.w2w_samecng_fullmat[row['ln_lemma']][row['rn_lemma']] / ProbData.samecng_unigram_counts[row['ln_lemma']]\n",
    "#         except KeyError:\n",
    "#             return 0\n",
    "#     else:\n",
    "#         return 0\n",
    "    \n",
    "# def cngcng(row):\n",
    "#     try:\n",
    "#         ia = ProbData.cng2index_dict[str(row['ln_cng'])]\n",
    "#         ib = ProbData.cng2index_dict[str(row['rn_cng'])]\n",
    "#         return ProbData.cng2cngFullMat[ia, ib] / pb.t2t_co_oc_count[ia, 0]\n",
    "#     except KeyError:\n",
    "#         return 0\n",
    "        \n",
    "\n",
    "\n",
    "\n",
    "# row_11 = df.apply(lemlem, axis = 1)\n",
    "\n",
    "# row_22 = df.apply(cngcng, axis = 1)\n",
    "\n",
    "# row_33 = df.apply(lemlem_sc, axis = 1)\n",
    "\n",
    "\n",
    "\n",
    "# df['011'] = row_11\n",
    "# df['022'] = row_22\n",
    "# df['033'] = row_33"
   ]
  },
  {
   "cell_type": "code",
   "execution_count": 47,
   "metadata": {
    "collapsed": false
   },
   "outputs": [
    {
     "name": "stdout",
     "output_type": "stream",
     "text": [
      "Dataloader Started[Prob]...\n",
      "Dataloader Finished[Prob]...\n",
      "Preprocessing PCRW Database...\n",
      "Preprocessing PCRW Database [COMPLETE]...\n",
      "['111', '112', '113', '122', '123', '131', '132', '211', '212', '213', '222', '223', '231', '232', '311', '312', '322', '400', '500', '600', '700', '800', '011', '022', '033']\n"
     ]
    }
   ],
   "source": [
    "# hList = ['f', 'ln_lemma', 'rn_lemma', 'ln_cng', 'rn_cng']\n",
    "hList = []\n",
    "for u in range(1,10):\n",
    "    if u < 4:\n",
    "        for v in [1,2,3]:\n",
    "            for w in [1,2,3]:\n",
    "                hList.append(u*100 + 10*v + w)\n",
    "    else:\n",
    "        hList.append(u*100)\n",
    "# hList.extend(['011','022','033'])\n",
    "hList.extend(['011','022', '033'])\n",
    "\n",
    "# hList.append('flag')\n",
    "\n",
    "goodCols = []\n",
    "for h in hList:\n",
    "    if np.min(df[str(h)]) == 0 and np.max(df[str(h)]) == 0:\n",
    "#         print(h)\n",
    "        pass\n",
    "    else:\n",
    "        goodCols.append(str(h))\n",
    "        \n",
    "print(goodCols)"
   ]
  },
  {
   "cell_type": "code",
   "execution_count": 48,
   "metadata": {
    "collapsed": false
   },
   "outputs": [
    {
     "data": {
      "text/plain": [
       "25"
      ]
     },
     "execution_count": 48,
     "metadata": {},
     "output_type": "execute_result"
    }
   ],
   "source": [
    "len(goodCols)"
   ]
  },
  {
   "cell_type": "code",
   "execution_count": 49,
   "metadata": {
    "collapsed": false
   },
   "outputs": [
    {
     "data": {
      "text/plain": [
       "0    4283777\n",
       "1     801548\n",
       "Name: flag, dtype: int64"
      ]
     },
     "execution_count": 49,
     "metadata": {},
     "output_type": "execute_result"
    }
   ],
   "source": [
    "df.flag.value_counts()"
   ]
  },
  {
   "cell_type": "code",
   "execution_count": 50,
   "metadata": {
    "collapsed": false
   },
   "outputs": [
    {
     "name": "stdout",
     "output_type": "stream",
     "text": [
      "800802 4004005\n"
     ]
    }
   ],
   "source": [
    "n_indices = list(range(4300000))\n",
    "n_indices = n_indices[0:4004008:5]\n",
    "print(len(n_indices), max(n_indices))"
   ]
  },
  {
   "cell_type": "code",
   "execution_count": 51,
   "metadata": {
    "collapsed": false
   },
   "outputs": [
    {
     "name": "stdout",
     "output_type": "stream",
     "text": [
      "(801548, 42) (801548, 42)\n"
     ]
    }
   ],
   "source": [
    "df_n = df[df['flag'] == 0]\n",
    "df_p = df[df['flag'] == 1]\n",
    "\n",
    "df_n = df_n.sample(df_p.shape[0])\n",
    "print(df_n.shape, df_p.shape)"
   ]
  },
  {
   "cell_type": "code",
   "execution_count": 52,
   "metadata": {
    "collapsed": false
   },
   "outputs": [],
   "source": [
    "frames = [df_n, df_p]\n",
    "df_2 = pd.concat(frames)\n",
    "df_2 = df_2.sample(df_2.shape[0])"
   ]
  },
  {
   "cell_type": "code",
   "execution_count": 53,
   "metadata": {
    "collapsed": false
   },
   "outputs": [
    {
     "name": "stdout",
     "output_type": "stream",
     "text": [
      "(801548, 42)\n",
      "(801548, 42)\n"
     ]
    }
   ],
   "source": [
    "print(df_2[df_2['flag'] == 0].shape)\n",
    "print(df_2[df_2['flag'] == 1].shape)"
   ]
  },
  {
   "cell_type": "code",
   "execution_count": 54,
   "metadata": {
    "collapsed": false
   },
   "outputs": [],
   "source": [
    "df_2 = df_2.reset_index(drop=True)"
   ]
  },
  {
   "cell_type": "code",
   "execution_count": 55,
   "metadata": {
    "collapsed": false
   },
   "outputs": [],
   "source": [
    "lr = LogisticRegression(solver='lbfgs', fit_intercept=False) # lbfgs, No Bias\n",
    "# lr.fit()\n",
    "kf = KFold(df_2.shape[0],4)"
   ]
  },
  {
   "cell_type": "code",
   "execution_count": 56,
   "metadata": {
    "collapsed": false
   },
   "outputs": [
    {
     "name": "stdout",
     "output_type": "stream",
     "text": [
      "0.720725396358\n",
      "0.72078278531\n",
      "0.720243828192\n",
      "0.720762823936\n"
     ]
    }
   ],
   "source": [
    "coeffs = []\n",
    "for train, test in kf:\n",
    "    lr.fit(df_2.loc[train, goodCols], df_2.loc[train, 'flag'])\n",
    "    print(np.sum(df_2.loc[test, 'flag'] == lr.predict(df_2.loc[test, goodCols]))/len(test))\n",
    "    coeffs.append(lr.coef_)"
   ]
  },
  {
   "cell_type": "code",
   "execution_count": 57,
   "metadata": {
    "collapsed": false
   },
   "outputs": [
    {
     "name": "stdout",
     "output_type": "stream",
     "text": [
      "Dataloader Started[Prob]...\n",
      "Dataloader Finished[Prob]...\n",
      "Preprocessing PCRW Database...\n",
      "Preprocessing PCRW Database [COMPLETE]...\n"
     ]
    }
   ],
   "source": [
    "df_results = pd.DataFrame(columns=['Path', 'CV_1', 'CV_2' ,'CV_3', 'CV_4'])\n",
    "for i in range(len(goodCols)):\n",
    "    df_results.loc[i] = [goodCols[i], coeffs[0][0][i], coeffs[1][0][i], coeffs[2][0][i], coeffs[3][0][i]]"
   ]
  },
  {
   "cell_type": "code",
   "execution_count": 58,
   "metadata": {
    "collapsed": true
   },
   "outputs": [],
   "source": [
    "df_results['avg'] = np.sum(df_results[['CV_1', 'CV_2', 'CV_3', 'CV_4']], axis = 1)/4\n",
    "df_results['min'] = np.min(df_results[['CV_1', 'CV_2', 'CV_3', 'CV_4']], axis = 1)"
   ]
  },
  {
   "cell_type": "code",
   "execution_count": 59,
   "metadata": {
    "collapsed": false
   },
   "outputs": [
    {
     "name": "stdout",
     "output_type": "stream",
     "text": [
      "['111', '112', '113', '122', '123', '131', '132', '211', '212', '213', '222', '223', '231', '232', '311', '312', '322', '400', '500', '600', '700', '800', '011', '022', '033']\n"
     ]
    },
    {
     "data": {
      "text/plain": [
       "array([ -3.60154202,   0.12051034,  10.20001181,   2.19923501,\n",
       "         2.28734689,  25.36362492,  -3.09226718, -15.77969152,\n",
       "        -4.21303213,  10.62164022,  -3.71344374,   5.8242817 ,\n",
       "         2.13084679,  13.42347203,   6.94626147,   0.33661488,\n",
       "         1.22412063,   2.88330069,   0.20301016,   0.32069797,\n",
       "         1.04363305,   0.28507474,   4.49850795,  -0.27397026,   8.43255253])"
      ]
     },
     "metadata": {},
     "output_type": "display_data"
    }
   ],
   "source": [
    "print(goodCols)\n",
    "display(np.asarray(df_results['avg']))"
   ]
  },
  {
   "cell_type": "code",
   "execution_count": 40,
   "metadata": {
    "collapsed": false,
    "scrolled": false
   },
   "outputs": [
    {
     "data": {
      "text/plain": [
       "array([  0.27920666,  11.28729653,   2.17634043,   2.94292211,\n",
       "        27.6274655 ,  10.75837206,   5.45059613,   2.12671972,\n",
       "        13.65112367,   7.28889777,   0.37595928,   1.2250849 ,\n",
       "         2.95362505,   0.23630001,   0.33619974,   1.1608632 ,\n",
       "         0.29997654,   4.66070081])"
      ]
     },
     "execution_count": 40,
     "metadata": {},
     "output_type": "execute_result"
    }
   ],
   "source": [
    "np.asarray(df_results.loc[df_results['min'] > 0, 'avg'])"
   ]
  },
  {
   "cell_type": "code",
   "execution_count": 41,
   "metadata": {
    "collapsed": false
   },
   "outputs": [
    {
     "data": {
      "text/html": [
       "<div>\n",
       "<table border=\"1\" class=\"dataframe\">\n",
       "  <thead>\n",
       "    <tr style=\"text-align: right;\">\n",
       "      <th></th>\n",
       "      <th>Path</th>\n",
       "      <th>CV_1</th>\n",
       "      <th>CV_2</th>\n",
       "      <th>CV_3</th>\n",
       "      <th>CV_4</th>\n",
       "      <th>avg</th>\n",
       "      <th>min</th>\n",
       "    </tr>\n",
       "  </thead>\n",
       "  <tbody>\n",
       "    <tr>\n",
       "      <th>0</th>\n",
       "      <td>111</td>\n",
       "      <td>-4.782406</td>\n",
       "      <td>-5.169520</td>\n",
       "      <td>-4.100222</td>\n",
       "      <td>-4.389363</td>\n",
       "      <td>-4.610378</td>\n",
       "      <td>-5.169520</td>\n",
       "    </tr>\n",
       "    <tr>\n",
       "      <th>1</th>\n",
       "      <td>112</td>\n",
       "      <td>0.233140</td>\n",
       "      <td>0.253134</td>\n",
       "      <td>0.243293</td>\n",
       "      <td>0.387258</td>\n",
       "      <td>0.279207</td>\n",
       "      <td>0.233140</td>\n",
       "    </tr>\n",
       "    <tr>\n",
       "      <th>2</th>\n",
       "      <td>113</td>\n",
       "      <td>10.933322</td>\n",
       "      <td>11.916028</td>\n",
       "      <td>11.497238</td>\n",
       "      <td>10.802599</td>\n",
       "      <td>11.287297</td>\n",
       "      <td>10.802599</td>\n",
       "    </tr>\n",
       "    <tr>\n",
       "      <th>3</th>\n",
       "      <td>122</td>\n",
       "      <td>2.202385</td>\n",
       "      <td>2.152021</td>\n",
       "      <td>2.181509</td>\n",
       "      <td>2.169447</td>\n",
       "      <td>2.176340</td>\n",
       "      <td>2.152021</td>\n",
       "    </tr>\n",
       "    <tr>\n",
       "      <th>4</th>\n",
       "      <td>123</td>\n",
       "      <td>2.832715</td>\n",
       "      <td>2.667016</td>\n",
       "      <td>2.985158</td>\n",
       "      <td>3.286798</td>\n",
       "      <td>2.942922</td>\n",
       "      <td>2.667016</td>\n",
       "    </tr>\n",
       "    <tr>\n",
       "      <th>5</th>\n",
       "      <td>131</td>\n",
       "      <td>26.794290</td>\n",
       "      <td>28.637952</td>\n",
       "      <td>27.345118</td>\n",
       "      <td>27.732503</td>\n",
       "      <td>27.627465</td>\n",
       "      <td>26.794290</td>\n",
       "    </tr>\n",
       "    <tr>\n",
       "      <th>6</th>\n",
       "      <td>132</td>\n",
       "      <td>-3.662640</td>\n",
       "      <td>-3.737598</td>\n",
       "      <td>-3.042336</td>\n",
       "      <td>-3.557660</td>\n",
       "      <td>-3.500059</td>\n",
       "      <td>-3.737598</td>\n",
       "    </tr>\n",
       "    <tr>\n",
       "      <th>7</th>\n",
       "      <td>211</td>\n",
       "      <td>-16.284828</td>\n",
       "      <td>-15.409822</td>\n",
       "      <td>-16.406734</td>\n",
       "      <td>-16.044439</td>\n",
       "      <td>-16.036456</td>\n",
       "      <td>-16.406734</td>\n",
       "    </tr>\n",
       "    <tr>\n",
       "      <th>8</th>\n",
       "      <td>212</td>\n",
       "      <td>-4.034703</td>\n",
       "      <td>-4.189716</td>\n",
       "      <td>-4.225610</td>\n",
       "      <td>-4.365946</td>\n",
       "      <td>-4.203994</td>\n",
       "      <td>-4.365946</td>\n",
       "    </tr>\n",
       "    <tr>\n",
       "      <th>9</th>\n",
       "      <td>213</td>\n",
       "      <td>10.584532</td>\n",
       "      <td>11.152043</td>\n",
       "      <td>10.704669</td>\n",
       "      <td>10.592245</td>\n",
       "      <td>10.758372</td>\n",
       "      <td>10.584532</td>\n",
       "    </tr>\n",
       "    <tr>\n",
       "      <th>10</th>\n",
       "      <td>222</td>\n",
       "      <td>-3.654719</td>\n",
       "      <td>-3.651979</td>\n",
       "      <td>-3.660112</td>\n",
       "      <td>-3.658483</td>\n",
       "      <td>-3.656323</td>\n",
       "      <td>-3.660112</td>\n",
       "    </tr>\n",
       "    <tr>\n",
       "      <th>11</th>\n",
       "      <td>223</td>\n",
       "      <td>5.382748</td>\n",
       "      <td>5.635891</td>\n",
       "      <td>5.526103</td>\n",
       "      <td>5.257642</td>\n",
       "      <td>5.450596</td>\n",
       "      <td>5.257642</td>\n",
       "    </tr>\n",
       "    <tr>\n",
       "      <th>12</th>\n",
       "      <td>231</td>\n",
       "      <td>2.142211</td>\n",
       "      <td>2.408783</td>\n",
       "      <td>1.967806</td>\n",
       "      <td>1.988079</td>\n",
       "      <td>2.126720</td>\n",
       "      <td>1.967806</td>\n",
       "    </tr>\n",
       "    <tr>\n",
       "      <th>13</th>\n",
       "      <td>232</td>\n",
       "      <td>12.971998</td>\n",
       "      <td>13.548779</td>\n",
       "      <td>14.761333</td>\n",
       "      <td>13.322384</td>\n",
       "      <td>13.651124</td>\n",
       "      <td>12.971998</td>\n",
       "    </tr>\n",
       "    <tr>\n",
       "      <th>14</th>\n",
       "      <td>311</td>\n",
       "      <td>8.124958</td>\n",
       "      <td>6.791710</td>\n",
       "      <td>7.232142</td>\n",
       "      <td>7.006780</td>\n",
       "      <td>7.288898</td>\n",
       "      <td>6.791710</td>\n",
       "    </tr>\n",
       "    <tr>\n",
       "      <th>15</th>\n",
       "      <td>312</td>\n",
       "      <td>0.344392</td>\n",
       "      <td>0.403911</td>\n",
       "      <td>0.354095</td>\n",
       "      <td>0.401439</td>\n",
       "      <td>0.375959</td>\n",
       "      <td>0.344392</td>\n",
       "    </tr>\n",
       "    <tr>\n",
       "      <th>16</th>\n",
       "      <td>322</td>\n",
       "      <td>1.200452</td>\n",
       "      <td>1.244374</td>\n",
       "      <td>1.227784</td>\n",
       "      <td>1.227730</td>\n",
       "      <td>1.225085</td>\n",
       "      <td>1.200452</td>\n",
       "    </tr>\n",
       "    <tr>\n",
       "      <th>17</th>\n",
       "      <td>400</td>\n",
       "      <td>2.943430</td>\n",
       "      <td>2.957405</td>\n",
       "      <td>2.956725</td>\n",
       "      <td>2.956940</td>\n",
       "      <td>2.953625</td>\n",
       "      <td>2.943430</td>\n",
       "    </tr>\n",
       "    <tr>\n",
       "      <th>18</th>\n",
       "      <td>500</td>\n",
       "      <td>0.201252</td>\n",
       "      <td>0.198515</td>\n",
       "      <td>0.281696</td>\n",
       "      <td>0.263737</td>\n",
       "      <td>0.236300</td>\n",
       "      <td>0.198515</td>\n",
       "    </tr>\n",
       "    <tr>\n",
       "      <th>19</th>\n",
       "      <td>600</td>\n",
       "      <td>0.323571</td>\n",
       "      <td>0.350997</td>\n",
       "      <td>0.348877</td>\n",
       "      <td>0.321354</td>\n",
       "      <td>0.336200</td>\n",
       "      <td>0.321354</td>\n",
       "    </tr>\n",
       "    <tr>\n",
       "      <th>20</th>\n",
       "      <td>700</td>\n",
       "      <td>1.153705</td>\n",
       "      <td>1.170547</td>\n",
       "      <td>1.164476</td>\n",
       "      <td>1.154724</td>\n",
       "      <td>1.160863</td>\n",
       "      <td>1.153705</td>\n",
       "    </tr>\n",
       "    <tr>\n",
       "      <th>21</th>\n",
       "      <td>800</td>\n",
       "      <td>0.322142</td>\n",
       "      <td>0.270113</td>\n",
       "      <td>0.298976</td>\n",
       "      <td>0.308676</td>\n",
       "      <td>0.299977</td>\n",
       "      <td>0.270113</td>\n",
       "    </tr>\n",
       "    <tr>\n",
       "      <th>22</th>\n",
       "      <td>011</td>\n",
       "      <td>4.695630</td>\n",
       "      <td>4.654806</td>\n",
       "      <td>4.657381</td>\n",
       "      <td>4.634987</td>\n",
       "      <td>4.660701</td>\n",
       "      <td>4.634987</td>\n",
       "    </tr>\n",
       "    <tr>\n",
       "      <th>23</th>\n",
       "      <td>022</td>\n",
       "      <td>-0.435357</td>\n",
       "      <td>-0.415647</td>\n",
       "      <td>-0.472145</td>\n",
       "      <td>-0.360309</td>\n",
       "      <td>-0.420864</td>\n",
       "      <td>-0.472145</td>\n",
       "    </tr>\n",
       "  </tbody>\n",
       "</table>\n",
       "</div>"
      ],
      "text/plain": [
       "   Path       CV_1       CV_2       CV_3       CV_4        avg        min\n",
       "0   111  -4.782406  -5.169520  -4.100222  -4.389363  -4.610378  -5.169520\n",
       "1   112   0.233140   0.253134   0.243293   0.387258   0.279207   0.233140\n",
       "2   113  10.933322  11.916028  11.497238  10.802599  11.287297  10.802599\n",
       "3   122   2.202385   2.152021   2.181509   2.169447   2.176340   2.152021\n",
       "4   123   2.832715   2.667016   2.985158   3.286798   2.942922   2.667016\n",
       "5   131  26.794290  28.637952  27.345118  27.732503  27.627465  26.794290\n",
       "6   132  -3.662640  -3.737598  -3.042336  -3.557660  -3.500059  -3.737598\n",
       "7   211 -16.284828 -15.409822 -16.406734 -16.044439 -16.036456 -16.406734\n",
       "8   212  -4.034703  -4.189716  -4.225610  -4.365946  -4.203994  -4.365946\n",
       "9   213  10.584532  11.152043  10.704669  10.592245  10.758372  10.584532\n",
       "10  222  -3.654719  -3.651979  -3.660112  -3.658483  -3.656323  -3.660112\n",
       "11  223   5.382748   5.635891   5.526103   5.257642   5.450596   5.257642\n",
       "12  231   2.142211   2.408783   1.967806   1.988079   2.126720   1.967806\n",
       "13  232  12.971998  13.548779  14.761333  13.322384  13.651124  12.971998\n",
       "14  311   8.124958   6.791710   7.232142   7.006780   7.288898   6.791710\n",
       "15  312   0.344392   0.403911   0.354095   0.401439   0.375959   0.344392\n",
       "16  322   1.200452   1.244374   1.227784   1.227730   1.225085   1.200452\n",
       "17  400   2.943430   2.957405   2.956725   2.956940   2.953625   2.943430\n",
       "18  500   0.201252   0.198515   0.281696   0.263737   0.236300   0.198515\n",
       "19  600   0.323571   0.350997   0.348877   0.321354   0.336200   0.321354\n",
       "20  700   1.153705   1.170547   1.164476   1.154724   1.160863   1.153705\n",
       "21  800   0.322142   0.270113   0.298976   0.308676   0.299977   0.270113\n",
       "22  011   4.695630   4.654806   4.657381   4.634987   4.660701   4.634987\n",
       "23  022  -0.435357  -0.415647  -0.472145  -0.360309  -0.420864  -0.472145"
      ]
     },
     "execution_count": 41,
     "metadata": {},
     "output_type": "execute_result"
    }
   ],
   "source": [
    "df_results"
   ]
  },
  {
   "cell_type": "code",
   "execution_count": null,
   "metadata": {
    "collapsed": true
   },
   "outputs": [],
   "source": []
  },
  {
   "cell_type": "code",
   "execution_count": 18,
   "metadata": {
    "collapsed": true
   },
   "outputs": [],
   "source": [
    "def getname(c):\n",
    "    if c == '1':\n",
    "        return 'simple lemma'\n",
    "    if c == '2':\n",
    "        return 'simple cng'\n",
    "    if c == '3':\n",
    "        return 'simple word'\n",
    "    if c == '4':\n",
    "        return 'noun-noun'\n",
    "    if c == '5':\n",
    "        return 'verb-gerund'\n",
    "    if c == '6':\n",
    "        return 'verb-absol'\n",
    "    if c == '7':\n",
    "        return 'verb-ppp'\n",
    "    if c == '8':\n",
    "        return 'verb-inf'\n",
    "    if c == '9':\n",
    "        return 'verb-ppa'\n",
    "df_path = pd.DataFrame(columns=['Path Code', 'Element 1', 'Element 2', 'Element 3'])\n",
    "for i in range(len(goodCols)):\n",
    "    path = goodCols[i]\n",
    "    df_path.loc[i] = [path, getname(path[0]), getname(path[1]), getname(path[2])]"
   ]
  },
  {
   "cell_type": "code",
   "execution_count": 19,
   "metadata": {
    "collapsed": false,
    "scrolled": false
   },
   "outputs": [
    {
     "data": {
      "text/html": [
       "<div>\n",
       "<table border=\"1\" class=\"dataframe\">\n",
       "  <thead>\n",
       "    <tr style=\"text-align: right;\">\n",
       "      <th></th>\n",
       "      <th>Path Code</th>\n",
       "      <th>Element 1</th>\n",
       "      <th>Element 2</th>\n",
       "      <th>Element 3</th>\n",
       "    </tr>\n",
       "  </thead>\n",
       "  <tbody>\n",
       "    <tr>\n",
       "      <th>0</th>\n",
       "      <td>111</td>\n",
       "      <td>simple lemma</td>\n",
       "      <td>simple lemma</td>\n",
       "      <td>simple lemma</td>\n",
       "    </tr>\n",
       "    <tr>\n",
       "      <th>1</th>\n",
       "      <td>112</td>\n",
       "      <td>simple lemma</td>\n",
       "      <td>simple lemma</td>\n",
       "      <td>simple cng</td>\n",
       "    </tr>\n",
       "    <tr>\n",
       "      <th>2</th>\n",
       "      <td>113</td>\n",
       "      <td>simple lemma</td>\n",
       "      <td>simple lemma</td>\n",
       "      <td>simple word</td>\n",
       "    </tr>\n",
       "    <tr>\n",
       "      <th>3</th>\n",
       "      <td>122</td>\n",
       "      <td>simple lemma</td>\n",
       "      <td>simple cng</td>\n",
       "      <td>simple cng</td>\n",
       "    </tr>\n",
       "    <tr>\n",
       "      <th>4</th>\n",
       "      <td>123</td>\n",
       "      <td>simple lemma</td>\n",
       "      <td>simple cng</td>\n",
       "      <td>simple word</td>\n",
       "    </tr>\n",
       "    <tr>\n",
       "      <th>5</th>\n",
       "      <td>131</td>\n",
       "      <td>simple lemma</td>\n",
       "      <td>simple word</td>\n",
       "      <td>simple lemma</td>\n",
       "    </tr>\n",
       "    <tr>\n",
       "      <th>6</th>\n",
       "      <td>132</td>\n",
       "      <td>simple lemma</td>\n",
       "      <td>simple word</td>\n",
       "      <td>simple cng</td>\n",
       "    </tr>\n",
       "    <tr>\n",
       "      <th>7</th>\n",
       "      <td>211</td>\n",
       "      <td>simple cng</td>\n",
       "      <td>simple lemma</td>\n",
       "      <td>simple lemma</td>\n",
       "    </tr>\n",
       "    <tr>\n",
       "      <th>8</th>\n",
       "      <td>212</td>\n",
       "      <td>simple cng</td>\n",
       "      <td>simple lemma</td>\n",
       "      <td>simple cng</td>\n",
       "    </tr>\n",
       "    <tr>\n",
       "      <th>9</th>\n",
       "      <td>213</td>\n",
       "      <td>simple cng</td>\n",
       "      <td>simple lemma</td>\n",
       "      <td>simple word</td>\n",
       "    </tr>\n",
       "    <tr>\n",
       "      <th>10</th>\n",
       "      <td>222</td>\n",
       "      <td>simple cng</td>\n",
       "      <td>simple cng</td>\n",
       "      <td>simple cng</td>\n",
       "    </tr>\n",
       "    <tr>\n",
       "      <th>11</th>\n",
       "      <td>223</td>\n",
       "      <td>simple cng</td>\n",
       "      <td>simple cng</td>\n",
       "      <td>simple word</td>\n",
       "    </tr>\n",
       "    <tr>\n",
       "      <th>12</th>\n",
       "      <td>231</td>\n",
       "      <td>simple cng</td>\n",
       "      <td>simple word</td>\n",
       "      <td>simple lemma</td>\n",
       "    </tr>\n",
       "    <tr>\n",
       "      <th>13</th>\n",
       "      <td>232</td>\n",
       "      <td>simple cng</td>\n",
       "      <td>simple word</td>\n",
       "      <td>simple cng</td>\n",
       "    </tr>\n",
       "    <tr>\n",
       "      <th>14</th>\n",
       "      <td>311</td>\n",
       "      <td>simple word</td>\n",
       "      <td>simple lemma</td>\n",
       "      <td>simple lemma</td>\n",
       "    </tr>\n",
       "    <tr>\n",
       "      <th>15</th>\n",
       "      <td>312</td>\n",
       "      <td>simple word</td>\n",
       "      <td>simple lemma</td>\n",
       "      <td>simple cng</td>\n",
       "    </tr>\n",
       "    <tr>\n",
       "      <th>16</th>\n",
       "      <td>322</td>\n",
       "      <td>simple word</td>\n",
       "      <td>simple cng</td>\n",
       "      <td>simple cng</td>\n",
       "    </tr>\n",
       "    <tr>\n",
       "      <th>17</th>\n",
       "      <td>400</td>\n",
       "      <td>noun-noun</td>\n",
       "      <td>None</td>\n",
       "      <td>None</td>\n",
       "    </tr>\n",
       "    <tr>\n",
       "      <th>18</th>\n",
       "      <td>500</td>\n",
       "      <td>verb-gerund</td>\n",
       "      <td>None</td>\n",
       "      <td>None</td>\n",
       "    </tr>\n",
       "    <tr>\n",
       "      <th>19</th>\n",
       "      <td>600</td>\n",
       "      <td>verb-absol</td>\n",
       "      <td>None</td>\n",
       "      <td>None</td>\n",
       "    </tr>\n",
       "    <tr>\n",
       "      <th>20</th>\n",
       "      <td>700</td>\n",
       "      <td>verb-ppp</td>\n",
       "      <td>None</td>\n",
       "      <td>None</td>\n",
       "    </tr>\n",
       "    <tr>\n",
       "      <th>21</th>\n",
       "      <td>800</td>\n",
       "      <td>verb-inf</td>\n",
       "      <td>None</td>\n",
       "      <td>None</td>\n",
       "    </tr>\n",
       "  </tbody>\n",
       "</table>\n",
       "</div>"
      ],
      "text/plain": [
       "   Path Code     Element 1     Element 2     Element 3\n",
       "0        111  simple lemma  simple lemma  simple lemma\n",
       "1        112  simple lemma  simple lemma    simple cng\n",
       "2        113  simple lemma  simple lemma   simple word\n",
       "3        122  simple lemma    simple cng    simple cng\n",
       "4        123  simple lemma    simple cng   simple word\n",
       "5        131  simple lemma   simple word  simple lemma\n",
       "6        132  simple lemma   simple word    simple cng\n",
       "7        211    simple cng  simple lemma  simple lemma\n",
       "8        212    simple cng  simple lemma    simple cng\n",
       "9        213    simple cng  simple lemma   simple word\n",
       "10       222    simple cng    simple cng    simple cng\n",
       "11       223    simple cng    simple cng   simple word\n",
       "12       231    simple cng   simple word  simple lemma\n",
       "13       232    simple cng   simple word    simple cng\n",
       "14       311   simple word  simple lemma  simple lemma\n",
       "15       312   simple word  simple lemma    simple cng\n",
       "16       322   simple word    simple cng    simple cng\n",
       "17       400     noun-noun          None          None\n",
       "18       500   verb-gerund          None          None\n",
       "19       600    verb-absol          None          None\n",
       "20       700      verb-ppp          None          None\n",
       "21       800      verb-inf          None          None"
      ]
     },
     "execution_count": 19,
     "metadata": {},
     "output_type": "execute_result"
    }
   ],
   "source": [
    "df_path"
   ]
  },
  {
   "cell_type": "code",
   "execution_count": 35,
   "metadata": {
    "collapsed": true
   },
   "outputs": [],
   "source": [
    "goodWeights = np.array([0.30758324,  12.0556656 ,   2.17109444,   5.78959942, 33.49313423,  10.32264846,   7.94864612,   4.31576204, 13.58834529,   9.17713191,   0.24156488,   1.22543121, 3.23680681,   0.33608101,   0.39159008,   1.72731087,   0.36444531])\n"
   ]
  },
  {
   "cell_type": "code",
   "execution_count": 36,
   "metadata": {
    "collapsed": false
   },
   "outputs": [],
   "source": [
    "goodWeights = goodWeights/np.sum(goodWeights)"
   ]
  },
  {
   "cell_type": "code",
   "execution_count": 37,
   "metadata": {
    "collapsed": false
   },
   "outputs": [
    {
     "data": {
      "text/plain": [
       "array([ 0.00288289,  0.11299414,  0.02034902,  0.05426418,  0.3139211 ,\n",
       "        0.09675109,  0.07450028,  0.04045034,  0.12735949,  0.08601451,\n",
       "        0.00226412,  0.0114856 ,  0.03033762,  0.00314999,  0.00367026,\n",
       "        0.01618957,  0.00341584])"
      ]
     },
     "execution_count": 37,
     "metadata": {},
     "output_type": "execute_result"
    }
   ],
   "source": [
    "goodWeights"
   ]
  },
  {
   "cell_type": "code",
   "execution_count": 3,
   "metadata": {
    "collapsed": false
   },
   "outputs": [],
   "source": [
    "w3 = np.array([0.3, 0.1, 0.55])\n",
    "w3 *= 0.4"
   ]
  },
  {
   "cell_type": "code",
   "execution_count": 4,
   "metadata": {
    "collapsed": false
   },
   "outputs": [
    {
     "data": {
      "text/plain": [
       "array([ 0.12,  0.04,  0.22])"
      ]
     },
     "execution_count": 4,
     "metadata": {},
     "output_type": "execute_result"
    }
   ],
   "source": [
    "w3"
   ]
  },
  {
   "cell_type": "code",
   "execution_count": 40,
   "metadata": {
    "collapsed": false
   },
   "outputs": [
    {
     "data": {
      "text/plain": [
       "0.97999999999999998"
      ]
     },
     "execution_count": 40,
     "metadata": {},
     "output_type": "execute_result"
    }
   ],
   "source": [
    "np.sum(goodWeights*0.6) + np.sum(w3)"
   ]
  },
  {
   "cell_type": "code",
   "execution_count": 41,
   "metadata": {
    "collapsed": false
   },
   "outputs": [
    {
     "data": {
      "text/plain": [
       "0.38"
      ]
     },
     "execution_count": 41,
     "metadata": {},
     "output_type": "execute_result"
    }
   ],
   "source": [
    "np.sum(w3)"
   ]
  },
  {
   "cell_type": "code",
   "execution_count": 3,
   "metadata": {
    "collapsed": true
   },
   "outputs": [],
   "source": [
    "goodCols = ['111', '112', '113', '122', '123', '131', '132', '211', '212', '213', '222', '223', '231', '232', '311', '312', '322', '400', '500', '600', '700', '800']"
   ]
  },
  {
   "cell_type": "code",
   "execution_count": 23,
   "metadata": {
    "collapsed": false
   },
   "outputs": [],
   "source": [
    "x = np.asarray(df_results['avg'])"
   ]
  },
  {
   "cell_type": "code",
   "execution_count": 24,
   "metadata": {
    "collapsed": true
   },
   "outputs": [],
   "source": [
    "z = x/(np.max(x) - np.min(x))"
   ]
  },
  {
   "cell_type": "code",
   "execution_count": 25,
   "metadata": {
    "collapsed": false
   },
   "outputs": [
    {
     "data": {
      "text/plain": [
       "array([-0.06366967,  0.00180837,  0.23795702,  0.0506419 ,  0.04758066,\n",
       "        0.62008073, -0.07183627, -0.37991927, -0.09453072,  0.22684876,\n",
       "       -0.08394839,  0.13554915,  0.05121899,  0.3129761 ,  0.15254854,\n",
       "        0.00922738,  0.02676178,  0.06565262,  0.00351618,  0.00659052,\n",
       "        0.02472485,  0.00597698,  0.10132104, -0.00659054,  0.19438582])"
      ]
     },
     "execution_count": 25,
     "metadata": {},
     "output_type": "execute_result"
    }
   ],
   "source": [
    "z"
   ]
  },
  {
   "cell_type": "code",
   "execution_count": 42,
   "metadata": {
    "collapsed": false
   },
   "outputs": [
    {
     "name": "stdout",
     "output_type": "stream",
     "text": [
      "['111', '112', '113', '122', '123', '131', '132', '211', '212', '213', '222', '223', '231', '232', '311', '312', '322', '400', '500', '600', '700', '800', '011', '022']\n",
      "[ -4.61037792   0.27920666  11.28729653   2.17634043   2.94292211\n",
      "  27.6274655   -3.50005862 -16.03645576  -4.20399383  10.75837206\n",
      "  -3.65632308   5.45059613   2.12671972  13.65112367   7.28889777\n",
      "   0.37595928   1.2250849    2.95362505   0.23630001   0.33619974\n",
      "   1.1608632    0.29997654   4.66070081  -0.42086444]\n"
     ]
    }
   ],
   "source": [
    "print(goodCols)\n",
    "print(np.asarray(df_results['avg']))"
   ]
  },
  {
   "cell_type": "code",
   "execution_count": 78,
   "metadata": {
    "collapsed": true
   },
   "outputs": [],
   "source": [
    "# df.to_csv('pcrw_25.csv')"
   ]
  },
  {
   "cell_type": "code",
   "execution_count": 57,
   "metadata": {
    "collapsed": false
   },
   "outputs": [
    {
     "data": {
      "text/html": [
       "<div>\n",
       "<table border=\"1\" class=\"dataframe\">\n",
       "  <thead>\n",
       "    <tr style=\"text-align: right;\">\n",
       "      <th></th>\n",
       "      <th>f</th>\n",
       "      <th>ln_lemma</th>\n",
       "      <th>rn_lemma</th>\n",
       "      <th>ln_cng</th>\n",
       "      <th>rn_cng</th>\n",
       "      <th>111</th>\n",
       "      <th>112</th>\n",
       "      <th>113</th>\n",
       "      <th>121</th>\n",
       "      <th>122</th>\n",
       "      <th>...</th>\n",
       "      <th>331</th>\n",
       "      <th>332</th>\n",
       "      <th>333</th>\n",
       "      <th>400</th>\n",
       "      <th>500</th>\n",
       "      <th>600</th>\n",
       "      <th>700</th>\n",
       "      <th>800</th>\n",
       "      <th>900</th>\n",
       "      <th>flag</th>\n",
       "    </tr>\n",
       "  </thead>\n",
       "  <tbody>\n",
       "    <tr>\n",
       "      <th>0</th>\n",
       "      <td>123274.p2</td>\n",
       "      <td>arjuna</td>\n",
       "      <td>vaDa</td>\n",
       "      <td>149</td>\n",
       "      <td>35</td>\n",
       "      <td>0.000223</td>\n",
       "      <td>0.000053</td>\n",
       "      <td>0.0</td>\n",
       "      <td>0</td>\n",
       "      <td>0.000047</td>\n",
       "      <td>...</td>\n",
       "      <td>0</td>\n",
       "      <td>0</td>\n",
       "      <td>0</td>\n",
       "      <td>0.0</td>\n",
       "      <td>0.0</td>\n",
       "      <td>0.0</td>\n",
       "      <td>0.0</td>\n",
       "      <td>0.0</td>\n",
       "      <td>0</td>\n",
       "      <td>1</td>\n",
       "    </tr>\n",
       "    <tr>\n",
       "      <th>1</th>\n",
       "      <td>123274.p2</td>\n",
       "      <td>arjuna</td>\n",
       "      <td>vaDa</td>\n",
       "      <td>151</td>\n",
       "      <td>35</td>\n",
       "      <td>0.000223</td>\n",
       "      <td>0.000053</td>\n",
       "      <td>0.0</td>\n",
       "      <td>0</td>\n",
       "      <td>0.000047</td>\n",
       "      <td>...</td>\n",
       "      <td>0</td>\n",
       "      <td>0</td>\n",
       "      <td>0</td>\n",
       "      <td>0.0</td>\n",
       "      <td>0.0</td>\n",
       "      <td>0.0</td>\n",
       "      <td>0.0</td>\n",
       "      <td>0.0</td>\n",
       "      <td>0</td>\n",
       "      <td>1</td>\n",
       "    </tr>\n",
       "    <tr>\n",
       "      <th>2</th>\n",
       "      <td>123274.p2</td>\n",
       "      <td>arjuna</td>\n",
       "      <td>vaDa</td>\n",
       "      <td>149</td>\n",
       "      <td>36</td>\n",
       "      <td>0.000223</td>\n",
       "      <td>0.000055</td>\n",
       "      <td>0.0</td>\n",
       "      <td>0</td>\n",
       "      <td>0.000020</td>\n",
       "      <td>...</td>\n",
       "      <td>0</td>\n",
       "      <td>0</td>\n",
       "      <td>0</td>\n",
       "      <td>0.0</td>\n",
       "      <td>0.0</td>\n",
       "      <td>0.0</td>\n",
       "      <td>0.0</td>\n",
       "      <td>0.0</td>\n",
       "      <td>0</td>\n",
       "      <td>1</td>\n",
       "    </tr>\n",
       "    <tr>\n",
       "      <th>3</th>\n",
       "      <td>123274.p2</td>\n",
       "      <td>arjuna</td>\n",
       "      <td>vaDa</td>\n",
       "      <td>151</td>\n",
       "      <td>36</td>\n",
       "      <td>0.000223</td>\n",
       "      <td>0.000055</td>\n",
       "      <td>0.0</td>\n",
       "      <td>0</td>\n",
       "      <td>0.000020</td>\n",
       "      <td>...</td>\n",
       "      <td>0</td>\n",
       "      <td>0</td>\n",
       "      <td>0</td>\n",
       "      <td>0.0</td>\n",
       "      <td>0.0</td>\n",
       "      <td>0.0</td>\n",
       "      <td>0.0</td>\n",
       "      <td>0.0</td>\n",
       "      <td>0</td>\n",
       "      <td>1</td>\n",
       "    </tr>\n",
       "    <tr>\n",
       "      <th>4</th>\n",
       "      <td>123274.p2</td>\n",
       "      <td>arjuna</td>\n",
       "      <td>vaDa</td>\n",
       "      <td>149</td>\n",
       "      <td>75</td>\n",
       "      <td>0.000223</td>\n",
       "      <td>0.000034</td>\n",
       "      <td>0.0</td>\n",
       "      <td>0</td>\n",
       "      <td>0.000128</td>\n",
       "      <td>...</td>\n",
       "      <td>0</td>\n",
       "      <td>0</td>\n",
       "      <td>0</td>\n",
       "      <td>0.0</td>\n",
       "      <td>0.0</td>\n",
       "      <td>0.0</td>\n",
       "      <td>0.0</td>\n",
       "      <td>0.0</td>\n",
       "      <td>0</td>\n",
       "      <td>1</td>\n",
       "    </tr>\n",
       "  </tbody>\n",
       "</table>\n",
       "<p>5 rows × 39 columns</p>\n",
       "</div>"
      ],
      "text/plain": [
       "           f ln_lemma rn_lemma  ln_cng  rn_cng       111       112  113  121  \\\n",
       "0  123274.p2   arjuna     vaDa     149      35  0.000223  0.000053  0.0    0   \n",
       "1  123274.p2   arjuna     vaDa     151      35  0.000223  0.000053  0.0    0   \n",
       "2  123274.p2   arjuna     vaDa     149      36  0.000223  0.000055  0.0    0   \n",
       "3  123274.p2   arjuna     vaDa     151      36  0.000223  0.000055  0.0    0   \n",
       "4  123274.p2   arjuna     vaDa     149      75  0.000223  0.000034  0.0    0   \n",
       "\n",
       "        122  ...   331  332  333  400  500  600  700  800  900  flag  \n",
       "0  0.000047  ...     0    0    0  0.0  0.0  0.0  0.0  0.0    0     1  \n",
       "1  0.000047  ...     0    0    0  0.0  0.0  0.0  0.0  0.0    0     1  \n",
       "2  0.000020  ...     0    0    0  0.0  0.0  0.0  0.0  0.0    0     1  \n",
       "3  0.000020  ...     0    0    0  0.0  0.0  0.0  0.0  0.0    0     1  \n",
       "4  0.000128  ...     0    0    0  0.0  0.0  0.0  0.0  0.0    0     1  \n",
       "\n",
       "[5 rows x 39 columns]"
      ]
     },
     "execution_count": 57,
     "metadata": {},
     "output_type": "execute_result"
    }
   ],
   "source": [
    "df_results"
   ]
  },
  {
   "cell_type": "code",
   "execution_count": null,
   "metadata": {
    "collapsed": true
   },
   "outputs": [],
   "source": []
  }
 ],
 "metadata": {
  "kernelspec": {
   "display_name": "Python 3",
   "language": "python",
   "name": "python3"
  },
  "language_info": {
   "codemirror_mode": {
    "name": "ipython",
    "version": 3
   },
   "file_extension": ".py",
   "mimetype": "text/x-python",
   "name": "python",
   "nbconvert_exporter": "python",
   "pygments_lexer": "ipython3",
   "version": "3.5.1"
  }
 },
 "nbformat": 4,
 "nbformat_minor": 0
}
