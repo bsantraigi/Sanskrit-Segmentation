{
 "cells": [
  {
   "cell_type": "code",
   "execution_count": 1,
   "metadata": {
    "collapsed": true
   },
   "outputs": [],
   "source": [
    "%load_ext autoreload\n",
    "%autoreload 2"
   ]
  },
  {
   "cell_type": "code",
   "execution_count": 29,
   "metadata": {
    "collapsed": true
   },
   "outputs": [],
   "source": [
    "from SktWsegRWR_utf8 import *\n",
    "import pickle\n",
    "import multiprocessing\n",
    "import math\n",
    "import json\n",
    "import pprint\n",
    "import csv\n",
    "from utilities import *\n",
    "from IPython.display import display\n",
    "import matplotlib.pyplot as plt\n",
    "import matplotlib.mlab as mlab\n",
    "import pandas as pd"
   ]
  },
  {
   "cell_type": "code",
   "execution_count": 9,
   "metadata": {
    "collapsed": false
   },
   "outputs": [],
   "source": [
    "import re\n",
    "import os\n",
    "import sys"
   ]
  },
  {
   "cell_type": "code",
   "execution_count": 9,
   "metadata": {
    "collapsed": false
   },
   "outputs": [],
   "source": [
    "mergedGood_compat = pickle.load(open('mergedGood_CompatSKT.p', 'rb'), encoding='utf-8')"
   ]
  },
  {
   "cell_type": "code",
   "execution_count": null,
   "metadata": {
    "collapsed": true
   },
   "outputs": [],
   "source": [
    "len(mergedGood_compat)"
   ]
  },
  {
   "cell_type": "code",
   "execution_count": 32,
   "metadata": {
    "collapsed": false
   },
   "outputs": [],
   "source": [
    "def CreateRAMLoadables(skt_f_path_dict, sktMergedPath, dcsMergedPath, breakAt = -1):\n",
    "    loadedSKT_files = {}\n",
    "    loadedDCS_files = {}\n",
    "    loaded = 0\n",
    "    for f, fPath in skt_f_path_dict.items():\n",
    "        loaded += 1\n",
    "        loadedSKT_files[f], loadedDCS_files[f] = loadSentence_with_rom_slp(f, fPath)\n",
    "        if loaded % 1000 == 0:\n",
    "            print('Chekpoint', loaded)\n",
    "        if loaded == breakAt:\n",
    "            break\n",
    "    pickle.dump(loadedSKT_files, open(sktMergedPath, 'wb'))\n",
    "    pickle.dump(loadedDCS_files, open(dcsMergedPath, 'wb'))"
   ]
  },
  {
   "cell_type": "code",
   "execution_count": 34,
   "metadata": {
    "collapsed": false
   },
   "outputs": [
    {
     "name": "stdout",
     "output_type": "stream",
     "text": [
      "Chekpoint 1000\n",
      "Chekpoint 2000\n",
      "Chekpoint 3000\n",
      "Chekpoint 4000\n",
      "Chekpoint 5000\n",
      "Chekpoint 6000\n",
      "Chekpoint 7000\n",
      "Chekpoint 8000\n",
      "Chekpoint 9000\n",
      "Chekpoint 10000\n"
     ]
    }
   ],
   "source": [
    "CreateRAMLoadables(mergedGood_compat, \n",
    "                   '../Simultaneous_CompatSKT_10K.p', '../Simultaneous_DCS_10K.p', breakAt = 10000)"
   ]
  },
  {
   "cell_type": "code",
   "execution_count": 24,
   "metadata": {
    "collapsed": false
   },
   "outputs": [],
   "source": [
    "baselineFiles = {}\n",
    "bsl_fs = os.listdir('../DCSTestSave/')\n",
    "for f in bsl_fs:\n",
    "    m = re.search('\\.p$', f)\n",
    "    if m != None:\n",
    "        baselineFiles[f] = '../DCSTestSave/' + f"
   ]
  },
  {
   "cell_type": "code",
   "execution_count": 25,
   "metadata": {
    "collapsed": false
   },
   "outputs": [
    {
     "data": {
      "text/plain": [
       "2146"
      ]
     },
     "execution_count": 25,
     "metadata": {},
     "output_type": "execute_result"
    }
   ],
   "source": [
    "len(baselineFiles)"
   ]
  },
  {
   "cell_type": "code",
   "execution_count": 33,
   "metadata": {
    "collapsed": false
   },
   "outputs": [
    {
     "name": "stdout",
     "output_type": "stream",
     "text": [
      "Failed to load ../DCSTestSave/321.p\n",
      "Chekpoint 1000\n",
      "Chekpoint 2000\n"
     ]
    }
   ],
   "source": [
    "CreateRAMLoadables(baselineFiles, '../Simult_baselineSKT.p', '../Simult_baselineDCS.p')"
   ]
  },
  {
   "cell_type": "code",
   "execution_count": 23,
   "metadata": {
    "collapsed": false
   },
   "outputs": [
    {
     "name": "stdout",
     "output_type": "stream",
     "text": [
      "None\n"
     ]
    }
   ],
   "source": [
    "m = re.search('\\.p$', '123.py')\n",
    "print(m)"
   ]
  },
  {
   "cell_type": "code",
   "execution_count": null,
   "metadata": {
    "collapsed": true
   },
   "outputs": [],
   "source": []
  }
 ],
 "metadata": {
  "kernelspec": {
   "display_name": "Python 3",
   "language": "python",
   "name": "python3"
  },
  "language_info": {
   "codemirror_mode": {
    "name": "ipython",
    "version": 3
   },
   "file_extension": ".py",
   "mimetype": "text/x-python",
   "name": "python",
   "nbconvert_exporter": "python",
   "pygments_lexer": "ipython3",
   "version": "3.5.1+"
  }
 },
 "nbformat": 4,
 "nbformat_minor": 0
}
