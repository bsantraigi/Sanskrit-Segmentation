{
 "cells": [
  {
   "cell_type": "code",
   "execution_count": 1,
   "metadata": {
    "collapsed": true
   },
   "outputs": [],
   "source": [
    "%load_ext autoreload\n",
    "%autoreload 2"
   ]
  },
  {
   "cell_type": "code",
   "execution_count": 2,
   "metadata": {
    "collapsed": false
   },
   "outputs": [],
   "source": [
    "import pickle\n",
    "from utilities import *\n",
    "from DCS import *\n",
    "from sentences import *\n",
    "import csv"
   ]
  },
  {
   "cell_type": "code",
   "execution_count": 11,
   "metadata": {
    "collapsed": true
   },
   "outputs": [],
   "source": [
    "goodDict = pickle.load(open('mergedGood_v4.p', 'rb'))\n"
   ]
  },
  {
   "cell_type": "code",
   "execution_count": 12,
   "metadata": {
    "collapsed": false
   },
   "outputs": [],
   "source": [
    "# fList = list(goodDict.keys())\n"
   ]
  },
  {
   "cell_type": "code",
   "execution_count": 13,
   "metadata": {
    "collapsed": false
   },
   "outputs": [],
   "source": [
    "# SeeDCS(dcsO)"
   ]
  },
  {
   "cell_type": "code",
   "execution_count": 14,
   "metadata": {
    "collapsed": false
   },
   "outputs": [],
   "source": [
    "# skt, dcs  = loadSentence(fList[7], goodDict[fList[7]])\n",
    "# SeeSentence(skt)"
   ]
  },
  {
   "cell_type": "code",
   "execution_count": null,
   "metadata": {
    "collapsed": false
   },
   "outputs": [],
   "source": []
  },
  {
   "cell_type": "code",
   "execution_count": 46,
   "metadata": {
    "collapsed": false
   },
   "outputs": [],
   "source": [
    "fList = list(goodDict.keys())\n",
    "\n",
    "def HaveSolution(fi, nbcsv):\n",
    "    \n",
    "    f = fList[fi]\n",
    "    skt, dcs  = loadSentence(f, goodDict[f])\n",
    "    \n",
    "    if skt==None:\n",
    "        return\n",
    "#     print()\n",
    "#     print('=='*20)\n",
    "#     print(f.upper())\n",
    "#     SeeSentence(skt)\n",
    "    (chunkDict, lemmaList, wordList, revMap2Chunk, qu, cngList, verbs, tuplesMain) = SentencePreprocess(skt)\n",
    "\n",
    "    toSearch = []\n",
    "    \n",
    "    if len(chunkDict) != len(dcs.lemmas):\n",
    "        nbcsv.writerow([f, '', ' ', ' ', ' ', 'Length Mismatch'])\n",
    "        return\n",
    "        \n",
    "    \n",
    "    arr_lemm_dcs = []\n",
    "    arr_cng_dcs = []\n",
    "    \n",
    "    arr_lemm_skt = []\n",
    "    arr_cng_skt = []\n",
    "\n",
    "    for i in range(len(dcs.lemmas)):\n",
    "        lls = dcs.lemmas[i]\n",
    "        for j in range(len(lls)):\n",
    "            toSearch.append((i, rom_slp(lls[j]), int(dcs.cng[i][j])))\n",
    "            arr_lemm_dcs.append(rom_slp(lls[j]))\n",
    "            arr_cng_dcs.append(int(dcs.cng[i][j]))\n",
    "\n",
    "    presence = [0]*len(toSearch)\n",
    "    \n",
    "    \n",
    "    for qi in range(len(toSearch)):\n",
    "        qtup = toSearch[qi]\n",
    "#         print('[QUERY]', qtup)\n",
    "        qcid = qtup[0]\n",
    "        qlem = qtup[1]\n",
    "        qcng = qtup[2]\n",
    "        activeChunk = chunkDict[qcid]\n",
    "        matchFound = False\n",
    "\n",
    "        for pos in activeChunk.keys():\n",
    "            for i in activeChunk[pos]:\n",
    "                for tup in tuplesMain[i]:\n",
    "    #                 print(tup)\n",
    "                    if (tup[2] == qtup[1]) and (tup[3] == qtup[2]):\n",
    "#                         print('Pair Match:', tup)\n",
    "                        matchFound = True\n",
    "                        arr_lemm_skt.append(tup[2])\n",
    "                        arr_cng_skt.append(tup[3])\n",
    "                        presence[qi] = 1\n",
    "                        break\n",
    "                if(matchFound):\n",
    "                    break\n",
    "            if(matchFound):\n",
    "                break\n",
    "\n",
    "        if not matchFound:\n",
    "            for pos in activeChunk.keys():\n",
    "                for i in activeChunk[pos]:\n",
    "                    for tup in tuplesMain[i]:\n",
    "                        if tup[2] == qtup[1]:\n",
    "#                             print('Lemma Match:', tup)\n",
    "                            matchFound = True\n",
    "                            presence[qi] = -1\n",
    "                            arr_lemm_skt.append(tup[2])\n",
    "                            arr_cng_skt.append(tup[3])\n",
    "                            break\n",
    "                    if(matchFound):\n",
    "                        break\n",
    "                if(matchFound):\n",
    "                    break\n",
    "                    \n",
    "    status = 'Bad' if 0 in presence else 'Good'\n",
    "    nbcsv.writerow([f, presence, ' '.join(arr_lemm_dcs), arr_cng_dcs, ' '.join(arr_lemm_skt), arr_cng_skt, status])"
   ]
  },
  {
   "cell_type": "code",
   "execution_count": 49,
   "metadata": {
    "collapsed": false
   },
   "outputs": [
    {
     "name": "stdout",
     "output_type": "stream",
     "text": [
      "Checkpoint: 0\n",
      "Checkpoint: 100\n"
     ]
    }
   ],
   "source": [
    "with open('NewBads.csv', 'w') as bfh:\n",
    "    nbcsv = csv.writer(bfh)\n",
    "    nbcsv.writerow(['File', 'presence', 'DCS_lemm', 'DCS_cng', 'SKT_lemm', 'SKT_cng', 'status'])\n",
    "#     for i in range(len(goodDict)):\n",
    "    for i in range(200):\n",
    "        if (i % 1000 == 0):\n",
    "            print('Checkpoint:', i)\n",
    "        HaveSolution(i, nbcsv)\n",
    "        \n"
   ]
  },
  {
   "cell_type": "code",
   "execution_count": 8,
   "metadata": {
    "collapsed": false,
    "scrolled": false
   },
   "outputs": [],
   "source": [
    "# for i in range(100):\n",
    "#     ValidateSandhi(i)"
   ]
  },
  {
   "cell_type": "code",
   "execution_count": 34,
   "metadata": {
    "collapsed": false
   },
   "outputs": [
    {
     "data": {
      "text/plain": [
       "True"
      ]
     },
     "execution_count": 34,
     "metadata": {},
     "output_type": "execute_result"
    }
   ],
   "source": []
  },
  {
   "cell_type": "code",
   "execution_count": null,
   "metadata": {
    "collapsed": true
   },
   "outputs": [],
   "source": []
  }
 ],
 "metadata": {
  "kernelspec": {
   "display_name": "Python 3",
   "language": "python",
   "name": "python3"
  },
  "language_info": {
   "codemirror_mode": {
    "name": "ipython",
    "version": 3
   },
   "file_extension": ".py",
   "mimetype": "text/x-python",
   "name": "python",
   "nbconvert_exporter": "python",
   "pygments_lexer": "ipython3",
   "version": "3.5.1+"
  }
 },
 "nbformat": 4,
 "nbformat_minor": 0
}
