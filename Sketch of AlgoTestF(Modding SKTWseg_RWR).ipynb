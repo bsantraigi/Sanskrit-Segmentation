{
 "cells": [
  {
   "cell_type": "code",
   "execution_count": 1,
   "metadata": {
    "collapsed": false
   },
   "outputs": [],
   "source": [
    "%load_ext autoreload\n",
    "%autoreload 2"
   ]
  },
  {
   "cell_type": "code",
   "execution_count": 2,
   "metadata": {
    "collapsed": true
   },
   "outputs": [],
   "source": [
    "# from AlgoTestFactory import *\n",
    "\n",
    "# altf1 = AlgoTestFactory([0, 10000], 15, savePath=\"Combined_4_test2\", storeAccuracies=True)\n",
    "\n",
    "# altf1.run()"
   ]
  },
  {
   "cell_type": "code",
   "execution_count": 3,
   "metadata": {
    "collapsed": false
   },
   "outputs": [
    {
     "name": "stdout",
     "output_type": "stream",
     "text": [
      "Dataloader Started[Prob]...\n",
      "Dataloader Finished[Prob]...\n"
     ]
    }
   ],
   "source": [
    "from SktWsegRWR_utf8 import *\n",
    "import pickle\n",
    "import ProbData\n",
    "from ProbModels import *\n",
    "import multiprocessing\n",
    "import math\n",
    "import json"
   ]
  },
  {
   "cell_type": "code",
   "execution_count": 41,
   "metadata": {
    "collapsed": false
   },
   "outputs": [],
   "source": [
    "pb = ProbModels(fullCo_oc_mat = ProbData.fullCo_oc_mat, unigram_counts = ProbData.unigram_counts,\n",
    "               cng2cngFullMat = ProbData.cng2cngFullMat, cng2index_dict = ProbData.cng2index_dict,\n",
    "               w2w_samecng_fullmat=ProbData.w2w_samecng_fullmat, samecng_unigram_counts=ProbData.samecng_unigram_counts,\n",
    "               v2c_fullMat = ProbData.v2c_fullMat)\n",
    "\n",
    "goodFileDict = pickle.load(open('mergedGood_v2.p', 'rb'))\n",
    "algo = SktWsegRWR(\n",
    "            w2w_modelFunc = pb.get_w2w_mat, \n",
    "            t2t_modelFunc = pb.get_cng2cng_mat,\n",
    "            v2c_modelFunc = pb.get_v2c_ranking,\n",
    "            sameCng_modelFunc = pb.get_w2w_samecng_mat,\n",
    "            partition=[0.25, 0.25, 0.25, 0.1]\n",
    "        )"
   ]
  },
  {
   "cell_type": "code",
   "execution_count": 190,
   "metadata": {
    "collapsed": true
   },
   "outputs": [],
   "source": [
    "def loadSentence(fName, folderTag):\n",
    "        # print('File: ', fName)\n",
    "        try:\n",
    "            dcsObj = pickleFixLoad('../Text Segmentation/DCS_pick/' + fName)           \n",
    "            if folderTag == \"C1020\" :\n",
    "                sentenceObj = pickleFixLoad('../TextSegmentation/corrected_10to20/' + fName)\n",
    "            else:\n",
    "                sentenceObj = pickleFixLoad('../TextSegmentation/Pickle_Files/' + fName)\n",
    "\n",
    "        except (KeyError, EOFError, pickle.UnpicklingError) as e:\n",
    "            return None, None\n",
    "        return(sentenceObj, dcsObj)\n",
    "    \n",
    "def Accuracy(prediction, dcsObj):\n",
    "#     solution = [rom_slp(c) for c in dcsObj.dcs_chunks]\n",
    "    solution = [rom_slp(c) for arr in dcsObj.lemmas for c in arr]\n",
    "#     ac = 100*sum(list(map(lambda x: x in solution, prediction)))/len(prediction)\n",
    "    ac = 100*sum(list(map(lambda x: x in prediction, solution)))/len(solution)\n",
    "    return ac"
   ]
  },
  {
   "cell_type": "code",
   "execution_count": null,
   "metadata": {
    "collapsed": true
   },
   "outputs": [],
   "source": [
    "# lowfs = []\n",
    "np.set_printoptions(precision=6)\n",
    "# for f in list(goodFileDict.keys())[90:91]:\n",
    "for f in list(goodFileDict.keys())[10:100]:\n",
    "    sentenceObj, dcsObj = loadSentence(f, goodFileDict[f])\n",
    "    if(sentenceObj != None):\n",
    "        result = algo.predict(sentenceObj, dcsObj)\n",
    "        if(result != None):\n",
    "            ac = Accuracy(result, dcsObj)\n",
    "            if(ac < 40):\n",
    "                print(result)\n",
    "                lowfs.append(f)\n",
    "                print(f, \"\\t\", ac)"
   ]
  },
  {
   "cell_type": "code",
   "execution_count": 213,
   "metadata": {
    "collapsed": false,
    "scrolled": false
   },
   "outputs": [
    {
     "name": "stdout",
     "output_type": "stream",
     "text": [
      "['pUj', 'tad', 'sarva', 'rAjan', 'loka', 'a', 'mahat', 'pUj']\n",
      "212470.p \t 33.333333333333336\n"
     ]
    }
   ],
   "source": [
    "for f in lowfs[1:2]:\n",
    "    sentenceObj, dcsObj = loadSentence(f, goodFileDict[f])\n",
    "    if(sentenceObj != None):\n",
    "        result = algo.predict(sentenceObj, dcsObj)\n",
    "        if(result != None):\n",
    "            ac = Accuracy(result, dcsObj)\n",
    "            print(result)\n",
    "            print(f, \"\\t\", ac)"
   ]
  },
  {
   "cell_type": "code",
   "execution_count": 216,
   "metadata": {
    "collapsed": false,
    "scrolled": false
   },
   "outputs": [
    {
     "name": "stdout",
     "output_type": "stream",
     "text": [
      "utpadyate mahArAjaH  sarvalokezu pUjitaH    \n",
      "Analyzing  utpadyate\n",
      "0 :  ut ['ut'] []\n",
      "2 :  padyate ['pad_1'] [{'verb': ['pr. ps. sg. 3', 'pr. [4] md. sg. 3']}]\n",
      "2 :  padya ['pad_1'] [{'indeclinable': ['abs.']}]\n",
      "7 :  te ['tad', 'yuzmad'] [{'noun': ['acc. du. n.', 'nom. du. n.', 'nom. pl. m.', 'acc. du. f.', 'nom. du. f.']}, {'noun': ['g. sg. *', 'dat. sg. *']}]\n",
      "Analyzing  mahArAjaḥ\n",
      "0 :  mahar ['mahas'] [{'undetermined': ['und.']}]\n",
      "0 :  mahA ['mahat'] [{'compound': ['iic.']}]\n",
      "0 :  maha ['mah'] [{'verb': ['imp. [1] ac. sg. 2']}]\n",
      "3 :  arAjas ['rAj_1'] [{'verb': ['impft. [1] ac. sg. 2']}]\n",
      "3 :  ara ['ara'] [{'compound': ['iic.']}]\n",
      "3 :  Ara ['Ara'] [{'compound': ['iic.']}]\n",
      "3 :  arA ['ara'] [{'noun': ['nom. sg. f.']}]\n",
      "3 :  ArA ['Ara'] [{'noun': ['nom. sg. f.']}]\n",
      "3 :  ara ['f'] [{'verb': ['pft. ac. pl. 2', 'pft. ac. sg. 3', 'pft. ac. sg. 1']}]\n",
      "3 :  a ['a'] [{'compound': ['iic.']}]\n",
      "3 :  A ['A'] []\n",
      "4 :  rAjas ['rAj_2'] [{'noun': ['acc. pl. m.', 'nom. pl. m.', 'g. sg. m.', 'abl. sg. m.', 'g. sg. n.', 'abl. sg. n.', 'acc. pl. f.', 'nom. pl. f.', 'g. sg. f.', 'abl. sg. f.']}]\n",
      "4 :  rAjas ['rAj_2'] [{'noun': ['voc. pl. m.', 'voc. pl. f.']}]\n",
      "4 :  rAjas ['rAjan'] [{'noun': ['nom. sg. m.']}]\n",
      "4 :  rA ['rA_2'] [{'noun': ['i. sg. m.', 'nom. sg. f.']}]\n",
      "5 :  ajas ['aja_1', 'aja_2'] [{'noun': ['nom. sg. m.']}, {'noun': ['nom. sg. m.']}]\n",
      "5 :  Ajas ['Aja'] [{'noun': ['nom. sg. m.']}]\n",
      "5 :  Ajas ['aj'] [{'verb': ['impft. [1] ac. sg. 2']}]\n",
      "Analyzing  sarvalokezu\n",
      "0 :  sarva ['sarva'] [{'compound': ['iic.']}]\n",
      "5 :  lokezu ['loka'] [{'noun': ['loc. pl. m.']}]\n",
      "5 :  lokezu ['loka'] [{'noun': ['loc. pl. n.']}]\n",
      "Analyzing  pUjitaḥ\n",
      "0 :  pUjitas ['pUj'] [{'noun': ['nom. sg. m.'], 'verb': [['pp.']], 'verbform': ['\"SKTMW161.html#H_puuj\"']}]\n"
     ]
    }
   ],
   "source": [
    "SeeSentence(sentenceObj)"
   ]
  },
  {
   "cell_type": "code",
   "execution_count": 217,
   "metadata": {
    "collapsed": false,
    "scrolled": true
   },
   "outputs": [
    {
     "name": "stdout",
     "output_type": "stream",
     "text": [
      "utpadyate mahArAjaH  sarvalokezu pUjitaH    \n",
      "[['utpad'], ['mahā', 'rāja'], ['sarva', 'loka'], ['pūjay']]\n",
      "Lemmas: ['utpad', 'mahA', 'rAja', 'sarva', 'loka', 'pUjay']\n",
      "[['-13'], ['2', '29'], ['3', '179'], ['-190']]\n"
     ]
    }
   ],
   "source": [
    "SeeDCS(dcsObj)"
   ]
  },
  {
   "cell_type": "code",
   "execution_count": 203,
   "metadata": {
    "collapsed": false
   },
   "outputs": [
    {
     "data": {
      "text/plain": [
       "'327359.p'"
      ]
     },
     "execution_count": 203,
     "metadata": {},
     "output_type": "execute_result"
    }
   ],
   "source": [
    "list(goodFileDict.keys())[13]"
   ]
  },
  {
   "cell_type": "code",
   "execution_count": 209,
   "metadata": {
    "collapsed": false
   },
   "outputs": [
    {
     "data": {
      "text/plain": [
       "['179084.p',\n",
       " '212470.p',\n",
       " '141314.p',\n",
       " '312382.p',\n",
       " '371565.p',\n",
       " '20967.p',\n",
       " '178347.p',\n",
       " '289080.p',\n",
       " '334071.p',\n",
       " '407484.p',\n",
       " '209444.p']"
      ]
     },
     "execution_count": 209,
     "metadata": {},
     "output_type": "execute_result"
    }
   ],
   "source": [
    "lowfs"
   ]
  },
  {
   "cell_type": "code",
   "execution_count": null,
   "metadata": {
    "collapsed": false
   },
   "outputs": [],
   "source": []
  },
  {
   "cell_type": "code",
   "execution_count": null,
   "metadata": {
    "collapsed": true
   },
   "outputs": [],
   "source": []
  }
 ],
 "metadata": {
  "kernelspec": {
   "display_name": "Python 3",
   "language": "python",
   "name": "python3"
  },
  "language_info": {
   "codemirror_mode": {
    "name": "ipython",
    "version": 3
   },
   "file_extension": ".py",
   "mimetype": "text/x-python",
   "name": "python",
   "nbconvert_exporter": "python",
   "pygments_lexer": "ipython3",
   "version": "3.5.1+"
  }
 },
 "nbformat": 4,
 "nbformat_minor": 0
}
