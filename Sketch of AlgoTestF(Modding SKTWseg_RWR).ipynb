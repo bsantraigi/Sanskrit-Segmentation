{
 "cells": [
  {
   "cell_type": "code",
   "execution_count": 1,
   "metadata": {
    "collapsed": false
   },
   "outputs": [],
   "source": [
    "%load_ext autoreload\n",
    "%autoreload 2"
   ]
  },
  {
   "cell_type": "code",
   "execution_count": 2,
   "metadata": {
    "collapsed": true
   },
   "outputs": [],
   "source": [
    "# from AlgoTestFactory import *\n",
    "\n",
    "# altf1 = AlgoTestFactory([0, 10000], 15, savePath=\"Combined_4_test2\", storeAccuracies=True)\n",
    "\n",
    "# altf1.run()"
   ]
  },
  {
   "cell_type": "code",
   "execution_count": 12,
   "metadata": {
    "collapsed": false
   },
   "outputs": [],
   "source": [
    "from SktWsegRWR_utf8 import *\n",
    "import pickle\n",
    "import ProbData\n",
    "from ProbModels import *\n",
    "import multiprocessing\n",
    "import math\n",
    "import json\n",
    "import pprint\n",
    "import csv\n",
    "from utilities import *\n",
    "from IPython.display import display\n",
    "import matplotlib.pyplot as plt\n",
    "import matplotlib.mlab as mlab\n",
    "import pandas as pd"
   ]
  },
  {
   "cell_type": "code",
   "execution_count": 39,
   "metadata": {
    "collapsed": true
   },
   "outputs": [],
   "source": [
    "pb = ProbModels(fullCo_oc_mat = ProbData.fullCo_oc_mat, unigram_counts = ProbData.unigram_counts,\n",
    "               cng2cngFullMat = ProbData.cng2cngFullMat, cng2index_dict = ProbData.cng2index_dict,\n",
    "               w2w_samecng_fullmat=ProbData.w2w_samecng_fullmat, samecng_unigram_counts=ProbData.samecng_unigram_counts,\n",
    "               v2c_fullMat = ProbData.v2c_fullMat)\n",
    "\n",
    "goodFileDict = pickle.load(open('mergedGood_CompatSKT.p', 'rb'))\n",
    "\n",
    "algo = SktWsegRWR(\n",
    "            w2w_modelFunc = pb.get_w2w_mat, \n",
    "            t2t_modelFunc = pb.get_cng2cng_mat,\n",
    "            v2c_modelFunc = pb.get_v2c_ranking,\n",
    "            sameCng_modelFunc = pb.get_w2w_samecng_mat,\n",
    "            partition=[0.25, 0.25, 0.25, 0.1]\n",
    "        )"
   ]
  },
  {
   "cell_type": "code",
   "execution_count": 8,
   "metadata": {
    "collapsed": false
   },
   "outputs": [],
   "source": [
    "# goodFileDict = {}\n",
    "# new_flist = os.listdir('../TextSegmentation/CompatSKT/')\n",
    "# for f in new_flist:\n",
    "#     goodFileDict[f] = '../TextSegmentation/CompatSKT/' + f\n",
    "# pickle.dump(goodFileDict, open('mergedGood_CompatSKT.p', 'wb'))"
   ]
  },
  {
   "cell_type": "code",
   "execution_count": 10,
   "metadata": {
    "collapsed": false
   },
   "outputs": [
    {
     "data": {
      "text/plain": [
       "100078"
      ]
     },
     "execution_count": 10,
     "metadata": {},
     "output_type": "execute_result"
    }
   ],
   "source": [
    "# df_pf1 = pd.read_csv('extras/pvbnhi@pf.csv', header=None, names=['file', 'miss', 'miss2'])\n",
    "# df_pf2 = pd.read_csv('extras/pvbnhi@skt.csv', header=None, names=['file', 'miss', 'miss2'])\n",
    "# df_pf3 = pd.read_csv('extras/pvbnhi@upd.csv', header=None, names=['file', 'miss', 'miss2'])\n",
    "\n",
    "# df_pf1['miss'] = df_pf1[df_pf1['miss'] != 'Incomplete chunk']['miss'].astype(int)\n",
    "# df_pf1 = df_pf1[df_pf1['miss'] == 0]\n",
    "# df_pf1['folder'] = '../TextSegmentation/Pickle_Files/'\n",
    "\n",
    "# df_pf2['miss'] = df_pf2[df_pf2['miss'] != 'Incomplete chunk']['miss'].astype(int)\n",
    "# df_pf2 = df_pf2[df_pf2['miss'] == 0]\n",
    "# df_pf2['folder'] = '../TextSegmentation/corrected_10to20/'\n",
    "\n",
    "# df_pf3['miss'] = df_pf3[df_pf3['miss'] != 'Incomplete chunk']['miss'].astype(int)\n",
    "# df_pf3 = df_pf3[df_pf3['miss'] == 0]\n",
    "# df_pf3['folder'] = '../TextSegmentation/Updated Pickles/'\n",
    "\n",
    "# frames = [df_pf1, df_pf2, df_pf3]\n",
    "# df_pf = pd.concat(frames)\n",
    "# %reset_selective df_pf1\n",
    "# %reset_selective df_pf2\n",
    "# %reset_selective df_pf3\n",
    "# goodFileDict = {}\n",
    "# for index, row in df_pf.iterrows():\n",
    "#     goodFileDict['%d.p' % row['file']] = '%s%d.p' % (row['folder'], row['file'])\n",
    "len(goodFileDict)"
   ]
  },
  {
   "cell_type": "code",
   "execution_count": null,
   "metadata": {
    "collapsed": false
   },
   "outputs": [],
   "source": []
  },
  {
   "cell_type": "code",
   "execution_count": 34,
   "metadata": {
    "collapsed": false
   },
   "outputs": [
    {
     "data": {
      "text/plain": [
       "49441"
      ]
     },
     "execution_count": 34,
     "metadata": {},
     "output_type": "execute_result"
    }
   ],
   "source": []
  },
  {
   "cell_type": "code",
   "execution_count": null,
   "metadata": {
    "collapsed": false
   },
   "outputs": [],
   "source": []
  },
  {
   "cell_type": "code",
   "execution_count": 14,
   "metadata": {
    "collapsed": false,
    "scrolled": false
   },
   "outputs": [
    {
     "name": "stdout",
     "output_type": "stream",
     "text": [
      "0 1 2\n",
      "[-0.3659 -1.8959 -2.8059  0.1176]\n",
      "13\n",
      "0 1 3\n",
      "[-0.3659 -1.9459 -2.9559  0.1176]\n",
      "17\n",
      "0 5 3\n",
      "[-0.3659 -2.1959 -3.1059  0.1176]\n",
      "25\n",
      "0 5 4\n",
      "[-0.3659 -2.4459 -3.3059  0.1176]\n",
      "26\n",
      "1 1 1\n",
      "[-0.4159 -2.4959 -3.3559  0.1176]\n",
      "21\n",
      "31031.p \t 66.66666666666667\n"
     ]
    }
   ],
   "source": [
    "fs = ['31031.p']\n",
    "np.set_printoptions(precision=4)\n",
    "# for f in list(goodFileDict.keys())[1:20]:\n",
    "# for f in list(goodFileDict.keys())[1:100]:\n",
    "for f in fs:\n",
    "#     print('=='*20)\n",
    "    sentenceObj, dcsObj = loadSentence(f, goodFileDict[f])\n",
    "    if(sentenceObj != None):\n",
    "        result = algo.predict(sentenceObj, dcsObj, verbose = False, eta=0.05)\n",
    "        if(result != None):\n",
    "            solution = [rom_slp(c) for arr in dcsObj.lemmas for c in arr]\n",
    "            ac = Accuracy(result, dcsObj)\n",
    "            print(f, \"\\t\", ac)"
   ]
  },
  {
   "cell_type": "code",
   "execution_count": 29,
   "metadata": {
    "collapsed": false,
    "scrolled": false
   },
   "outputs": [
    {
     "name": "stdout",
     "output_type": "stream",
     "text": [
      "SKT ANALYZE\n",
      "---------------\n",
      "na hi kAlopapannena dAnaviGnaH  kfto'rTinA   \n",
      "Analyzing  na\n",
      "0 :  na ['na'] [{'indeclinable': ['part.']}]\n",
      "Analyzing  hi\n",
      "0 :  hi ['h_1'] [{'indeclinable': ['part.']}]\n",
      "0 :  hi ['hi'] []\n",
      "Analyzing  kAlopapannena\n",
      "0 :  kAla ['kāla_1', 'kāla_2'] [{'compound': ['iic.']}, {'compound': ['iic.']}]\n",
      "0 :  kA ['km'] [{'noun': ['nom. sg. f.']}]\n",
      "0 :  kAla ['kāla'] []\n",
      "1 :  ala ['ala'] [{'compound': ['iic.']}]\n",
      "1 :  Ala ['āla'] [{'compound': ['iic.']}]\n",
      "1 :  a ['a'] [{'compound': ['iic.']}]\n",
      "1 :  upapad ['upapad'] []\n",
      "2 :  lopa ['lopa'] [{'compound': ['iic.']}]\n",
      "3 :  upapannena ['panna', 'pad_1'] [{'noun': ['i. sg. n.', 'i. sg. m.']}, {'verb': ['pp.']}]\n",
      "3 :  upapanna ['panna', 'pad_1'] [{'compound': ['iic.']}, {'verb': ['pp.']}]\n",
      "3 :  upapanne ['panna', 'pad_1'] [{'noun': ['acc. du. f.', 'nom. du. f.', 'acc. du. n.', 'nom. du. n.', 'loc. sg. n.', 'loc. sg. m.']}, {'verb': ['pp.']}]\n",
      "3 :  upapannA ['panna', 'pad_1'] [{'noun': ['nom. sg. f.']}, {'verb': ['pp.']}]\n",
      "6 :  pannena ['panna', 'pad_1'] [{'noun': ['i. sg. n.', 'i. sg. m.']}, {'verb': ['pp.']}]\n",
      "6 :  panna ['panna', 'pad_1'] [{'compound': ['iic.']}, {'verb': ['pp.']}]\n",
      "6 :  pannA ['panna', 'pad_1'] [{'noun': ['nom. sg. f.']}, {'verb': ['pp.']}]\n",
      "6 :  panne ['panna', 'pad_1'] [{'noun': ['acc. du. f.', 'nom. du. f.', 'acc. du. n.', 'nom. du. n.', 'loc. sg. n.', 'loc. sg. m.']}, {'verb': ['pp.']}]\n",
      "6 :  pam ['pa_1', 'pa_2'] [{'noun': ['acc. sg. m.']}, {'noun': ['acc. sg. m.']}]\n",
      "9 :  na ['na'] [{'indeclinable': ['part.']}]\n",
      "10 :  ina ['na'] [{'noun': ['voc. sg. m.', 'voc. sg. n.']}]\n",
      "11 :  na ['na'] [{'indeclinable': ['part.']}]\n",
      "Analyzing  dAnaviGnaḥ\n",
      "0 :  dAna ['dāna'] [{'compound': ['iic.']}]\n",
      "0 :  dAn ['dā_1', 'dā_2'] [{'noun': ['nom. sg. m.']}, {'verb': ['ppr. [2] ac.']}]\n",
      "3 :  avi ['av'] [{'compound': ['iic.']}]\n",
      "3 :  a ['a'] [{'compound': ['iic.']}]\n",
      "4 :  viGnaḥ ['vighna'] [{'noun': ['nom. sg. m.']}]\n",
      "6 :  Gnaḥ ['ghna', 'han_2'] [{'noun': ['nom. sg. m.']}, {'noun': ['acc. pl. m.', 'g. sg. m.', 'abl. sg. m.']}]\n",
      "Analyzing  kfto'rTinA\n",
      "0 :  kftaḥ ['kṛta', 'kṛ_1'] [{'noun': ['nom. sg. m.']}, {'verb': ['pp.']}]\n",
      "0 :  kf ['kṛ'] []\n",
      "4 :  arTinA ['arthin'] [{'noun': ['i. sg. m.', 'i. sg. n.']}]\n",
      "\n",
      "DCS ANALYZE\n",
      "---------------\n",
      "na hi kAlopapannena dAnaviGnaH  kfto'rTinA   \n",
      "[['na'], ['hi'], ['kāla', 'upapad'], ['dāna', 'vighna'], ['kṛ', 'arthin']]\n",
      "Lemmas: ['na', 'hi', 'kAla', 'upapad', 'dAna', 'viGna', 'kf', 'arTin']\n",
      "[['2'], ['2'], ['3', '-190'], ['3', '29'], ['-190', '89']]\n",
      "\n"
     ]
    }
   ],
   "source": [
    "f = '30240.p'\n",
    "# print(goodFileDict[f])\n",
    "s, d = loadSentence(f, '../TextSegmentation/Updated Pickles/30240.p')\n",
    "SeeSentence(s)\n",
    "SeeDCS(d)"
   ]
  },
  {
   "cell_type": "code",
   "execution_count": 41,
   "metadata": {
    "collapsed": false,
    "scrolled": false
   },
   "outputs": [
    {
     "name": "stdout",
     "output_type": "stream",
     "text": [
      "========================================\n",
      "[['nara'], ['hi'], ['sarva'], ['labh'], ['yathā', 'kṛ'], ['śubha', 'aśubha', 'ātman', 'kṛ'], ['karman']]\n",
      "['nara', 'hi', 'sarva', 'laB', 'yaTA', 'kf', 'SuBa', 'aSuBa', 'Atman', 'kf', 'karman']\n",
      "SKT ANALYZE\n",
      "---------------\n",
      "naro hi sarvo laBate yaTAkftaM SuBASuBenAtmakftena karmaRA   \n",
      "Analyzing  naraḥ\n",
      "0 :  naras ['nara'] [{'noun': ['nom. sg. m.']}]\n",
      "Analyzing  hi\n",
      "0 :  hi ['hi'] [{'indeclinable': ['part.']}]\n",
      "Analyzing  sarvaḥ\n",
      "0 :  sarvas ['sarva'] [{'noun': ['nom. sg. m.']}]\n",
      "Analyzing  laBate\n",
      "0 :  laBate ['laB'] [{'verb': ['pr. [1] md. sg. 3']}]\n",
      "0 :  laBate ['laB'] [{'verb': [['ppr. [1] ac.']], 'noun': ['dat. sg. n.', 'dat. sg. m.'], 'verbform': ['\"SKTMW223.html#H_labh\"']}]\n",
      "0 :  laBa ['laB'] [{'verb': ['imp. [1] ac. sg. 2']}]\n",
      "4 :  te ['tad', 'tvad'] [{'noun': ['acc. du. n.', 'nom. du. n.', 'nom. pl. m.', 'acc. du. f.', 'nom. du. f.']}, {'noun': ['g. sg. *', 'dat. sg. *']}]\n",
      "Analyzing  yaTAkftam\n",
      "0 :  yaTA ['yaTA'] [{'indeclinable': ['conj.']}]\n",
      "0 :  yaTA ['yaTA'] [{'compound': ['iic.']}]\n",
      "3 :  akftam ['kf'] [{'verb': ['aor. [1] ac. du. 2']}]\n",
      "3 :  akftam ['akfta'] [{'indeclinable': ['ind.']}]\n",
      "3 :  A ['A'] []\n",
      "3 :  A ['A'] []\n",
      "3 :  a ['a'] [{'compound': ['iic.']}]\n",
      "4 :  kftam ['kfta', 'kf'] [{'noun': ['acc. sg. n.', 'nom. sg. n.', 'acc. sg. m.']}, {'verb': ['pp.']}]\n",
      "4 :  kftam ['kfta'] [{'indeclinable': ['ind.']}]\n",
      "Analyzing  SuBASuBenAtmakftena\n",
      "0 :  SuBa ['SuBa'] [{'compound': ['iic.']}]\n",
      "0 :  SuBA ['SuBa', 'SuB'] [{'noun': ['nom. sg. f.']}, {'noun': ['i. sg. f.']}]\n",
      "16 :  ina ['na'] [{'noun': ['voc. sg. m.', 'voc. sg. n.']}]\n",
      "3 :  ASu ['ASu'] [{'compound': ['iic.']}]\n",
      "3 :  ASu ['ASu'] [{'noun': ['acc. sg. n.', 'nom. sg. n.']}]\n",
      "3 :  ASu ['ASu'] [{'undetermined': ['adv.']}]\n",
      "3 :  a ['a'] [{'compound': ['iic.']}]\n",
      "4 :  SuBena ['SuBa'] [{'noun': ['i. sg. m.', 'i. sg. n.']}]\n",
      "4 :  SuBa ['SuBa'] [{'compound': ['iic.']}]\n",
      "4 :  SuBA ['SuBa', 'SuB'] [{'noun': ['nom. sg. f.']}, {'noun': ['i. sg. f.']}]\n",
      "4 :  SuBe ['SuBa', 'SuB'] [{'noun': ['loc. sg. m.', 'acc. du. n.', 'nom. du. n.', 'loc. sg. n.', 'acc. du. f.', 'nom. du. f.']}, {'noun': ['dat. sg. f.']}]\n",
      "6 :  Bena ['Ba'] [{'noun': ['i. sg. m.', 'i. sg. n.']}]\n",
      "6 :  BA ['BA'] [{'noun': ['nom. sg. f.']}]\n",
      "6 :  Be ['BA'] [{'noun': ['acc. du. f.', 'nom. du. f.']}]\n",
      "6 :  BA ['Ba'] [{'noun': ['nom. sg. f.']}]\n",
      "6 :  Be ['Ba'] [{'noun': ['loc. sg. m.', 'acc. du. n.', 'nom. du. n.', 'loc. sg. n.', 'acc. du. f.', 'nom. du. f.']}]\n",
      "6 :  Ba ['Ba'] [{'compound': ['iic.']}]\n",
      "17 :  na ['na'] [{'indeclinable': ['part.']}]\n",
      "8 :  na ['na'] [{'indeclinable': ['part.']}]\n",
      "9 :  Atma ['Atman'] [{'compound': ['iic.']}]\n",
      "9 :  Atma ['Atman'] [{'noun': ['acc. sg. n.', 'nom. sg. n.']}]\n",
      "9 :   ['aSuBa'] ['91']\n",
      "7 :  ina ['na'] [{'compound': ['iic.']}]\n",
      "7 :  inA ['na'] [{'noun': ['nom. sg. f.']}]\n",
      "13 :  kftena ['kfta', 'kf'] [{'noun': ['i. sg. n.', 'i. sg. m.']}, {'verb': ['pp.']}]\n",
      "13 :  kftA ['kft'] [{'noun': ['i. sg. m.', 'i. sg. n.', 'i. sg. f.']}]\n",
      "13 :  kfte ['kft'] [{'noun': ['dat. sg. m.', 'dat. sg. n.', 'dat. sg. f.']}]\n",
      "13 :  kfta ['kfta', 'kf'] [{'compound': ['iic.']}, {'verb': ['pp.']}]\n",
      "13 :  kftA ['kfta', 'kf'] [{'noun': ['nom. sg. f.']}, {'verb': ['pp.']}]\n",
      "13 :  kfte ['kfta', 'kf'] [{'noun': ['acc. du. f.', 'nom. du. f.', 'acc. du. n.', 'nom. du. n.', 'loc. sg. n.', 'loc. sg. m.']}, {'verb': ['pp.']}]\n",
      "13 :  kfta ['kf'] [{'verb': ['inj. [4] md. sg. 3', 'inj. [1] md. sg. 3']}]\n",
      "Analyzing  karmaRA\n",
      "0 :  karmaRA ['karman'] [{'noun': ['i. sg. n.']}]\n",
      "\n",
      "Empty name in file 333881\n",
      "==============================\n"
     ]
    }
   ],
   "source": [
    "fs = ['333881.p2']\n",
    "def debugSentences(fs):\n",
    "    np.set_printoptions(precision=4)\n",
    "    # for f in list(goodFileDict.keys())[1:20]:\n",
    "    # for f in list(goodFileDict.keys())[1:100]:\n",
    "    for f in fs:\n",
    "    #     print('=='*20)\n",
    "        sentenceObj, dcsObj = loadSentence_nopre(f, goodFileDict[f])\n",
    "        solution = [rom_slp(c) for arr in dcsObj.lemmas for c in arr]\n",
    "        solution_no_pvb = [removePrefix(l) for l in solution]\n",
    "        print('='*40)\n",
    "        print(dcsObj.lemmas)\n",
    "        print(solution)\n",
    "\n",
    "        SeeSentence(sentenceObj)\n",
    "        if(sentenceObj != None):\n",
    "            result, detail = algo.predict(sentenceObj, dcsObj, verbose = True)\n",
    "            if(result != None):\n",
    "                solution = [rom_slp(c) for arr in dcsObj.lemmas for c in arr]\n",
    "                ac = Accuracy(result, dcsObj)\n",
    "                print(f, \"\\t\", ac)\n",
    "#                 display(detail['sentence'])\n",
    "#                 display(detail['DCSLemmas'])\n",
    "                \n",
    "                display(result)\n",
    "#                 print(detail['nodeList'])\n",
    "                print('Initial Query:', detail['initialQuery'])\n",
    "                for step in range(detail['steps']):\n",
    "                    print('-'*30)\n",
    "                    print('Step:', step)\n",
    "                    print('-'*30)\n",
    "                    print('Winner:', detail[str(step)]['winner'])\n",
    "                    print('Removed:', detail[str(step)]['removed'])\n",
    "                    print('Query:', detail[str(step)]['updated_query'])\n",
    "        print('='*30)\n",
    "\n",
    "debugSentences(fs)"
   ]
  },
  {
   "cell_type": "code",
   "execution_count": 27,
   "metadata": {
    "collapsed": false,
    "scrolled": true
   },
   "outputs": [
    {
     "name": "stdout",
     "output_type": "stream",
     "text": [
      "224503.p2 \t 60.0\n",
      "382879.p2 \t 87.5\n",
      "264627.p2 \t 100.0\n",
      "349268.p2 \t 100.0\n",
      "261914.p2 \t 100.0\n",
      "346141.p2 \t 66.66666666666667\n",
      "86715.p2 \t 66.66666666666667\n",
      "100335.p2 \t 50.0\n",
      "37577.p2 \t 80.0\n",
      "269310.p2 \t 100.0\n",
      "333944.p2 \t 75.0\n",
      "87606.p2 \t 50.0\n",
      "99336.p2 \t 57.142857142857146\n",
      "243493.p2 \t 71.42857142857143\n",
      "149408.p2 \t 83.33333333333333\n",
      "39257.p2 \t 66.66666666666667\n",
      "103079.p2 \t 71.42857142857143\n",
      "235268.p2 \t 66.66666666666667\n",
      "38094.p2 \t 37.5\n",
      "34267.p2 \t 90.0\n",
      "38939.p2 \t 28.571428571428573\n",
      "195496.p2 \t 50.0\n",
      "309107.p2 \t 100.0\n",
      "34647.p2 \t 66.66666666666667\n",
      "21036.p2 \t 37.5\n",
      "44065.p2 \t 75.0\n",
      "100118.p2 \t 66.66666666666667\n",
      "90054.p2 \t 63.63636363636363\n",
      "7010.p2 \t 85.71428571428571\n",
      "11818.p2 \t 78.57142857142857\n",
      "235859.p2 \t 60.0\n",
      "362068.p2 \t 62.5\n",
      "312783.p2 \t 71.42857142857143\n",
      "40766.p2 \t 83.33333333333333\n",
      "122747.p2 \t 33.333333333333336\n",
      "45233.p2 \t 66.66666666666667\n",
      "238930.p2 \t 77.77777777777777\n",
      "35286.p2 \t 100.0\n",
      "26967.p2 \t 87.5\n",
      "353969.p2 \t 83.33333333333333\n",
      "42328.p2 \t 90.0\n",
      "15688.p2 \t 50.0\n",
      "12701.p2 \t 25.0\n",
      "26613.p2 \t 70.0\n",
      "33916.p2 \t 70.0\n",
      "141265.p2 \t 50.0\n",
      "420137.p2 \t 85.71428571428571\n",
      "407042.p2 \t 62.5\n",
      "20416.p2 \t 82.3529411764706\n",
      "217870.p2 \t 42.857142857142854\n",
      "39608.p2 \t 44.44444444444444\n",
      "7039.p2 \t 62.5\n",
      "23096.p2 \t 33.333333333333336\n",
      "198586.p2 \t 71.42857142857143\n",
      "46041.p2 \t 60.0\n",
      "258678.p2 \t 71.42857142857143\n",
      "35032.p2 \t 50.0\n",
      "199573.p2 \t 57.142857142857146\n",
      "384005.p2 \t 66.66666666666667\n",
      "92848.p2 \t 87.5\n",
      "340960.p2 \t 50.0\n",
      "256219.p2 \t 50.0\n",
      "40434.p2 \t 16.666666666666668\n",
      "307483.p2 \t 66.66666666666667\n",
      "137627.p2 \t 62.5\n",
      "105673.p2 \t 71.42857142857143\n",
      "115460.p2 \t 75.0\n",
      "241090.p2 \t 57.142857142857146\n",
      "406177.p2 \t 57.142857142857146\n",
      "72694.p2 \t 60.0\n",
      "25157.p2 \t 66.66666666666667\n",
      "26891.p2 \t 100.0\n",
      "93846.p2 \t 33.333333333333336\n",
      "356786.p2 \t 100.0\n",
      "433227.p2 \t 55.55555555555556\n",
      "17180.p2 \t 57.142857142857146\n",
      "334272.p2 \t 66.66666666666667\n",
      "30114.p2 \t 12.5\n",
      "18124.p2 \t 62.5\n",
      "3352.p2 \t 42.10526315789474\n",
      "125991.p2 \t 100.0\n",
      "386847.p2 \t 50.0\n"
     ]
    }
   ],
   "source": [
    "# with open('.temp/sandhi_encounters.csv', 'w') as fh:\n",
    "#     fcsv = csv.writer(fh)\n",
    "#     fcsv.writerow(['left', 'right', 'derivations', 'word_left', 'word_right', 'pos_left', 'pos_right'])\n",
    "# np.set_printoptions(precision=6)\n",
    "# for f in list(goodFileDict.keys())[90:91]:\n",
    "for f in list(goodFileDict.keys())[0:100]:\n",
    "# for f in fullfs:\n",
    "    sentenceObj, dcsObj = loadSentence_nopre(f, goodFileDict[f])\n",
    "    if(sentenceObj != None):\n",
    "        result = algo.predict(sentenceObj, dcsObj, eta = 0.05)\n",
    "        if(result != None):\n",
    "            ac = Accuracy(result, dcsObj)\n",
    "            solution = [rom_slp(c) for arr in dcsObj.lemmas for c in arr]\n",
    "#             print(result)\n",
    "#             print('vs')\n",
    "#             print(solution)\n",
    "\n",
    "            print(f, \"\\t\", ac)"
   ]
  },
  {
   "cell_type": "code",
   "execution_count": 31,
   "metadata": {
    "collapsed": true
   },
   "outputs": [],
   "source": [
    "# fullfs = ['105587.p','293473.p','379245.p']\n",
    "fullfs = ['302864.p', '292204.p', '161425.p', '128533.p', '265112.p', '16349.p', '320178.p', '334655.p', '331468.p', '365975.p', '434538.p', '148267.p', '340997.p', '204751.p', '289589.p', '423330.p', '276728.p', '105056.p', '325962.p', '383515.p', '60055.p', '228316.p', '192549.p', '169215.p', '393452.p', '433996.p', '440103.p', '68686.p', '157189.p', '440567.p']"
   ]
  },
  {
   "cell_type": "code",
   "execution_count": 200,
   "metadata": {
    "collapsed": false
   },
   "outputs": [
    {
     "name": "stdout",
     "output_type": "stream",
     "text": [
      "Lowscore files found: 4\n",
      "Midscore files found: 7\n",
      "Highscore files found: 9\n"
     ]
    }
   ],
   "source": [
    "fullfs = ['302864.p', '292204.p', '161425.p', '128533.p', '265112.p', '16349.p', '320178.p', '334655.p', '331468.p', '365975.p', '434538.p', '148267.p', '340997.p', '204751.p', '289589.p', '423330.p', '276728.p', '105056.p', '325962.p', '383515.p', '60055.p', '228316.p', '192549.p', '169215.p', '393452.p', '433996.p', '440103.p', '68686.p', '157189.p', '440567.p']\n",
    "def GetSomeJSON():\n",
    "    lowScore = []\n",
    "    midScore = []\n",
    "    highScore = []\n",
    "    np.set_printoptions(precision=4)\n",
    "#     for i in range(1, 400):\n",
    "#         f = list(goodFileDict.keys())[i]\n",
    "#     print(len(fullfs))\n",
    "    for f in fullfs:\n",
    "        sentenceObj, dcsObj = loadSentence(f, goodFileDict[f])\n",
    "        if(sentenceObj != None):\n",
    "            result, runDetails = algo.predict(sentenceObj, dcsObj, verbose = True)\n",
    "\n",
    "            if(result != None):\n",
    "                runDetails['file'] = f\n",
    "                ac = runDetails['accuracy']\n",
    "#                 print(f, ac)\n",
    "\n",
    "                # CODE FOR SELECTING FILES \n",
    "#                 if(i%100 == 0):\n",
    "#                     print('Chekpoint:', i)\n",
    "                if(ac <= 40):\n",
    "                    lowScore.append(runDetails)\n",
    "                elif (ac <= 60):\n",
    "                    if(ac >= 45):\n",
    "                        midScore.append(runDetails)\n",
    "                elif (ac <= 100):\n",
    "                    if(ac >= 80):\n",
    "                        highScore.append(runDetails)\n",
    "\n",
    "    print('Lowscore files found:', len(lowScore))\n",
    "    print('Midscore files found:', len(midScore))\n",
    "    print('Highscore files found:', len(highScore))\n",
    "\n",
    "    lowScore = lowScore[0:10]\n",
    "    midScore = midScore[0:10]\n",
    "    highScore = highScore[0:10]\n",
    "    pickle.dump(lowScore, open('lowScore.p', 'wb'))\n",
    "    pickle.dump(midScore, open('midScore.p', 'wb'))\n",
    "    pickle.dump(highScore, open('highScore.p', 'wb'))\n",
    "\n",
    "#=================================================================\n",
    "GetSomeJSON()"
   ]
  },
  {
   "cell_type": "code",
   "execution_count": 38,
   "metadata": {
    "collapsed": false
   },
   "outputs": [
    {
     "name": "stdout",
     "output_type": "stream",
     "text": [
      "Chekpoint: 0\n",
      "Chekpoint: 100\n",
      "Chekpoint: 300\n"
     ]
    }
   ],
   "source": [
    "def MacroAccuracy():\n",
    "    allAcs = []\n",
    "    np.set_printoptions(precision=4)\n",
    "    gfs = list(goodFileDict.keys())\n",
    "    for i in range(400):\n",
    "#     for i in range(10):\n",
    "        f = gfs[i]\n",
    "        sentenceObj, dcsObj = loadSentence(f, goodFileDict[f])\n",
    "        if(sentenceObj != None):\n",
    "            result = algo.predict(sentenceObj, dcsObj, verbose = False)\n",
    "            \n",
    "            if(result != None):\n",
    "#                 print(result)\n",
    "#                 print(dcsObj.lemmas)\n",
    "                ac = Accuracy(result, dcsObj)\n",
    "                allAcs.append(ac)\n",
    "#                 print(f, ac)\n",
    "\n",
    "                # CODE FOR SELECTING FILES \n",
    "                if(i%100 == 0):\n",
    "                    print('Chekpoint:', i)\n",
    "    allAcs = np.array(allAcs)\n",
    "    return allAcs\n",
    "\n",
    "\n",
    "#=================================================================\n",
    "allAcs = MacroAccuracy()"
   ]
  },
  {
   "cell_type": "code",
   "execution_count": 44,
   "metadata": {
    "collapsed": false
   },
   "outputs": [
    {
     "name": "stdout",
     "output_type": "stream",
     "text": [
      "348\n",
      "76.8498538275\n",
      "Macro Accuracy %: 20.6896551724\n"
     ]
    }
   ],
   "source": [
    "print(len(allAcs))\n",
    "print(np.mean(allAcs))\n",
    "# the histogram of the data\n",
    "n, bins, patches = plt.hist(allAcs, 40, normed=False)\n",
    "\n",
    "plt.xlabel('MicroAccuracy')\n",
    "plt.ylabel('Count')\n",
    "plt.title('Histogram of MicroAccuracy')\n",
    "plt.grid(True)\n",
    "plt.show()\n",
    "\n",
    "print('Macro Accuracy %:', 100*np.sum(n[(bins[::] > 95)[:-1:]])/np.sum(n))"
   ]
  },
  {
   "cell_type": "code",
   "execution_count": null,
   "metadata": {
    "collapsed": false
   },
   "outputs": [],
   "source": []
  },
  {
   "cell_type": "code",
   "execution_count": null,
   "metadata": {
    "collapsed": false,
    "scrolled": true
   },
   "outputs": [],
   "source": [
    "def SeeSomeJSON(region = 'mid', files = ['lowScore.p', 'midScore.p', 'highScore.p']):\n",
    "    np.set_printoptions(precision=3)\n",
    "    if region == 'low':\n",
    "        p = pickleFixLoad(files[0])\n",
    "    elif region == 'mid':\n",
    "        p = pickleFixLoad(files[1])\n",
    "    else:\n",
    "        p = pickleFixLoad(files[2])\n",
    "#     for pf in p:\n",
    "#         print(pf['file'])\n",
    "    n_steps = p[0]['steps']\n",
    "    for s in range(n_steps):\n",
    "        \n",
    "        print('Step:', s)\n",
    "        print('='*20)\n",
    "        \n",
    "        for key, val in p[0][str(s)].items():\n",
    "            print(key, \":\")\n",
    "            print(val)\n",
    "            print('-'*20)\n",
    "        \n",
    "SeeSomeJSON('low')\n",
    "print('='*20)\n",
    "SeeSomeJSON('mid')\n",
    "print('='*20)\n",
    "SeeSomeJSON('high')"
   ]
  },
  {
   "cell_type": "code",
   "execution_count": 68,
   "metadata": {
    "collapsed": false,
    "scrolled": true
   },
   "outputs": [
    {
     "name": "stdout",
     "output_type": "stream",
     "text": [
      "========================================\n",
      "========================================\n",
      "========================================\n",
      "35 weird predictions encountered.\n"
     ]
    }
   ],
   "source": [
    "def ArePredictionsOK():\n",
    "    with open('.temp/weird.csv', 'w') as fh:\n",
    "        wcsv = csv.writer(fh)\n",
    "        wcsv.writerow(['filename', 'sentence', 'solution', 'prediction'])\n",
    "        np.set_printoptions(precision=4)\n",
    "        badCount = 0\n",
    "        for i in range(1, 600):\n",
    "            f = list(goodFileDict.keys())[i]\n",
    "\n",
    "            sentenceObj, dcsObj = loadSentence(f, goodFileDict[f])\n",
    "            if(sentenceObj != None):\n",
    "                result = algo.predict(sentenceObj, dcsObj, verbose = False)\n",
    "                if(result != None):            \n",
    "                    solution = [rom_slp(c) for arr in dcsObj.lemmas for c in arr]\n",
    "                    ac = Accuracy(result, dcsObj)\n",
    "                    if ac >= 100 and len(result) != len(solution):\n",
    "                        badCount += 1\n",
    "                        if(badCount%10 == 0):\n",
    "                            print(\"=\"*40)\n",
    "                        sline = [f, sentenceObj.sentence, solution, result]\n",
    "                        wcsv.writerow(sline)\n",
    "        print(badCount, 'weird predictions encountered.')\n",
    "        \n",
    "ArePredictionsOK()"
   ]
  },
  {
   "cell_type": "code",
   "execution_count": 9,
   "metadata": {
    "collapsed": false,
    "scrolled": false
   },
   "outputs": [
    {
     "name": "stdout",
     "output_type": "stream",
     "text": [
      "SKT ANALYZE\n",
      "---------------\n",
      "paYca ratnAni muKyAni coparatnacatuzwayam   \n",
      "Analyzing: paYca\n",
      "-------------------------\n",
      "Analyzing: ratnAni\n",
      "0 : ratnAni [0, 'ratna', 81] [1, 'ratna', 41] \n",
      "0 : ratnAni [2, 'ratna', 61] \n",
      "-------------------------\n",
      "Analyzing: muKyAni\n",
      "0 : muKyAni [3, 'muKya', 81] [4, 'muKya', 41] \n",
      "0 : muKyAni [5, 'muKya', 61] \n",
      "-------------------------\n",
      "Analyzing: coparatnacatuzwayam\n",
      "0 : ca [6, 'ca', 2] \n",
      "9 : catuzwayam [7, 'catuzwaya', 31] [8, 'catuzwaya', 69] [9, 'catuzwaya', 71] \n",
      "4 : ratna [10, 'ratna', 3] \n",
      "1 : uparatna [11, 'uparatna', 3] \n",
      "1 : Upa [12, 'vap', -158] \n",
      "-------------------------\n",
      "Analyzing  paYca\n",
      "0 :  paYca [] []\n",
      "Analyzing  ratnAni\n",
      "0 :  ratnAni ['ratna'] [{'noun': ['acc. pl. n.', 'nom. pl. n.']}]\n",
      "0 :  ratnAni ['ratna'] [{'noun': ['voc. pl. n.']}]\n",
      "Analyzing  muKyAni\n",
      "0 :  muKyAni ['muKya'] [{'noun': ['acc. pl. n.', 'nom. pl. n.']}]\n",
      "0 :  muKyAni ['muKya'] [{'noun': ['voc. pl. n.']}]\n",
      "Analyzing  coparatnacatuzwayam\n",
      "0 :  ca ['ca'] [{'indeclinable': ['conj.']}]\n",
      "9 :  catuzwayam ['catuzwaya'] [{'noun': ['acc. sg. m.', 'acc. sg. n.', 'nom. sg. n.']}]\n",
      "4 :  ratna ['ratna'] [{'compound': ['iic.']}]\n",
      "1 :  uparatna ['uparatna'] [{'compound': ['iic.']}]\n",
      "1 :  Upa ['vap', 'vap'] [{'verb': ['pft. ac. pl. 2']}, {'verb': ['pft. ac. pl. 2']}]\n",
      "\n"
     ]
    }
   ],
   "source": [
    "sentenceObj, dcsObj = loadSentence('1.p', '../TextSegmentation/corrected_10to20/1.p')\n",
    "SeeSentence(sentenceObj)"
   ]
  },
  {
   "cell_type": "code",
   "execution_count": 8,
   "metadata": {
    "collapsed": false,
    "scrolled": true
   },
   "outputs": [
    {
     "name": "stdout",
     "output_type": "stream",
     "text": [
      "DCS ANALYZE\n",
      "---------------\n",
      "upacAreRa SIlena rUpayOvanasaMpadA   \n",
      "[['upacāra'], ['śīla'], ['rūpa', 'yauvana', 'sampad']]\n",
      "Lemmas: ['upacAra', 'SIla', 'rUpa', 'yOvana', 'sampad']\n",
      "[['89'], ['91'], ['3', '3', '90']]\n",
      "\n"
     ]
    }
   ],
   "source": [
    "SeeDCS(dcsObj)"
   ]
  },
  {
   "cell_type": "code",
   "execution_count": 7,
   "metadata": {
    "collapsed": false
   },
   "outputs": [],
   "source": []
  },
  {
   "cell_type": "code",
   "execution_count": 7,
   "metadata": {
    "collapsed": false,
    "scrolled": false
   },
   "outputs": [],
   "source": [
    "def CSVforSupervised():\n",
    "    np.set_printoptions(precision=4)\n",
    "    # Clean the csv files\n",
    "    metPerfFH = open('.temp/metPerfFH.csv', 'w')\n",
    "    metPerfFH_bin = open('.temp/metPerfFH_bin.csv', 'w')\n",
    "\n",
    "    metPerfFH.write('w2w,t2t,w2w_samecng,InDCS\\n')\n",
    "    metPerfFH_bin.write('w2w,t2t,w2w_samecng,InDCS\\n')\n",
    "\n",
    "    metPerfFH.close()\n",
    "    metPerfFH_bin.close()\n",
    "    ######################\n",
    "    gfl = list(goodFileDict.keys())\n",
    "    for i in range(0, 11000):\n",
    "        f = gfl[i]\n",
    "        if(i%250 == 0):\n",
    "            print('Checkpoint:', i)\n",
    "        sentenceObj, dcsObj = loadSentence(f, goodFileDict[f])\n",
    "        \n",
    "        if(sentenceObj != None):\n",
    "            result, runDetails = algo.predict(sentenceObj, dcsObj, verbose = True)\n",
    "\n",
    "\n"
   ]
  },
  {
   "cell_type": "code",
   "execution_count": null,
   "metadata": {
    "collapsed": false,
    "scrolled": true
   },
   "outputs": [],
   "source": [
    "np.set_printoptions(precision=6)\n",
    "jsonBatch = []\n",
    "for f_ in lowScore[0:10]:\n",
    "    f = f_[0]\n",
    "    sentenceObj, dcsObj = loadSentence(f, goodFileDict[f])\n",
    "    if(sentenceObj != None):\n",
    "        result, runDetails = algo.predict(sentenceObj, dcsObj, verbose = True)\n",
    "        runDetails['file'] = f\n",
    "        jsonBatch.append(runDetails)\n",
    "pickle.dump(jsonBatch, open('.temp/lowScore.p','wb'))\n",
    "print('33 % Complete')\n",
    "#################################################################\n",
    "jsonBatch = []\n",
    "for f_ in midScore[0:10]:\n",
    "    f = f_[0]\n",
    "    sentenceObj, dcsObj = loadSentence(f, goodFileDict[f])\n",
    "    if(sentenceObj != None):\n",
    "        result, runDetails = algo.predict(sentenceObj, dcsObj, verbose = True)\n",
    "        runDetails['file'] = f\n",
    "        jsonBatch.append(runDetails)\n",
    "pickle.dump(jsonBatch, open('.temp/midScore.p','wb'))\n",
    "print('67 % Complete')\n",
    "#################################################################\n",
    "jsonBatch = []\n",
    "for f_ in highScore[0:10]:\n",
    "    f = f_[0]\n",
    "    sentenceObj, dcsObj = loadSentence(f, goodFileDict[f])\n",
    "    if(sentenceObj != None):\n",
    "        result, runDetails = algo.predict(sentenceObj, dcsObj, verbose = True)\n",
    "        runDetails['file'] = f\n",
    "        jsonBatch.append(runDetails)\n",
    "print(pprint.pprint(jsonBatch))\n",
    "pickle.dump(jsonBatch, open('.temp/highScore.p','wb'))\n",
    "print('100 % Complete')"
   ]
  },
  {
   "cell_type": "code",
   "execution_count": 195,
   "metadata": {
    "collapsed": false
   },
   "outputs": [
    {
     "data": {
      "text/plain": [
       "array([1, 2, 3, 4])"
      ]
     },
     "execution_count": 195,
     "metadata": {},
     "output_type": "execute_result"
    }
   ],
   "source": [
    "a = np.array([1,2,3,4,5])\n",
    "a[:-1:]"
   ]
  },
  {
   "cell_type": "code",
   "execution_count": 24,
   "metadata": {
    "collapsed": false
   },
   "outputs": [
    {
     "data": {
      "text/plain": [
       "'anuzWAna'"
      ]
     },
     "execution_count": 24,
     "metadata": {},
     "output_type": "execute_result"
    }
   ],
   "source": [
    "rom_slp('anuṣṭhāna')"
   ]
  },
  {
   "cell_type": "code",
   "execution_count": null,
   "metadata": {
    "collapsed": true
   },
   "outputs": [],
   "source": []
  }
 ],
 "metadata": {
  "kernelspec": {
   "display_name": "Python 3",
   "language": "python",
   "name": "python3"
  },
  "language_info": {
   "codemirror_mode": {
    "name": "ipython",
    "version": 3
   },
   "file_extension": ".py",
   "mimetype": "text/x-python",
   "name": "python",
   "nbconvert_exporter": "python",
   "pygments_lexer": "ipython3",
   "version": "3.5.1+"
  }
 },
 "nbformat": 4,
 "nbformat_minor": 0
}
