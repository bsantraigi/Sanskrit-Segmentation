{
 "cells": [
  {
   "cell_type": "code",
   "execution_count": 1,
   "metadata": {
    "collapsed": false
   },
   "outputs": [],
   "source": [
    "%load_ext autoreload\n",
    "%autoreload 2"
   ]
  },
  {
   "cell_type": "code",
   "execution_count": 2,
   "metadata": {
    "collapsed": true
   },
   "outputs": [],
   "source": [
    "# from AlgoTestFactory import *\n",
    "\n",
    "# altf1 = AlgoTestFactory([0, 10000], 15, savePath=\"Combined_4_test2\", storeAccuracies=True)\n",
    "\n",
    "# altf1.run()"
   ]
  },
  {
   "cell_type": "code",
   "execution_count": 3,
   "metadata": {
    "collapsed": false
   },
   "outputs": [
    {
     "name": "stdout",
     "output_type": "stream",
     "text": [
      "Dataloader Started[Prob]...\n",
      "Dataloader Finished[Prob]...\n"
     ]
    }
   ],
   "source": [
    "from SktWsegRWR_utf8 import *\n",
    "import pickle\n",
    "import ProbData\n",
    "from ProbModels import *\n",
    "import multiprocessing\n",
    "import math\n",
    "import json\n",
    "import pprint"
   ]
  },
  {
   "cell_type": "code",
   "execution_count": 4,
   "metadata": {
    "collapsed": false
   },
   "outputs": [],
   "source": [
    "pb = ProbModels(fullCo_oc_mat = ProbData.fullCo_oc_mat, unigram_counts = ProbData.unigram_counts,\n",
    "               cng2cngFullMat = ProbData.cng2cngFullMat, cng2index_dict = ProbData.cng2index_dict,\n",
    "               w2w_samecng_fullmat=ProbData.w2w_samecng_fullmat, samecng_unigram_counts=ProbData.samecng_unigram_counts,\n",
    "               v2c_fullMat = ProbData.v2c_fullMat)\n",
    "\n",
    "goodFileDict = pickle.load(open('mergedGood_v3.p', 'rb'))\n",
    "algo = SktWsegRWR(\n",
    "            w2w_modelFunc = pb.get_w2w_mat, \n",
    "            t2t_modelFunc = pb.get_cng2cng_mat,\n",
    "            v2c_modelFunc = pb.get_v2c_ranking,\n",
    "            sameCng_modelFunc = pb.get_w2w_samecng_mat,\n",
    "            partition=[0.25, 0.25, 0.25, 0.1]\n",
    "        )"
   ]
  },
  {
   "cell_type": "code",
   "execution_count": 5,
   "metadata": {
    "collapsed": true
   },
   "outputs": [],
   "source": [
    "def loadSentence(fName, folderTag):\n",
    "        # print('File: ', fName)\n",
    "        try:\n",
    "            dcsObj = pickleFixLoad('../Text Segmentation/DCS_pick/' + fName)           \n",
    "            if folderTag == \"C1020\" :\n",
    "                sentenceObj = pickleFixLoad('../TextSegmentation/corrected_10to20/' + fName)\n",
    "            else:\n",
    "                sentenceObj = pickleFixLoad('../TextSegmentation/Pickle_Files/' + fName)\n",
    "\n",
    "        except (KeyError, EOFError, pickle.UnpicklingError) as e:\n",
    "            return None, None\n",
    "        return(sentenceObj, dcsObj)\n",
    "    \n",
    "def Accuracy(prediction, dcsObj):\n",
    "#     solution = [rom_slp(c) for c in dcsObj.dcs_chunks]\n",
    "    solution = [rom_slp(c) for arr in dcsObj.lemmas for c in arr]\n",
    "#     ac = 100*sum(list(map(lambda x: x in solution, prediction)))/len(prediction)\n",
    "    ac = 100*sum(list(map(lambda x: x in prediction, solution)))/len(solution)\n",
    "    return ac"
   ]
  },
  {
   "cell_type": "code",
   "execution_count": 7,
   "metadata": {
    "collapsed": false
   },
   "outputs": [],
   "source": [
    "# lowScore = lowScore[0:10]\n",
    "# midScore = midScore[0:10]\n",
    "# highScore = highScore[0:10]\n",
    "# print(len(lowScore))\n",
    "# print(lowScore)\n",
    "# print(len(midScore))\n",
    "# print(midScore)\n",
    "# print(len(highScore))\n",
    "# print(highScore)"
   ]
  },
  {
   "cell_type": "code",
   "execution_count": null,
   "metadata": {
    "collapsed": false,
    "scrolled": true
   },
   "outputs": [],
   "source": [
    "np.set_printoptions(precision=6)\n",
    "jsonBatch = []\n",
    "# for f in list(goodFileDict.keys())[1:10]:\n",
    "# for f in list(goodFileDict.keys())[1:100]:\n",
    "for f_ in lowScore:\n",
    "    f = f_[0]\n",
    "    sentenceObj, dcsObj = loadSentence(f, goodFileDict[f])\n",
    "    if(sentenceObj != None):\n",
    "        result, runDetails = algo.predict(sentenceObj, dcsObj, verbose = True)\n",
    "        if(result != None):\n",
    "            ac = runDetails['accuracy']\n",
    "            solution = [rom_slp(c) for arr in dcsObj.lemmas for c in arr]\n",
    "#             print(result)\n",
    "#             print('vs')\n",
    "#             print(solution)\n",
    "#             print(f, \"\\t\", ac)\n",
    "            jsonBatch.append(runDetails)\n",
    "pickle.dump(jsonBatch, open('.temp/lowScore.p','wb'))\n",
    "#################################################################\n",
    "jsonBatch = []\n",
    "# for f in list(goodFileDict.keys())[1:10]:\n",
    "# for f in list(goodFileDict.keys())[1:100]:\n",
    "for f_ in midScore:\n",
    "    f = f_[0]\n",
    "    sentenceObj, dcsObj = loadSentence(f, goodFileDict[f])\n",
    "    if(sentenceObj != None):\n",
    "        result, runDetails = algo.predict(sentenceObj, dcsObj, verbose = True)\n",
    "        if(result != None):\n",
    "            ac = runDetails['accuracy']\n",
    "            solution = [rom_slp(c) for arr in dcsObj.lemmas for c in arr]\n",
    "#             print(result)\n",
    "#             print('vs')\n",
    "#             print(solution)\n",
    "#             print(f, \"\\t\", ac)\n",
    "            jsonBatch.append(runDetails)\n",
    "pickle.dump(jsonBatch, open('.temp/midScore.p','wb'))\n",
    "#################################################################\n",
    "jsonBatch = []\n",
    "# for f in list(goodFileDict.keys())[1:10]:\n",
    "# for f in list(goodFileDict.keys())[1:100]:\n",
    "for f_ in highScore:\n",
    "    f = f_[0]\n",
    "    sentenceObj, dcsObj = loadSentence(f, goodFileDict[f])\n",
    "    if(sentenceObj != None):\n",
    "        result, runDetails = algo.predict(sentenceObj, dcsObj, verbose = True)\n",
    "        if(result != None):\n",
    "            ac = runDetails['accuracy']\n",
    "            solution = [rom_slp(c) for arr in dcsObj.lemmas for c in arr]\n",
    "#             print(result)\n",
    "#             print('vs')\n",
    "#             print(solution)\n",
    "#             print(f, \"\\t\", ac)\n",
    "            jsonBatch.append(runDetails)\n",
    "print(pprint.pprint(jsonBatch))\n",
    "pickle.dump(jsonBatch, open('.temp/highScore.p','wb'))"
   ]
  },
  {
   "cell_type": "code",
   "execution_count": 33,
   "metadata": {
    "collapsed": false,
    "scrolled": false
   },
   "outputs": [
    {
     "name": "stdout",
     "output_type": "stream",
     "text": [
      "dict_keys(['5', 'TransitionMat_t2t', 'initialQuery', 'prediction', '3', 'TransitionMat_w2w_samecng', '4', 'DCSLemmas', 'accuracy', 'TransitionMat_w2w', '2', 'nodeList', '1', '0', 'sentence', '6'])\n",
      "\n",
      "dict_keys(['updated_query', 'final_score', 'removed', 'final_rank', 'w2w_samecng_rank', 'w2w_samecng_score', 'w2w_rank', 't2t_score', 't2t_rank', 'w2w_score', 'winner'])\n",
      "[15, 16]\n",
      "[15, 16, 21]\n",
      "[[ 0.040709  0.04046   0.041591  0.041591  0.037939  0.041064  0.041101\n",
      "   0.041317  0.041317  0.041353  0.041227  0.041433  0.041429  0.041316\n",
      "   0.040558  0.031458  0.03466   0.041182  0.041182  0.041182  0.040675\n",
      "   0.037607]]\n",
      "[[15 16 21  4  1 14 20  0  5  6 17 18 19 10 13  8  7  9 12 11  2  3]]\n",
      "\n",
      "[15, 16, 21, 4, 1, 20, 14, 10, 2]\n",
      "[[ 0.040852  0.038907  0.040852  0.040852  0.038907  0.040852  0.040852\n",
      "   0.040852  0.040852  0.040852  0.038907  0.040852  0.040852  0.040852\n",
      "   0.038907  0.038072  0.038907  0.040852  0.040852  0.040852  0.038907\n",
      "   0.038907]]\n"
     ]
    }
   ],
   "source": [
    "np.set_printoptions(precision=6)\n",
    "d = pickle.load(open('.temp/midScore.p','rb'), encoding='utf8')\n",
    "f = d[0]\n",
    "print(f.keys())\n",
    "print()\n",
    "print(f['sentences'])\n",
    "print(f['0'].keys())\n",
    "print(f['initialQuery'])\n",
    "print(f['0']['updated_query'])\n",
    "print(f['0']['final_score'])\n",
    "print(np.asarray(f['0']['final_score'].argsort()))\n",
    "print()\n",
    "print(f['6']['updated_query'])\n",
    "print(f['6']['final_score'])"
   ]
  },
  {
   "cell_type": "code",
   "execution_count": 151,
   "metadata": {
    "collapsed": false,
    "scrolled": false
   },
   "outputs": [
    {
     "name": "stdout",
     "output_type": "stream",
     "text": [
      "435293.p \t 100.0\n",
      "305404.p \t 71.42857142857143\n",
      "396827.p \t 100.0\n",
      "18144.p \t 83.33333333333333\n"
     ]
    }
   ],
   "source": [
    "np.set_printoptions(precision=4)\n",
    "for f in list(goodFileDict.keys())[1:10]:\n",
    "# for f in list(goodFileDict.keys())[1:100]:\n",
    "# for f in fullfs[0:1]:\n",
    "    sentenceObj, dcsObj = loadSentence(f, goodFileDict[f])\n",
    "    if(sentenceObj != None):\n",
    "        result, runDetails = algo.predict(sentenceObj, dcsObj, verbose = True)\n",
    "        if(result != None):\n",
    "            ac = runDetails['accuracy']\n",
    "            solution = [rom_slp(c) for arr in dcsObj.lemmas for c in arr]\n",
    "#             print(result)\n",
    "#             print('vs')\n",
    "#             print(solution)\n",
    "            print(f, \"\\t\", ac)\n",
    "#             pprint.pprint(runDetails)"
   ]
  },
  {
   "cell_type": "code",
   "execution_count": 131,
   "metadata": {
    "collapsed": false,
    "scrolled": false
   },
   "outputs": [
    {
     "name": "stdout",
     "output_type": "stream",
     "text": [
      "0 [0]\n",
      "1 [0]\n",
      "Chosen: 1\n"
     ]
    },
    {
     "ename": "UnboundLocalError",
     "evalue": "local variable 'stepDetails' referenced before assignment",
     "output_type": "error",
     "traceback": [
      "\u001b[1;31m---------------------------------------------------------------------------\u001b[0m",
      "\u001b[1;31mUnboundLocalError\u001b[0m                         Traceback (most recent call last)",
      "\u001b[1;32m<ipython-input-131-bacc5e3c7920>\u001b[0m in \u001b[0;36m<module>\u001b[1;34m()\u001b[0m\n\u001b[0;32m      5\u001b[0m     \u001b[0msentenceObj\u001b[0m\u001b[1;33m,\u001b[0m \u001b[0mdcsObj\u001b[0m \u001b[1;33m=\u001b[0m \u001b[0mloadSentence\u001b[0m\u001b[1;33m(\u001b[0m\u001b[0mf\u001b[0m\u001b[1;33m,\u001b[0m \u001b[0mgoodFileDict\u001b[0m\u001b[1;33m[\u001b[0m\u001b[0mf\u001b[0m\u001b[1;33m]\u001b[0m\u001b[1;33m)\u001b[0m\u001b[1;33m\u001b[0m\u001b[0m\n\u001b[0;32m      6\u001b[0m     \u001b[1;32mif\u001b[0m\u001b[1;33m(\u001b[0m\u001b[0msentenceObj\u001b[0m \u001b[1;33m!=\u001b[0m \u001b[1;32mNone\u001b[0m\u001b[1;33m)\u001b[0m\u001b[1;33m:\u001b[0m\u001b[1;33m\u001b[0m\u001b[0m\n\u001b[1;32m----> 7\u001b[1;33m         \u001b[0mresult\u001b[0m \u001b[1;33m=\u001b[0m \u001b[0malgo\u001b[0m\u001b[1;33m.\u001b[0m\u001b[0mpredict\u001b[0m\u001b[1;33m(\u001b[0m\u001b[0msentenceObj\u001b[0m\u001b[1;33m,\u001b[0m \u001b[0mdcsObj\u001b[0m\u001b[1;33m)\u001b[0m\u001b[1;33m\u001b[0m\u001b[0m\n\u001b[0m\u001b[0;32m      8\u001b[0m         \u001b[1;32mif\u001b[0m\u001b[1;33m(\u001b[0m\u001b[0mresult\u001b[0m \u001b[1;33m!=\u001b[0m \u001b[1;32mNone\u001b[0m\u001b[1;33m)\u001b[0m\u001b[1;33m:\u001b[0m\u001b[1;33m\u001b[0m\u001b[0m\n\u001b[0;32m      9\u001b[0m             \u001b[0mac\u001b[0m \u001b[1;33m=\u001b[0m \u001b[0mAccuracy\u001b[0m\u001b[1;33m(\u001b[0m\u001b[0mresult\u001b[0m\u001b[1;33m,\u001b[0m \u001b[0mdcsObj\u001b[0m\u001b[1;33m)\u001b[0m\u001b[1;33m\u001b[0m\u001b[0m\n",
      "\u001b[1;32m/home/bishal/Documents/summer project/TxSeg_Summer/SktWsegRWR_utf8.py\u001b[0m in \u001b[0;36mpredict\u001b[1;34m(self, sentenceObj, dcsObj, verbose)\u001b[0m\n\u001b[0;32m    339\u001b[0m                                             \u001b[0mdeactivate\u001b[0m\u001b[1;33m(\u001b[0m\u001b[0mindex\u001b[0m\u001b[1;33m)\u001b[0m\u001b[1;33m\u001b[0m\u001b[0m\n\u001b[0;32m    340\u001b[0m \u001b[1;33m\u001b[0m\u001b[0m\n\u001b[1;32m--> 341\u001b[1;33m                         \u001b[0mstepDetails\u001b[0m\u001b[1;33m[\u001b[0m\u001b[1;34m'updated_query'\u001b[0m\u001b[1;33m]\u001b[0m \u001b[1;33m=\u001b[0m \u001b[0mqu\u001b[0m\u001b[1;33m\u001b[0m\u001b[0m\n\u001b[0m\u001b[0;32m    342\u001b[0m \u001b[1;33m\u001b[0m\u001b[0m\n\u001b[0;32m    343\u001b[0m                 \u001b[1;32mexcept\u001b[0m \u001b[0mKeyError\u001b[0m\u001b[1;33m:\u001b[0m\u001b[1;33m\u001b[0m\u001b[0m\n",
      "\u001b[1;31mUnboundLocalError\u001b[0m: local variable 'stepDetails' referenced before assignment"
     ]
    }
   ],
   "source": [
    "np.set_printoptions(precision=6)\n",
    "# for f in list(goodFileDict.keys())[90:91]:\n",
    "for f in list(goodFileDict.keys())[1:100]:\n",
    "# for f in fullfs:\n",
    "    sentenceObj, dcsObj = loadSentence(f, goodFileDict[f])\n",
    "    if(sentenceObj != None):\n",
    "        result = algo.predict(sentenceObj, dcsObj)\n",
    "        if(result != None):\n",
    "            ac = Accuracy(result, dcsObj)\n",
    "            solution = [rom_slp(c) for arr in dcsObj.lemmas for c in arr]\n",
    "#             print(result)\n",
    "#             print('vs')\n",
    "#             print(solution)\n",
    "#             print(f, \"\\t\", ac)"
   ]
  },
  {
   "cell_type": "code",
   "execution_count": 151,
   "metadata": {
    "collapsed": true
   },
   "outputs": [],
   "source": [
    "fullfs = ['434538.p','148267.p','379245.p']"
   ]
  },
  {
   "cell_type": "code",
   "execution_count": 162,
   "metadata": {
    "collapsed": false,
    "scrolled": false
   },
   "outputs": [
    {
     "name": "stdout",
     "output_type": "stream",
     "text": [
      "Remvoe b/w mamatvena mamatva\n",
      "Remvoe b/w mamatvena mamatve\n",
      "Remvoe b/w mamatvena mama\n",
      "Remvoe b/w mamatvena mama\n",
      "Remvoe b/w mamatva mamatve\n",
      "Remvoe b/w mamatva mama\n",
      "Remvoe b/w mamatva mama\n",
      "Remvoe b/w mamatve mama\n",
      "Remvoe b/w mamatve mama\n",
      "Remvoe b/w mama mama\n",
      "Remvoe b/w tvA tu\n"
     ]
    },
    {
     "ename": "IndexError",
     "evalue": "list index out of range",
     "output_type": "error",
     "traceback": [
      "\u001b[1;31m---------------------------------------------------------------------------\u001b[0m",
      "\u001b[1;31mIndexError\u001b[0m                                Traceback (most recent call last)",
      "\u001b[1;32m<ipython-input-162-925523097b23>\u001b[0m in \u001b[0;36m<module>\u001b[1;34m()\u001b[0m\n\u001b[0;32m      9\u001b[0m     \u001b[0msentenceObj\u001b[0m\u001b[1;33m,\u001b[0m \u001b[0mdcsObj\u001b[0m \u001b[1;33m=\u001b[0m \u001b[0mloadSentence\u001b[0m\u001b[1;33m(\u001b[0m\u001b[0mf\u001b[0m\u001b[1;33m,\u001b[0m \u001b[0mgoodFileDict\u001b[0m\u001b[1;33m[\u001b[0m\u001b[0mf\u001b[0m\u001b[1;33m]\u001b[0m\u001b[1;33m)\u001b[0m\u001b[1;33m\u001b[0m\u001b[0m\n\u001b[0;32m     10\u001b[0m     \u001b[1;32mif\u001b[0m\u001b[1;33m(\u001b[0m\u001b[0msentenceObj\u001b[0m \u001b[1;33m!=\u001b[0m \u001b[1;32mNone\u001b[0m\u001b[1;33m)\u001b[0m\u001b[1;33m:\u001b[0m\u001b[1;33m\u001b[0m\u001b[0m\n\u001b[1;32m---> 11\u001b[1;33m         \u001b[0mresult\u001b[0m\u001b[1;33m,\u001b[0m \u001b[0mrunDetails\u001b[0m \u001b[1;33m=\u001b[0m \u001b[0malgo\u001b[0m\u001b[1;33m.\u001b[0m\u001b[0mpredict\u001b[0m\u001b[1;33m(\u001b[0m\u001b[0msentenceObj\u001b[0m\u001b[1;33m,\u001b[0m \u001b[0mdcsObj\u001b[0m\u001b[1;33m,\u001b[0m \u001b[0mverbose\u001b[0m \u001b[1;33m=\u001b[0m \u001b[1;32mTrue\u001b[0m\u001b[1;33m)\u001b[0m\u001b[1;33m\u001b[0m\u001b[0m\n\u001b[0m\u001b[0;32m     12\u001b[0m \u001b[1;33m\u001b[0m\u001b[0m\n\u001b[0;32m     13\u001b[0m         \u001b[1;32mif\u001b[0m\u001b[1;33m(\u001b[0m\u001b[0mresult\u001b[0m \u001b[1;33m!=\u001b[0m \u001b[1;32mNone\u001b[0m\u001b[1;33m)\u001b[0m\u001b[1;33m:\u001b[0m\u001b[1;33m\u001b[0m\u001b[0m\n",
      "\u001b[1;32m/home/bishal/Documents/summer project/TxSeg_Summer/SktWsegRWR_utf8.py\u001b[0m in \u001b[0;36mpredict\u001b[1;34m(self, sentenceObj, dcsObj, verbose)\u001b[0m\n\u001b[0;32m    180\u001b[0m         \u001b[1;31m# ALL FUNC USES KN SMOOTHING\u001b[0m\u001b[1;33m\u001b[0m\u001b[1;33m\u001b[0m\u001b[0m\n\u001b[0;32m    181\u001b[0m         \u001b[1;31m# USE THE SECOND ARGUMENT TO TURN IN OFF BY PASSING FALSE\u001b[0m\u001b[1;33m\u001b[0m\u001b[1;33m\u001b[0m\u001b[0m\n\u001b[1;32m--> 182\u001b[1;33m         \u001b[0mTransitionMat_t2t\u001b[0m \u001b[1;33m=\u001b[0m \u001b[0mself\u001b[0m\u001b[1;33m.\u001b[0m\u001b[0mt2t_modelFunc\u001b[0m\u001b[1;33m(\u001b[0m\u001b[0mtuplesMain\u001b[0m\u001b[1;33m,\u001b[0m \u001b[0mchunkDict\u001b[0m\u001b[1;33m)\u001b[0m\u001b[1;33m\u001b[0m\u001b[0m\n\u001b[0m\u001b[0;32m    183\u001b[0m         \u001b[0mTransitionMat_w2w\u001b[0m \u001b[1;33m=\u001b[0m \u001b[0mself\u001b[0m\u001b[1;33m.\u001b[0m\u001b[0mw2w_modelFunc\u001b[0m\u001b[1;33m(\u001b[0m\u001b[0mtuplesMain\u001b[0m\u001b[1;33m,\u001b[0m \u001b[0mchunkDict\u001b[0m\u001b[1;33m)\u001b[0m\u001b[1;33m\u001b[0m\u001b[0m\n\u001b[0;32m    184\u001b[0m         \u001b[0mTransitionMat_w2w_samecng\u001b[0m \u001b[1;33m=\u001b[0m \u001b[0mself\u001b[0m\u001b[1;33m.\u001b[0m\u001b[0msameCng_modelFunc\u001b[0m\u001b[1;33m(\u001b[0m\u001b[0mtuplesMain\u001b[0m\u001b[1;33m,\u001b[0m \u001b[0mchunkDict\u001b[0m\u001b[1;33m)\u001b[0m\u001b[1;33m\u001b[0m\u001b[0m\n",
      "\u001b[1;32m/home/bishal/Documents/summer project/TxSeg_Summer/ProbModels.py\u001b[0m in \u001b[0;36mget_cng2cng_mat\u001b[1;34m(self, tuplesMain, chunkDict, kn_smooth)\u001b[0m\n\u001b[0;32m    165\u001b[0m                             \u001b[1;32mfor\u001b[0m \u001b[0mwi1\u001b[0m \u001b[1;32min\u001b[0m \u001b[0mwids\u001b[0m\u001b[1;33m:\u001b[0m\u001b[1;33m\u001b[0m\u001b[0m\n\u001b[0;32m    166\u001b[0m                                 \u001b[1;32mfor\u001b[0m \u001b[0mwi2\u001b[0m \u001b[1;32min\u001b[0m \u001b[0mwids2\u001b[0m\u001b[1;33m:\u001b[0m\u001b[1;33m\u001b[0m\u001b[0m\n\u001b[1;32m--> 167\u001b[1;33m                                     \u001b[0mname1\u001b[0m \u001b[1;33m=\u001b[0m \u001b[0mwordList\u001b[0m\u001b[1;33m[\u001b[0m\u001b[0mwids\u001b[0m\u001b[1;33m[\u001b[0m\u001b[0mwi1\u001b[0m\u001b[1;33m]\u001b[0m\u001b[1;33m]\u001b[0m\u001b[1;33m\u001b[0m\u001b[0m\n\u001b[0m\u001b[0;32m    168\u001b[0m                                     \u001b[0mname2\u001b[0m \u001b[1;33m=\u001b[0m \u001b[0mwordList\u001b[0m\u001b[1;33m[\u001b[0m\u001b[0mwids2\u001b[0m\u001b[1;33m[\u001b[0m\u001b[0mwi2\u001b[0m\u001b[1;33m]\u001b[0m\u001b[1;33m]\u001b[0m\u001b[1;33m\u001b[0m\u001b[0m\n\u001b[0;32m    169\u001b[0m \u001b[1;33m\u001b[0m\u001b[0m\n",
      "\u001b[1;31mIndexError\u001b[0m: list index out of range"
     ]
    }
   ],
   "source": [
    "lowScore = []\n",
    "midScore = []\n",
    "highScore = []\n",
    "allOfEm = []\n",
    "np.set_printoptions(precision=4)\n",
    "# for f in list(goodFileDict.keys())[1:100]:\n",
    "# for f in list(goodFileDict.keys())[5:6]:\n",
    "for f in fullfs[0:1]:\n",
    "    sentenceObj, dcsObj = loadSentence(f, goodFileDict[f])\n",
    "    if(sentenceObj != None):\n",
    "        result, runDetails = algo.predict(sentenceObj, dcsObj, verbose = True)\n",
    "        \n",
    "        if(result != None):\n",
    "#             print(runDetails['nodeList'])\n",
    "            ac = runDetails['accuracy']\n",
    "            solution = [rom_slp(c) for arr in dcsObj.lemmas for c in arr]\n",
    "\n",
    "            print(f, \"\\t\", ac)\n",
    "#             if(ac <= 100):\n",
    "#                 print(result)\n",
    "#                 print('vs')\n",
    "#                 print(solution)\n",
    "#                 pprint.pprint(runDetails['nodeList'])\n",
    "#                 break\n",
    "            # CODE FOR PRINTING RUNDETAILS\n",
    "#             pprint.pprint(runDetails['nodeList'])\n",
    "#             for i in range(runDetails['steps']):\n",
    "#                 if str(i) in runDetails:\n",
    "#                     print('Step', i)\n",
    "#                     step = runDetails[str(i)]\n",
    "#                     pprint.pprint(step['winner'])\n",
    "\n",
    "            # CODE FOR SELECTING FILES \n",
    "#             allOfEm.append((f, ac))\n",
    "#             if(ac <= 40):\n",
    "#                 lowScore.append((f, ac))\n",
    "#             elif (ac <= 60):\n",
    "#                 if(ac >= 50):\n",
    "#                     midScore.append((f, ac))\n",
    "#             elif (ac <= 100):\n",
    "#                 if(ac >= 80):\n",
    "#                     highScore.append((f, ac))\n",
    "\n",
    "# print(len(allOfEm))\n",
    "# print(len(lowScore))\n",
    "# print(lowScore)\n",
    "# print(len(midScore))\n",
    "# print(midScore)\n",
    "# print(len(highScore))\n",
    "# print(highScore)\n"
   ]
  },
  {
   "cell_type": "code",
   "execution_count": 135,
   "metadata": {
    "collapsed": false,
    "scrolled": true
   },
   "outputs": [
    {
     "name": "stdout",
     "output_type": "stream",
     "text": [
      "mamatvenABiBUtaH  sa tatrEva parivartate   \n",
      "Analyzing  mamatvenABiBUtaḥ\n",
      "0 :  mamatvena ['mamatva'] [{'noun': ['i. sg. n.']}]\n",
      "0 :  mamatva ['mamatva'] [{'compound': ['iic.']}]\n",
      "0 :  mamatve ['mamatva'] [{'noun': ['acc. du. n.', 'nom. du. n.', 'loc. sg. n.']}]\n",
      "0 :  mama ['asmad'] [{'noun': ['g. sg. *']}]\n",
      "0 :  mama ['mA_1', 'mA_4'] [{'verb': ['pft. ac. pl. 2']}, {'verb': ['pft. ac. pl. 2']}]\n",
      "4 :  tvA ['yuzmad'] [{'noun': ['acc. sg. *']}]\n",
      "4 :  tu ['tu'] [{'indeclinable': ['conj.']}]\n",
      "6 :  ina ['na'] [{'compound': ['iic.']}]\n",
      "6 :  inA ['na'] [{'noun': ['nom. sg. f.']}]\n",
      "6 :  enA ['enA_2'] [{'undetermined': ['adv.']}]\n",
      "7 :  nABi ['nAB'] [{'compound': ['iic.']}]\n",
      "7 :  na ['na'] [{'indeclinable': ['part.']}]\n",
      "8 :  aBi ['aB'] []\n",
      "8 :  aBi ['aB'] [{'indeclinable': ['prep.']}]\n",
      "8 :  aBi ['aB'] [{'compound': ['iic.']}]\n",
      "11 :  BUtas ['BUta', 'BU_1'] [{'noun': ['nom. sg. m.']}, {'verb': ['pp.']}]\n",
      "11 :  BU ['BU_2'] [{'compound': ['iic.']}]\n",
      "11 :  Bu ['Bu', 'BU_2'] [{'indeclinable': ['ind.']}, {'indeclinable': ['ind.']}]\n",
      "11 :  Bu ['Bu', 'BU_2'] [{'noun': ['acc. sg. n.', 'nom. sg. n.']}, {'noun': ['acc. sg. n.', 'nom. sg. n.']}]\n",
      "11 :  BU ['BU_2', 'Bu'] [{'noun': ['acc. du. f.', 'nom. du. f.', 'acc. du. m.', 'nom. du. m.']}, {'noun': ['acc. du. m.', 'nom. du. m.', 'acc. du. f.', 'nom. du. f.']}]\n",
      "11 :  Bu ['Bu'] [{'compound': ['iic.']}]\n",
      "12 :  utas ['uta_2', 'vA_3'] [{'noun': ['nom. sg. m.']}, {'verb': ['pp.']}]\n",
      "12 :  Utas ['Uta', 'vA_3'] [{'noun': ['nom. sg. m.']}, {'verb': ['pp.']}]\n",
      "Analyzing  sa\n",
      "0 :  sa ['tad'] [{'noun': ['nom. sg. m.']}]\n",
      "Analyzing  tatrEva\n",
      "0 :  tatra ['tatra'] [{'undetermined': ['adv.']}]\n",
      "4 :  Eva [''] [{'verb': ['impft. [2] ac. du. 1']}]\n",
      "4 :  eva ['eva'] [{'indeclinable': ['prep.']}]\n",
      "Analyzing  parivartate\n",
      "0 :  pari ['par'] [{'indeclinable': ['prep.']}]\n",
      "0 :  pari ['par'] []\n",
      "4 :  vartate ['vft_1'] [{'verb': ['pr. [1] md. sg. 3']}]\n"
     ]
    }
   ],
   "source": [
    "SeeSentence(sentenceObj)"
   ]
  },
  {
   "cell_type": "code",
   "execution_count": 100,
   "metadata": {
    "collapsed": false,
    "scrolled": true
   },
   "outputs": [
    {
     "name": "stdout",
     "output_type": "stream",
     "text": [
      "mamatvenABiBUtaH  sa tatrEva parivartate   \n",
      "[['mamatva', 'abhibhū'], ['tad'], ['tatra', 'eva'], ['parivṛt']]\n",
      "Lemmas: ['mamatva', 'aBiBU', 'tad', 'tatra', 'eva', 'parivft']\n",
      "[['91', '-190'], ['29'], ['2', '2'], ['-13']]\n"
     ]
    }
   ],
   "source": [
    "SeeDCS(dcsObj)"
   ]
  },
  {
   "cell_type": "code",
   "execution_count": 203,
   "metadata": {
    "collapsed": false
   },
   "outputs": [
    {
     "data": {
      "text/plain": [
       "'327359.p'"
      ]
     },
     "execution_count": 203,
     "metadata": {},
     "output_type": "execute_result"
    }
   ],
   "source": [
    "list(goodFileDict.keys())[13]"
   ]
  },
  {
   "cell_type": "code",
   "execution_count": 209,
   "metadata": {
    "collapsed": false
   },
   "outputs": [
    {
     "data": {
      "text/plain": [
       "['179084.p',\n",
       " '212470.p',\n",
       " '141314.p',\n",
       " '312382.p',\n",
       " '371565.p',\n",
       " '20967.p',\n",
       " '178347.p',\n",
       " '289080.p',\n",
       " '334071.p',\n",
       " '407484.p',\n",
       " '209444.p']"
      ]
     },
     "execution_count": 209,
     "metadata": {},
     "output_type": "execute_result"
    }
   ],
   "source": [
    "lowfs"
   ]
  },
  {
   "cell_type": "code",
   "execution_count": null,
   "metadata": {
    "collapsed": false
   },
   "outputs": [],
   "source": [
    "# 7941\n",
    "# Results: \n",
    "# Mean:  65.7963242743\n",
    "# Percentiles:  [   5.88   50.     66.67   85.71  100.  ]\n"
   ]
  },
  {
   "cell_type": "code",
   "execution_count": null,
   "metadata": {
    "collapsed": true
   },
   "outputs": [],
   "source": []
  }
 ],
 "metadata": {
  "kernelspec": {
   "display_name": "Python 3",
   "language": "python",
   "name": "python3"
  },
  "language_info": {
   "codemirror_mode": {
    "name": "ipython",
    "version": 3
   },
   "file_extension": ".py",
   "mimetype": "text/x-python",
   "name": "python",
   "nbconvert_exporter": "python",
   "pygments_lexer": "ipython3",
   "version": "3.5.1+"
  }
 },
 "nbformat": 4,
 "nbformat_minor": 0
}
