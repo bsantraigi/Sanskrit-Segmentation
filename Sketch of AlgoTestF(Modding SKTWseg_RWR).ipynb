{
 "cells": [
  {
   "cell_type": "code",
   "execution_count": 1,
   "metadata": {
    "collapsed": false
   },
   "outputs": [],
   "source": [
    "%load_ext autoreload\n",
    "%autoreload 2"
   ]
  },
  {
   "cell_type": "code",
   "execution_count": 2,
   "metadata": {
    "collapsed": true
   },
   "outputs": [],
   "source": [
    "# from AlgoTestFactory import *\n",
    "\n",
    "# altf1 = AlgoTestFactory([0, 10000], 15, savePath=\"Combined_4_test2\", storeAccuracies=True)\n",
    "\n",
    "# altf1.run()"
   ]
  },
  {
   "cell_type": "code",
   "execution_count": 3,
   "metadata": {
    "collapsed": false
   },
   "outputs": [
    {
     "name": "stdout",
     "output_type": "stream",
     "text": [
      "Dataloader Started[Prob]...\n",
      "Dataloader Finished[Prob]...\n"
     ]
    }
   ],
   "source": [
    "from SktWsegRWR_utf8 import *\n",
    "import pickle\n",
    "import ProbData\n",
    "from ProbModels import *\n",
    "import multiprocessing\n",
    "import math\n",
    "import json"
   ]
  },
  {
   "cell_type": "code",
   "execution_count": 5,
   "metadata": {
    "collapsed": false
   },
   "outputs": [],
   "source": [
    "pb = ProbModels(fullCo_oc_mat = ProbData.fullCo_oc_mat, unigram_counts = ProbData.unigram_counts,\n",
    "               cng2cngFullMat = ProbData.cng2cngFullMat, cng2index_dict = ProbData.cng2index_dict,\n",
    "               w2w_samecng_fullmat=ProbData.w2w_samecng_fullmat, samecng_unigram_counts=ProbData.samecng_unigram_counts,\n",
    "               v2c_fullMat = ProbData.v2c_fullMat)\n",
    "\n",
    "goodFileDict = pickle.load(open('mergedGood_v2.p', 'rb'))\n",
    "algo = SktWsegRWR(\n",
    "            w2w_modelFunc = pb.get_w2w_mat, \n",
    "            t2t_modelFunc = pb.get_cng2cng_mat,\n",
    "            v2c_modelFunc = pb.get_v2c_ranking,\n",
    "            sameCng_modelFunc = pb.get_w2w_samecng_mat,\n",
    "            partition=[0.2, 0.5, 0.2, 0.1]\n",
    "        )"
   ]
  },
  {
   "cell_type": "code",
   "execution_count": 6,
   "metadata": {
    "collapsed": true
   },
   "outputs": [],
   "source": [
    "def loadSentence(fName, folderTag):\n",
    "        # print('File: ', fName)\n",
    "        try:\n",
    "            dcsObj = pickleFixLoad('../Text Segmentation/DCS_pick/' + fName)           \n",
    "            if folderTag == \"C1020\" :\n",
    "                sentenceObj = pickleFixLoad('../TextSegmentation/corrected_10to20/' + fName)\n",
    "            else:\n",
    "                sentenceObj = pickleFixLoad('../TextSegmentation/Pickle_Files/' + fName)\n",
    "\n",
    "        except (KeyError, EOFError, pickle.UnpicklingError) as e:\n",
    "            return None, None\n",
    "        return(sentenceObj, dcsObj)\n",
    "    \n",
    "def Accuracy(prediction, dcsObj):\n",
    "    solution = [rom_slp(c) for c in dcsObj.dcs_chunks]\n",
    "    ac = 100*sum(list(map(lambda x: x in solution, prediction)))/len(prediction)\n",
    "    return ac"
   ]
  },
  {
   "cell_type": "code",
   "execution_count": 9,
   "metadata": {
    "collapsed": false
   },
   "outputs": [
    {
     "name": "stdout",
     "output_type": "stream",
     "text": [
      "None\n",
      "praBAtakAle samprApte kANkzitavye samAgame   \n",
      "Analyzing  praBAtakAle\n",
      "0 :  praBA ['praBA_2'] [{'noun': ['nom. sg. f.']}]\n",
      "0 :  pra ['pra'] []\n",
      "0 :  pra ['pra'] []\n",
      "8 :  ale ['ala'] [{'noun': ['acc. du. n.', 'nom. du. n.', 'loc. sg. n.']}]\n",
      "8 :  ale ['ala', 'al'] [{'noun': ['voc. du. n.']}, {'noun': ['voc. sg. m.']}]\n",
      "3 :  BAta ['BA_1'] [{'verb': ['imp. [2] ac. pl. 2']}]\n",
      "3 :  BAta ['BAta', 'BA_1'] [{'compound': ['iic.']}, {'verb': ['pp.']}]\n",
      "4 :  ata ['at'] [{'verb': ['imp. [1] ac. sg. 2']}]\n",
      "4 :  Ata ['at'] [{'verb': ['pft. ac. pl. 2', 'pft. ac. sg. 3', 'pft. ac. sg. 1']}]\n",
      "7 :  kAle ['kAla_1', 'kAla_2'] [{'noun': ['loc. sg. m.']}, {'noun': ['loc. sg. m.', 'acc. du. n.', 'nom. du. n.', 'loc. sg. n.']}]\n",
      "7 :  kAle ['kAla_2'] [{'noun': ['voc. du. n.']}]\n",
      "7 :  kAle ['kAla_1'] [{'noun': ['acc. du. n.', 'nom. du. n.', 'loc. sg. n.', 'acc. du. f.', 'nom. du. f.']}]\n",
      "7 :  ka ['ka_1'] [{'compound': ['iic.']}]\n",
      "7 :  kA ['ka_1'] [{'noun': ['nom. sg. f.']}]\n",
      "Analyzing  samprApte\n",
      "0 :  samprApte ['samprApt'] [{'noun': ['voc. sg. f.']}]\n",
      "0 :  sampra ['sam', 'pra'] []\n",
      "5 :  Apte ['Apta', 'Ap'] [{'noun': ['acc. du. f.', 'nom. du. f.', 'acc. du. n.', 'nom. du. n.', 'loc. sg. n.', 'loc. sg. m.']}, {'verb': ['pp.']}]\n",
      "5 :  Apte ['Apta', 'Ap'] [{'noun': ['voc. du. f.', 'voc. sg. f.', 'voc. du. n.']}, {'verb': ['pp.']}]\n",
      "Analyzing  kANkzitavye\n",
      "0 :  kANkzitavye ['kANkz'] [{'noun': ['acc. du. f.', 'nom. du. f.', 'acc. du. n.', 'nom. du. n.', 'loc. sg. n.', 'loc. sg. m.'], 'verb': [['pfp. [3]']], 'verbform': ['\"SKTMW60.html#H_kaafk.s\"']}]\n",
      "0 :  kANkzitavye ['kANkz'] [{'noun': ['voc. du. f.', 'voc. sg. f.', 'voc. du. n.'], 'verb': [['pfp. [3]']], 'verbform': ['\"SKTMW60.html#H_kaafk.s\"']}]\n",
      "Analyzing  samAgame\n",
      "0 :  samAgame ['samAgama'] [{'noun': ['loc. sg. m.']}]\n",
      "0 :  sama ['sama'] [{'compound': ['iic.']}]\n",
      "0 :  samA ['samA_2'] [{'compound': ['iic.']}]\n",
      "0 :  samA ['samA_2', 'sama'] [{'noun': ['nom. sg. f.']}, {'noun': ['nom. sg. f.']}]\n",
      "0 :  sa ['tad'] [{'noun': ['nom. sg. m.']}]\n",
      "2 :  mA ['mA_2'] [{'indeclinable': ['part.']}]\n",
      "2 :  mA ['asmad'] [{'noun': ['acc. sg. *']}]\n",
      "3 :  Agame ['Agama'] [{'noun': ['loc. sg. m.', 'acc. du. n.', 'nom. du. n.', 'loc. sg. n.', 'acc. du. f.', 'nom. du. f.']}]\n",
      "3 :  Agame ['Agama'] [{'noun': ['voc. du. n.', 'voc. du. f.', 'voc. sg. f.']}]\n",
      "4 :  game ['gama'] [{'noun': ['loc. sg. m.', 'acc. du. n.', 'nom. du. n.', 'loc. sg. n.', 'acc. du. f.', 'nom. du. f.']}]\n"
     ]
    }
   ],
   "source": [
    "for f in list(goodFileDict.keys())[0:1]:\n",
    "    sentenceObj, dcsObj = loadSentence(f, goodFileDict[f])\n",
    "    if(sentenceObj != None):\n",
    "        result = algo.predict(sentenceObj, dcsObj)\n",
    "        print(result)\n",
    "        SeeSentence(sentenceObj)"
   ]
  },
  {
   "cell_type": "code",
   "execution_count": 108,
   "metadata": {
    "collapsed": false,
    "scrolled": false
   },
   "outputs": [],
   "source": []
  }
 ],
 "metadata": {
  "kernelspec": {
   "display_name": "Python 3",
   "language": "python",
   "name": "python3"
  },
  "language_info": {
   "codemirror_mode": {
    "name": "ipython",
    "version": 3
   },
   "file_extension": ".py",
   "mimetype": "text/x-python",
   "name": "python",
   "nbconvert_exporter": "python",
   "pygments_lexer": "ipython3",
   "version": "3.5.1+"
  }
 },
 "nbformat": 4,
 "nbformat_minor": 0
}
