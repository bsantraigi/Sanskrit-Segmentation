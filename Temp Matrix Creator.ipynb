{
 "cells": [
  {
   "cell_type": "code",
   "execution_count": 1,
   "metadata": {
    "collapsed": true
   },
   "outputs": [],
   "source": [
    "%load_ext autoreload\n",
    "%autoreload 2"
   ]
  },
  {
   "cell_type": "code",
   "execution_count": 2,
   "metadata": {
    "collapsed": false
   },
   "outputs": [
    {
     "name": "stdout",
     "output_type": "stream",
     "text": [
      "Dataloader Started[Prob]...\n",
      "Dataloader Finished[Prob]...\n"
     ]
    }
   ],
   "source": [
    "from SktWsegRWR_utf8 import *\n",
    "import pickle\n",
    "import ProbData\n",
    "from ProbModels import *\n",
    "import multiprocessing\n",
    "import math\n",
    "import json\n",
    "import pprint\n",
    "import csv\n",
    "from utilities import *\n",
    "from IPython.display import display\n",
    "import matplotlib.pyplot as plt\n",
    "import matplotlib.mlab as mlab\n",
    "import pandas as pd\n",
    "%matplotlib inline"
   ]
  },
  {
   "cell_type": "code",
   "execution_count": 3,
   "metadata": {
    "collapsed": true
   },
   "outputs": [],
   "source": [
    "#============================================================\n",
    "# LOAD AND PREPROCESS MATRICES\n",
    "#============================================================\n",
    "# DO THIS IN PROBDATA_2\n",
    "# mat_lem2cng = json.load(open('../NewData/data1.json', 'r'))\n",
    "# mat_cng2lem = json.load(open('../NewData/data2.json', 'r'))\n",
    "# mat_tup2cng = json.load(open('../NewData/data3.json', 'r'))\n",
    "# mat_tup2lem = json.load(open('../NewData/data4.json', 'r'))\n",
    "\n",
    "mat_lem2cng = pickle.load(open('../NewData/mat_lem2cng.p', 'rb'), encoding='utf-8')\n",
    "mat_cng2lem = pickle.load(open('../NewData/mat_cng2lem.p', 'rb'), encoding='utf-8')\n",
    "mat_tup2cng = pickle.load(open('../NewData/mat_tup2cng.p', 'rb'), encoding='utf-8')\n",
    "mat_tup2lem = pickle.load(open('../NewData/mat_tup2lem.p', 'rb'), encoding='utf-8')\n",
    "mat_selfLemCng_evidence = pickle.load(open('../NewData/mat_selfLemCng_evidence.p', 'rb'), encoding='utf-8')\n",
    "mat_selfLemCLASS_evidence = pickle.load(open('../NewData/mat_selfLemCLASS_evidence.p', 'rb'), encoding='utf-8')"
   ]
  },
  {
   "cell_type": "code",
   "execution_count": 12,
   "metadata": {
    "collapsed": false
   },
   "outputs": [],
   "source": [
    "mat_selfLemCng_evidence = defaultdict(dict)\n",
    "for lem_cng, fDict in mat_tup2lem.items():\n",
    "    fullset = []\n",
    "    for lem, lst in fDict.items():\n",
    "        fullset.extend(lst)\n",
    "    fullset = set(fullset)\n",
    "    \n",
    "    kl = lem_cng.split('_')\n",
    "    lem = kl[0]\n",
    "    cng = kl[1]\n",
    "    mat_selfLemCng_evidence[lem][cng] = fullset"
   ]
  },
  {
   "cell_type": "code",
   "execution_count": 26,
   "metadata": {
    "collapsed": false
   },
   "outputs": [],
   "source": [
    "mat_selfLemCLASS_evidence = {}\n",
    "for lem, fDict in mat_selfLemCng_evidence.items():\n",
    "    fullSet = {}\n",
    "    fullSet['ppp'] = []\n",
    "    fullSet['ppa'] = []\n",
    "    fullSet['ger'] = []\n",
    "    fullSet['inf'] = []\n",
    "    fullSet['absol'] = []\n",
    "    fullSet['verbs'] = []\n",
    "    for cng, lst in fDict.items():\n",
    "        n = int(cng)\n",
    "        if n == -190:\n",
    "            fullSet['ppp'].extend(lst)\n",
    "        if n == -200:\n",
    "            fullSet['ppa'].extend(lst)\n",
    "        if n == -210: # Compare cng\n",
    "            fullSet['ger'].extend(lst)\n",
    "        if n == -220:\n",
    "            fullSet['inf'].extend(lst)\n",
    "        if n == -230:\n",
    "            fullSet['absol'].extend(lst)\n",
    "        # CONSIDERING ADV, GERUND, ABSOL ALSO IN VERB\n",
    "        if n < 0:\n",
    "            fullSet['verbs'].extend(lst)\n",
    "    for tag in fullSet.keys():\n",
    "        fullSet[tag] = set(fullSet[tag])\n",
    "    mat_selfLemCLASS_evidence[lem] = dict(fullSet)\n"
   ]
  },
  {
   "cell_type": "code",
   "execution_count": 28,
   "metadata": {
    "collapsed": false
   },
   "outputs": [],
   "source": [
    "# mat_selfLemCLASS_evidence\n",
    "# pickle.dump(mat_selfLemCLASS_evidence, open('../NewData/mat_selfLemCLASS_evidence.p', 'wb'))"
   ]
  },
  {
   "cell_type": "code",
   "execution_count": null,
   "metadata": {
    "collapsed": false
   },
   "outputs": [],
   "source": []
  },
  {
   "cell_type": "code",
   "execution_count": null,
   "metadata": {
    "collapsed": true
   },
   "outputs": [],
   "source": []
  }
 ],
 "metadata": {
  "kernelspec": {
   "display_name": "Python 3",
   "language": "python",
   "name": "python3"
  },
  "language_info": {
   "codemirror_mode": {
    "name": "ipython",
    "version": 3
   },
   "file_extension": ".py",
   "mimetype": "text/x-python",
   "name": "python",
   "nbconvert_exporter": "python",
   "pygments_lexer": "ipython3",
   "version": "3.5.1"
  }
 },
 "nbformat": 4,
 "nbformat_minor": 0
}
