{
 "cells": [
  {
   "cell_type": "code",
   "execution_count": 1,
   "metadata": {
    "collapsed": false
   },
   "outputs": [
    {
     "name": "stdout",
     "output_type": "stream",
     "text": [
      "Inside func.:  [ 2  1  3  5  2 56 23 12]\n",
      "Outside func. : [ 2  1  3  5  2 56 23 12]\n"
     ]
    }
   ],
   "source": [
    "import numpy as np\n",
    "a = np.array([2,1,3,5,2,56,23,12])\n",
    "def change(vec):\n",
    "    vec2 = np.array(vec)\n",
    "    vec2[0] = 99\n",
    "    print(\"Inside func.: \", vec)\n",
    "\n",
    "change(a)\n",
    "print(\"Outside func. :\", a)"
   ]
  },
  {
   "cell_type": "code",
   "execution_count": 2,
   "metadata": {
    "collapsed": false
   },
   "outputs": [],
   "source": [
    "def RWR(prioriVec, simMat, restartP, restartNode, maxIteration):\n",
    "    n = len(prioriVec)\n",
    "    \"\"\"\n",
    "    Run Random walk with restart\n",
    "    until \n",
    "    we reach steady state or max iteration steps\n",
    "    \"\"\"\n",
    "    papMat = np.array(prioriVec)\n",
    "    for i in range(maxIteration):\n",
    "\n",
    "        prevMat = papMat\n",
    "\n",
    "#        print('shapes',papMat.shape,va.shape,prevMat.shape)\n",
    "        papMat = (restart *np.mat(ActorActor)*np.mat(papMat)) + ((1-restart)*np.mat(va))        \n",
    "        diff = (np.mat(prevMat) - np.mat(papMat))\n",
    "#        diff=np.transpose(diff)\n",
    "        diff=np.absolute(diff)\n",
    "        diffMax = np.argmax(diff)\n",
    "\n",
    "        if  abs(diffMax) < eps and maxIteration/10 > 10:\n",
    "            break\n",
    "    return(papMat)"
   ]
  },
  {
   "cell_type": "code",
   "execution_count": 3,
   "metadata": {
    "collapsed": false
   },
   "outputs": [
    {
     "name": "stdout",
     "output_type": "stream",
     "text": [
      "[23]\n"
     ]
    }
   ],
   "source": [
    "a = {'1': \"Bishal\", \"2\": \"Agni\"}\n",
    "a[\"3\"] = \"Santra\"\n",
    "a[\"3\"] = \"Santra2\"\n",
    "\n",
    "b = []\n",
    "b.append(23)\n",
    "print(b)"
   ]
  },
  {
   "cell_type": "code",
   "execution_count": 4,
   "metadata": {
    "collapsed": false
   },
   "outputs": [
    {
     "name": "stdout",
     "output_type": "stream",
     "text": [
      "123\n"
     ]
    }
   ],
   "source": [
    "import re\n",
    "fs = [\"123.p\", \"daemon.txt\"]\n",
    "for f in fs:\n",
    "    m = re.search(\"^[\\w]*.p$\", f)\n",
    "    if m != None:\n",
    "        print(m.group(0)[:-2])"
   ]
  },
  {
   "cell_type": "code",
   "execution_count": 5,
   "metadata": {
    "collapsed": false
   },
   "outputs": [
    {
     "name": "stdout",
     "output_type": "stream",
     "text": [
      "Word2Vec(vocab=66936, size=100, alpha=0.025)\n"
     ]
    }
   ],
   "source": [
    "from utilities import printProgress, validatePickleName, pickleFixLoad\n",
    "model_cbow = pickleFixLoad('extras/modelpickle10.p')\n",
    "print(model_cbow)"
   ]
  },
  {
   "cell_type": "code",
   "execution_count": 6,
   "metadata": {
    "collapsed": false
   },
   "outputs": [
    {
     "name": "stdout",
     "output_type": "stream",
     "text": [
      "saptaparRa\n"
     ]
    }
   ],
   "source": [
    "print(list(model_cbow.vocab.keys())[1])"
   ]
  },
  {
   "cell_type": "code",
   "execution_count": 7,
   "metadata": {
    "collapsed": false
   },
   "outputs": [],
   "source": [
    "from gensim.models.word2vec import Word2Vec\n",
    "text = \"The French, to compensate for the lack of European manpower so far from home, initiated the strategy of training and arming native recruits ( sepoys) like European armies.  Such forces were so effective that local princes would trade large tracts of land for French trained sepoys, thus giving the French control over much of Southern India.  In response to this new threat, the British responded in kind by training their own sepoys.  By the end of the Seven Years War (1756-63), British naval superiority and sepoys under the leadership of Robert Clive had virtually ended French involvement in India.  Clive dramatically demonstrated the effectiveness of European trained sepoys at the battle of Plassey (1757) when his army of 2800 British soldiers and sepoys routed a Bengali army of 100,000 men.  Clive's victories over the Bengalis and French made the British East Indies Company a major power in India, able to install its own candidate on the Mughal throne and claim the wealthy province of Bengal for itself.  British dominance resulting from these victories had three main effects.\"\n",
    "# text = \"Bishal. Santra, Hello Agni\"\n",
    "text = text.lower()\n",
    "text = re.split(\"[.?]+ *\", text)\n",
    "sentenceList = []\n",
    "for t in text:\n",
    "    sentenceList.append(re.split(\"[ ,]+\", t))\n",
    "\n",
    "model = Word2Vec(sentenceList, min_count = 1)\n",
    "\n"
   ]
  },
  {
   "cell_type": "code",
   "execution_count": 8,
   "metadata": {
    "collapsed": false
   },
   "outputs": [
    {
     "name": "stdout",
     "output_type": "stream",
     "text": [
      "so\n",
      "-0.0504259815707\n",
      "0.501209695401\n"
     ]
    }
   ],
   "source": [
    "print(list(model.vocab.keys())[0])\n",
    "print(model.similarity(\"major\", \"indies\"))\n",
    "print((model.similarity(\"the\", \"for\")+1)/2)"
   ]
  },
  {
   "cell_type": "code",
   "execution_count": 4,
   "metadata": {
    "collapsed": false
   },
   "outputs": [
    {
     "name": "stdout",
     "output_type": "stream",
     "text": [
      "[[ 0.65  0.85]\n",
      " [ 0.9   0.6 ]]\n"
     ]
    }
   ],
   "source": [
    "a = np.mat([1/3, 2/3])\n",
    "b = np.mat([\n",
    "        [0.3, 0.7],\n",
    "        [0.8, 0.2]\n",
    "    ])\n",
    "\n",
    "c = np.mat([0, 1])\n",
    "d = 3*a*b + 4*c\n",
    "d = d - c\n",
    "print((b+1)/2)"
   ]
  },
  {
   "cell_type": "code",
   "execution_count": 2,
   "metadata": {
    "collapsed": false
   },
   "outputs": [
    {
     "name": "stdout",
     "output_type": "stream",
     "text": [
      "[[  1   3  67   2  13]\n",
      " [  9  85  97   0 -13]\n",
      " [ 23   8   7  10  76]]\n",
      "[[  9  85  97   0 -13]\n",
      " [  0   0   0   0   0]]\n"
     ]
    }
   ],
   "source": [
    "a = np.array([1, 3, 67, 2, 13])\n",
    "b = np.array([9, 85, 97, 0, -13])\n",
    "z = np.array([23, 8, 7, 10, 76])\n",
    "t = np.mat([\n",
    "        a,\n",
    "        b,\n",
    "        z\n",
    "    ])\n",
    "c = np.max([a, b, z], axis=0)\n",
    "c2 = np.max(t, axis=0)\n",
    "# print(c)\n",
    "print(t)\n",
    "t[[0, 2], :] = 0\n",
    "print(t[1:,:])\n",
    "# print(c2)"
   ]
  },
  {
   "cell_type": "code",
   "execution_count": 33,
   "metadata": {
    "collapsed": false
   },
   "outputs": [
    {
     "data": {
      "text/plain": [
       "[1, 2, 3, 4]"
      ]
     },
     "execution_count": 33,
     "metadata": {},
     "output_type": "execute_result"
    }
   ],
   "source": [
    "list(range(1, 5))"
   ]
  },
  {
   "cell_type": "code",
   "execution_count": 9,
   "metadata": {
    "collapsed": false
   },
   "outputs": [
    {
     "data": {
      "text/plain": [
       "array([  2.2,   3. ,  67. ])"
      ]
     },
     "execution_count": 9,
     "metadata": {},
     "output_type": "execute_result"
    }
   ],
   "source": [
    "np.percentile(a, [30, 50,100])"
   ]
  },
  {
   "cell_type": "code",
   "execution_count": 10,
   "metadata": {
    "collapsed": true
   },
   "outputs": [],
   "source": [
    "a = [2, 5, [6, 4, 9]]"
   ]
  },
  {
   "cell_type": "code",
   "execution_count": 11,
   "metadata": {
    "collapsed": false
   },
   "outputs": [
    {
     "data": {
      "text/plain": [
       "False"
      ]
     },
     "execution_count": 11,
     "metadata": {},
     "output_type": "execute_result"
    }
   ],
   "source": [
    "6 in a"
   ]
  },
  {
   "cell_type": "code",
   "execution_count": 23,
   "metadata": {
    "collapsed": false
   },
   "outputs": [
    {
     "name": "stdout",
     "output_type": "stream",
     "text": [
      "count    35652.000000\n",
      "mean        33.745498\n",
      "std         20.171268\n",
      "min          0.000000\n",
      "25%         18.181818\n",
      "50%         33.333333\n",
      "75%         50.000000\n",
      "max        100.000000\n",
      "Name: accuracy, dtype: float64\n"
     ]
    }
   ],
   "source": [
    "import pandas as pd\n",
    "df = pd.read_csv(\"../Text Segmentation/AKfinal_ans3.backup.csv\", header=None, names=[\"index\", \"accuracy\", \"output\"])\n",
    "print(df[\"accuracy\"].describe())"
   ]
  },
  {
   "cell_type": "code",
   "execution_count": 13,
   "metadata": {
    "collapsed": false
   },
   "outputs": [
    {
     "data": {
      "text/plain": [
       "array([[ 0.5,  0.5,  0.5],\n",
       "       [ 0.5,  0.5,  0.5],\n",
       "       [ 0.5,  0.5,  0.5]])"
      ]
     },
     "execution_count": 13,
     "metadata": {},
     "output_type": "execute_result"
    }
   ],
   "source": [
    "import math\n",
    "def sigmoid(x):\n",
    "  return 1 / (1 + math.exp(-x))\n",
    "\n",
    "b = np.zeros((3, 3))\n",
    "f = np.vectorize(sigmoid)\n",
    "f(b)"
   ]
  },
  {
   "cell_type": "code",
   "execution_count": 44,
   "metadata": {
    "collapsed": false
   },
   "outputs": [
    {
     "name": "stdout",
     "output_type": "stream",
     "text": [
      "[[ 1.   2.   0. ]\n",
      " [ 1.9 -0.1  6.9]\n",
      " [ 0.   6.   3. ]]\n",
      "[[ 1.   2.   0. ]\n",
      " [ 1.9  0.   6.9]\n",
      " [ 0.   6.   3. ]]\n"
     ]
    },
    {
     "data": {
      "text/plain": [
       "matrix([[   1. ,    2. ,    0. ],\n",
       "        [   1.9,  100. ,    6.9],\n",
       "        [   0. ,    6. ,    3. ]])"
      ]
     },
     "execution_count": 44,
     "metadata": {},
     "output_type": "execute_result"
    }
   ],
   "source": [
    "t = np.mat([\n",
    "        [1, 2, 0],\n",
    "        [3, 1, 8],\n",
    "        [0, 6, 3]\n",
    "    ]).astype(float)\n",
    "t[1, :] -= 1.1\n",
    "print(t)\n",
    "t[1, :] = t[1, :].clip(min=0)\n",
    "print(t)\n",
    "t[1,:] += 100*(t[1,:] == 0)\n",
    "\n",
    "t"
   ]
  },
  {
   "cell_type": "code",
   "execution_count": 83,
   "metadata": {
    "collapsed": false
   },
   "outputs": [],
   "source": [
    "def GetDiaFromTransmat(nodes, transMat):\n",
    "    # Transmat is probability matrix\n",
    "    # Convert it to a edge weight adjacency matrix\n",
    "    # before calling Floyd_Warshall\n",
    "#     print('Transition Prob. Matrix: ')\n",
    "#     print(transMat)\n",
    "    adjMat = np.copy(transMat[nodes, :])\n",
    "    adjMat = adjMat[:, nodes]\n",
    "    with np.errstate(divide='ignore'):\n",
    "        adjMat = 1/adjMat\n",
    "#     print('Graph Adj. Matrix: ')\n",
    "#     print(adjMat)\n",
    "    sp = Floyd_Warshall(adjMat)\n",
    "    # sp[sp == np.Inf] = 0\n",
    "    # print(nodes)\n",
    "    dia = np.max(sp)\n",
    "    # print(sp)\n",
    "    return dia\n",
    "def Floyd_Warshall(adjMat):\n",
    "    l = adjMat.shape[0]\n",
    "    D = np.copy(adjMat)\n",
    "    for i in range(l):\n",
    "        D[i, i] = 0\n",
    "    for k in range(l):\n",
    "        D_new = np.zeros(D.shape)\n",
    "        for i in range(l):\n",
    "            for j in range(l):\n",
    "                D_new[i, j] = np.min([D[i,j], D[i, k] + D[k, j]])\n",
    "        D = D_new\n",
    "#     print(\"Shortest Path Matrix: \")\n",
    "#     print(D)\n",
    "    return(D)"
   ]
  },
  {
   "cell_type": "code",
   "execution_count": 84,
   "metadata": {
    "collapsed": false
   },
   "outputs": [
    {
     "name": "stdout",
     "output_type": "stream",
     "text": [
      "Transition Prob. Matrix: \n",
      "[[ 0.    0.1   0.2   0.7 ]\n",
      " [ 0.92  0.    0.02  0.06]\n",
      " [ 0.11  0.11  0.    0.78]\n",
      " [ 0.33  0.33  0.34  0.  ]]\n",
      "Graph Adj. Matrix: \n",
      "[[        inf  5.          1.42857143]\n",
      " [ 9.09090909         inf  1.28205128]\n",
      " [ 3.03030303  2.94117647         inf]]\n",
      "Shortest Path Matrix: \n",
      "[[ 0.          4.3697479   1.42857143]\n",
      " [ 4.31235431  0.          1.28205128]\n",
      " [ 3.03030303  2.94117647  0.        ]]\n"
     ]
    },
    {
     "data": {
      "text/plain": [
       "4.3697478991596634"
      ]
     },
     "execution_count": 84,
     "metadata": {},
     "output_type": "execute_result"
    }
   ],
   "source": [
    "tMat = np.mat([\n",
    "        [0, 0.1, 0.2, 0.7],\n",
    "        [0.92, 0, 0.02, 0.06],\n",
    "        [0.11, 0.11, 0, 0.78],\n",
    "        [0.33, 0.33, 0.34, 0],\n",
    "    ])\n",
    "nodes = [0,2,3]\n",
    "GetDiaFromTransmat(nodes, tMat)"
   ]
  },
  {
   "cell_type": "code",
   "execution_count": 6,
   "metadata": {
    "collapsed": false
   },
   "outputs": [
    {
     "data": {
      "text/plain": [
       "(array([0, 1, 2, 3, 5]),)"
      ]
     },
     "execution_count": 6,
     "metadata": {},
     "output_type": "execute_result"
    }
   ],
   "source": [
    "import numpy as np\n",
    "a = np.array([1, 2, 3, 4, 0, 2])\n",
    "loc = np.where(a>0)\n",
    "loc"
   ]
  },
  {
   "cell_type": "code",
   "execution_count": null,
   "metadata": {
    "collapsed": true
   },
   "outputs": [],
   "source": []
  }
 ],
 "metadata": {
  "kernelspec": {
   "display_name": "Python 3",
   "language": "python",
   "name": "python3"
  },
  "language_info": {
   "codemirror_mode": {
    "name": "ipython",
    "version": 3
   },
   "file_extension": ".py",
   "mimetype": "text/x-python",
   "name": "python",
   "nbconvert_exporter": "python",
   "pygments_lexer": "ipython3",
   "version": "3.5.1+"
  }
 },
 "nbformat": 4,
 "nbformat_minor": 0
}
