{
 "cells": [
  {
   "cell_type": "code",
   "execution_count": 1,
   "metadata": {
    "collapsed": false
   },
   "outputs": [],
   "source": [
    "%load_ext autoreload\n",
    "%autoreload 2"
   ]
  },
  {
   "cell_type": "code",
   "execution_count": 2,
   "metadata": {
    "collapsed": false
   },
   "outputs": [],
   "source": [
    "import pickle\n",
    "import multiprocessing\n",
    "import math\n",
    "import json\n",
    "import pprint\n",
    "import csv\n",
    "from IPython.display import display\n",
    "import matplotlib.pyplot as plt\n",
    "import matplotlib.mlab as mlab\n",
    "import pandas as pd\n",
    "import numpy as np\n",
    "from mpl_toolkits.mplot3d import axes3d, Axes3D"
   ]
  },
  {
   "cell_type": "code",
   "execution_count": 4,
   "metadata": {
    "collapsed": false
   },
   "outputs": [],
   "source": [
    "df_partitionData = pd.read_csv('.temp//partition_datas_03_noreset_but_normalize_0.1eta.csv', names=['w2w', 't2t', 'scng', 'NA', 'dw2w', 'dt2t', 'dscng'])"
   ]
  },
  {
   "cell_type": "code",
   "execution_count": 5,
   "metadata": {
    "collapsed": false
   },
   "outputs": [
    {
     "data": {
      "text/html": [
       "<div>\n",
       "<table border=\"1\" class=\"dataframe\">\n",
       "  <thead>\n",
       "    <tr style=\"text-align: right;\">\n",
       "      <th></th>\n",
       "      <th>w2w</th>\n",
       "      <th>t2t</th>\n",
       "      <th>scng</th>\n",
       "      <th>NA</th>\n",
       "      <th>dw2w</th>\n",
       "      <th>dt2t</th>\n",
       "      <th>dscng</th>\n",
       "    </tr>\n",
       "  </thead>\n",
       "  <tbody>\n",
       "    <tr>\n",
       "      <th>0</th>\n",
       "      <td>0.333333</td>\n",
       "      <td>0.333333</td>\n",
       "      <td>0.333333</td>\n",
       "      <td>0</td>\n",
       "      <td>-0.145156</td>\n",
       "      <td>0.045994</td>\n",
       "      <td>0.001594</td>\n",
       "    </tr>\n",
       "    <tr>\n",
       "      <th>1</th>\n",
       "      <td>0.321959</td>\n",
       "      <td>0.341262</td>\n",
       "      <td>0.336779</td>\n",
       "      <td>0</td>\n",
       "      <td>0.002054</td>\n",
       "      <td>-0.004430</td>\n",
       "      <td>-0.000028</td>\n",
       "    </tr>\n",
       "    <tr>\n",
       "      <th>2</th>\n",
       "      <td>0.322242</td>\n",
       "      <td>0.340901</td>\n",
       "      <td>0.336857</td>\n",
       "      <td>0</td>\n",
       "      <td>-0.037256</td>\n",
       "      <td>0.008491</td>\n",
       "      <td>0.000035</td>\n",
       "    </tr>\n",
       "    <tr>\n",
       "      <th>3</th>\n",
       "      <td>0.319434</td>\n",
       "      <td>0.342735</td>\n",
       "      <td>0.337831</td>\n",
       "      <td>0</td>\n",
       "      <td>-0.003792</td>\n",
       "      <td>0.003212</td>\n",
       "      <td>0.000143</td>\n",
       "    </tr>\n",
       "    <tr>\n",
       "      <th>4</th>\n",
       "      <td>0.319069</td>\n",
       "      <td>0.343071</td>\n",
       "      <td>0.337860</td>\n",
       "      <td>0</td>\n",
       "      <td>0.006590</td>\n",
       "      <td>-0.006029</td>\n",
       "      <td>-0.000219</td>\n",
       "    </tr>\n",
       "  </tbody>\n",
       "</table>\n",
       "</div>"
      ],
      "text/plain": [
       "        w2w       t2t      scng  NA      dw2w      dt2t     dscng\n",
       "0  0.333333  0.333333  0.333333   0 -0.145156  0.045994  0.001594\n",
       "1  0.321959  0.341262  0.336779   0  0.002054 -0.004430 -0.000028\n",
       "2  0.322242  0.340901  0.336857   0 -0.037256  0.008491  0.000035\n",
       "3  0.319434  0.342735  0.337831   0 -0.003792  0.003212  0.000143\n",
       "4  0.319069  0.343071  0.337860   0  0.006590 -0.006029 -0.000219"
      ]
     },
     "execution_count": 5,
     "metadata": {},
     "output_type": "execute_result"
    }
   ],
   "source": [
    "df_partitionData.head()"
   ]
  },
  {
   "cell_type": "code",
   "execution_count": 14,
   "metadata": {
    "collapsed": false
   },
   "outputs": [
    {
     "name": "stdout",
     "output_type": "stream",
     "text": [
      "2316\n"
     ]
    },
    {
     "data": {
      "text/html": [
       "<div>\n",
       "<table border=\"1\" class=\"dataframe\">\n",
       "  <thead>\n",
       "    <tr style=\"text-align: right;\">\n",
       "      <th></th>\n",
       "      <th>w2w</th>\n",
       "      <th>t2t</th>\n",
       "      <th>scng</th>\n",
       "      <th>NA</th>\n",
       "      <th>dw2w</th>\n",
       "      <th>dt2t</th>\n",
       "      <th>dscng</th>\n",
       "    </tr>\n",
       "  </thead>\n",
       "  <tbody>\n",
       "    <tr>\n",
       "      <th>0</th>\n",
       "      <td>0.333333</td>\n",
       "      <td>0.333333</td>\n",
       "      <td>0.333333</td>\n",
       "      <td>0</td>\n",
       "      <td>-0.002835</td>\n",
       "      <td>-0.005389</td>\n",
       "      <td>-0.003710</td>\n",
       "    </tr>\n",
       "    <tr>\n",
       "      <th>1</th>\n",
       "      <td>0.333050</td>\n",
       "      <td>0.332794</td>\n",
       "      <td>0.332962</td>\n",
       "      <td>0</td>\n",
       "      <td>-0.011905</td>\n",
       "      <td>-0.003944</td>\n",
       "      <td>0.009094</td>\n",
       "    </tr>\n",
       "    <tr>\n",
       "      <th>2</th>\n",
       "      <td>0.331859</td>\n",
       "      <td>0.332400</td>\n",
       "      <td>0.333872</td>\n",
       "      <td>0</td>\n",
       "      <td>-0.013453</td>\n",
       "      <td>0.001351</td>\n",
       "      <td>-0.015137</td>\n",
       "    </tr>\n",
       "    <tr>\n",
       "      <th>3</th>\n",
       "      <td>0.330514</td>\n",
       "      <td>0.332535</td>\n",
       "      <td>0.332358</td>\n",
       "      <td>0</td>\n",
       "      <td>-0.024763</td>\n",
       "      <td>0.007665</td>\n",
       "      <td>-0.015179</td>\n",
       "    </tr>\n",
       "    <tr>\n",
       "      <th>4</th>\n",
       "      <td>0.328038</td>\n",
       "      <td>0.333302</td>\n",
       "      <td>0.330840</td>\n",
       "      <td>0</td>\n",
       "      <td>-0.014623</td>\n",
       "      <td>-0.014594</td>\n",
       "      <td>-0.018271</td>\n",
       "    </tr>\n",
       "  </tbody>\n",
       "</table>\n",
       "</div>"
      ],
      "text/plain": [
       "        w2w       t2t      scng  NA      dw2w      dt2t     dscng\n",
       "0  0.333333  0.333333  0.333333   0 -0.002835 -0.005389 -0.003710\n",
       "1  0.333050  0.332794  0.332962   0 -0.011905 -0.003944  0.009094\n",
       "2  0.331859  0.332400  0.333872   0 -0.013453  0.001351 -0.015137\n",
       "3  0.330514  0.332535  0.332358   0 -0.024763  0.007665 -0.015179\n",
       "4  0.328038  0.333302  0.330840   0 -0.014623 -0.014594 -0.018271"
      ]
     },
     "execution_count": 14,
     "metadata": {},
     "output_type": "execute_result"
    }
   ],
   "source": [
    "print(df_partitionData.shape[0])\n",
    "df_partitionData.head()"
   ]
  },
  {
   "cell_type": "code",
   "execution_count": 15,
   "metadata": {
    "collapsed": false
   },
   "outputs": [
    {
     "name": "stdout",
     "output_type": "stream",
     "text": [
      "[ 260  516  764 1043 1205 1418 1551 1826 2055 2258]\n",
      "[ 259  515  763 1042 1204 1417 1550 1825 2054 2257]\n"
     ]
    }
   ],
   "source": [
    "nis = np.array(np.where(np.isnan(df_partitionData['dw2w'])))[0]\n",
    "print(nis)\n",
    "nis = nis - 1\n",
    "print(nis)\n",
    "df_breaks = df_partitionData.loc[nis]"
   ]
  },
  {
   "cell_type": "code",
   "execution_count": 16,
   "metadata": {
    "collapsed": false
   },
   "outputs": [
    {
     "data": {
      "text/html": [
       "<div>\n",
       "<table border=\"1\" class=\"dataframe\">\n",
       "  <thead>\n",
       "    <tr style=\"text-align: right;\">\n",
       "      <th></th>\n",
       "      <th>w2w</th>\n",
       "      <th>t2t</th>\n",
       "      <th>scng</th>\n",
       "      <th>NA</th>\n",
       "      <th>dw2w</th>\n",
       "      <th>dt2t</th>\n",
       "      <th>dscng</th>\n",
       "    </tr>\n",
       "  </thead>\n",
       "  <tbody>\n",
       "    <tr>\n",
       "      <th>259</th>\n",
       "      <td>0.149025</td>\n",
       "      <td>0.225253</td>\n",
       "      <td>0.050257</td>\n",
       "      <td>0</td>\n",
       "      <td>-0.127962</td>\n",
       "      <td>-0.080103</td>\n",
       "      <td>-0.047963</td>\n",
       "    </tr>\n",
       "    <tr>\n",
       "      <th>515</th>\n",
       "      <td>0.185773</td>\n",
       "      <td>0.261263</td>\n",
       "      <td>0.056004</td>\n",
       "      <td>0</td>\n",
       "      <td>0.015283</td>\n",
       "      <td>-0.055813</td>\n",
       "      <td>-0.290457</td>\n",
       "    </tr>\n",
       "    <tr>\n",
       "      <th>763</th>\n",
       "      <td>0.158970</td>\n",
       "      <td>0.238436</td>\n",
       "      <td>0.053410</td>\n",
       "      <td>0</td>\n",
       "      <td>-0.035539</td>\n",
       "      <td>0.003350</td>\n",
       "      <td>-0.039424</td>\n",
       "    </tr>\n",
       "    <tr>\n",
       "      <th>1042</th>\n",
       "      <td>0.149484</td>\n",
       "      <td>0.236210</td>\n",
       "      <td>0.050432</td>\n",
       "      <td>0</td>\n",
       "      <td>0.001065</td>\n",
       "      <td>-0.000142</td>\n",
       "      <td>-0.005214</td>\n",
       "    </tr>\n",
       "    <tr>\n",
       "      <th>1204</th>\n",
       "      <td>0.181983</td>\n",
       "      <td>0.280404</td>\n",
       "      <td>0.034344</td>\n",
       "      <td>0</td>\n",
       "      <td>-0.006422</td>\n",
       "      <td>-0.002797</td>\n",
       "      <td>0.005239</td>\n",
       "    </tr>\n",
       "    <tr>\n",
       "      <th>1417</th>\n",
       "      <td>0.122846</td>\n",
       "      <td>0.271139</td>\n",
       "      <td>0.053201</td>\n",
       "      <td>0</td>\n",
       "      <td>0.006422</td>\n",
       "      <td>0.000000</td>\n",
       "      <td>-0.043163</td>\n",
       "    </tr>\n",
       "    <tr>\n",
       "      <th>1550</th>\n",
       "      <td>0.167803</td>\n",
       "      <td>0.301815</td>\n",
       "      <td>0.036290</td>\n",
       "      <td>0</td>\n",
       "      <td>-0.007957</td>\n",
       "      <td>-0.000297</td>\n",
       "      <td>-0.040690</td>\n",
       "    </tr>\n",
       "    <tr>\n",
       "      <th>1825</th>\n",
       "      <td>0.157624</td>\n",
       "      <td>0.201576</td>\n",
       "      <td>0.048184</td>\n",
       "      <td>0</td>\n",
       "      <td>0.000452</td>\n",
       "      <td>-0.001408</td>\n",
       "      <td>-0.000144</td>\n",
       "    </tr>\n",
       "    <tr>\n",
       "      <th>2054</th>\n",
       "      <td>0.109959</td>\n",
       "      <td>0.199788</td>\n",
       "      <td>0.048182</td>\n",
       "      <td>0</td>\n",
       "      <td>0.001967</td>\n",
       "      <td>-0.001730</td>\n",
       "      <td>-0.006436</td>\n",
       "    </tr>\n",
       "    <tr>\n",
       "      <th>2257</th>\n",
       "      <td>0.084715</td>\n",
       "      <td>0.252006</td>\n",
       "      <td>0.042900</td>\n",
       "      <td>0</td>\n",
       "      <td>-0.003812</td>\n",
       "      <td>-0.000794</td>\n",
       "      <td>0.003665</td>\n",
       "    </tr>\n",
       "  </tbody>\n",
       "</table>\n",
       "</div>"
      ],
      "text/plain": [
       "           w2w       t2t      scng  NA      dw2w      dt2t     dscng\n",
       "259   0.149025  0.225253  0.050257   0 -0.127962 -0.080103 -0.047963\n",
       "515   0.185773  0.261263  0.056004   0  0.015283 -0.055813 -0.290457\n",
       "763   0.158970  0.238436  0.053410   0 -0.035539  0.003350 -0.039424\n",
       "1042  0.149484  0.236210  0.050432   0  0.001065 -0.000142 -0.005214\n",
       "1204  0.181983  0.280404  0.034344   0 -0.006422 -0.002797  0.005239\n",
       "1417  0.122846  0.271139  0.053201   0  0.006422  0.000000 -0.043163\n",
       "1550  0.167803  0.301815  0.036290   0 -0.007957 -0.000297 -0.040690\n",
       "1825  0.157624  0.201576  0.048184   0  0.000452 -0.001408 -0.000144\n",
       "2054  0.109959  0.199788  0.048182   0  0.001967 -0.001730 -0.006436\n",
       "2257  0.084715  0.252006  0.042900   0 -0.003812 -0.000794  0.003665"
      ]
     },
     "execution_count": 16,
     "metadata": {},
     "output_type": "execute_result"
    }
   ],
   "source": [
    "df_breaks"
   ]
  },
  {
   "cell_type": "code",
   "execution_count": 6,
   "metadata": {
    "collapsed": false
   },
   "outputs": [
    {
     "ename": "NameError",
     "evalue": "name 'df_breaks' is not defined",
     "output_type": "error",
     "traceback": [
      "\u001b[1;31m---------------------------------------------------------------------------\u001b[0m",
      "\u001b[1;31mNameError\u001b[0m                                 Traceback (most recent call last)",
      "\u001b[1;32m<ipython-input-6-2bedbc39c26a>\u001b[0m in \u001b[0;36m<module>\u001b[1;34m()\u001b[0m\n\u001b[0;32m      1\u001b[0m \u001b[1;31m# IMPORTANT\u001b[0m\u001b[1;33m\u001b[0m\u001b[1;33m\u001b[0m\u001b[0m\n\u001b[1;32m----> 2\u001b[1;33m \u001b[0mdf_breaks\u001b[0m\u001b[1;33m[\u001b[0m\u001b[1;34m'w2w'\u001b[0m\u001b[1;33m]\u001b[0m\u001b[1;33m.\u001b[0m\u001b[0mplot\u001b[0m\u001b[1;33m.\u001b[0m\u001b[0mhist\u001b[0m\u001b[1;33m(\u001b[0m\u001b[1;33m)\u001b[0m\u001b[1;33m\u001b[0m\u001b[0m\n\u001b[0m\u001b[0;32m      3\u001b[0m \u001b[0mplt\u001b[0m\u001b[1;33m.\u001b[0m\u001b[0mshow\u001b[0m\u001b[1;33m(\u001b[0m\u001b[1;33m)\u001b[0m\u001b[1;33m\u001b[0m\u001b[0m\n\u001b[0;32m      4\u001b[0m \u001b[0mdf_breaks\u001b[0m\u001b[1;33m[\u001b[0m\u001b[1;34m't2t'\u001b[0m\u001b[1;33m]\u001b[0m\u001b[1;33m.\u001b[0m\u001b[0mplot\u001b[0m\u001b[1;33m.\u001b[0m\u001b[0mhist\u001b[0m\u001b[1;33m(\u001b[0m\u001b[1;33m)\u001b[0m\u001b[1;33m\u001b[0m\u001b[0m\n\u001b[0;32m      5\u001b[0m \u001b[0mplt\u001b[0m\u001b[1;33m.\u001b[0m\u001b[0mshow\u001b[0m\u001b[1;33m(\u001b[0m\u001b[1;33m)\u001b[0m\u001b[1;33m\u001b[0m\u001b[0m\n",
      "\u001b[1;31mNameError\u001b[0m: name 'df_breaks' is not defined"
     ]
    }
   ],
   "source": [
    "# IMPORTANT\n",
    "df_breaks['w2w'].plot.hist()\n",
    "plt.show()\n",
    "df_breaks['t2t'].plot.hist()\n",
    "plt.show()\n",
    "df_breaks['scng'].plot.hist()\n",
    "plt.show()"
   ]
  },
  {
   "cell_type": "code",
   "execution_count": 41,
   "metadata": {
    "collapsed": false
   },
   "outputs": [],
   "source": [
    "df_partitionData = df_partitionData.query('scng <= 1 and t2t <= 1 and w2w <= 1 and scng >= -1 and t2t >= -1 and w2w >= -1')"
   ]
  },
  {
   "cell_type": "code",
   "execution_count": 42,
   "metadata": {
    "collapsed": true
   },
   "outputs": [],
   "source": [
    "df_partitionData['z'] = df_partitionData['1'] + df_partitionData['2']"
   ]
  },
  {
   "cell_type": "code",
   "execution_count": 11,
   "metadata": {
    "collapsed": false
   },
   "outputs": [
    {
     "name": "stdout",
     "output_type": "stream",
     "text": [
      "W2W weights\n"
     ]
    },
    {
     "data": {
      "image/png": "[encoded data removed]",
      "text/plain": [
       "<matplotlib.figure.Figure at 0x7f5fddc11550>"
      ]
     },
     "metadata": {},
     "output_type": "display_data"
    },
    {
     "name": "stdout",
     "output_type": "stream",
     "text": [
      "T2T weights\n"
     ]
    },
    {
     "data": {
      "image/png": "[encoded data removed]",
      "text/plain": [
       "<matplotlib.figure.Figure at 0x7f5fddd78898>"
      ]
     },
     "metadata": {},
     "output_type": "display_data"
    },
    {
     "name": "stdout",
     "output_type": "stream",
     "text": [
      "SameCNG weights\n"
     ]
    },
    {
     "data": {
      "image/png": "[encoded data removed]",
      "text/plain": [
       "<matplotlib.figure.Figure at 0x7f5fddcc7128>"
      ]
     },
     "metadata": {},
     "output_type": "display_data"
    }
   ],
   "source": [
    "print('W2W weights')\n",
    "plt.scatter(df_partitionData.index, df_partitionData['w2w'])\n",
    "plt.show()\n",
    "\n",
    "print('T2T weights')\n",
    "plt.scatter(df_partitionData.index, df_partitionData['t2t'])\n",
    "plt.show()\n",
    "\n",
    "print('SameCNG weights')\n",
    "plt.scatter(df_partitionData.index, df_partitionData['scng'])\n",
    "plt.show()"
   ]
  },
  {
   "cell_type": "code",
   "execution_count": 25,
   "metadata": {
    "collapsed": false
   },
   "outputs": [],
   "source": [
    "df_partitionData.loc[df_partitionData['dw2w'] >= 0, 'dw2w'] += 0.01\n",
    "df_partitionData.loc[df_partitionData['dw2w'] < 0, 'dw2w'] -= 0.01\n",
    "plt.scatter(df_partitionData['w2w'], df_partitionData['dw2w'])\n",
    "plt.show()\n",
    "\n",
    "df_partitionData.loc[df_partitionData['dt2t'] >= 0, 'dt2t'] += 0.01\n",
    "df_partitionData.loc[df_partitionData['dt2t'] < 0, 'dt2t'] -= 0.01\n",
    "plt.scatter(df_partitionData['t2t'], df_partitionData['dt2t'])\n",
    "plt.show()\n",
    "\n",
    "df_partitionData.loc[df_partitionData['dscng'] >= 0, 'dscng'] += 0.01\n",
    "df_partitionData.loc[df_partitionData['dscng'] < 0, 'dscng'] -= 0.01\n",
    "plt.scatter(df_partitionData['scng'], df_partitionData['dscng'])\n",
    "plt.show()"
   ]
  },
  {
   "cell_type": "code",
   "execution_count": 35,
   "metadata": {
    "collapsed": false
   },
   "outputs": [],
   "source": [
    "\n",
    "df_partitionData['dw2w'].plot.hist(bins = 50)\n",
    "plt.show()"
   ]
  },
  {
   "cell_type": "code",
   "execution_count": 26,
   "metadata": {
    "collapsed": false
   },
   "outputs": [],
   "source": [
    "df_partitionData['dt2t'].plot.hist(bins = 50)\n",
    "plt.show()"
   ]
  },
  {
   "cell_type": "code",
   "execution_count": 25,
   "metadata": {
    "collapsed": false
   },
   "outputs": [],
   "source": [
    "df_partitionData['dscng'].plot.hist(bins = 50)\n",
    "plt.show()"
   ]
  },
  {
   "cell_type": "code",
   "execution_count": 20,
   "metadata": {
    "collapsed": false
   },
   "outputs": [
    {
     "name": "stdout",
     "output_type": "stream",
     "text": [
      "0.239805093952\n",
      "0.292113212683\n",
      "0.188738249742\n",
      "--------------------------------------------------\n"
     ]
    }
   ],
   "source": [
    "# di = df_partitionData['dcomb'] > 0\n",
    "print(np.median(df_partitionData['w2w']))\n",
    "print(np.median(df_partitionData['t2t']))\n",
    "print(np.median(df_partitionData['scng']))\n",
    "print('-'*50)\n",
    "# di = df_partitionData['dcomb'] < 0\n",
    "# print(np.median(df_partitionData.loc[di, 'w2w']))\n",
    "# print(np.median(df_partitionData.loc[di, 't2t']))\n",
    "# print(np.median(df_partitionData.loc[di, 'scng']))\n",
    "\n"
   ]
  },
  {
   "cell_type": "code",
   "execution_count": 3,
   "metadata": {
    "collapsed": false
   },
   "outputs": [],
   "source": [
    "df_logR_train = pd.read_csv('logReg_train_full.csv')\n",
    "df_logR_train.rename(columns={'DSCLemma':'DCSLemma'}, inplace=True)"
   ]
  },
  {
   "cell_type": "code",
   "execution_count": 4,
   "metadata": {
    "collapsed": false
   },
   "outputs": [
    {
     "data": {
      "text/html": [
       "<div>\n",
       "<table border=\"1\" class=\"dataframe\">\n",
       "  <thead>\n",
       "    <tr style=\"text-align: right;\">\n",
       "      <th></th>\n",
       "      <th>w2w</th>\n",
       "      <th>t2t</th>\n",
       "      <th>scng</th>\n",
       "      <th>DCSLemma</th>\n",
       "    </tr>\n",
       "  </thead>\n",
       "  <tbody>\n",
       "    <tr>\n",
       "      <th>0</th>\n",
       "      <td>0.160732</td>\n",
       "      <td>0.008400</td>\n",
       "      <td>0.015336</td>\n",
       "      <td>0</td>\n",
       "    </tr>\n",
       "    <tr>\n",
       "      <th>1</th>\n",
       "      <td>0.079843</td>\n",
       "      <td>0.048405</td>\n",
       "      <td>0.022870</td>\n",
       "      <td>0</td>\n",
       "    </tr>\n",
       "    <tr>\n",
       "      <th>2</th>\n",
       "      <td>0.033095</td>\n",
       "      <td>0.023786</td>\n",
       "      <td>0.016010</td>\n",
       "      <td>1</td>\n",
       "    </tr>\n",
       "    <tr>\n",
       "      <th>3</th>\n",
       "      <td>0.015576</td>\n",
       "      <td>0.054394</td>\n",
       "      <td>0.016931</td>\n",
       "      <td>1</td>\n",
       "    </tr>\n",
       "    <tr>\n",
       "      <th>4</th>\n",
       "      <td>0.022857</td>\n",
       "      <td>0.045176</td>\n",
       "      <td>0.013566</td>\n",
       "      <td>1</td>\n",
       "    </tr>\n",
       "  </tbody>\n",
       "</table>\n",
       "</div>"
      ],
      "text/plain": [
       "        w2w       t2t      scng  DCSLemma\n",
       "0  0.160732  0.008400  0.015336         0\n",
       "1  0.079843  0.048405  0.022870         0\n",
       "2  0.033095  0.023786  0.016010         1\n",
       "3  0.015576  0.054394  0.016931         1\n",
       "4  0.022857  0.045176  0.013566         1"
      ]
     },
     "execution_count": 4,
     "metadata": {},
     "output_type": "execute_result"
    }
   ],
   "source": [
    "df_logR_train.DCSLemma = df_logR_train.DCSLemma.astype(int)\n",
    "df_logR_train.head()"
   ]
  },
  {
   "cell_type": "code",
   "execution_count": 5,
   "metadata": {
    "collapsed": true
   },
   "outputs": [],
   "source": [
    "df_logR_train_pos = df_logR_train[df_logR_train.DCSLemma == True]\n",
    "df_logR_train_neg = df_logR_train[df_logR_train.DCSLemma == False]"
   ]
  },
  {
   "cell_type": "code",
   "execution_count": 16,
   "metadata": {
    "collapsed": false
   },
   "outputs": [
    {
     "name": "stdout",
     "output_type": "stream",
     "text": [
      "(919378, 4)\n",
      "(506975, 4)\n",
      "(966664, 4)\n"
     ]
    }
   ],
   "source": [
    "print(df_logR_train_neg.shape)\n",
    "print(df_logR_train_pos.shape)\n",
    "df_logR_train_neg2 = df_logR_train_neg.loc[0::2]\n",
    "frames = [df_logR_train_pos, df_logR_train_neg2]\n",
    "df_logR_train_small = pd.concat(frames)\n",
    "print(df_logR_train_small.shape)"
   ]
  },
  {
   "cell_type": "code",
   "execution_count": 8,
   "metadata": {
    "collapsed": false
   },
   "outputs": [],
   "source": [
    "fig = plt.figure()\n",
    "ax = fig.add_subplot(111, projection='3d')\n",
    "ax.scatter(df_logR_train_pos.w2w, df_logR_train_pos.t2t, df_logR_train_pos.scng, c='r', marker='o')\n",
    "ax.scatter(df_logR_train_neg.w2w, df_logR_train_neg.t2t, df_logR_train_neg.scng, c='b', marker='^')\n",
    "plt.show()"
   ]
  },
  {
   "cell_type": "code",
   "execution_count": 7,
   "metadata": {
    "collapsed": false
   },
   "outputs": [],
   "source": [
    "from sklearn.linear_model import LogisticRegression\n",
    "from sklearn.cross_validation import KFold"
   ]
  },
  {
   "cell_type": "code",
   "execution_count": 8,
   "metadata": {
    "collapsed": true
   },
   "outputs": [],
   "source": [
    "lr = LogisticRegression(solver='lbfgs', fit_intercept=False) # lbfgs, No Bias\n",
    "# lr.fit()\n",
    "kf = KFold(df_logR_train_small.shape[0],4)"
   ]
  },
  {
   "cell_type": "code",
   "execution_count": 17,
   "metadata": {
    "collapsed": false,
    "scrolled": true
   },
   "outputs": [
    {
     "data": {
      "text/html": [
       "<div>\n",
       "<table border=\"1\" class=\"dataframe\">\n",
       "  <thead>\n",
       "    <tr style=\"text-align: right;\">\n",
       "      <th></th>\n",
       "      <th>w2w</th>\n",
       "      <th>t2t</th>\n",
       "      <th>scng</th>\n",
       "      <th>DCSLemma</th>\n",
       "    </tr>\n",
       "  </thead>\n",
       "  <tbody>\n",
       "    <tr>\n",
       "      <th>0</th>\n",
       "      <td>1.449240e-03</td>\n",
       "      <td>0.002752</td>\n",
       "      <td>0.001984</td>\n",
       "      <td>0</td>\n",
       "    </tr>\n",
       "    <tr>\n",
       "      <th>1</th>\n",
       "      <td>0.000000e+00</td>\n",
       "      <td>0.000000</td>\n",
       "      <td>0.000000</td>\n",
       "      <td>0</td>\n",
       "    </tr>\n",
       "    <tr>\n",
       "      <th>2</th>\n",
       "      <td>3.023357e-03</td>\n",
       "      <td>0.004723</td>\n",
       "      <td>0.004042</td>\n",
       "      <td>0</td>\n",
       "    </tr>\n",
       "    <tr>\n",
       "      <th>3</th>\n",
       "      <td>0.000000e+00</td>\n",
       "      <td>0.000000</td>\n",
       "      <td>0.000000</td>\n",
       "      <td>0</td>\n",
       "    </tr>\n",
       "    <tr>\n",
       "      <th>4</th>\n",
       "      <td>7.627570e-03</td>\n",
       "      <td>0.023363</td>\n",
       "      <td>0.014294</td>\n",
       "      <td>1</td>\n",
       "    </tr>\n",
       "    <tr>\n",
       "      <th>5</th>\n",
       "      <td>0.000000e+00</td>\n",
       "      <td>0.000000</td>\n",
       "      <td>0.000000</td>\n",
       "      <td>0</td>\n",
       "    </tr>\n",
       "    <tr>\n",
       "      <th>6</th>\n",
       "      <td>3.297532e-03</td>\n",
       "      <td>0.003956</td>\n",
       "      <td>0.003920</td>\n",
       "      <td>1</td>\n",
       "    </tr>\n",
       "    <tr>\n",
       "      <th>7</th>\n",
       "      <td>0.000000e+00</td>\n",
       "      <td>0.000000</td>\n",
       "      <td>0.000000</td>\n",
       "      <td>0</td>\n",
       "    </tr>\n",
       "    <tr>\n",
       "      <th>8</th>\n",
       "      <td>0.000000e+00</td>\n",
       "      <td>0.000000</td>\n",
       "      <td>0.000000</td>\n",
       "      <td>1</td>\n",
       "    </tr>\n",
       "    <tr>\n",
       "      <th>9</th>\n",
       "      <td>1.437285e-02</td>\n",
       "      <td>0.014105</td>\n",
       "      <td>0.016851</td>\n",
       "      <td>0</td>\n",
       "    </tr>\n",
       "    <tr>\n",
       "      <th>10</th>\n",
       "      <td>2.312598e-03</td>\n",
       "      <td>0.001439</td>\n",
       "      <td>0.002722</td>\n",
       "      <td>1</td>\n",
       "    </tr>\n",
       "    <tr>\n",
       "      <th>11</th>\n",
       "      <td>2.653046e-03</td>\n",
       "      <td>0.006627</td>\n",
       "      <td>0.008237</td>\n",
       "      <td>0</td>\n",
       "    </tr>\n",
       "    <tr>\n",
       "      <th>12</th>\n",
       "      <td>5.044881e-03</td>\n",
       "      <td>0.006276</td>\n",
       "      <td>0.005978</td>\n",
       "      <td>1</td>\n",
       "    </tr>\n",
       "    <tr>\n",
       "      <th>13</th>\n",
       "      <td>0.000000e+00</td>\n",
       "      <td>0.000000</td>\n",
       "      <td>0.000000</td>\n",
       "      <td>1</td>\n",
       "    </tr>\n",
       "    <tr>\n",
       "      <th>14</th>\n",
       "      <td>1.783448e-02</td>\n",
       "      <td>0.008527</td>\n",
       "      <td>0.013353</td>\n",
       "      <td>1</td>\n",
       "    </tr>\n",
       "    <tr>\n",
       "      <th>15</th>\n",
       "      <td>7.649043e-03</td>\n",
       "      <td>0.011520</td>\n",
       "      <td>0.008745</td>\n",
       "      <td>1</td>\n",
       "    </tr>\n",
       "    <tr>\n",
       "      <th>16</th>\n",
       "      <td>2.009740e-07</td>\n",
       "      <td>0.029370</td>\n",
       "      <td>0.018043</td>\n",
       "      <td>0</td>\n",
       "    </tr>\n",
       "    <tr>\n",
       "      <th>17</th>\n",
       "      <td>0.000000e+00</td>\n",
       "      <td>0.000000</td>\n",
       "      <td>0.000000</td>\n",
       "      <td>1</td>\n",
       "    </tr>\n",
       "    <tr>\n",
       "      <th>18</th>\n",
       "      <td>9.108749e-03</td>\n",
       "      <td>0.009402</td>\n",
       "      <td>0.010470</td>\n",
       "      <td>1</td>\n",
       "    </tr>\n",
       "    <tr>\n",
       "      <th>19</th>\n",
       "      <td>0.000000e+00</td>\n",
       "      <td>0.000000</td>\n",
       "      <td>0.000000</td>\n",
       "      <td>1</td>\n",
       "    </tr>\n",
       "    <tr>\n",
       "      <th>20</th>\n",
       "      <td>5.547242e-04</td>\n",
       "      <td>0.000998</td>\n",
       "      <td>0.000654</td>\n",
       "      <td>1</td>\n",
       "    </tr>\n",
       "    <tr>\n",
       "      <th>21</th>\n",
       "      <td>3.709129e-03</td>\n",
       "      <td>0.003027</td>\n",
       "      <td>0.005170</td>\n",
       "      <td>0</td>\n",
       "    </tr>\n",
       "    <tr>\n",
       "      <th>22</th>\n",
       "      <td>5.665329e-03</td>\n",
       "      <td>0.006753</td>\n",
       "      <td>0.008698</td>\n",
       "      <td>1</td>\n",
       "    </tr>\n",
       "    <tr>\n",
       "      <th>23</th>\n",
       "      <td>4.325951e-03</td>\n",
       "      <td>0.007310</td>\n",
       "      <td>0.008355</td>\n",
       "      <td>1</td>\n",
       "    </tr>\n",
       "    <tr>\n",
       "      <th>24</th>\n",
       "      <td>1.292505e-02</td>\n",
       "      <td>0.008549</td>\n",
       "      <td>0.008807</td>\n",
       "      <td>1</td>\n",
       "    </tr>\n",
       "    <tr>\n",
       "      <th>25</th>\n",
       "      <td>3.020793e-03</td>\n",
       "      <td>0.004870</td>\n",
       "      <td>0.005216</td>\n",
       "      <td>0</td>\n",
       "    </tr>\n",
       "    <tr>\n",
       "      <th>26</th>\n",
       "      <td>0.000000e+00</td>\n",
       "      <td>0.000000</td>\n",
       "      <td>0.000000</td>\n",
       "      <td>0</td>\n",
       "    </tr>\n",
       "    <tr>\n",
       "      <th>27</th>\n",
       "      <td>0.000000e+00</td>\n",
       "      <td>0.000000</td>\n",
       "      <td>0.000000</td>\n",
       "      <td>0</td>\n",
       "    </tr>\n",
       "    <tr>\n",
       "      <th>28</th>\n",
       "      <td>7.294103e-03</td>\n",
       "      <td>0.010010</td>\n",
       "      <td>0.008210</td>\n",
       "      <td>1</td>\n",
       "    </tr>\n",
       "    <tr>\n",
       "      <th>29</th>\n",
       "      <td>5.496821e-03</td>\n",
       "      <td>0.006371</td>\n",
       "      <td>0.006948</td>\n",
       "      <td>0</td>\n",
       "    </tr>\n",
       "    <tr>\n",
       "      <th>...</th>\n",
       "      <td>...</td>\n",
       "      <td>...</td>\n",
       "      <td>...</td>\n",
       "      <td>...</td>\n",
       "    </tr>\n",
       "    <tr>\n",
       "      <th>966634</th>\n",
       "      <td>4.064318e-03</td>\n",
       "      <td>0.005689</td>\n",
       "      <td>0.006093</td>\n",
       "      <td>0</td>\n",
       "    </tr>\n",
       "    <tr>\n",
       "      <th>966635</th>\n",
       "      <td>3.703337e-03</td>\n",
       "      <td>0.002594</td>\n",
       "      <td>0.005705</td>\n",
       "      <td>1</td>\n",
       "    </tr>\n",
       "    <tr>\n",
       "      <th>966636</th>\n",
       "      <td>4.192842e-03</td>\n",
       "      <td>0.006096</td>\n",
       "      <td>0.008115</td>\n",
       "      <td>0</td>\n",
       "    </tr>\n",
       "    <tr>\n",
       "      <th>966637</th>\n",
       "      <td>7.154399e-03</td>\n",
       "      <td>0.009373</td>\n",
       "      <td>0.013441</td>\n",
       "      <td>0</td>\n",
       "    </tr>\n",
       "    <tr>\n",
       "      <th>966638</th>\n",
       "      <td>2.381911e-02</td>\n",
       "      <td>0.027160</td>\n",
       "      <td>0.028171</td>\n",
       "      <td>0</td>\n",
       "    </tr>\n",
       "    <tr>\n",
       "      <th>966639</th>\n",
       "      <td>0.000000e+00</td>\n",
       "      <td>0.000000</td>\n",
       "      <td>0.000000</td>\n",
       "      <td>1</td>\n",
       "    </tr>\n",
       "    <tr>\n",
       "      <th>966640</th>\n",
       "      <td>0.000000e+00</td>\n",
       "      <td>0.000000</td>\n",
       "      <td>0.000000</td>\n",
       "      <td>1</td>\n",
       "    </tr>\n",
       "    <tr>\n",
       "      <th>966641</th>\n",
       "      <td>2.952627e-02</td>\n",
       "      <td>0.023229</td>\n",
       "      <td>0.033451</td>\n",
       "      <td>1</td>\n",
       "    </tr>\n",
       "    <tr>\n",
       "      <th>966642</th>\n",
       "      <td>2.358730e-03</td>\n",
       "      <td>0.005331</td>\n",
       "      <td>0.006259</td>\n",
       "      <td>0</td>\n",
       "    </tr>\n",
       "    <tr>\n",
       "      <th>966643</th>\n",
       "      <td>6.709095e-03</td>\n",
       "      <td>0.003799</td>\n",
       "      <td>0.005621</td>\n",
       "      <td>0</td>\n",
       "    </tr>\n",
       "    <tr>\n",
       "      <th>966644</th>\n",
       "      <td>0.000000e+00</td>\n",
       "      <td>0.000000</td>\n",
       "      <td>0.000000</td>\n",
       "      <td>0</td>\n",
       "    </tr>\n",
       "    <tr>\n",
       "      <th>966645</th>\n",
       "      <td>0.000000e+00</td>\n",
       "      <td>0.000000</td>\n",
       "      <td>0.000000</td>\n",
       "      <td>0</td>\n",
       "    </tr>\n",
       "    <tr>\n",
       "      <th>966646</th>\n",
       "      <td>9.467309e-04</td>\n",
       "      <td>0.000838</td>\n",
       "      <td>0.001633</td>\n",
       "      <td>0</td>\n",
       "    </tr>\n",
       "    <tr>\n",
       "      <th>966647</th>\n",
       "      <td>0.000000e+00</td>\n",
       "      <td>0.000000</td>\n",
       "      <td>0.000000</td>\n",
       "      <td>0</td>\n",
       "    </tr>\n",
       "    <tr>\n",
       "      <th>966648</th>\n",
       "      <td>1.313453e-02</td>\n",
       "      <td>0.006527</td>\n",
       "      <td>0.011067</td>\n",
       "      <td>0</td>\n",
       "    </tr>\n",
       "    <tr>\n",
       "      <th>966649</th>\n",
       "      <td>1.918459e-03</td>\n",
       "      <td>0.002015</td>\n",
       "      <td>0.002312</td>\n",
       "      <td>0</td>\n",
       "    </tr>\n",
       "    <tr>\n",
       "      <th>966650</th>\n",
       "      <td>1.335142e-02</td>\n",
       "      <td>0.025879</td>\n",
       "      <td>0.019160</td>\n",
       "      <td>1</td>\n",
       "    </tr>\n",
       "    <tr>\n",
       "      <th>966651</th>\n",
       "      <td>0.000000e+00</td>\n",
       "      <td>0.000000</td>\n",
       "      <td>0.000000</td>\n",
       "      <td>0</td>\n",
       "    </tr>\n",
       "    <tr>\n",
       "      <th>966652</th>\n",
       "      <td>5.274015e-03</td>\n",
       "      <td>0.003555</td>\n",
       "      <td>0.007031</td>\n",
       "      <td>1</td>\n",
       "    </tr>\n",
       "    <tr>\n",
       "      <th>966653</th>\n",
       "      <td>0.000000e+00</td>\n",
       "      <td>0.000000</td>\n",
       "      <td>0.000000</td>\n",
       "      <td>0</td>\n",
       "    </tr>\n",
       "    <tr>\n",
       "      <th>966654</th>\n",
       "      <td>1.335870e-02</td>\n",
       "      <td>0.007540</td>\n",
       "      <td>0.013674</td>\n",
       "      <td>1</td>\n",
       "    </tr>\n",
       "    <tr>\n",
       "      <th>966655</th>\n",
       "      <td>7.431764e-03</td>\n",
       "      <td>0.009183</td>\n",
       "      <td>0.011095</td>\n",
       "      <td>1</td>\n",
       "    </tr>\n",
       "    <tr>\n",
       "      <th>966656</th>\n",
       "      <td>2.681355e-03</td>\n",
       "      <td>0.002914</td>\n",
       "      <td>0.003816</td>\n",
       "      <td>0</td>\n",
       "    </tr>\n",
       "    <tr>\n",
       "      <th>966657</th>\n",
       "      <td>3.253763e-03</td>\n",
       "      <td>0.001668</td>\n",
       "      <td>0.004023</td>\n",
       "      <td>0</td>\n",
       "    </tr>\n",
       "    <tr>\n",
       "      <th>966658</th>\n",
       "      <td>0.000000e+00</td>\n",
       "      <td>0.000000</td>\n",
       "      <td>0.000000</td>\n",
       "      <td>1</td>\n",
       "    </tr>\n",
       "    <tr>\n",
       "      <th>966659</th>\n",
       "      <td>2.008558e-03</td>\n",
       "      <td>0.011590</td>\n",
       "      <td>0.010907</td>\n",
       "      <td>1</td>\n",
       "    </tr>\n",
       "    <tr>\n",
       "      <th>966660</th>\n",
       "      <td>1.274063e-02</td>\n",
       "      <td>0.010340</td>\n",
       "      <td>0.015781</td>\n",
       "      <td>1</td>\n",
       "    </tr>\n",
       "    <tr>\n",
       "      <th>966661</th>\n",
       "      <td>1.421734e-02</td>\n",
       "      <td>0.004051</td>\n",
       "      <td>0.006067</td>\n",
       "      <td>0</td>\n",
       "    </tr>\n",
       "    <tr>\n",
       "      <th>966662</th>\n",
       "      <td>5.506600e-03</td>\n",
       "      <td>0.008061</td>\n",
       "      <td>0.009518</td>\n",
       "      <td>1</td>\n",
       "    </tr>\n",
       "    <tr>\n",
       "      <th>966663</th>\n",
       "      <td>3.708356e-03</td>\n",
       "      <td>0.007155</td>\n",
       "      <td>0.006405</td>\n",
       "      <td>1</td>\n",
       "    </tr>\n",
       "  </tbody>\n",
       "</table>\n",
       "<p>966664 rows × 4 columns</p>\n",
       "</div>"
      ],
      "text/plain": [
       "                 w2w       t2t      scng  DCSLemma\n",
       "0       1.449240e-03  0.002752  0.001984         0\n",
       "1       0.000000e+00  0.000000  0.000000         0\n",
       "2       3.023357e-03  0.004723  0.004042         0\n",
       "3       0.000000e+00  0.000000  0.000000         0\n",
       "4       7.627570e-03  0.023363  0.014294         1\n",
       "5       0.000000e+00  0.000000  0.000000         0\n",
       "6       3.297532e-03  0.003956  0.003920         1\n",
       "7       0.000000e+00  0.000000  0.000000         0\n",
       "8       0.000000e+00  0.000000  0.000000         1\n",
       "9       1.437285e-02  0.014105  0.016851         0\n",
       "10      2.312598e-03  0.001439  0.002722         1\n",
       "11      2.653046e-03  0.006627  0.008237         0\n",
       "12      5.044881e-03  0.006276  0.005978         1\n",
       "13      0.000000e+00  0.000000  0.000000         1\n",
       "14      1.783448e-02  0.008527  0.013353         1\n",
       "15      7.649043e-03  0.011520  0.008745         1\n",
       "16      2.009740e-07  0.029370  0.018043         0\n",
       "17      0.000000e+00  0.000000  0.000000         1\n",
       "18      9.108749e-03  0.009402  0.010470         1\n",
       "19      0.000000e+00  0.000000  0.000000         1\n",
       "20      5.547242e-04  0.000998  0.000654         1\n",
       "21      3.709129e-03  0.003027  0.005170         0\n",
       "22      5.665329e-03  0.006753  0.008698         1\n",
       "23      4.325951e-03  0.007310  0.008355         1\n",
       "24      1.292505e-02  0.008549  0.008807         1\n",
       "25      3.020793e-03  0.004870  0.005216         0\n",
       "26      0.000000e+00  0.000000  0.000000         0\n",
       "27      0.000000e+00  0.000000  0.000000         0\n",
       "28      7.294103e-03  0.010010  0.008210         1\n",
       "29      5.496821e-03  0.006371  0.006948         0\n",
       "...              ...       ...       ...       ...\n",
       "966634  4.064318e-03  0.005689  0.006093         0\n",
       "966635  3.703337e-03  0.002594  0.005705         1\n",
       "966636  4.192842e-03  0.006096  0.008115         0\n",
       "966637  7.154399e-03  0.009373  0.013441         0\n",
       "966638  2.381911e-02  0.027160  0.028171         0\n",
       "966639  0.000000e+00  0.000000  0.000000         1\n",
       "966640  0.000000e+00  0.000000  0.000000         1\n",
       "966641  2.952627e-02  0.023229  0.033451         1\n",
       "966642  2.358730e-03  0.005331  0.006259         0\n",
       "966643  6.709095e-03  0.003799  0.005621         0\n",
       "966644  0.000000e+00  0.000000  0.000000         0\n",
       "966645  0.000000e+00  0.000000  0.000000         0\n",
       "966646  9.467309e-04  0.000838  0.001633         0\n",
       "966647  0.000000e+00  0.000000  0.000000         0\n",
       "966648  1.313453e-02  0.006527  0.011067         0\n",
       "966649  1.918459e-03  0.002015  0.002312         0\n",
       "966650  1.335142e-02  0.025879  0.019160         1\n",
       "966651  0.000000e+00  0.000000  0.000000         0\n",
       "966652  5.274015e-03  0.003555  0.007031         1\n",
       "966653  0.000000e+00  0.000000  0.000000         0\n",
       "966654  1.335870e-02  0.007540  0.013674         1\n",
       "966655  7.431764e-03  0.009183  0.011095         1\n",
       "966656  2.681355e-03  0.002914  0.003816         0\n",
       "966657  3.253763e-03  0.001668  0.004023         0\n",
       "966658  0.000000e+00  0.000000  0.000000         1\n",
       "966659  2.008558e-03  0.011590  0.010907         1\n",
       "966660  1.274063e-02  0.010340  0.015781         1\n",
       "966661  1.421734e-02  0.004051  0.006067         0\n",
       "966662  5.506600e-03  0.008061  0.009518         1\n",
       "966663  3.708356e-03  0.007155  0.006405         1\n",
       "\n",
       "[966664 rows x 4 columns]"
      ]
     },
     "execution_count": 17,
     "metadata": {},
     "output_type": "execute_result"
    }
   ],
   "source": [
    "df_logR_train_small = df_logR_train_small.iloc[np.random.permutation(len(df_logR_train_small))]\n",
    "df_logR_train_small = df_logR_train_small.reset_index(drop=True)\n",
    "df_logR_train_small"
   ]
  },
  {
   "cell_type": "code",
   "execution_count": 19,
   "metadata": {
    "collapsed": false
   },
   "outputs": [
    {
     "name": "stdout",
     "output_type": "stream",
     "text": [
      "258601 pos training example of 724998\n",
      "0.638976935109\n",
      "[[ 18.51990433 -14.01478597 -26.68028975]]\n",
      "257664 pos training example of 724998\n",
      "0.634069335364\n",
      "[[ 19.49977441 -13.55265517 -28.14728791]]\n",
      "261516 pos training example of 724998\n",
      "0.65156455604\n",
      "[[ 18.77040354 -13.33564531 -27.73590531]]\n",
      "257258 pos training example of 724998\n",
      "0.633109332715\n",
      "[[ 19.03079896 -14.034943   -27.31044099]]\n"
     ]
    }
   ],
   "source": [
    "df_logR_train_small = df_logR_train\n",
    "for train, test in kf:\n",
    "    print(np.sum(df_logR_train_small.loc[train, 'DCSLemma']), 'pos training example of', df_logR_train_small.loc[train].shape[0])\n",
    "    lr.fit(df_logR_train_small.loc[train, ['w2w', 't2t', 'scng']], df_logR_train_small.loc[train, 'DCSLemma'])\n",
    "    print(np.sum(df_logR_train_small.loc[test, 'DCSLemma'] == lr.predict(df_logR_train_small.loc[test, ['w2w', 't2t', 'scng']]))/len(test))\n",
    "    print(lr.coef_)"
   ]
  },
  {
   "cell_type": "code",
   "execution_count": null,
   "metadata": {
    "collapsed": false
   },
   "outputs": [],
   "source": []
  },
  {
   "cell_type": "code",
   "execution_count": null,
   "metadata": {
    "collapsed": true
   },
   "outputs": [],
   "source": []
  }
 ],
 "metadata": {
  "kernelspec": {
   "display_name": "Python 3",
   "language": "python",
   "name": "python3"
  },
  "language_info": {
   "codemirror_mode": {
    "name": "ipython",
    "version": 3
   },
   "file_extension": ".py",
   "mimetype": "text/x-python",
   "name": "python",
   "nbconvert_exporter": "python",
   "pygments_lexer": "ipython3",
   "version": "3.5.1+"
  }
 },
 "nbformat": 4,
 "nbformat_minor": 0
}
