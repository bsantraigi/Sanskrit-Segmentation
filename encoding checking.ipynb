{
 "cells": [
  {
   "cell_type": "code",
   "execution_count": 7,
   "metadata": {
    "collapsed": false
   },
   "outputs": [
    {
     "name": "stdout",
     "output_type": "stream",
     "text": [
      "215029\n"
     ]
    }
   ],
   "source": [
    "path = \"../Bishal/TextSegmentation/corrected_10to20/\"\n",
    "\n",
    "import os\n",
    "filenames = set()\n",
    "for filename in os.listdir(path):\n",
    "    if filename.endswith('.p'):\n",
    "        filenames.add(filename)\n",
    "        \n",
    "        \n",
    "print(len(filenames))"
   ]
  },
  {
   "cell_type": "code",
   "execution_count": 31,
   "metadata": {
    "collapsed": true
   },
   "outputs": [],
   "source": [
    "class word_new:\n",
    "    def __init__(self,names):\n",
    "        self.lemmas=[]\n",
    "        self.names=names\n",
    "        self.urls=[]\n",
    "        self.forms=[]\n",
    "\n",
    "class chunks:\n",
    "    def __init__(self,chunk_name):\n",
    "        self.chunk_name=chunk_name\n",
    "        self.chunk_words={}\n",
    "\n",
    "class sentences:\n",
    "    def __init__(self,sent_id,sentence):\n",
    "        self.sent_id=sent_id\n",
    "        self.sentence=sentence\n",
    "        self.chunk=[]\n",
    "        \n",
    "class DCS:\n",
    "    def __init__(self,sent_id,sentence):\n",
    "        self.sent_id=sent_id\n",
    "        self.sentence=sentence\n",
    "        self.dcs_chunks=[]\n",
    "        self.lemmas=[]\n",
    "        self.cng=[]\n"
   ]
  },
  {
   "cell_type": "code",
   "execution_count": 40,
   "metadata": {
    "collapsed": false
   },
   "outputs": [
    {
     "name": "stdout",
     "output_type": "stream",
     "text": [
      "441735\n",
      "190544.p\n",
      "{'puṣpa', 'ca', 'dhava', 'aśvakarṇa', 'pārtha', 'tiniśa'}\n",
      "{'artha', 'śvan', 'ka', 'pa', 'karṇa', 'puṣpa', 'ca', 'dhava', 'ārtha', 'pā', 'a', 'ṛṇa', 'āśva', 'pārtha', 'aśva', 'aśvaka', 'āna', 'āśu'}\n",
      "{'tiniśa', 'aśvakarṇa'}\n"
     ]
    }
   ],
   "source": [
    "import pickle\n",
    "\n",
    "DCSPath = \"../Bishal/Text Segmentation/DCS_pick/\"\n",
    "\n",
    "DCSSet = set()\n",
    "for filn in os.listdir(DCSPath):\n",
    "    if filn.endswith('.p'):\n",
    "        DCSSet.add(filn)\n",
    "\n",
    "print(len(DCSSet))\n",
    "\n",
    "countVals = dict()\n",
    "\n",
    "\n",
    "for filn in filenames:\n",
    "    print(filn)\n",
    "\n",
    "    DCSFile = pickle.load(open(DCSPath+filn,'rb'),encoding=u'utf8')\n",
    "    DCSFileSet = set()\n",
    "    SKTFileSet = set()\n",
    "    for item in DCSFile.lemmas:\n",
    "        for stuff in item:\n",
    "            DCSFileSet.add(stuff)\n",
    "    \n",
    "    \n",
    "    j = pickle.load(open(path+filn,'rb'))\n",
    "    for item in j.chunk:\n",
    "        for stuff in item.chunk_words.keys():\n",
    "            for thing in item.chunk_words[stuff]:\n",
    "                for wordie in thing.lemmas:\n",
    "                    SKTFileSet.add(wordie.split('_')[0])\n",
    "                \n",
    "    print(DCSFileSet)\n",
    "    print(SKTFileSet)\n",
    "    print(DCSFileSet-SKTFileSet)\n",
    "    break\n",
    "    \n",
    "    \n",
    "    \n",
    "    "
   ]
  },
  {
   "cell_type": "code",
   "execution_count": 27,
   "metadata": {
    "collapsed": false
   },
   "outputs": [
    {
     "name": "stdout",
     "output_type": "stream",
     "text": [
      "DCS_pick\r\n"
     ]
    }
   ],
   "source": [
    "!ls ../Bishal/Text\\ Segmentation"
   ]
  }
 ],
 "metadata": {
  "kernelspec": {
   "display_name": "Python 3",
   "language": "python",
   "name": "python3"
  },
  "language_info": {
   "codemirror_mode": {
    "name": "ipython",
    "version": 3
   },
   "file_extension": ".py",
   "mimetype": "text/x-python",
   "name": "python",
   "nbconvert_exporter": "python",
   "pygments_lexer": "ipython3",
   "version": "3.5.1+"
  }
 },
 "nbformat": 4,
 "nbformat_minor": 0
}
