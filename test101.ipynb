{
 "cells": [
  {
   "cell_type": "code",
   "execution_count": 4,
   "metadata": {
    "collapsed": true
   },
   "outputs": [],
   "source": [
    "%load_ext autoreload\n",
    "%autoreload 2"
   ]
  },
  {
   "cell_type": "code",
   "execution_count": 6,
   "metadata": {
    "collapsed": true
   },
   "outputs": [],
   "source": [
    "import pandas\n",
    "import pandas as pd\n",
    "import numpy as np\n",
    "import gensim\n",
    "import csv\n",
    "\n",
    "import pickle\n",
    "from utilities import pickleFixLoad"
   ]
  },
  {
   "cell_type": "code",
   "execution_count": 5,
   "metadata": {
    "collapsed": false
   },
   "outputs": [],
   "source": [
    "co_ocMat = pickle.load(open('extras/all_dcs_lemmas_matrix.p', 'rb'))\n",
    "cngMat = pickle.load(open('extras/same_cng_matrix.p', 'rb'))\n",
    "dcsLemmas = pickleFixLoad('extras/unique_dcs_lemmas.p')\n",
    "cng_ordered_list = pickle.load(open('extras/list_of_uniq_cngs.p', 'rb'))"
   ]
  },
  {
   "cell_type": "code",
   "execution_count": 8,
   "metadata": {
    "collapsed": true
   },
   "outputs": [],
   "source": [
    "# from collections import defaultdict\n",
    "# def AutoID():\n",
    "#     aid = -1\n",
    "#     while(True):\n",
    "#         aid += 1\n",
    "#         yield aid\n",
    "\n",
    "# auto_id = AutoID()\n",
    "\n",
    "# indexDict = defaultdict(lambda: next(auto_id))\n",
    "# temp = [indexDict[x] for x in dcsLemmas]\n",
    "# pickle.dump(dict(indexDict), open('dcsLemma2index.p', 'wb'))\n",
    "\n",
    "# indexDictCng = defaultdict(lambda: next(auto_id))\n",
    "# temp = [indexDictCng[x] for x in cng_ordered_list]\n",
    "# pickle.dump(dict(indexDictCng), open('cng2index_dict.p', 'wb'))"
   ]
  },
  {
   "cell_type": "code",
   "execution_count": 11,
   "metadata": {
    "collapsed": false,
    "scrolled": true
   },
   "outputs": [
    {
     "name": "stdout",
     "output_type": "stream",
     "text": [
      "Current folder contains:  44790  Files\n"
     ]
    }
   ],
   "source": [
    "from SktWsegRWR_utf8 import *\n",
    "from AlgoTestFactory import *"
   ]
  },
  {
   "cell_type": "code",
   "execution_count": 12,
   "metadata": {
    "collapsed": true
   },
   "outputs": [],
   "source": [
    "def runMultiProcess(prCount, upto, method, savePath):\n",
    "    print(\"Using\", prCount, \"Processes\")\n",
    "    filePerProcess = upto/prCount\n",
    "    testerProcesses = [None]*prCount\n",
    "    for thId in range(0,prCount):\n",
    "        testerProcesses[thId] = AlgoTestFactory(\n",
    "            [int(thId*filePerProcess), int((thId + 1)*filePerProcess)], \n",
    "            processID = thId, method=method, storeAccuracies=False, savePath = savePath)\n",
    "        testerProcesses[thId].start()\n",
    "\n",
    "    for p in testerProcesses:\n",
    "        p.join()\n",
    "        "
   ]
  },
  {
   "cell_type": "code",
   "execution_count": 13,
   "metadata": {
    "collapsed": false,
    "scrolled": false
   },
   "outputs": [
    {
     "name": "stdout",
     "output_type": "stream",
     "text": [
      "Using 10 Processes\n",
      "Using word2vec\n",
      "Using word2vec\n",
      "Using word2vec\n",
      "Using word2vec\n",
      "Using word2vec\n",
      "Using word2vec\n",
      "Using word2vec\n",
      "Using word2vec\n",
      "Using word2vec\n",
      "Using word2vec\n",
      "Process Finished (accuracies not saved to disk)\n",
      "42.857142857142854\n",
      "Process Finished (accuracies not saved to disk)\n",
      "0.0\n",
      "60.0\n",
      "Process Finished (accuracies not saved to disk)\n",
      "23.076923076923077\n",
      "Process Finished (accuracies not saved to disk)\n",
      "28.571428571428573\n",
      "50.0\n",
      "Process Finished (accuracies not saved to disk)\n",
      "Process Finished (accuracies not saved to disk)\n",
      "42.857142857142854\n",
      "0.0\n",
      "Process Finished (accuracies not saved to disk)\n",
      "28.571428571428573\n",
      "7.6923076923076925\n",
      "Process Finished (accuracies not saved to disk)\n",
      "Process Finished (accuracies not saved to disk)\n",
      "13.333333333333334\n",
      "Process Finished (accuracies not saved to disk)\n"
     ]
    }
   ],
   "source": [
    "runMultiProcess(10, 20, Method.word2vec, 'w2v_1_june')"
   ]
  },
  {
   "cell_type": "code",
   "execution_count": 21,
   "metadata": {
    "collapsed": false
   },
   "outputs": [
    {
     "name": "stdout",
     "output_type": "stream",
     "text": [
      "Using 1 Processes\n",
      "Using type2type\n",
      "[{'noun': ['i. sg. m.', 'i. sg. n.']}]\n",
      "noun i. sg. m.\n",
      "[{'noun': ['i. sg. m.', 'i. sg. n.']}]\n",
      "noun i. sg. m.\n",
      "[{'compound': ['iic.']}]\n",
      "compound iic.\n",
      "[{'noun': ['voc. sg. m.', 'voc. sg. n.']}]\n",
      "noun voc. sg. m.\n",
      "[{'indeclinable': ['part.']}]\n",
      "indeclinable part.\n",
      "[{'noun': ['i. sg. n.', 'i. sg. m.'], 'verb': [['pp.']], 'verbform': ['\"SKTMW93.html#H_jap\"']}]\n",
      "noun i. sg. n.\n",
      "[{'verbform': ['\"SKTMW93.html#H_jap\"'], 'verb': [['pp.']], 'compound': ['iic.']}]\n",
      "verbform \"SKTMW93.html#H_jap\"\n",
      "[{'noun': ['nom. sg. f.'], 'verb': [['pp.']], 'verbform': ['\"SKTMW93.html#H_jap\"']}]\n",
      "noun nom. sg. f.\n",
      "[{'noun': ['acc. du. f.', 'nom. du. f.', 'acc. du. n.', 'nom. du. n.', 'loc. sg. n.', 'loc. sg. m.'], 'verb': [['pp.']], 'verbform': ['\"SKTMW93.html#H_jap\"']}]\n",
      "noun acc. du. f.\n",
      "[{'noun': ['acc. sg. n.', 'nom. sg. n.']}]\n",
      "noun acc. sg. n.\n",
      "[{'compound': ['iic.']}]\n",
      "compound iic.\n",
      "[{'compound': ['iic.']}]\n",
      "compound iic.\n",
      "[{'noun': ['acc. sg. n.', 'nom. sg. n.']}]\n",
      "noun acc. sg. n.\n",
      "[{'compound': ['iic.']}]\n",
      "compound iic.\n",
      "[{'noun': ['acc. sg. n.', 'nom. sg. n.']}]\n",
      "noun acc. sg. n.\n",
      "[{'noun': ['nom. sg. *']}]\n",
      "noun nom. sg. *\n",
      "[{'verb': ['pr. [8] ac. sg. 3']}]\n",
      "verb pr. [8] ac. sg. 3\n",
      "[{'indeclinable': ['part.']}]\n",
      "indeclinable part.\n",
      "[{'undetermined': ['adv.']}]\n",
      "undetermined adv.\n",
      "[{'noun': ['nom. sg. m.']}]\n",
      "noun nom. sg. m.\n",
      "[{'noun': ['nom. sg. m.']}, {'verb': ['ppr. [2] ac.']}]\n",
      "noun nom. sg. m.\n",
      "[{'noun': ['nom. sg. m.']}]\n",
      "noun nom. sg. m.\n"
     ]
    },
    {
     "name": "stderr",
     "output_type": "stream",
     "text": [
      "Process AlgoTestFactory-37:\n",
      "Traceback (most recent call last):\n",
      "  File \"/usr/lib/python3.5/multiprocessing/process.py\", line 249, in _bootstrap\n",
      "    self.run()\n",
      "  File \"/home/bishal/Documents/summer project/TxSeg_Summer/AlgoTestFactory.py\", line 75, in run\n",
      "    result = self.algo.predict(sentenceObj, dcsObj)\n",
      "  File \"/home/bishal/Documents/summer project/TxSeg_Summer/SktWsegRWR_utf8.py\", line 162, in predict\n",
      "    TransitionMat = self.probModels.get_cng2cng_mat(cngList)\n",
      "  File \"/home/bishal/Documents/summer project/TxSeg_Summer/ProbModels.py\", line 29, in get_cng2cng_mat\n",
      "    cngIndexList = list(map(lambda x:cng2index_dict[str(x)], cngList))\n",
      "  File \"/home/bishal/Documents/summer project/TxSeg_Summer/ProbModels.py\", line 29, in <lambda>\n",
      "    cngIndexList = list(map(lambda x:cng2index_dict[str(x)], cngList))\n",
      "KeyError: 'none'\n"
     ]
    }
   ],
   "source": [
    "runMultiProcess(1, 2, Method.type2type, 't2t_1_june')"
   ]
  },
  {
   "cell_type": "code",
   "execution_count": 38,
   "metadata": {
    "collapsed": false,
    "scrolled": true
   },
   "outputs": [
    {
     "name": "stdout",
     "output_type": "stream",
     "text": [
      "Using 10 Processes\n",
      "Using word2word\n",
      "Using word2word\n",
      "Using word2word\n",
      "Using word2word\n",
      "Using word2word\n",
      "Using word2word\n",
      "Using word2word\n",
      "Using word2word\n",
      "Using word2word\n",
      "Using word2word\n",
      "Process Finished (accuracies saved to disk).temp/w2w_1_june/2_out.p\n",
      "Process Finished (accuracies saved to disk).temp/w2w_1_june/9_out.p\n",
      "Process Finished (accuracies saved to disk).temp/w2w_1_june/7_out.p\n",
      "Process Finished (accuracies saved to disk).temp/w2w_1_june/4_out.p\n",
      "Process Finished (accuracies saved to disk).temp/w2w_1_june/8_out.p\n",
      "Process Finished (accuracies saved to disk).temp/w2w_1_june/0_out.p\n",
      "Process Finished (accuracies saved to disk).temp/w2w_1_june/3_out.p\n",
      "Process Finished (accuracies saved to disk).temp/w2w_1_june/6_out.p\n",
      "Process Finished (accuracies saved to disk).temp/w2w_1_june/5_out.p\n",
      "Process Finished (accuracies saved to disk).temp/w2w_1_june/1_out.p\n"
     ]
    }
   ],
   "source": [
    "runMultiProcess(10, 20, Method.word2word, 'w2w_1_june')"
   ]
  },
  {
   "cell_type": "code",
   "execution_count": 1,
   "metadata": {
    "collapsed": true
   },
   "outputs": [],
   "source": [
    "from sentences import *"
   ]
  },
  {
   "cell_type": "code",
   "execution_count": 6,
   "metadata": {
    "collapsed": false
   },
   "outputs": [],
   "source": [
    "sentencePath = '../TextSegmentation/Pickles/'\n",
    "sentenceObj = pickleFixLoad(sentencePath + '14265.p')"
   ]
  },
  {
   "cell_type": "code",
   "execution_count": 7,
   "metadata": {
    "collapsed": false
   },
   "outputs": [
    {
     "name": "stdout",
     "output_type": "stream",
     "text": [
      "anena mantreRa sahasrajaptena kavitvaM karoti nAtra saMdehaH    \n",
      "Analyzing  anena\n",
      "0 :  anena ['ayam'] [{'noun': ['i. sg. m.', 'i. sg. n.']}]\n",
      "Analyzing  mantreRa\n",
      "0 :  mantreá¹a ['mantra'] [{'noun': ['i. sg. m.', 'i. sg. n.']}]\n",
      "Analyzing  sahasrajaptena\n",
      "0 :  sahasra ['sahasra'] [{'compound': ['iic.']}]\n",
      "11 :  ina ['na'] [{'noun': ['voc. sg. m.', 'voc. sg. n.']}]\n",
      "12 :  na ['na'] [{'indeclinable': ['part.']}]\n",
      "7 :  japtena ['jap'] [{'noun': ['i. sg. n.', 'i. sg. m.'], 'verbform': ['\"SKTMW93.html#H_jap\"'], 'verb': [['pp.']]}]\n",
      "7 :  japta ['jap'] [{'verbform': ['\"SKTMW93.html#H_jap\"'], 'compound': ['iic.'], 'verb': [['pp.']]}]\n",
      "7 :  japtÄ ['jap'] [{'noun': ['nom. sg. f.'], 'verbform': ['\"SKTMW93.html#H_jap\"'], 'verb': [['pp.']]}]\n",
      "7 :  japte ['jap'] [{'noun': ['acc. du. f.', 'nom. du. f.', 'acc. du. n.', 'nom. du. n.', 'loc. sg. n.', 'loc. sg. m.'], 'verbform': ['\"SKTMW93.html#H_jap\"'], 'verb': [['pp.']]}]\n",
      "Analyzing  kavitvam\n",
      "0 :  kavitvam ['kavtva'] [{'noun': ['acc. sg. n.', 'nom. sg. n.']}]\n",
      "0 :  kavi ['kav'] [{'compound': ['iic.']}]\n",
      "0 :  ka ['ka_1'] [{'compound': ['iic.']}]\n",
      "2 :  vi ['vÄ«_2'] [{'noun': ['acc. sg. n.', 'nom. sg. n.']}]\n",
      "2 :  vi ['vÄ«_2'] [{'compound': ['iic.']}]\n",
      "4 :  tvam ['-tva'] [{'noun': ['acc. sg. n.', 'nom. sg. n.']}]\n",
      "4 :  tvam ['yuá¹£mad'] [{'noun': ['nom. sg. *']}]\n",
      "Analyzing  karoti\n",
      "0 :  karoti ['ká¹\\x9b_1'] [{'verb': ['pr. [8] ac. sg. 3']}]\n",
      "Analyzing  nAtra\n",
      "0 :  na ['na'] [{'indeclinable': ['part.']}]\n",
      "1 :  atra ['atra_1'] [{'undetermined': ['adv.']}]\n",
      "Analyzing  sandehaḥ\n",
      "0 :  sandehas ['sandeha'] [{'noun': ['nom. sg. m.']}]\n",
      "0 :  san ['sat', 'as_1'] [{'noun': ['nom. sg. m.']}, {'verb': ['ppr. [2] ac.']}]\n",
      "3 :  dehas ['deha'] [{'noun': ['nom. sg. m.']}]\n"
     ]
    }
   ],
   "source": [
    "SeeSentence(sentenceObj)"
   ]
  },
  {
   "cell_type": "code",
   "execution_count": null,
   "metadata": {
    "collapsed": true
   },
   "outputs": [],
   "source": []
  }
 ],
 "metadata": {
  "kernelspec": {
   "display_name": "Python 3",
   "language": "python",
   "name": "python3"
  },
  "language_info": {
   "codemirror_mode": {
    "name": "ipython",
    "version": 3
   },
   "file_extension": ".py",
   "mimetype": "text/x-python",
   "name": "python",
   "nbconvert_exporter": "python",
   "pygments_lexer": "ipython3",
   "version": "3.5.1+"
  }
 },
 "nbformat": 4,
 "nbformat_minor": 0
}
