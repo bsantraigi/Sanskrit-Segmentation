{
 "cells": [
  {
   "cell_type": "code",
   "execution_count": 1,
   "metadata": {
    "collapsed": false
   },
   "outputs": [],
   "source": [
    "import pandas"
   ]
  },
  {
   "cell_type": "code",
   "execution_count": 2,
   "metadata": {
    "collapsed": false
   },
   "outputs": [],
   "source": [
    "import pandas as pd\n",
    "import numpy as np"
   ]
  },
  {
   "cell_type": "code",
   "execution_count": 3,
   "metadata": {
    "collapsed": true
   },
   "outputs": [],
   "source": [
    "import gensim"
   ]
  },
  {
   "cell_type": "code",
   "execution_count": 4,
   "metadata": {
    "collapsed": false
   },
   "outputs": [],
   "source": [
    "import csv"
   ]
  },
  {
   "cell_type": "code",
   "execution_count": 10,
   "metadata": {
    "collapsed": false
   },
   "outputs": [
    {
     "name": "stdout",
     "output_type": "stream",
     "text": [
      "[['Bishal', 'Santra']]\n"
     ]
    }
   ],
   "source": [
    "a = [['Bishal', 'Santra']]\n",
    "print(a)"
   ]
  },
  {
   "cell_type": "code",
   "execution_count": 15,
   "metadata": {
    "collapsed": false
   },
   "outputs": [],
   "source": [
    "with open('test.csv', 'w') as fp:\n",
    "    b = csv.writer(fp)\n",
    "    b.writerows([['Whats', 'Killer'],['up']])"
   ]
  },
  {
   "cell_type": "code",
   "execution_count": 19,
   "metadata": {
    "collapsed": false
   },
   "outputs": [
    {
     "name": "stdout",
     "output_type": "stream",
     "text": [
      "Stupid\n",
      "35\n",
      "{'Agni': 'Stupid', 'Age': '35'}\n"
     ]
    }
   ],
   "source": [
    "d = {}\n",
    "d[\"Agni\"] = \"Stupid\"\n",
    "print(d.setdefault(\"Agni\", \"Good\"))\n",
    "print(d.setdefault(\"Age\", \"35\"))\n",
    "print(d)"
   ]
  },
  {
   "cell_type": "code",
   "execution_count": 3,
   "metadata": {
    "collapsed": true
   },
   "outputs": [],
   "source": [
    "a = np.zeros((3,3))"
   ]
  },
  {
   "cell_type": "code",
   "execution_count": 7,
   "metadata": {
    "collapsed": false
   },
   "outputs": [],
   "source": [
    "import pickle\n",
    "import numpy as np\n",
    "from utilities import pickleFixLoad\n",
    "co_ocMat = pickle.load(open('extras/all_dcs_lemmas_matrix.p', 'rb'))\n",
    "cngMat = pickle.load(open('extras/same_cng_matrix.p', 'rb'))\n",
    "dcsLemmas = pickleFixLoad('extras/unique_dcs_lemmas.p')\n"
   ]
  },
  {
   "cell_type": "code",
   "execution_count": 32,
   "metadata": {
    "collapsed": false
   },
   "outputs": [],
   "source": [
    "from collections import defaultdict\n",
    "def AutoID():\n",
    "    aid = -1\n",
    "    while(True):\n",
    "        aid += 1\n",
    "        yield aid\n",
    "\n",
    "auto_id = AutoID()\n",
    "\n",
    "indexDict = defaultdict(lambda: next(auto_id))\n",
    "temp = [indexDict[x] for x in dcsLemmas]\n",
    "pickle.dump(dict(indexDict), open('dcsLemma2index.p', 'wb'))"
   ]
  },
  {
   "cell_type": "code",
   "execution_count": 21,
   "metadata": {
    "collapsed": false
   },
   "outputs": [
    {
     "name": "stdout",
     "output_type": "stream",
     "text": [
      "vEzRavakaTana mahAnava\n",
      "1.590511390765427e-07\n"
     ]
    }
   ],
   "source": [
    "print(dcsLemmas[0], dcsLemmas[1])\n",
    "print(co_ocMat[indexDict['vEzRavakaTana']][indexDict['mahAnava']])"
   ]
  },
  {
   "cell_type": "code",
   "execution_count": null,
   "metadata": {
    "collapsed": true
   },
   "outputs": [],
   "source": [
    "zero = 0\n",
    "for i in range(len(co_ocMat)):\n",
    "    zero += co_ocMat[i].count(0)\n",
    "zero\n",
    "# 6490658"
   ]
  },
  {
   "cell_type": "code",
   "execution_count": 44,
   "metadata": {
    "collapsed": false
   },
   "outputs": [
    {
     "data": {
      "text/plain": [
       "2"
      ]
     },
     "execution_count": 44,
     "metadata": {},
     "output_type": "execute_result"
    }
   ],
   "source": [
    "a = [1, 3, 0, 1, 3, 0]\n",
    "a.count(3)"
   ]
  },
  {
   "cell_type": "code",
   "execution_count": 52,
   "metadata": {
    "collapsed": false
   },
   "outputs": [
    {
     "data": {
      "text/plain": [
       "0.0014496219027408314"
      ]
     },
     "execution_count": 52,
     "metadata": {},
     "output_type": "execute_result"
    }
   ],
   "source": [
    "6490658/(66914*66914)"
   ]
  },
  {
   "cell_type": "code",
   "execution_count": 57,
   "metadata": {
    "collapsed": false
   },
   "outputs": [
    {
     "data": {
      "text/plain": [
       "[2, 3, 4]"
      ]
     },
     "execution_count": 57,
     "metadata": {},
     "output_type": "execute_result"
    }
   ],
   "source": [
    "t = (1, 4)\n",
    "t[0]\n",
    "a = [1, 2, 3, 4, 5, 6, 7, 7]\n",
    "a[t[0]:t[1]]"
   ]
  },
  {
   "cell_type": "code",
   "execution_count": 67,
   "metadata": {
    "collapsed": false
   },
   "outputs": [
    {
     "data": {
      "text/plain": [
       "[1, 2, 3, 6]"
      ]
     },
     "execution_count": 67,
     "metadata": {},
     "output_type": "execute_result"
    }
   ],
   "source": [
    "a = [[1, 2], [3], [6]]\n",
    "a\n",
    "[aaa for aa in a for aaa in aa]"
   ]
  },
  {
   "cell_type": "code",
   "execution_count": null,
   "metadata": {
    "collapsed": true
   },
   "outputs": [],
   "source": []
  }
 ],
 "metadata": {
  "kernelspec": {
   "display_name": "Python 3",
   "language": "python",
   "name": "python3"
  },
  "language_info": {
   "codemirror_mode": {
    "name": "ipython",
    "version": 3
   },
   "file_extension": ".py",
   "mimetype": "text/x-python",
   "name": "python",
   "nbconvert_exporter": "python",
   "pygments_lexer": "ipython3",
   "version": "3.5.1+"
  }
 },
 "nbformat": 4,
 "nbformat_minor": 0
}
