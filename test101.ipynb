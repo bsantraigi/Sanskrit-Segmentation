{
 "cells": [
  {
   "cell_type": "code",
   "execution_count": 1,
   "metadata": {
    "collapsed": false
   },
   "outputs": [],
   "source": [
    "import pandas"
   ]
  },
  {
   "cell_type": "code",
   "execution_count": 2,
   "metadata": {
    "collapsed": false
   },
   "outputs": [],
   "source": [
    "import pandas as pd\n",
    "import numpy as np"
   ]
  },
  {
   "cell_type": "code",
   "execution_count": 3,
   "metadata": {
    "collapsed": true
   },
   "outputs": [],
   "source": [
    "import gensim"
   ]
  },
  {
   "cell_type": "code",
   "execution_count": 4,
   "metadata": {
    "collapsed": false
   },
   "outputs": [],
   "source": [
    "import csv"
   ]
  },
  {
   "cell_type": "code",
   "execution_count": 10,
   "metadata": {
    "collapsed": false
   },
   "outputs": [
    {
     "name": "stdout",
     "output_type": "stream",
     "text": [
      "[['Bishal', 'Santra']]\n"
     ]
    }
   ],
   "source": [
    "a = [['Bishal', 'Santra']]\n",
    "print(a)"
   ]
  },
  {
   "cell_type": "code",
   "execution_count": 15,
   "metadata": {
    "collapsed": false
   },
   "outputs": [],
   "source": [
    "with open('test.csv', 'w') as fp:\n",
    "    b = csv.writer(fp)\n",
    "    b.writerows([['Whats', 'Killer'],['up']])"
   ]
  },
  {
   "cell_type": "code",
   "execution_count": 19,
   "metadata": {
    "collapsed": false
   },
   "outputs": [
    {
     "name": "stdout",
     "output_type": "stream",
     "text": [
      "Stupid\n",
      "35\n",
      "{'Agni': 'Stupid', 'Age': '35'}\n"
     ]
    }
   ],
   "source": [
    "d = {}\n",
    "d[\"Agni\"] = \"Stupid\"\n",
    "print(d.setdefault(\"Agni\", \"Good\"))\n",
    "print(d.setdefault(\"Age\", \"35\"))\n",
    "print(d)"
   ]
  },
  {
   "cell_type": "code",
   "execution_count": 3,
   "metadata": {
    "collapsed": true
   },
   "outputs": [],
   "source": [
    "a = np.zeros((3,3))"
   ]
  },
  {
   "cell_type": "code",
   "execution_count": 23,
   "metadata": {
    "collapsed": false
   },
   "outputs": [],
   "source": [
    "import pickle\n",
    "from utilities import pickleFixLoad\n",
    "dlMat = pickle.load(open('extras/all_dcs_lemmas_matrix.p', 'rb'))\n",
    "cngMat = pickle.load(open('extras/same_cng_matrix.p', 'rb'))\n",
    "dcsLemmas = pickleFixLoad('extras/unique_dcs_lemmas.p')\n"
   ]
  },
  {
   "cell_type": "code",
   "execution_count": 13,
   "metadata": {
    "collapsed": false
   },
   "outputs": [
    {
     "name": "stdout",
     "output_type": "stream",
     "text": [
      "66914\n",
      "66914\n"
     ]
    }
   ],
   "source": [
    "print(len(dlMat))\n",
    "print(len(dlMat[0]))"
   ]
  },
  {
   "cell_type": "code",
   "execution_count": 14,
   "metadata": {
    "collapsed": false
   },
   "outputs": [
    {
     "name": "stdout",
     "output_type": "stream",
     "text": [
      "56283\n",
      "56283\n"
     ]
    }
   ],
   "source": [
    "print(len(cngMat))\n",
    "print(len(cngMat[0]))"
   ]
  },
  {
   "cell_type": "code",
   "execution_count": 25,
   "metadata": {
    "collapsed": false
   },
   "outputs": [
    {
     "data": {
      "text/plain": [
       "['mahAnava',\n",
       " 'saviwka',\n",
       " 'sidDasusidDa',\n",
       " 'kzattf',\n",
       " 'SUkadoza',\n",
       " 'muRqISvara',\n",
       " 'apekzaRika',\n",
       " 'upadiS',\n",
       " 'aBratIkzRaka',\n",
       " 'svayamBu',\n",
       " 'saMkzoBaRa',\n",
       " 'aBIzwa',\n",
       " 'aYjalikArikA',\n",
       " 'vasudA',\n",
       " 'karatAlaka',\n",
       " 'evaMvAdin',\n",
       " 'pArzRigrahaRa',\n",
       " 'suramfttikA',\n",
       " 'AdityeSvaratIrTamAhAtmyavarRana',\n",
       " 'aBisAriRI',\n",
       " 'saMSravaRa',\n",
       " 'elAparRI',\n",
       " 'kfzRasarja',\n",
       " 'siYcitikA',\n",
       " 'SiKituRqa',\n",
       " 'atyAdara',\n",
       " 'svayamBU',\n",
       " 'yaTAjYAnam',\n",
       " 'anyastrIga',\n",
       " 'upadih',\n",
       " 'EkarAtrika',\n",
       " 'maYcikApattra',\n",
       " 'vitarkay',\n",
       " 'Atmaruha',\n",
       " 'pawwasUtra',\n",
       " 'asevya',\n",
       " 'SudDeSvara',\n",
       " 'aNgAraSakawI',\n",
       " 'kASmarI',\n",
       " 'AtmatyAga',\n",
       " 'SacI',\n",
       " 'utkarzavattva',\n",
       " 'vfkzAruhA',\n",
       " 'viMSadbAhu',\n",
       " 'vEyAkaraRa',\n",
       " 'citrapAlI',\n",
       " 'samunnam',\n",
       " 'manasvin',\n",
       " 'meKalA',\n",
       " 'vikvATay',\n",
       " 'suraTA',\n",
       " 'samudra',\n",
       " 'rucyaka',\n",
       " 'trapusa',\n",
       " 'sanandana',\n",
       " 'vyavagAh',\n",
       " 'loWana',\n",
       " 'adyatva',\n",
       " 'Sarmila',\n",
       " 'zaqlohasamBava',\n",
       " 'kiMyoga',\n",
       " 'anavaDeya',\n",
       " 'samutkruS',\n",
       " 'vizakaRwaka',\n",
       " 'asama',\n",
       " 'vikfzwa',\n",
       " 'tApasveda',\n",
       " 'SaNKaroman',\n",
       " 'sarvahita',\n",
       " 'prAtaá¸¥snAyin',\n",
       " 'veSana',\n",
       " 'puzpakAsIsa',\n",
       " 'havizyAnna',\n",
       " 'paripuwana',\n",
       " 'BasmamudrA',\n",
       " 'kaRWin',\n",
       " 'nAgarAja',\n",
       " 'sOBAgya',\n",
       " 'gaRarUpaka',\n",
       " 'BEkzya',\n",
       " 'Cinnaka',\n",
       " 'jambIravallikA',\n",
       " 'aByavasf',\n",
       " 'caturdaSama',\n",
       " 'uttamatama',\n",
       " 'agnizaNga',\n",
       " 'upaBogya',\n",
       " 'mahAsAMtapana',\n",
       " 'saMmelay',\n",
       " 'kzIraGfta',\n",
       " 'sodarIya',\n",
       " 'sitaSUraRa',\n",
       " 'pratyakSoRI',\n",
       " 'daDiDenu',\n",
       " 'avANmanasagocara',\n",
       " 'carmakIlaka',\n",
       " 'nawa',\n",
       " 'apratibadDa',\n",
       " 'vinibarhin']"
      ]
     },
     "execution_count": 25,
     "metadata": {},
     "output_type": "execute_result"
    }
   ],
   "source": [
    "dcsLemmas[1:100]"
   ]
  },
  {
   "cell_type": "code",
   "execution_count": null,
   "metadata": {
    "collapsed": true
   },
   "outputs": [],
   "source": []
  }
 ],
 "metadata": {
  "kernelspec": {
   "display_name": "Python 3",
   "language": "python",
   "name": "python3"
  },
  "language_info": {
   "codemirror_mode": {
    "name": "ipython",
    "version": 3
   },
   "file_extension": ".py",
   "mimetype": "text/x-python",
   "name": "python",
   "nbconvert_exporter": "python",
   "pygments_lexer": "ipython3",
   "version": "3.5.1+"
  }
 },
 "nbformat": 4,
 "nbformat_minor": 0
}
